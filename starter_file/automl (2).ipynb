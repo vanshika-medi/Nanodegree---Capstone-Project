{
 "cells": [
  {
   "cell_type": "markdown",
   "metadata": {},
   "source": [
    "# Automated ML\n",
    "\n",
    "TODO: Import Dependencies. In the cell below, import all the dependencies that you will need to complete the project."
   ]
  },
  {
   "cell_type": "code",
   "execution_count": 1,
   "metadata": {
    "gather": {
     "logged": 1598423888013
    },
    "jupyter": {
     "outputs_hidden": false,
     "source_hidden": false
    },
    "nteract": {
     "transient": {
      "deleting": false
     }
    }
   },
   "outputs": [],
   "source": [
    "import logging\n",
    "import os\n",
    "import azureml.core\n",
    "from azureml.core.experiment import Experiment\n",
    "from azureml.core.workspace import Workspace\n",
    "from azureml.train.automl import AutoMLConfig\n",
    "from azureml.core.dataset import Dataset\n",
    "from azureml.data.dataset_factory import TabularDatasetFactory\n"
   ]
  },
  {
   "cell_type": "markdown",
   "metadata": {},
   "source": [
    "## Dataset\n",
    "\n",
    "### Overview\n",
    "The dataset being used is the housing dataset for California based on the 1990 consensus. This has been retrieved form kaggle and has 10 columns all used to predict medain house value."
   ]
  },
  {
   "cell_type": "markdown",
   "metadata": {},
   "source": [
    "## Setting up Workspace"
   ]
  },
  {
   "cell_type": "code",
   "execution_count": 2,
   "metadata": {
    "gather": {
     "logged": 1598423890461
    },
    "jupyter": {
     "outputs_hidden": false,
     "source_hidden": false
    },
    "nteract": {
     "transient": {
      "deleting": false
     }
    }
   },
   "outputs": [
    {
     "name": "stdout",
     "output_type": "stream",
     "text": [
      "quick-starts-ws-135901\n",
      "aml-quickstarts-135901\n",
      "southcentralus\n",
      "a24a24d5-8d87-4c8a-99b6-91ed2d2df51f\n"
     ]
    }
   ],
   "source": [
    "ws = Workspace.from_config()\n",
    "print(ws.name, ws.resource_group, ws.location, ws.subscription_id, sep = \"\\n\")"
   ]
  },
  {
   "cell_type": "markdown",
   "metadata": {},
   "source": [
    "## Initialising Experiment"
   ]
  },
  {
   "cell_type": "code",
   "execution_count": 21,
   "metadata": {},
   "outputs": [
    {
     "data": {
      "text/html": [
       "<table style=\"width:100%\"><tr><th>Name</th><th>Workspace</th><th>Report Page</th><th>Docs Page</th></tr><tr><td>titanic_automl</td><td>quick-starts-ws-135901</td><td><a href=\"https://ml.azure.com/experiments/titanic_automl?wsid=/subscriptions/a24a24d5-8d87-4c8a-99b6-91ed2d2df51f/resourcegroups/aml-quickstarts-135901/workspaces/quick-starts-ws-135901\" target=\"_blank\" rel=\"noopener\">Link to Azure Machine Learning studio</a></td><td><a href=\"https://docs.microsoft.com/en-us/python/api/azureml-core/azureml.core.experiment.Experiment?view=azure-ml-py\" target=\"_blank\" rel=\"noopener\">Link to Documentation</a></td></tr></table>"
      ],
      "text/plain": [
       "Experiment(Name: titanic_automl,\n",
       "Workspace: quick-starts-ws-135901)"
      ]
     },
     "execution_count": 21,
     "metadata": {},
     "output_type": "execute_result"
    }
   ],
   "source": [
    "# choose a name for experiment\n",
    "experiment_name = 'titanic_automl'\n",
    "project_folder = './titanic_automl'\n",
    "os.makedirs(project_folder, exist_ok = True)\n",
    "experiment=Experiment(ws, experiment_name)\n",
    "experiment"
   ]
  },
  {
   "cell_type": "markdown",
   "metadata": {},
   "source": [
    "## AutoML Configuration\n",
    "\n",
    "TODO: Explain why you chose the automl settings and cofiguration you used below."
   ]
  },
  {
   "cell_type": "markdown",
   "metadata": {},
   "source": [
    "## Creating or checking for existing compute cluster"
   ]
  },
  {
   "cell_type": "code",
   "execution_count": 22,
   "metadata": {
    "gather": {
     "logged": 1598429217746
    },
    "jupyter": {
     "outputs_hidden": false,
     "source_hidden": false
    },
    "nteract": {
     "transient": {
      "deleting": false
     }
    }
   },
   "outputs": [
    {
     "name": "stdout",
     "output_type": "stream",
     "text": [
      "Existing cluster. Use it.\n",
      "\n",
      "Running\n"
     ]
    }
   ],
   "source": [
    "from azureml.core.compute import AmlCompute\n",
    "from azureml.core.compute import ComputeTarget\n",
    "from azureml.core.compute_target import ComputeTargetException\n",
    "\n",
    "aml_compute_name = 'computecluster1' \n",
    "try:\n",
    "    compute_target = ComputeTarget(workspace = ws, name = aml_compute_name)\n",
    "    print(\"Existing cluster. Use it.\")\n",
    "except ComputeTargetException:\n",
    "    compute_config = AmlCompute.provisioning_configuration(vm_size = \"STANDARD_D2_V2\", max_nodes = 4)\n",
    "    compute_target = ComputeTarget.create(ws,aml_compute_name, compute_config)\n",
    "compute_target.wait_for_completion(show_output = True)"
   ]
  },
  {
   "cell_type": "markdown",
   "metadata": {},
   "source": [
    "## Preparing Data"
   ]
  },
  {
   "cell_type": "code",
   "execution_count": 24,
   "metadata": {},
   "outputs": [],
   "source": [
    "import pandas as pd\n",
    "data = pd.read_csv('titanic_dataset.csv', header = 0)"
   ]
  },
  {
   "cell_type": "code",
   "execution_count": 25,
   "metadata": {},
   "outputs": [
    {
     "data": {
      "text/html": [
       "<div>\n",
       "<style scoped>\n",
       "    .dataframe tbody tr th:only-of-type {\n",
       "        vertical-align: middle;\n",
       "    }\n",
       "\n",
       "    .dataframe tbody tr th {\n",
       "        vertical-align: top;\n",
       "    }\n",
       "\n",
       "    .dataframe thead th {\n",
       "        text-align: right;\n",
       "    }\n",
       "</style>\n",
       "<table border=\"1\" class=\"dataframe\">\n",
       "  <thead>\n",
       "    <tr style=\"text-align: right;\">\n",
       "      <th></th>\n",
       "      <th>PassengerId</th>\n",
       "      <th>Survived</th>\n",
       "      <th>Pclass</th>\n",
       "      <th>Name</th>\n",
       "      <th>Sex</th>\n",
       "      <th>Age</th>\n",
       "      <th>SibSp</th>\n",
       "      <th>Parch</th>\n",
       "      <th>Ticket</th>\n",
       "      <th>Fare</th>\n",
       "      <th>Cabin</th>\n",
       "      <th>Embarked</th>\n",
       "    </tr>\n",
       "  </thead>\n",
       "  <tbody>\n",
       "    <tr>\n",
       "      <th>0</th>\n",
       "      <td>1</td>\n",
       "      <td>0</td>\n",
       "      <td>3</td>\n",
       "      <td>Braund, Mr. Owen Harris</td>\n",
       "      <td>male</td>\n",
       "      <td>22.00</td>\n",
       "      <td>1</td>\n",
       "      <td>0</td>\n",
       "      <td>A/5 21171</td>\n",
       "      <td>7.25</td>\n",
       "      <td>NaN</td>\n",
       "      <td>S</td>\n",
       "    </tr>\n",
       "    <tr>\n",
       "      <th>1</th>\n",
       "      <td>2</td>\n",
       "      <td>1</td>\n",
       "      <td>1</td>\n",
       "      <td>Cumings, Mrs. John Bradley (Florence Briggs Th...</td>\n",
       "      <td>female</td>\n",
       "      <td>38.00</td>\n",
       "      <td>1</td>\n",
       "      <td>0</td>\n",
       "      <td>PC 17599</td>\n",
       "      <td>71.28</td>\n",
       "      <td>C85</td>\n",
       "      <td>C</td>\n",
       "    </tr>\n",
       "    <tr>\n",
       "      <th>2</th>\n",
       "      <td>3</td>\n",
       "      <td>1</td>\n",
       "      <td>3</td>\n",
       "      <td>Heikkinen, Miss. Laina</td>\n",
       "      <td>female</td>\n",
       "      <td>26.00</td>\n",
       "      <td>0</td>\n",
       "      <td>0</td>\n",
       "      <td>STON/O2. 3101282</td>\n",
       "      <td>7.92</td>\n",
       "      <td>NaN</td>\n",
       "      <td>S</td>\n",
       "    </tr>\n",
       "    <tr>\n",
       "      <th>3</th>\n",
       "      <td>4</td>\n",
       "      <td>1</td>\n",
       "      <td>1</td>\n",
       "      <td>Futrelle, Mrs. Jacques Heath (Lily May Peel)</td>\n",
       "      <td>female</td>\n",
       "      <td>35.00</td>\n",
       "      <td>1</td>\n",
       "      <td>0</td>\n",
       "      <td>113803</td>\n",
       "      <td>53.10</td>\n",
       "      <td>C123</td>\n",
       "      <td>S</td>\n",
       "    </tr>\n",
       "    <tr>\n",
       "      <th>4</th>\n",
       "      <td>5</td>\n",
       "      <td>0</td>\n",
       "      <td>3</td>\n",
       "      <td>Allen, Mr. William Henry</td>\n",
       "      <td>male</td>\n",
       "      <td>35.00</td>\n",
       "      <td>0</td>\n",
       "      <td>0</td>\n",
       "      <td>373450</td>\n",
       "      <td>8.05</td>\n",
       "      <td>NaN</td>\n",
       "      <td>S</td>\n",
       "    </tr>\n",
       "  </tbody>\n",
       "</table>\n",
       "</div>"
      ],
      "text/plain": [
       "   PassengerId  Survived  Pclass  \\\n",
       "0            1         0       3   \n",
       "1            2         1       1   \n",
       "2            3         1       3   \n",
       "3            4         1       1   \n",
       "4            5         0       3   \n",
       "\n",
       "                                                Name     Sex   Age  SibSp  \\\n",
       "0                            Braund, Mr. Owen Harris    male 22.00      1   \n",
       "1  Cumings, Mrs. John Bradley (Florence Briggs Th...  female 38.00      1   \n",
       "2                             Heikkinen, Miss. Laina  female 26.00      0   \n",
       "3       Futrelle, Mrs. Jacques Heath (Lily May Peel)  female 35.00      1   \n",
       "4                           Allen, Mr. William Henry    male 35.00      0   \n",
       "\n",
       "   Parch            Ticket  Fare Cabin Embarked  \n",
       "0      0         A/5 21171  7.25   NaN        S  \n",
       "1      0          PC 17599 71.28   C85        C  \n",
       "2      0  STON/O2. 3101282  7.92   NaN        S  \n",
       "3      0            113803 53.10  C123        S  \n",
       "4      0            373450  8.05   NaN        S  "
      ]
     },
     "execution_count": 25,
     "metadata": {},
     "output_type": "execute_result"
    }
   ],
   "source": [
    "data.head(5)"
   ]
  },
  {
   "cell_type": "code",
   "execution_count": 7,
   "metadata": {},
   "outputs": [],
   "source": [
    "from sklearn.model_selection import train_test_split"
   ]
  },
  {
   "cell_type": "code",
   "execution_count": 28,
   "metadata": {},
   "outputs": [
    {
     "name": "stdout",
     "output_type": "stream",
     "text": [
      "Uploading an estimated of 2 files\n",
      "Uploading data/test.csv\n",
      "Uploaded data/test.csv, 1 files out of an estimated total of 2\n",
      "Uploading data/train.csv\n",
      "Uploaded data/train.csv, 2 files out of an estimated total of 2\n",
      "Uploaded 2 files\n",
      "Successfully converted the dataset to TabularDataset format.\n"
     ]
    }
   ],
   "source": [
    "def Impute_missing_values(data):\n",
    "    data.drop(columns=['Cabin'],inplace=True)\n",
    "    data['Age'].fillna(data['Age'].median(), inplace=True)\n",
    "    data['Embarked'].fillna('S', inplace=True)\n",
    "    data['Fare'].fillna(data['Fare'].median()) \n",
    "    return data\n",
    "\n",
    "def Family_type(number):\n",
    "    if number==0:\n",
    "        return 'Alone'\n",
    "    elif number>0 and number<=4:\n",
    "        return 'Medium'\n",
    "    else:\n",
    "        return 'Large'\n",
    "\n",
    "def Transform_data(data):\n",
    "    data['Family_size']=data['Parch']+data['SibSp']\n",
    "    data['Family_type']=data['Family_size'].apply(Family_type)\n",
    "    data.drop(columns=['SibSp', 'Parch', 'Family_size'], inplace=True)\n",
    "    data.loc[ data['Age'] <= 16, 'Age'] = 1\n",
    "    data.loc[(data['Age'] > 16) & (data['Age'] <= 26), 'Age'] = 2\n",
    "    data.loc[(data['Age'] > 26) & (data['Age'] <= 36), 'Age'] = 3\n",
    "    data.loc[(data['Age'] > 36) & (data['Age'] <= 62), 'Age'] = 4\n",
    "    data.loc[ data['Age'] > 62, 'Age'] = 5\n",
    "    data.loc[data['Fare'] <= 17, 'Fare'] = 1,\n",
    "    data.loc[(data['Fare'] > 17) & (data['Fare'] <= 30), 'Fare'] = 2,\n",
    "    data.loc[(data['Fare'] > 30) & (data['Fare'] <= 100), 'Fare'] = 3,\n",
    "    data.loc[ data['Fare'] > 100, 'Fare'] = 4\n",
    "    return data\n",
    "\n",
    "def clean_data(data):\n",
    "    data = Impute_missing_values(data)\n",
    "    data.head()\n",
    "    x_data = Transform_data(data)\n",
    "    x_data=pd.get_dummies(data=x_data, columns=['Age' ,'Fare',  'Pclass', 'Sex', 'Embarked', 'Family_type'], drop_first=True)\n",
    "    x_data.drop(columns=['Ticket', 'PassengerId', 'Name','Age_5.0'],inplace=True)\n",
    "    y_data = x_data.pop(\"Survived\")\n",
    "    return x_data, y_data\n",
    "\n",
    "x, y = clean_data(data)\n",
    "x.head()\n",
    "\n",
    "#Split the dataset into train and test dataset. Combine x_train and y_train. \n",
    "x_train, x_test, y_train, y_test = train_test_split(x,y,test_size=0.2)\n",
    "data_train = pd.concat([x_train,y_train], axis=1)\n",
    "data_test = pd.concat([x_test,y_test], axis=1)\n",
    "\n",
    "#Convert x_train and y_train (Which are in pandas DataFrame format) to TabularDataset format.\n",
    "try:\n",
    "    os.makedirs('./data', exist_ok=True)\n",
    "except OSError as error:\n",
    "    print('New directory cannot be created')\n",
    "    \n",
    "path_train = 'data/train.csv'\n",
    "path_test = 'data/test.csv'\n",
    "data_train.to_csv(path_train)\n",
    "data_test.to_csv(path_test)\n",
    "\n",
    "datastore = ws.get_default_datastore()\n",
    "datastore.upload(src_dir='data', target_path='data')\n",
    "\n",
    "train_data = TabularDatasetFactory.from_delimited_files(path=[(datastore, ('data/train.csv'))])\n",
    "test_data = TabularDatasetFactory.from_delimited_files(path=[(datastore, ('data/test.csv'))])\n",
    "print(\"Successfully converted the dataset to TabularDataset format.\")\n"
   ]
  },
  {
   "cell_type": "code",
   "execution_count": 31,
   "metadata": {},
   "outputs": [],
   "source": [
    "from azureml.train.automl import AutoMLConfig\n",
    "\n",
    "#Set parameters for AutoMLConfig\n",
    "automl_config = AutoMLConfig(\n",
    "    experiment_timeout_minutes=30,\n",
    "    task=\"classification\",\n",
    "    primary_metric=\"accuracy\",\n",
    "    training_data=train_data,\n",
    "    label_column_name=\"Survived\",\n",
    "    n_cross_validations=5,\n",
    "    compute_target=compute_target)"
   ]
  },
  {
   "cell_type": "code",
   "execution_count": null,
   "metadata": {},
   "outputs": [],
   "source": []
  },
  {
   "cell_type": "code",
   "execution_count": null,
   "metadata": {},
   "outputs": [],
   "source": []
  },
  {
   "cell_type": "code",
   "execution_count": 12,
   "metadata": {},
   "outputs": [],
   "source": [
    "test = TabularDatasetFactory.from_delimited_files([(datastore, 'housing_test.csv')])"
   ]
  },
  {
   "cell_type": "markdown",
   "metadata": {},
   "source": [
    "## AutoML Configurations"
   ]
  },
  {
   "cell_type": "code",
   "execution_count": null,
   "metadata": {},
   "outputs": [],
   "source": []
  },
  {
   "cell_type": "code",
   "execution_count": null,
   "metadata": {},
   "outputs": [],
   "source": []
  },
  {
   "cell_type": "markdown",
   "metadata": {},
   "source": [
    "## Run Details\n",
    "\n",
    "OPTIONAL: Write about the different models trained and their performance. Why do you think some models did better than others?\n",
    "\n",
    "TODO: In the cell below, use the `RunDetails` widget to show the different experiments."
   ]
  },
  {
   "cell_type": "code",
   "execution_count": 32,
   "metadata": {
    "gather": {
     "logged": 1598431121770
    },
    "jupyter": {
     "outputs_hidden": false,
     "source_hidden": false
    },
    "nteract": {
     "transient": {
      "deleting": false
     }
    },
    "scrolled": false
   },
   "outputs": [
    {
     "name": "stdout",
     "output_type": "stream",
     "text": [
      "Running on remote.\n",
      "No run_configuration provided, running on computecluster1 with default configuration\n",
      "Running on remote compute: computecluster1\n",
      "Parent Run ID: AutoML_ad43f349-8d0c-4cb6-9739-4f4ac96a8bed\n",
      "\n",
      "Current status: FeaturesGeneration. Generating features for the dataset.\n",
      "Current status: DatasetCrossValidationSplit. Generating individually featurized CV splits.\n",
      "Current status: ModelSelection. Beginning model selection.\n",
      "\n",
      "****************************************************************************************************\n",
      "DATA GUARDRAILS: \n",
      "\n",
      "TYPE:         Class balancing detection\n",
      "STATUS:       PASSED\n",
      "DESCRIPTION:  Your inputs were analyzed, and all classes are balanced in your training data.\n",
      "              Learn more about imbalanced data: https://aka.ms/AutomatedMLImbalancedData\n",
      "\n",
      "****************************************************************************************************\n",
      "\n",
      "TYPE:         Missing feature values imputation\n",
      "STATUS:       PASSED\n",
      "DESCRIPTION:  No feature missing values were detected in the training data.\n",
      "              Learn more about missing value imputation: https://aka.ms/AutomatedMLFeaturization\n",
      "\n",
      "****************************************************************************************************\n",
      "\n",
      "TYPE:         High cardinality feature detection\n",
      "STATUS:       PASSED\n",
      "DESCRIPTION:  Your inputs were analyzed, and no high cardinality features were detected.\n",
      "              Learn more about high cardinality feature handling: https://aka.ms/AutomatedMLFeaturization\n",
      "\n",
      "****************************************************************************************************\n",
      "\n",
      "****************************************************************************************************\n",
      "ITERATION: The iteration being evaluated.\n",
      "PIPELINE: A summary description of the pipeline being evaluated.\n",
      "DURATION: Time taken for the current iteration.\n",
      "METRIC: The result of computing score on the fitted pipeline.\n",
      "BEST: The best observed score thus far.\n",
      "****************************************************************************************************\n",
      "\n",
      " ITERATION   PIPELINE                                       DURATION      METRIC      BEST\n",
      "         0   MaxAbsScaler LightGBM                          0:01:14       0.7782    0.7782\n",
      "         1   MaxAbsScaler XGBoostClassifier                 0:00:45       0.7964    0.7964\n",
      "         2   MinMaxScaler RandomForest                      0:00:39       0.7921    0.7964\n",
      "         3   MinMaxScaler RandomForest                      0:01:19       0.7781    0.7964\n",
      "         4   MinMaxScaler RandomForest                      0:01:32       0.7697    0.7964\n",
      "         5   MinMaxScaler SVM                               0:00:43       0.7879    0.7964\n",
      "         6   MaxAbsScaler GradientBoosting                  0:00:51       0.7880    0.7964\n",
      "         7   StandardScalerWrapper RandomForest             0:00:55       0.7964    0.7964\n",
      "         8   SparseNormalizer XGBoostClassifier             0:00:52       0.7809    0.7964\n",
      "         9   SparseNormalizer LightGBM                      0:00:47       0.7852    0.7964\n",
      "        10   StandardScalerWrapper LightGBM                 0:00:40       0.7894    0.7964\n",
      "        11   RobustScaler ExtremeRandomTrees                0:00:51       0.7725    0.7964\n",
      "        12   SparseNormalizer XGBoostClassifier             0:00:51       0.7852    0.7964\n",
      "        13   RobustScaler ExtremeRandomTrees                0:00:44       0.7682    0.7964\n",
      "        14   SparseNormalizer XGBoostClassifier             0:00:45       0.7837    0.7964\n",
      "        15   MinMaxScaler ExtremeRandomTrees                0:00:46       0.8033    0.8033\n",
      "        16   RobustScaler LightGBM                          0:00:53       0.7768    0.8033\n",
      "        17   SparseNormalizer XGBoostClassifier             0:00:43       0.7866    0.8033\n",
      "        18   StandardScalerWrapper ExtremeRandomTrees       0:00:49       0.7767    0.8033\n",
      "        19   StandardScalerWrapper XGBoostClassifier        0:00:43       0.7893    0.8033\n",
      "        20   RobustScaler KNN                               0:00:42       0.6405    0.8033\n",
      "        21   MaxAbsScaler ExtremeRandomTrees                0:00:50       0.7837    0.8033\n",
      "        22   SparseNormalizer LightGBM                      0:01:01       0.7893    0.8033\n",
      "        23   MaxAbsScaler LightGBM                          0:00:47       0.8020    0.8033\n",
      "        24   MinMaxScaler LogisticRegression                0:00:44       0.7739    0.8033\n",
      "        25   SparseNormalizer ExtremeRandomTrees            0:00:43       0.5673    0.8033\n",
      "        26   StandardScalerWrapper GradientBoosting         0:00:46       0.7922    0.8033\n",
      "        27   MaxAbsScaler LightGBM                          0:00:49       0.7795    0.8033\n",
      "        28    VotingEnsemble                                0:01:13       0.8090    0.8090\n",
      "        29    StackEnsemble                                 0:01:17       0.7949    0.8090\n"
     ]
    },
    {
     "data": {
      "application/vnd.jupyter.widget-view+json": {
       "model_id": "5555463303e74a5f906cda34be9b71dc",
       "version_major": 2,
       "version_minor": 0
      },
      "text/plain": [
       "_AutoMLWidget(widget_settings={'childWidgetDisplay': 'popup', 'send_telemetry': False, 'log_level': 'INFO', 's…"
      ]
     },
     "metadata": {},
     "output_type": "display_data"
    },
    {
     "data": {
      "application/aml.mini.widget.v1": "{\"status\": \"Completed\", \"workbench_run_details_uri\": \"https://ml.azure.com/experiments/titanic_automl/runs/AutoML_ad43f349-8d0c-4cb6-9739-4f4ac96a8bed?wsid=/subscriptions/a24a24d5-8d87-4c8a-99b6-91ed2d2df51f/resourcegroups/aml-quickstarts-135901/workspaces/quick-starts-ws-135901\", \"run_id\": \"AutoML_ad43f349-8d0c-4cb6-9739-4f4ac96a8bed\", \"run_properties\": {\"run_id\": \"AutoML_ad43f349-8d0c-4cb6-9739-4f4ac96a8bed\", \"created_utc\": \"2021-01-24T16:59:49.683371Z\", \"properties\": {\"num_iterations\": \"1000\", \"training_type\": \"TrainFull\", \"acquisition_function\": \"EI\", \"primary_metric\": \"accuracy\", \"train_split\": \"0\", \"acquisition_parameter\": \"0\", \"num_cross_validation\": \"5\", \"target\": \"computecluster1\", \"AMLSettingsJsonString\": \"{\\\"path\\\":null,\\\"name\\\":\\\"titanic_automl\\\",\\\"subscription_id\\\":\\\"a24a24d5-8d87-4c8a-99b6-91ed2d2df51f\\\",\\\"resource_group\\\":\\\"aml-quickstarts-135901\\\",\\\"workspace_name\\\":\\\"quick-starts-ws-135901\\\",\\\"region\\\":\\\"southcentralus\\\",\\\"compute_target\\\":\\\"computecluster1\\\",\\\"spark_service\\\":null,\\\"azure_service\\\":\\\"remote\\\",\\\"many_models\\\":false,\\\"pipeline_fetch_max_batch_size\\\":1,\\\"iterations\\\":1000,\\\"primary_metric\\\":\\\"accuracy\\\",\\\"task_type\\\":\\\"classification\\\",\\\"data_script\\\":null,\\\"validation_size\\\":0.0,\\\"n_cross_validations\\\":5,\\\"y_min\\\":null,\\\"y_max\\\":null,\\\"num_classes\\\":null,\\\"featurization\\\":\\\"auto\\\",\\\"_ignore_package_version_incompatibilities\\\":false,\\\"is_timeseries\\\":false,\\\"max_cores_per_iteration\\\":1,\\\"max_concurrent_iterations\\\":1,\\\"iteration_timeout_minutes\\\":null,\\\"mem_in_mb\\\":null,\\\"enforce_time_on_windows\\\":false,\\\"experiment_timeout_minutes\\\":30,\\\"experiment_exit_score\\\":null,\\\"whitelist_models\\\":null,\\\"blacklist_algos\\\":[\\\"TensorFlowLinearClassifier\\\",\\\"TensorFlowDNN\\\"],\\\"supported_models\\\":[\\\"SGD\\\",\\\"LogisticRegression\\\",\\\"SVM\\\",\\\"AveragedPerceptronClassifier\\\",\\\"TensorFlowLinearClassifier\\\",\\\"RandomForest\\\",\\\"MultinomialNaiveBayes\\\",\\\"GradientBoosting\\\",\\\"LightGBM\\\",\\\"BernoulliNaiveBayes\\\",\\\"LinearSVM\\\",\\\"DecisionTree\\\",\\\"XGBoostClassifier\\\",\\\"TensorFlowDNN\\\",\\\"KNN\\\",\\\"ExtremeRandomTrees\\\"],\\\"auto_blacklist\\\":true,\\\"blacklist_samples_reached\\\":false,\\\"exclude_nan_labels\\\":true,\\\"verbosity\\\":20,\\\"_debug_log\\\":\\\"azureml_automl.log\\\",\\\"show_warnings\\\":false,\\\"model_explainability\\\":true,\\\"service_url\\\":null,\\\"sdk_url\\\":null,\\\"sdk_packages\\\":null,\\\"enable_onnx_compatible_models\\\":false,\\\"enable_split_onnx_featurizer_estimator_models\\\":false,\\\"vm_type\\\":\\\"STANDARD_DS2_V2\\\",\\\"telemetry_verbosity\\\":20,\\\"send_telemetry\\\":true,\\\"enable_dnn\\\":false,\\\"scenario\\\":\\\"SDK-1.13.0\\\",\\\"environment_label\\\":null,\\\"force_text_dnn\\\":false,\\\"enable_feature_sweeping\\\":true,\\\"enable_early_stopping\\\":false,\\\"early_stopping_n_iters\\\":10,\\\"metrics\\\":null,\\\"enable_ensembling\\\":true,\\\"enable_stack_ensembling\\\":true,\\\"ensemble_iterations\\\":15,\\\"enable_tf\\\":false,\\\"enable_subsampling\\\":null,\\\"subsample_seed\\\":null,\\\"enable_nimbusml\\\":false,\\\"enable_streaming\\\":false,\\\"force_streaming\\\":false,\\\"track_child_runs\\\":true,\\\"allowed_private_models\\\":[],\\\"label_column_name\\\":\\\"Survived\\\",\\\"weight_column_name\\\":null,\\\"cv_split_column_names\\\":null,\\\"enable_local_managed\\\":false,\\\"_local_managed_run_id\\\":null,\\\"cost_mode\\\":1,\\\"lag_length\\\":0,\\\"metric_operation\\\":\\\"maximize\\\",\\\"preprocess\\\":true}\", \"DataPrepJsonString\": \"{\\\\\\\"training_data\\\\\\\": \\\\\\\"{\\\\\\\\\\\\\\\"blocks\\\\\\\\\\\\\\\": [{\\\\\\\\\\\\\\\"id\\\\\\\\\\\\\\\": \\\\\\\\\\\\\\\"1881689d-28e0-430a-aa92-2a36306d5747\\\\\\\\\\\\\\\", \\\\\\\\\\\\\\\"type\\\\\\\\\\\\\\\": \\\\\\\\\\\\\\\"Microsoft.DPrep.GetDatastoreFilesBlock\\\\\\\\\\\\\\\", \\\\\\\\\\\\\\\"arguments\\\\\\\\\\\\\\\": {\\\\\\\\\\\\\\\"datastores\\\\\\\\\\\\\\\": [{\\\\\\\\\\\\\\\"datastoreName\\\\\\\\\\\\\\\": \\\\\\\\\\\\\\\"workspaceblobstore\\\\\\\\\\\\\\\", \\\\\\\\\\\\\\\"path\\\\\\\\\\\\\\\": \\\\\\\\\\\\\\\"data/train.csv\\\\\\\\\\\\\\\", \\\\\\\\\\\\\\\"resourceGroup\\\\\\\\\\\\\\\": \\\\\\\\\\\\\\\"aml-quickstarts-135901\\\\\\\\\\\\\\\", \\\\\\\\\\\\\\\"subscription\\\\\\\\\\\\\\\": \\\\\\\\\\\\\\\"a24a24d5-8d87-4c8a-99b6-91ed2d2df51f\\\\\\\\\\\\\\\", \\\\\\\\\\\\\\\"workspaceName\\\\\\\\\\\\\\\": \\\\\\\\\\\\\\\"quick-starts-ws-135901\\\\\\\\\\\\\\\"}]}, \\\\\\\\\\\\\\\"localData\\\\\\\\\\\\\\\": {}, \\\\\\\\\\\\\\\"isEnabled\\\\\\\\\\\\\\\": true, \\\\\\\\\\\\\\\"name\\\\\\\\\\\\\\\": null, \\\\\\\\\\\\\\\"annotation\\\\\\\\\\\\\\\": null}, {\\\\\\\\\\\\\\\"id\\\\\\\\\\\\\\\": \\\\\\\\\\\\\\\"6054a0ed-4eb1-4893-9ab1-bea1b55c2465\\\\\\\\\\\\\\\", \\\\\\\\\\\\\\\"type\\\\\\\\\\\\\\\": \\\\\\\\\\\\\\\"Microsoft.DPrep.ParseDelimitedBlock\\\\\\\\\\\\\\\", \\\\\\\\\\\\\\\"arguments\\\\\\\\\\\\\\\": {\\\\\\\\\\\\\\\"columnHeadersMode\\\\\\\\\\\\\\\": 3, \\\\\\\\\\\\\\\"fileEncoding\\\\\\\\\\\\\\\": 0, \\\\\\\\\\\\\\\"handleQuotedLineBreaks\\\\\\\\\\\\\\\": false, \\\\\\\\\\\\\\\"preview\\\\\\\\\\\\\\\": false, \\\\\\\\\\\\\\\"separator\\\\\\\\\\\\\\\": \\\\\\\\\\\\\\\",\\\\\\\\\\\\\\\", \\\\\\\\\\\\\\\"skipRows\\\\\\\\\\\\\\\": 0, \\\\\\\\\\\\\\\"skipRowsMode\\\\\\\\\\\\\\\": 0}, \\\\\\\\\\\\\\\"localData\\\\\\\\\\\\\\\": {}, \\\\\\\\\\\\\\\"isEnabled\\\\\\\\\\\\\\\": true, \\\\\\\\\\\\\\\"name\\\\\\\\\\\\\\\": null, \\\\\\\\\\\\\\\"annotation\\\\\\\\\\\\\\\": null}, {\\\\\\\\\\\\\\\"id\\\\\\\\\\\\\\\": \\\\\\\\\\\\\\\"a7e81aaa-b5c2-4ec3-b5cb-a0bda58c2015\\\\\\\\\\\\\\\", \\\\\\\\\\\\\\\"type\\\\\\\\\\\\\\\": \\\\\\\\\\\\\\\"Microsoft.DPrep.DropColumnsBlock\\\\\\\\\\\\\\\", \\\\\\\\\\\\\\\"arguments\\\\\\\\\\\\\\\": {\\\\\\\\\\\\\\\"columns\\\\\\\\\\\\\\\": {\\\\\\\\\\\\\\\"type\\\\\\\\\\\\\\\": 0, \\\\\\\\\\\\\\\"details\\\\\\\\\\\\\\\": {\\\\\\\\\\\\\\\"selectedColumns\\\\\\\\\\\\\\\": [\\\\\\\\\\\\\\\"Path\\\\\\\\\\\\\\\"]}}}, \\\\\\\\\\\\\\\"localData\\\\\\\\\\\\\\\": {}, \\\\\\\\\\\\\\\"isEnabled\\\\\\\\\\\\\\\": true, \\\\\\\\\\\\\\\"name\\\\\\\\\\\\\\\": null, \\\\\\\\\\\\\\\"annotation\\\\\\\\\\\\\\\": null}, {\\\\\\\\\\\\\\\"id\\\\\\\\\\\\\\\": \\\\\\\\\\\\\\\"755a8e3c-c601-451c-95ce-52fb873df44e\\\\\\\\\\\\\\\", \\\\\\\\\\\\\\\"type\\\\\\\\\\\\\\\": \\\\\\\\\\\\\\\"Microsoft.DPrep.SetColumnTypesBlock\\\\\\\\\\\\\\\", \\\\\\\\\\\\\\\"arguments\\\\\\\\\\\\\\\": {\\\\\\\\\\\\\\\"columnConversion\\\\\\\\\\\\\\\": [{\\\\\\\\\\\\\\\"column\\\\\\\\\\\\\\\": {\\\\\\\\\\\\\\\"type\\\\\\\\\\\\\\\": 2, \\\\\\\\\\\\\\\"details\\\\\\\\\\\\\\\": {\\\\\\\\\\\\\\\"selectedColumn\\\\\\\\\\\\\\\": \\\\\\\\\\\\\\\"Column1\\\\\\\\\\\\\\\"}}, \\\\\\\\\\\\\\\"typeProperty\\\\\\\\\\\\\\\": 2}, {\\\\\\\\\\\\\\\"column\\\\\\\\\\\\\\\": {\\\\\\\\\\\\\\\"type\\\\\\\\\\\\\\\": 2, \\\\\\\\\\\\\\\"details\\\\\\\\\\\\\\\": {\\\\\\\\\\\\\\\"selectedColumn\\\\\\\\\\\\\\\": \\\\\\\\\\\\\\\"Age_2.0\\\\\\\\\\\\\\\"}}, \\\\\\\\\\\\\\\"typeProperty\\\\\\\\\\\\\\\": 2}, {\\\\\\\\\\\\\\\"column\\\\\\\\\\\\\\\": {\\\\\\\\\\\\\\\"type\\\\\\\\\\\\\\\": 2, \\\\\\\\\\\\\\\"details\\\\\\\\\\\\\\\": {\\\\\\\\\\\\\\\"selectedColumn\\\\\\\\\\\\\\\": \\\\\\\\\\\\\\\"Age_3.0\\\\\\\\\\\\\\\"}}, \\\\\\\\\\\\\\\"typeProperty\\\\\\\\\\\\\\\": 2}, {\\\\\\\\\\\\\\\"column\\\\\\\\\\\\\\\": {\\\\\\\\\\\\\\\"type\\\\\\\\\\\\\\\": 2, \\\\\\\\\\\\\\\"details\\\\\\\\\\\\\\\": {\\\\\\\\\\\\\\\"selectedColumn\\\\\\\\\\\\\\\": \\\\\\\\\\\\\\\"Age_4.0\\\\\\\\\\\\\\\"}}, \\\\\\\\\\\\\\\"typeProperty\\\\\\\\\\\\\\\": 2}, {\\\\\\\\\\\\\\\"column\\\\\\\\\\\\\\\": {\\\\\\\\\\\\\\\"type\\\\\\\\\\\\\\\": 2, \\\\\\\\\\\\\\\"details\\\\\\\\\\\\\\\": {\\\\\\\\\\\\\\\"selectedColumn\\\\\\\\\\\\\\\": \\\\\\\\\\\\\\\"Fare_2.0\\\\\\\\\\\\\\\"}}, \\\\\\\\\\\\\\\"typeProperty\\\\\\\\\\\\\\\": 2}, {\\\\\\\\\\\\\\\"column\\\\\\\\\\\\\\\": {\\\\\\\\\\\\\\\"type\\\\\\\\\\\\\\\": 2, \\\\\\\\\\\\\\\"details\\\\\\\\\\\\\\\": {\\\\\\\\\\\\\\\"selectedColumn\\\\\\\\\\\\\\\": \\\\\\\\\\\\\\\"Fare_3.0\\\\\\\\\\\\\\\"}}, \\\\\\\\\\\\\\\"typeProperty\\\\\\\\\\\\\\\": 2}, {\\\\\\\\\\\\\\\"column\\\\\\\\\\\\\\\": {\\\\\\\\\\\\\\\"type\\\\\\\\\\\\\\\": 2, \\\\\\\\\\\\\\\"details\\\\\\\\\\\\\\\": {\\\\\\\\\\\\\\\"selectedColumn\\\\\\\\\\\\\\\": \\\\\\\\\\\\\\\"Fare_4.0\\\\\\\\\\\\\\\"}}, \\\\\\\\\\\\\\\"typeProperty\\\\\\\\\\\\\\\": 2}, {\\\\\\\\\\\\\\\"column\\\\\\\\\\\\\\\": {\\\\\\\\\\\\\\\"type\\\\\\\\\\\\\\\": 2, \\\\\\\\\\\\\\\"details\\\\\\\\\\\\\\\": {\\\\\\\\\\\\\\\"selectedColumn\\\\\\\\\\\\\\\": \\\\\\\\\\\\\\\"Pclass_2\\\\\\\\\\\\\\\"}}, \\\\\\\\\\\\\\\"typeProperty\\\\\\\\\\\\\\\": 2}, {\\\\\\\\\\\\\\\"column\\\\\\\\\\\\\\\": {\\\\\\\\\\\\\\\"type\\\\\\\\\\\\\\\": 2, \\\\\\\\\\\\\\\"details\\\\\\\\\\\\\\\": {\\\\\\\\\\\\\\\"selectedColumn\\\\\\\\\\\\\\\": \\\\\\\\\\\\\\\"Pclass_3\\\\\\\\\\\\\\\"}}, \\\\\\\\\\\\\\\"typeProperty\\\\\\\\\\\\\\\": 2}, {\\\\\\\\\\\\\\\"column\\\\\\\\\\\\\\\": {\\\\\\\\\\\\\\\"type\\\\\\\\\\\\\\\": 2, \\\\\\\\\\\\\\\"details\\\\\\\\\\\\\\\": {\\\\\\\\\\\\\\\"selectedColumn\\\\\\\\\\\\\\\": \\\\\\\\\\\\\\\"Sex_male\\\\\\\\\\\\\\\"}}, \\\\\\\\\\\\\\\"typeProperty\\\\\\\\\\\\\\\": 2}, {\\\\\\\\\\\\\\\"column\\\\\\\\\\\\\\\": {\\\\\\\\\\\\\\\"type\\\\\\\\\\\\\\\": 2, \\\\\\\\\\\\\\\"details\\\\\\\\\\\\\\\": {\\\\\\\\\\\\\\\"selectedColumn\\\\\\\\\\\\\\\": \\\\\\\\\\\\\\\"Embarked_Q\\\\\\\\\\\\\\\"}}, \\\\\\\\\\\\\\\"typeProperty\\\\\\\\\\\\\\\": 2}, {\\\\\\\\\\\\\\\"column\\\\\\\\\\\\\\\": {\\\\\\\\\\\\\\\"type\\\\\\\\\\\\\\\": 2, \\\\\\\\\\\\\\\"details\\\\\\\\\\\\\\\": {\\\\\\\\\\\\\\\"selectedColumn\\\\\\\\\\\\\\\": \\\\\\\\\\\\\\\"Embarked_S\\\\\\\\\\\\\\\"}}, \\\\\\\\\\\\\\\"typeProperty\\\\\\\\\\\\\\\": 2}, {\\\\\\\\\\\\\\\"column\\\\\\\\\\\\\\\": {\\\\\\\\\\\\\\\"type\\\\\\\\\\\\\\\": 2, \\\\\\\\\\\\\\\"details\\\\\\\\\\\\\\\": {\\\\\\\\\\\\\\\"selectedColumn\\\\\\\\\\\\\\\": \\\\\\\\\\\\\\\"Family_type_Large\\\\\\\\\\\\\\\"}}, \\\\\\\\\\\\\\\"typeProperty\\\\\\\\\\\\\\\": 2}, {\\\\\\\\\\\\\\\"column\\\\\\\\\\\\\\\": {\\\\\\\\\\\\\\\"type\\\\\\\\\\\\\\\": 2, \\\\\\\\\\\\\\\"details\\\\\\\\\\\\\\\": {\\\\\\\\\\\\\\\"selectedColumn\\\\\\\\\\\\\\\": \\\\\\\\\\\\\\\"Family_type_Medium\\\\\\\\\\\\\\\"}}, \\\\\\\\\\\\\\\"typeProperty\\\\\\\\\\\\\\\": 2}, {\\\\\\\\\\\\\\\"column\\\\\\\\\\\\\\\": {\\\\\\\\\\\\\\\"type\\\\\\\\\\\\\\\": 2, \\\\\\\\\\\\\\\"details\\\\\\\\\\\\\\\": {\\\\\\\\\\\\\\\"selectedColumn\\\\\\\\\\\\\\\": \\\\\\\\\\\\\\\"Survived\\\\\\\\\\\\\\\"}}, \\\\\\\\\\\\\\\"typeProperty\\\\\\\\\\\\\\\": 2}]}, \\\\\\\\\\\\\\\"localData\\\\\\\\\\\\\\\": {}, \\\\\\\\\\\\\\\"isEnabled\\\\\\\\\\\\\\\": true, \\\\\\\\\\\\\\\"name\\\\\\\\\\\\\\\": null, \\\\\\\\\\\\\\\"annotation\\\\\\\\\\\\\\\": null}], \\\\\\\\\\\\\\\"inspectors\\\\\\\\\\\\\\\": [], \\\\\\\\\\\\\\\"meta\\\\\\\\\\\\\\\": {\\\\\\\\\\\\\\\"savedDatasetId\\\\\\\\\\\\\\\": \\\\\\\\\\\\\\\"1682543e-807e-439e-ac83-d7b324c23bb8\\\\\\\\\\\\\\\", \\\\\\\\\\\\\\\"datasetType\\\\\\\\\\\\\\\": \\\\\\\\\\\\\\\"tabular\\\\\\\\\\\\\\\", \\\\\\\\\\\\\\\"subscriptionId\\\\\\\\\\\\\\\": \\\\\\\\\\\\\\\"a24a24d5-8d87-4c8a-99b6-91ed2d2df51f\\\\\\\\\\\\\\\", \\\\\\\\\\\\\\\"workspaceId\\\\\\\\\\\\\\\": \\\\\\\\\\\\\\\"c6ce5c3a-bee7-4a9a-bc82-98bea0154799\\\\\\\\\\\\\\\", \\\\\\\\\\\\\\\"workspaceLocation\\\\\\\\\\\\\\\": \\\\\\\\\\\\\\\"southcentralus\\\\\\\\\\\\\\\"}}\\\\\\\", \\\\\\\"activities\\\\\\\": 0}\", \"EnableSubsampling\": null, \"runTemplate\": \"AutoML\", \"azureml.runsource\": \"automl\", \"display_task_type\": \"classification\", \"dependencies_versions\": \"{\\\"azureml-widgets\\\": \\\"1.19.0\\\", \\\"azureml-train\\\": \\\"1.19.0\\\", \\\"azureml-train-restclients-hyperdrive\\\": \\\"1.19.0\\\", \\\"azureml-train-core\\\": \\\"1.19.0\\\", \\\"azureml-train-automl\\\": \\\"1.19.0\\\", \\\"azureml-train-automl-runtime\\\": \\\"1.19.0\\\", \\\"azureml-train-automl-client\\\": \\\"1.19.0\\\", \\\"azureml-tensorboard\\\": \\\"1.19.0\\\", \\\"azureml-telemetry\\\": \\\"1.19.0\\\", \\\"azureml-sdk\\\": \\\"1.19.0\\\", \\\"azureml-samples\\\": \\\"0+unknown\\\", \\\"azureml-pipeline\\\": \\\"1.19.0\\\", \\\"azureml-pipeline-steps\\\": \\\"1.19.0\\\", \\\"azureml-pipeline-core\\\": \\\"1.19.0\\\", \\\"azureml-opendatasets\\\": \\\"1.19.0\\\", \\\"azureml-model-management-sdk\\\": \\\"1.0.1b6.post1\\\", \\\"azureml-mlflow\\\": \\\"1.19.0\\\", \\\"azureml-interpret\\\": \\\"1.19.0\\\", \\\"azureml-explain-model\\\": \\\"1.19.0\\\", \\\"azureml-defaults\\\": \\\"1.19.0\\\", \\\"azureml-dataset-runtime\\\": \\\"1.19.0.post1\\\", \\\"azureml-dataprep\\\": \\\"2.6.1\\\", \\\"azureml-dataprep-rslex\\\": \\\"1.4.0\\\", \\\"azureml-dataprep-native\\\": \\\"26.0.0\\\", \\\"azureml-datadrift\\\": \\\"1.19.0\\\", \\\"azureml-core\\\": \\\"1.19.0\\\", \\\"azureml-contrib-services\\\": \\\"1.19.0\\\", \\\"azureml-contrib-server\\\": \\\"1.19.0\\\", \\\"azureml-contrib-reinforcementlearning\\\": \\\"1.19.0\\\", \\\"azureml-contrib-pipeline-steps\\\": \\\"1.19.0\\\", \\\"azureml-contrib-notebook\\\": \\\"1.19.0\\\", \\\"azureml-contrib-interpret\\\": \\\"1.19.0\\\", \\\"azureml-contrib-gbdt\\\": \\\"1.19.0\\\", \\\"azureml-contrib-fairness\\\": \\\"1.19.0\\\", \\\"azureml-contrib-dataset\\\": \\\"1.19.0\\\", \\\"azureml-cli-common\\\": \\\"1.19.0\\\", \\\"azureml-automl-runtime\\\": \\\"1.19.0\\\", \\\"azureml-automl-core\\\": \\\"1.19.0\\\", \\\"azureml-accel-models\\\": \\\"1.19.0\\\"}\", \"_aml_system_scenario_identification\": \"Remote.Parent\", \"ClientType\": \"SDK\", \"environment_cpu_name\": \"AzureML-AutoML\", \"environment_cpu_label\": \"prod\", \"environment_gpu_name\": \"AzureML-AutoML-GPU\", \"environment_gpu_label\": \"prod\", \"root_attribution\": \"automl\", \"attribution\": \"AutoML\", \"Orchestrator\": \"AutoML\", \"CancelUri\": \"https://southcentralus.experiments.azureml.net/jasmine/v1.0/subscriptions/a24a24d5-8d87-4c8a-99b6-91ed2d2df51f/resourceGroups/aml-quickstarts-135901/providers/Microsoft.MachineLearningServices/workspaces/quick-starts-ws-135901/experimentids/0de8fb1e-6ff3-4cc3-bab2-20cdc4141cb5/cancel/AutoML_ad43f349-8d0c-4cb6-9739-4f4ac96a8bed\", \"ClientSdkVersion\": \"1.20.0\", \"snapshotId\": \"00000000-0000-0000-0000-000000000000\", \"SetupRunId\": \"AutoML_ad43f349-8d0c-4cb6-9739-4f4ac96a8bed_setup\", \"SetupRunContainerId\": \"dcid.AutoML_ad43f349-8d0c-4cb6-9739-4f4ac96a8bed_setup\", \"FeaturizationRunJsonPath\": \"featurizer_container.json\", \"FeaturizationRunId\": \"AutoML_ad43f349-8d0c-4cb6-9739-4f4ac96a8bed_featurize\", \"ProblemInfoJsonString\": \"{\\\"dataset_num_categorical\\\": 0, \\\"is_sparse\\\": false, \\\"subsampling\\\": false, \\\"dataset_classes\\\": 2, \\\"dataset_features\\\": 14, \\\"dataset_samples\\\": 712, \\\"single_frequency_class_detected\\\": false}\", \"ModelExplainRunId\": \"AutoML_ad43f349-8d0c-4cb6-9739-4f4ac96a8bed_ModelExplain\"}, \"tags\": {\"model_explain_run\": \"best_run\", \"_aml_system_azureml.automlComponent\": \"AutoML\", \"pipeline_id\": \"\", \"score\": \"\", \"predicted_cost\": \"\", \"fit_time\": \"\", \"training_percent\": \"\", \"iteration\": \"\", \"run_preprocessor\": \"\", \"run_algorithm\": \"\", \"dynamic_whitelisting_iterations\": \"<25>;\", \"automl_best_child_run_id\": \"AutoML_ad43f349-8d0c-4cb6-9739-4f4ac96a8bed_28\"}, \"end_time_utc\": \"2021-01-24T17:37:52.613463Z\", \"status\": \"Completed\", \"log_files\": {}, \"log_groups\": [], \"run_duration\": \"0:38:02\"}, \"child_runs\": [{\"run_id\": \"AutoML_ad43f349-8d0c-4cb6-9739-4f4ac96a8bed_0\", \"run_number\": 5, \"metric\": null, \"status\": \"Completed\", \"run_type\": \"azureml.scriptrun\", \"training_percent\": \"100\", \"start_time\": \"2021-01-24T17:04:04.618951Z\", \"end_time\": \"2021-01-24T17:05:18.371687Z\", \"created_time\": \"2021-01-24T17:03:50.499888Z\", \"created_time_dt\": \"2021-01-24T17:03:50.499888Z\", \"duration\": \"0:01:27\", \"iteration\": \"0\", \"goal\": \"accuracy_max\", \"run_name\": \"MaxAbsScaler, LightGBM\", \"run_properties\": \"copy=True\", \"primary_metric\": 0.77815424, \"best_metric\": 0.77815424}, {\"run_id\": \"AutoML_ad43f349-8d0c-4cb6-9739-4f4ac96a8bed_1\", \"run_number\": 6, \"metric\": null, \"status\": \"Completed\", \"run_type\": \"azureml.scriptrun\", \"training_percent\": \"100\", \"start_time\": \"2021-01-24T17:05:31.364159Z\", \"end_time\": \"2021-01-24T17:06:15.956764Z\", \"created_time\": \"2021-01-24T17:05:19.874128Z\", \"created_time_dt\": \"2021-01-24T17:05:19.874128Z\", \"duration\": \"0:00:56\", \"iteration\": \"1\", \"goal\": \"accuracy_max\", \"run_name\": \"MaxAbsScaler, XGBoostClassifier\", \"run_properties\": \"copy=True\", \"primary_metric\": 0.796405, \"best_metric\": 0.796405}, {\"run_id\": \"AutoML_ad43f349-8d0c-4cb6-9739-4f4ac96a8bed_2\", \"run_number\": 7, \"metric\": null, \"status\": \"Completed\", \"run_type\": \"azureml.scriptrun\", \"training_percent\": \"100\", \"start_time\": \"2021-01-24T17:06:29.929409Z\", \"end_time\": \"2021-01-24T17:07:08.94631Z\", \"created_time\": \"2021-01-24T17:06:17.47166Z\", \"created_time_dt\": \"2021-01-24T17:06:17.47166Z\", \"duration\": \"0:00:51\", \"iteration\": \"2\", \"goal\": \"accuracy_max\", \"run_name\": \"MinMaxScaler, RandomForest\", \"run_properties\": \"copy=True, feature_range=(0, 1\", \"primary_metric\": 0.79212056, \"best_metric\": 0.796405}, {\"run_id\": \"AutoML_ad43f349-8d0c-4cb6-9739-4f4ac96a8bed_3\", \"run_number\": 8, \"metric\": null, \"status\": \"Completed\", \"run_type\": \"azureml.scriptrun\", \"training_percent\": \"100\", \"start_time\": \"2021-01-24T17:07:26.336294Z\", \"end_time\": \"2021-01-24T17:08:45.055083Z\", \"created_time\": \"2021-01-24T17:07:11.286561Z\", \"created_time_dt\": \"2021-01-24T17:07:11.286561Z\", \"duration\": \"0:01:33\", \"iteration\": \"3\", \"goal\": \"accuracy_max\", \"run_name\": \"MinMaxScaler, RandomForest\", \"run_properties\": \"copy=True, feature_range=(0, 1\", \"primary_metric\": 0.77809514, \"best_metric\": 0.796405}, {\"run_id\": \"AutoML_ad43f349-8d0c-4cb6-9739-4f4ac96a8bed_4\", \"run_number\": 9, \"metric\": null, \"status\": \"Completed\", \"run_type\": \"azureml.scriptrun\", \"training_percent\": \"100\", \"start_time\": \"2021-01-24T17:09:00.378673Z\", \"end_time\": \"2021-01-24T17:10:32.87512Z\", \"created_time\": \"2021-01-24T17:08:47.036235Z\", \"created_time_dt\": \"2021-01-24T17:08:47.036235Z\", \"duration\": \"0:01:45\", \"iteration\": \"4\", \"goal\": \"accuracy_max\", \"run_name\": \"MinMaxScaler, RandomForest\", \"run_properties\": \"copy=True, feature_range=(0, 1\", \"primary_metric\": 0.76972323, \"best_metric\": 0.796405}, {\"run_id\": \"AutoML_ad43f349-8d0c-4cb6-9739-4f4ac96a8bed_5\", \"run_number\": 10, \"metric\": null, \"status\": \"Completed\", \"run_type\": \"azureml.scriptrun\", \"training_percent\": \"100\", \"start_time\": \"2021-01-24T17:10:47.115349Z\", \"end_time\": \"2021-01-24T17:11:29.827894Z\", \"created_time\": \"2021-01-24T17:10:34.554893Z\", \"created_time_dt\": \"2021-01-24T17:10:34.554893Z\", \"duration\": \"0:00:55\", \"iteration\": \"5\", \"goal\": \"accuracy_max\", \"run_name\": \"MinMaxScaler, SVM\", \"run_properties\": \"copy=True, feature_range=(0, 1\", \"primary_metric\": 0.78790505, \"best_metric\": 0.796405}, {\"run_id\": \"AutoML_ad43f349-8d0c-4cb6-9739-4f4ac96a8bed_6\", \"run_number\": 11, \"metric\": null, \"status\": \"Completed\", \"run_type\": \"azureml.scriptrun\", \"training_percent\": \"100\", \"start_time\": \"2021-01-24T17:11:47.897864Z\", \"end_time\": \"2021-01-24T17:12:38.547229Z\", \"created_time\": \"2021-01-24T17:11:31.564665Z\", \"created_time_dt\": \"2021-01-24T17:11:31.564665Z\", \"duration\": \"0:01:06\", \"iteration\": \"6\", \"goal\": \"accuracy_max\", \"run_name\": \"MaxAbsScaler, GradientBoosting\", \"run_properties\": \"copy=True\", \"primary_metric\": 0.78796415, \"best_metric\": 0.796405}, {\"run_id\": \"AutoML_ad43f349-8d0c-4cb6-9739-4f4ac96a8bed_7\", \"run_number\": 12, \"metric\": null, \"status\": \"Completed\", \"run_type\": \"azureml.scriptrun\", \"training_percent\": \"100\", \"start_time\": \"2021-01-24T17:12:55.526685Z\", \"end_time\": \"2021-01-24T17:13:50.044858Z\", \"created_time\": \"2021-01-24T17:12:41.699278Z\", \"created_time_dt\": \"2021-01-24T17:12:41.699278Z\", \"duration\": \"0:01:08\", \"iteration\": \"7\", \"goal\": \"accuracy_max\", \"run_name\": \"StandardScalerWrapper, RandomForest\", \"run_properties\": \"<azureml.automl.runtime.shared.model_wrappers.StandardScalerWrapper object at 0x7f3a35a35518\", \"primary_metric\": 0.79635576, \"best_metric\": 0.796405}, {\"run_id\": \"AutoML_ad43f349-8d0c-4cb6-9739-4f4ac96a8bed_8\", \"run_number\": 13, \"metric\": null, \"status\": \"Completed\", \"run_type\": \"azureml.scriptrun\", \"training_percent\": \"100\", \"start_time\": \"2021-01-24T17:14:09.151087Z\", \"end_time\": \"2021-01-24T17:15:01.125315Z\", \"created_time\": \"2021-01-24T17:13:52.388615Z\", \"created_time_dt\": \"2021-01-24T17:13:52.388615Z\", \"duration\": \"0:01:08\", \"iteration\": \"8\", \"goal\": \"accuracy_max\", \"run_name\": \"SparseNormalizer, XGBoostClassifier\", \"run_properties\": \"<azureml.automl.runtime.shared.model_wrappers.SparseNormalizer object at 0x7f0c64642160\", \"primary_metric\": 0.7809219, \"best_metric\": 0.796405}, {\"run_id\": \"AutoML_ad43f349-8d0c-4cb6-9739-4f4ac96a8bed_9\", \"run_number\": 14, \"metric\": null, \"status\": \"Completed\", \"run_type\": \"azureml.scriptrun\", \"training_percent\": \"100\", \"start_time\": \"2021-01-24T17:15:19.141293Z\", \"end_time\": \"2021-01-24T17:16:06.607182Z\", \"created_time\": \"2021-01-24T17:15:03.327762Z\", \"created_time_dt\": \"2021-01-24T17:15:03.327762Z\", \"duration\": \"0:01:03\", \"iteration\": \"9\", \"goal\": \"accuracy_max\", \"run_name\": \"SparseNormalizer, LightGBM\", \"run_properties\": \"<azureml.automl.runtime.shared.model_wrappers.SparseNormalizer object at 0x7ff1597e4e48\", \"primary_metric\": 0.7851768, \"best_metric\": 0.796405}, {\"run_id\": \"AutoML_ad43f349-8d0c-4cb6-9739-4f4ac96a8bed_10\", \"run_number\": 15, \"metric\": null, \"status\": \"Completed\", \"run_type\": \"azureml.scriptrun\", \"training_percent\": \"100\", \"start_time\": \"2021-01-24T17:16:23.426344Z\", \"end_time\": \"2021-01-24T17:17:03.340595Z\", \"created_time\": \"2021-01-24T17:16:09.400771Z\", \"created_time_dt\": \"2021-01-24T17:16:09.400771Z\", \"duration\": \"0:00:53\", \"iteration\": \"10\", \"goal\": \"accuracy_max\", \"run_name\": \"StandardScalerWrapper, LightGBM\", \"run_properties\": \"<azureml.automl.runtime.shared.model_wrappers.StandardScalerWrapper object at 0x7f30c6f96eb8\", \"primary_metric\": 0.7893529, \"best_metric\": 0.796405}, {\"run_id\": \"AutoML_ad43f349-8d0c-4cb6-9739-4f4ac96a8bed_11\", \"run_number\": 16, \"metric\": null, \"status\": \"Completed\", \"run_type\": \"azureml.scriptrun\", \"training_percent\": \"100\", \"start_time\": \"2021-01-24T17:17:19.431037Z\", \"end_time\": \"2021-01-24T17:18:10.917176Z\", \"created_time\": \"2021-01-24T17:17:05.673125Z\", \"created_time_dt\": \"2021-01-24T17:17:05.673125Z\", \"duration\": \"0:01:05\", \"iteration\": \"11\", \"goal\": \"accuracy_max\", \"run_name\": \"RobustScaler, ExtremeRandomTrees\", \"run_properties\": \"copy=True, quantile_range=[25, 75], with_centering=True,\\n             with_scaling=False\", \"primary_metric\": 0.77248104, \"best_metric\": 0.796405}, {\"run_id\": \"AutoML_ad43f349-8d0c-4cb6-9739-4f4ac96a8bed_12\", \"run_number\": 17, \"metric\": null, \"status\": \"Completed\", \"run_type\": \"azureml.scriptrun\", \"training_percent\": \"100\", \"start_time\": \"2021-01-24T17:18:26.90177Z\", \"end_time\": \"2021-01-24T17:19:18.051354Z\", \"created_time\": \"2021-01-24T17:18:13.668311Z\", \"created_time_dt\": \"2021-01-24T17:18:13.668311Z\", \"duration\": \"0:01:04\", \"iteration\": \"12\", \"goal\": \"accuracy_max\", \"run_name\": \"SparseNormalizer, XGBoostClassifier\", \"run_properties\": \"<azureml.automl.runtime.shared.model_wrappers.SparseNormalizer object at 0x7f3c0f195c18\", \"primary_metric\": 0.7851571, \"best_metric\": 0.796405}, {\"run_id\": \"AutoML_ad43f349-8d0c-4cb6-9739-4f4ac96a8bed_13\", \"run_number\": 18, \"metric\": null, \"status\": \"Completed\", \"run_type\": \"azureml.scriptrun\", \"training_percent\": \"100\", \"start_time\": \"2021-01-24T17:19:30.303625Z\", \"end_time\": \"2021-01-24T17:20:14.750636Z\", \"created_time\": \"2021-01-24T17:19:19.946536Z\", \"created_time_dt\": \"2021-01-24T17:19:19.946536Z\", \"duration\": \"0:00:54\", \"iteration\": \"13\", \"goal\": \"accuracy_max\", \"run_name\": \"RobustScaler, ExtremeRandomTrees\", \"run_properties\": \"copy=True, quantile_range=[25, 75], with_centering=True,\\n             with_scaling=False\", \"primary_metric\": 0.76824584, \"best_metric\": 0.796405}, {\"run_id\": \"AutoML_ad43f349-8d0c-4cb6-9739-4f4ac96a8bed_14\", \"run_number\": 19, \"metric\": null, \"status\": \"Completed\", \"run_type\": \"azureml.scriptrun\", \"training_percent\": \"100\", \"start_time\": \"2021-01-24T17:20:27.855202Z\", \"end_time\": \"2021-01-24T17:21:12.465096Z\", \"created_time\": \"2021-01-24T17:20:16.42359Z\", \"created_time_dt\": \"2021-01-24T17:20:16.42359Z\", \"duration\": \"0:00:56\", \"iteration\": \"14\", \"goal\": \"accuracy_max\", \"run_name\": \"SparseNormalizer, XGBoostClassifier\", \"run_properties\": \"<azureml.automl.runtime.shared.model_wrappers.SparseNormalizer object at 0x7fe5e524bfd0\", \"primary_metric\": 0.78370925, \"best_metric\": 0.796405}, {\"run_id\": \"AutoML_ad43f349-8d0c-4cb6-9739-4f4ac96a8bed_15\", \"run_number\": 20, \"metric\": null, \"status\": \"Completed\", \"run_type\": \"azureml.scriptrun\", \"training_percent\": \"100\", \"start_time\": \"2021-01-24T17:21:25.922772Z\", \"end_time\": \"2021-01-24T17:22:11.582156Z\", \"created_time\": \"2021-01-24T17:21:14.078937Z\", \"created_time_dt\": \"2021-01-24T17:21:14.078937Z\", \"duration\": \"0:00:57\", \"iteration\": \"15\", \"goal\": \"accuracy_max\", \"run_name\": \"MinMaxScaler, ExtremeRandomTrees\", \"run_properties\": \"copy=True, feature_range=(0, 1\", \"primary_metric\": 0.80332907, \"best_metric\": 0.80332907}, {\"run_id\": \"AutoML_ad43f349-8d0c-4cb6-9739-4f4ac96a8bed_16\", \"run_number\": 21, \"metric\": null, \"status\": \"Completed\", \"run_type\": \"azureml.scriptrun\", \"training_percent\": \"100\", \"start_time\": \"2021-01-24T17:22:30.593648Z\", \"end_time\": \"2021-01-24T17:23:23.662461Z\", \"created_time\": \"2021-01-24T17:22:13.539094Z\", \"created_time_dt\": \"2021-01-24T17:22:13.539094Z\", \"duration\": \"0:01:10\", \"iteration\": \"16\", \"goal\": \"accuracy_max\", \"run_name\": \"RobustScaler, LightGBM\", \"run_properties\": \"copy=True, quantile_range=[25, 75], with_centering=False,\\n             with_scaling=False\", \"primary_metric\": 0.77679504, \"best_metric\": 0.80332907}, {\"run_id\": \"AutoML_ad43f349-8d0c-4cb6-9739-4f4ac96a8bed_17\", \"run_number\": 22, \"metric\": null, \"status\": \"Completed\", \"run_type\": \"azureml.scriptrun\", \"training_percent\": \"100\", \"start_time\": \"2021-01-24T17:23:37.355037Z\", \"end_time\": \"2021-01-24T17:24:20.148719Z\", \"created_time\": \"2021-01-24T17:23:25.516204Z\", \"created_time_dt\": \"2021-01-24T17:23:25.516204Z\", \"duration\": \"0:00:54\", \"iteration\": \"17\", \"goal\": \"accuracy_max\", \"run_name\": \"SparseNormalizer, XGBoostClassifier\", \"run_properties\": \"<azureml.automl.runtime.shared.model_wrappers.SparseNormalizer object at 0x7fee5c5f2b70\", \"primary_metric\": 0.7865557, \"best_metric\": 0.80332907}, {\"run_id\": \"AutoML_ad43f349-8d0c-4cb6-9739-4f4ac96a8bed_18\", \"run_number\": 23, \"metric\": null, \"status\": \"Completed\", \"run_type\": \"azureml.scriptrun\", \"training_percent\": \"100\", \"start_time\": \"2021-01-24T17:24:34.637261Z\", \"end_time\": \"2021-01-24T17:25:23.660711Z\", \"created_time\": \"2021-01-24T17:24:21.897263Z\", \"created_time_dt\": \"2021-01-24T17:24:21.897263Z\", \"duration\": \"0:01:01\", \"iteration\": \"18\", \"goal\": \"accuracy_max\", \"run_name\": \"StandardScalerWrapper, ExtremeRandomTrees\", \"run_properties\": \"<azureml.automl.runtime.shared.model_wrappers.StandardScalerWrapper object at 0x7f764a224a20\", \"primary_metric\": 0.77667684, \"best_metric\": 0.80332907}, {\"run_id\": \"AutoML_ad43f349-8d0c-4cb6-9739-4f4ac96a8bed_19\", \"run_number\": 24, \"metric\": null, \"status\": \"Completed\", \"run_type\": \"azureml.scriptrun\", \"training_percent\": \"100\", \"start_time\": \"2021-01-24T17:25:37.566132Z\", \"end_time\": \"2021-01-24T17:26:20.262733Z\", \"created_time\": \"2021-01-24T17:25:25.463544Z\", \"created_time_dt\": \"2021-01-24T17:25:25.463544Z\", \"duration\": \"0:00:54\", \"iteration\": \"19\", \"goal\": \"accuracy_max\", \"run_name\": \"StandardScalerWrapper, XGBoostClassifier\", \"run_properties\": \"<azureml.automl.runtime.shared.model_wrappers.StandardScalerWrapper object at 0x7fca24e570f0\", \"primary_metric\": 0.7893135, \"best_metric\": 0.80332907}, {\"run_id\": \"AutoML_ad43f349-8d0c-4cb6-9739-4f4ac96a8bed_20\", \"run_number\": 25, \"metric\": null, \"status\": \"Completed\", \"run_type\": \"azureml.scriptrun\", \"training_percent\": \"100\", \"start_time\": \"2021-01-24T17:26:34.329598Z\", \"end_time\": \"2021-01-24T17:27:16.644548Z\", \"created_time\": \"2021-01-24T17:26:21.975977Z\", \"created_time_dt\": \"2021-01-24T17:26:21.975977Z\", \"duration\": \"0:00:54\", \"iteration\": \"20\", \"goal\": \"accuracy_max\", \"run_name\": \"RobustScaler, KNN\", \"run_properties\": \"copy=True, quantile_range=[10, 90], with_centering=False,\\n             with_scaling=False\", \"primary_metric\": 0.64053974, \"best_metric\": 0.80332907}, {\"run_id\": \"AutoML_ad43f349-8d0c-4cb6-9739-4f4ac96a8bed_21\", \"run_number\": 26, \"metric\": null, \"status\": \"Completed\", \"run_type\": \"azureml.scriptrun\", \"training_percent\": \"100\", \"start_time\": \"2021-01-24T17:27:35.287663Z\", \"end_time\": \"2021-01-24T17:28:25.2624Z\", \"created_time\": \"2021-01-24T17:27:18.517867Z\", \"created_time_dt\": \"2021-01-24T17:27:18.517867Z\", \"duration\": \"0:01:06\", \"iteration\": \"21\", \"goal\": \"accuracy_max\", \"run_name\": \"MaxAbsScaler, ExtremeRandomTrees\", \"run_properties\": \"copy=True\", \"primary_metric\": 0.78374865, \"best_metric\": 0.80332907}, {\"run_id\": \"AutoML_ad43f349-8d0c-4cb6-9739-4f4ac96a8bed_22\", \"run_number\": 27, \"metric\": null, \"status\": \"Completed\", \"run_type\": \"azureml.scriptrun\", \"training_percent\": \"100\", \"start_time\": \"2021-01-24T17:28:44.047053Z\", \"end_time\": \"2021-01-24T17:29:45.155055Z\", \"created_time\": \"2021-01-24T17:28:27.758458Z\", \"created_time_dt\": \"2021-01-24T17:28:27.758458Z\", \"duration\": \"0:01:17\", \"iteration\": \"22\", \"goal\": \"accuracy_max\", \"run_name\": \"SparseNormalizer, LightGBM\", \"run_properties\": \"<azureml.automl.runtime.shared.model_wrappers.SparseNormalizer object at 0x7f6475822b70\", \"primary_metric\": 0.78932335, \"best_metric\": 0.80332907}, {\"run_id\": \"AutoML_ad43f349-8d0c-4cb6-9739-4f4ac96a8bed_23\", \"run_number\": 28, \"metric\": null, \"status\": \"Completed\", \"run_type\": \"azureml.scriptrun\", \"training_percent\": \"100\", \"start_time\": \"2021-01-24T17:30:03.360439Z\", \"end_time\": \"2021-01-24T17:30:50.643685Z\", \"created_time\": \"2021-01-24T17:29:46.907232Z\", \"created_time_dt\": \"2021-01-24T17:29:46.907232Z\", \"duration\": \"0:01:03\", \"iteration\": \"23\", \"goal\": \"accuracy_max\", \"run_name\": \"MaxAbsScaler, LightGBM\", \"run_properties\": \"copy=True\", \"primary_metric\": 0.80196001, \"best_metric\": 0.80332907}, {\"run_id\": \"AutoML_ad43f349-8d0c-4cb6-9739-4f4ac96a8bed_24\", \"run_number\": 29, \"metric\": null, \"status\": \"Completed\", \"run_type\": \"azureml.scriptrun\", \"training_percent\": \"100\", \"start_time\": \"2021-01-24T17:31:05.529651Z\", \"end_time\": \"2021-01-24T17:31:49.175158Z\", \"created_time\": \"2021-01-24T17:30:52.442668Z\", \"created_time_dt\": \"2021-01-24T17:30:52.442668Z\", \"duration\": \"0:00:56\", \"iteration\": \"24\", \"goal\": \"accuracy_max\", \"run_name\": \"MinMaxScaler, LogisticRegression\", \"run_properties\": \"copy=True, feature_range=(0, 1\", \"primary_metric\": 0.77388949, \"best_metric\": 0.80332907}, {\"run_id\": \"AutoML_ad43f349-8d0c-4cb6-9739-4f4ac96a8bed_25\", \"run_number\": 30, \"metric\": null, \"status\": \"Completed\", \"run_type\": \"azureml.scriptrun\", \"training_percent\": \"100\", \"start_time\": \"2021-01-24T17:32:03.986359Z\", \"end_time\": \"2021-01-24T17:32:46.662662Z\", \"created_time\": \"2021-01-24T17:31:52.095431Z\", \"created_time_dt\": \"2021-01-24T17:31:52.095431Z\", \"duration\": \"0:00:54\", \"iteration\": \"25\", \"goal\": \"accuracy_max\", \"run_name\": \"SparseNormalizer, ExtremeRandomTrees\", \"run_properties\": \"<azureml.automl.runtime.shared.model_wrappers.SparseNormalizer object at 0x7f07dd902e48\", \"primary_metric\": 0.56725106, \"best_metric\": 0.80332907}, {\"run_id\": \"AutoML_ad43f349-8d0c-4cb6-9739-4f4ac96a8bed_26\", \"run_number\": 31, \"metric\": null, \"status\": \"Completed\", \"run_type\": \"azureml.scriptrun\", \"training_percent\": \"100\", \"start_time\": \"2021-01-24T17:33:01.202472Z\", \"end_time\": \"2021-01-24T17:33:46.818142Z\", \"created_time\": \"2021-01-24T17:32:48.538363Z\", \"created_time_dt\": \"2021-01-24T17:32:48.538363Z\", \"duration\": \"0:00:58\", \"iteration\": \"26\", \"goal\": \"accuracy_max\", \"run_name\": \"StandardScalerWrapper, GradientBoosting\", \"run_properties\": \"<azureml.automl.runtime.shared.model_wrappers.StandardScalerWrapper object at 0x7ff619581eb8\", \"primary_metric\": 0.79217965, \"best_metric\": 0.80332907}, {\"run_id\": \"AutoML_ad43f349-8d0c-4cb6-9739-4f4ac96a8bed_27\", \"run_number\": 32, \"metric\": null, \"status\": \"Completed\", \"run_type\": \"azureml.scriptrun\", \"training_percent\": \"100\", \"start_time\": \"2021-01-24T17:34:00.9002Z\", \"end_time\": \"2021-01-24T17:34:49.445956Z\", \"created_time\": \"2021-01-24T17:33:48.535737Z\", \"created_time_dt\": \"2021-01-24T17:33:48.535737Z\", \"duration\": \"0:01:00\", \"iteration\": \"27\", \"goal\": \"accuracy_max\", \"run_name\": \"MaxAbsScaler, LightGBM\", \"run_properties\": \"copy=True\", \"primary_metric\": 0.77952329, \"best_metric\": 0.80332907}, {\"run_id\": \"AutoML_ad43f349-8d0c-4cb6-9739-4f4ac96a8bed_28\", \"run_number\": 33, \"metric\": null, \"status\": \"Completed\", \"run_type\": \"azureml.scriptrun\", \"training_percent\": \"100\", \"start_time\": \"2021-01-24T17:35:03.325809Z\", \"end_time\": \"2021-01-24T17:36:16.804246Z\", \"created_time\": \"2021-01-24T17:34:50.266539Z\", \"created_time_dt\": \"2021-01-24T17:34:50.266539Z\", \"duration\": \"0:01:26\", \"iteration\": \"28\", \"goal\": \"accuracy_max\", \"run_name\": \"VotingEnsemble\", \"run_properties\": \"classification_labels=None,\\n                              estimators=[('15',\\n                                           Pipeline(memory=None,\\n                                                    steps=[('minmaxscaler',\\n                                                            MinMaxScaler(copy=True,\\n                                                                         feature_range=(0,\\n                                                                                        1\", \"primary_metric\": 0.80901211, \"best_metric\": 0.80901211}, {\"run_id\": \"AutoML_ad43f349-8d0c-4cb6-9739-4f4ac96a8bed_29\", \"run_number\": 34, \"metric\": null, \"status\": \"Completed\", \"run_type\": \"azureml.scriptrun\", \"training_percent\": \"100\", \"start_time\": \"2021-01-24T17:36:29.456081Z\", \"end_time\": \"2021-01-24T17:37:46.257609Z\", \"created_time\": \"2021-01-24T17:36:17.75353Z\", \"created_time_dt\": \"2021-01-24T17:36:17.75353Z\", \"duration\": \"0:01:28\", \"iteration\": \"29\", \"goal\": \"accuracy_max\", \"run_name\": \"StackEnsemble\", \"run_properties\": \"base_learners=[('15',\\n                                        Pipeline(memory=None,\\n                                                 steps=[('minmaxscaler',\\n                                                         MinMaxScaler(copy=True,\\n                                                                      feature_range=(0,\\n                                                                                     1\", \"primary_metric\": 0.79494731, \"best_metric\": 0.80901211}], \"children_metrics\": {\"categories\": [0], \"series\": {\"recall_score_macro\": [{\"categories\": [\"0\", \"1\", \"2\", \"3\", \"4\", \"5\", \"6\", \"7\", \"8\", \"9\", \"10\", \"11\", \"12\", \"13\", \"14\", \"15\", \"16\", \"17\", \"18\", \"19\", \"20\", \"21\", \"22\", \"23\", \"24\", \"25\", \"26\", \"27\", \"28\", \"29\"], \"mode\": \"markers\", \"name\": \"recall_score_macro\", \"stepped\": false, \"type\": \"scatter\", \"data\": [0.7562654231022405, 0.7649417551312993, 0.7519039018858361, 0.7399197891931902, 0.7618592419768901, 0.759265847834161, 0.7693280445793308, 0.7658723525905119, 0.7514893454413573, 0.7637304381301308, 0.7538115079641539, 0.7314787610755247, 0.7629134487085574, 0.7354820433573657, 0.7579308736314749, 0.759710330725879, 0.7557388370513569, 0.7571588823461, 0.7413389793969467, 0.7489099593650425, 0.5762857245597758, 0.7663886979094572, 0.7586311239115877, 0.7610069385195433, 0.7770097157024624, 0.5, 0.7668191072334481, 0.7471655595502253, 0.7765005625862944, 0.7611657748125029]}, {\"categories\": [\"0\", \"1\", \"2\", \"3\", \"4\", \"5\", \"6\", \"7\", \"8\", \"9\", \"10\", \"11\", \"12\", \"13\", \"14\", \"15\", \"16\", \"17\", \"18\", \"19\", \"20\", \"21\", \"22\", \"23\", \"24\", \"25\", \"26\", \"27\", \"28\", \"29\"], \"mode\": \"lines\", \"name\": \"recall_score_macro_max\", \"stepped\": true, \"type\": \"scatter\", \"data\": [0.7562654231022405, 0.7649417551312993, 0.7649417551312993, 0.7649417551312993, 0.7649417551312993, 0.7649417551312993, 0.7693280445793308, 0.7693280445793308, 0.7693280445793308, 0.7693280445793308, 0.7693280445793308, 0.7693280445793308, 0.7693280445793308, 0.7693280445793308, 0.7693280445793308, 0.7693280445793308, 0.7693280445793308, 0.7693280445793308, 0.7693280445793308, 0.7693280445793308, 0.7693280445793308, 0.7693280445793308, 0.7693280445793308, 0.7693280445793308, 0.7770097157024624, 0.7770097157024624, 0.7770097157024624, 0.7770097157024624, 0.7770097157024624, 0.7770097157024624]}], \"norm_macro_recall\": [{\"categories\": [\"0\", \"1\", \"2\", \"3\", \"4\", \"5\", \"6\", \"7\", \"8\", \"9\", \"10\", \"11\", \"12\", \"13\", \"14\", \"15\", \"16\", \"17\", \"18\", \"19\", \"20\", \"21\", \"22\", \"23\", \"24\", \"25\", \"26\", \"27\", \"28\", \"29\"], \"mode\": \"markers\", \"name\": \"norm_macro_recall\", \"stepped\": false, \"type\": \"scatter\", \"data\": [0.5125308462044812, 0.5298835102625985, 0.5038078037716723, 0.4798395783863804, 0.5237184839537804, 0.5185316956683219, 0.5386560891586616, 0.5317447051810237, 0.5029786908827144, 0.5274608762602615, 0.5076230159283076, 0.46295752215104935, 0.5258268974171149, 0.47096408671473144, 0.51586174726295, 0.5194206614517579, 0.5114776741027138, 0.5143177646922001, 0.4826779587938934, 0.4978199187300848, 0.1525714491195515, 0.5327773958189145, 0.5172622478231753, 0.5220138770390863, 0.5540194314049245, 0.0, 0.5336382144668963, 0.4943311191004508, 0.5530011251725888, 0.5223315496250058]}, {\"categories\": [\"0\", \"1\", \"2\", \"3\", \"4\", \"5\", \"6\", \"7\", \"8\", \"9\", \"10\", \"11\", \"12\", \"13\", \"14\", \"15\", \"16\", \"17\", \"18\", \"19\", \"20\", \"21\", \"22\", \"23\", \"24\", \"25\", \"26\", \"27\", \"28\", \"29\"], \"mode\": \"lines\", \"name\": \"norm_macro_recall_max\", \"stepped\": true, \"type\": \"scatter\", \"data\": [0.5125308462044812, 0.5298835102625985, 0.5298835102625985, 0.5298835102625985, 0.5298835102625985, 0.5298835102625985, 0.5386560891586616, 0.5386560891586616, 0.5386560891586616, 0.5386560891586616, 0.5386560891586616, 0.5386560891586616, 0.5386560891586616, 0.5386560891586616, 0.5386560891586616, 0.5386560891586616, 0.5386560891586616, 0.5386560891586616, 0.5386560891586616, 0.5386560891586616, 0.5386560891586616, 0.5386560891586616, 0.5386560891586616, 0.5386560891586616, 0.5540194314049245, 0.5540194314049245, 0.5540194314049245, 0.5540194314049245, 0.5540194314049245, 0.5540194314049245]}], \"AUC_micro\": [{\"categories\": [\"0\", \"1\", \"2\", \"3\", \"4\", \"5\", \"6\", \"7\", \"8\", \"9\", \"10\", \"11\", \"12\", \"13\", \"14\", \"15\", \"16\", \"17\", \"18\", \"19\", \"20\", \"21\", \"22\", \"23\", \"24\", \"25\", \"26\", \"27\", \"28\", \"29\"], \"mode\": \"markers\", \"name\": \"AUC_micro\", \"stepped\": false, \"type\": \"scatter\", \"data\": [0.8566468441104813, 0.8690933208272149, 0.8636700911783001, 0.8520876793083163, 0.8618423601027786, 0.8117571334878922, 0.8599423652161133, 0.8622587030469665, 0.8512587961657341, 0.8639298769213191, 0.8641023998342936, 0.868933896530333, 0.8444960269988744, 0.865426939363249, 0.8436137506861071, 0.8745995643198023, 0.8607399707745405, 0.8666671180810483, 0.8668400901448653, 0.8688942218626083, 0.6673665245199643, 0.858335436888782, 0.8609216872135068, 0.8724981199447915, 0.8508893516511469, 0.5672510588003545, 0.869102099155452, 0.8640257463739873, 0.8670722283738211, 0.8698308624038618]}, {\"categories\": [\"0\", \"1\", \"2\", \"3\", \"4\", \"5\", \"6\", \"7\", \"8\", \"9\", \"10\", \"11\", \"12\", \"13\", \"14\", \"15\", \"16\", \"17\", \"18\", \"19\", \"20\", \"21\", \"22\", \"23\", \"24\", \"25\", \"26\", \"27\", \"28\", \"29\"], \"mode\": \"lines\", \"name\": \"AUC_micro_max\", \"stepped\": true, \"type\": \"scatter\", \"data\": [0.8566468441104813, 0.8690933208272149, 0.8690933208272149, 0.8690933208272149, 0.8690933208272149, 0.8690933208272149, 0.8690933208272149, 0.8690933208272149, 0.8690933208272149, 0.8690933208272149, 0.8690933208272149, 0.8690933208272149, 0.8690933208272149, 0.8690933208272149, 0.8690933208272149, 0.8745995643198023, 0.8745995643198023, 0.8745995643198023, 0.8745995643198023, 0.8745995643198023, 0.8745995643198023, 0.8745995643198023, 0.8745995643198023, 0.8745995643198023, 0.8745995643198023, 0.8745995643198023, 0.8745995643198023, 0.8745995643198023, 0.8745995643198023, 0.8745995643198023]}], \"accuracy\": [{\"categories\": [\"0\", \"1\", \"2\", \"3\", \"4\", \"5\", \"6\", \"7\", \"8\", \"9\", \"10\", \"11\", \"12\", \"13\", \"14\", \"15\", \"16\", \"17\", \"18\", \"19\", \"20\", \"21\", \"22\", \"23\", \"24\", \"25\", \"26\", \"27\", \"28\", \"29\"], \"mode\": \"markers\", \"name\": \"accuracy\", \"stepped\": false, \"type\": \"scatter\", \"data\": [0.7781542401260712, 0.796405003447257, 0.7921205555008373, 0.7780951442923274, 0.769723234511967, 0.7879050526937851, 0.7879641485275288, 0.7963557569191372, 0.780921895006402, 0.7851767950359501, 0.7893529006205063, 0.772481040086674, 0.7851570964247021, 0.7682458386683739, 0.783709248497981, 0.8033290653008962, 0.7767950359499656, 0.7865556978233034, 0.7766768442824781, 0.7893135033980105, 0.6405397419481927, 0.7837486457204768, 0.7893233527036344, 0.8019600118191669, 0.7738894907908992, 0.5672510588003545, 0.7921796513345809, 0.7795232936078006, 0.8090121146459174, 0.7949473062149119]}, {\"categories\": [\"0\", \"1\", \"2\", \"3\", \"4\", \"5\", \"6\", \"7\", \"8\", \"9\", \"10\", \"11\", \"12\", \"13\", \"14\", \"15\", \"16\", \"17\", \"18\", \"19\", \"20\", \"21\", \"22\", \"23\", \"24\", \"25\", \"26\", \"27\", \"28\", \"29\"], \"mode\": \"lines\", \"name\": \"accuracy_max\", \"stepped\": true, \"type\": \"scatter\", \"data\": [0.7781542401260712, 0.796405003447257, 0.796405003447257, 0.796405003447257, 0.796405003447257, 0.796405003447257, 0.796405003447257, 0.796405003447257, 0.796405003447257, 0.796405003447257, 0.796405003447257, 0.796405003447257, 0.796405003447257, 0.796405003447257, 0.796405003447257, 0.8033290653008962, 0.8033290653008962, 0.8033290653008962, 0.8033290653008962, 0.8033290653008962, 0.8033290653008962, 0.8033290653008962, 0.8033290653008962, 0.8033290653008962, 0.8033290653008962, 0.8033290653008962, 0.8033290653008962, 0.8033290653008962, 0.8090121146459174, 0.8090121146459174]}], \"AUC_weighted\": [{\"categories\": [\"0\", \"1\", \"2\", \"3\", \"4\", \"5\", \"6\", \"7\", \"8\", \"9\", \"10\", \"11\", \"12\", \"13\", \"14\", \"15\", \"16\", \"17\", \"18\", \"19\", \"20\", \"21\", \"22\", \"23\", \"24\", \"25\", \"26\", \"27\", \"28\", \"29\"], \"mode\": \"markers\", \"name\": \"AUC_weighted\", \"stepped\": false, \"type\": \"scatter\", \"data\": [0.8321224116674182, 0.8406067267440814, 0.8421232720324016, 0.8387289451513829, 0.8445285239283711, 0.7854936862835252, 0.8434191321514746, 0.8468649892682212, 0.8177332691114467, 0.8419404032015393, 0.8442427675175171, 0.8385750116750288, 0.8178842774187629, 0.8352528030820228, 0.8195608826046656, 0.8454414966137339, 0.8395090287133172, 0.836383898156034, 0.8399273844098097, 0.8341358421275054, 0.6136662775814709, 0.8439205105412132, 0.8264586703992103, 0.8394086931109541, 0.8460772994462042, 0.5, 0.8459691363721229, 0.836256027737505, 0.8432735835399789, 0.8420053541221224]}, {\"categories\": [\"0\", \"1\", \"2\", \"3\", \"4\", \"5\", \"6\", \"7\", \"8\", \"9\", \"10\", \"11\", \"12\", \"13\", \"14\", \"15\", \"16\", \"17\", \"18\", \"19\", \"20\", \"21\", \"22\", \"23\", \"24\", \"25\", \"26\", \"27\", \"28\", \"29\"], \"mode\": \"lines\", \"name\": \"AUC_weighted_max\", \"stepped\": true, \"type\": \"scatter\", \"data\": [0.8321224116674182, 0.8406067267440814, 0.8421232720324016, 0.8421232720324016, 0.8445285239283711, 0.8445285239283711, 0.8445285239283711, 0.8468649892682212, 0.8468649892682212, 0.8468649892682212, 0.8468649892682212, 0.8468649892682212, 0.8468649892682212, 0.8468649892682212, 0.8468649892682212, 0.8468649892682212, 0.8468649892682212, 0.8468649892682212, 0.8468649892682212, 0.8468649892682212, 0.8468649892682212, 0.8468649892682212, 0.8468649892682212, 0.8468649892682212, 0.8468649892682212, 0.8468649892682212, 0.8468649892682212, 0.8468649892682212, 0.8468649892682212, 0.8468649892682212]}], \"precision_score_micro\": [{\"categories\": [\"0\", \"1\", \"2\", \"3\", \"4\", \"5\", \"6\", \"7\", \"8\", \"9\", \"10\", \"11\", \"12\", \"13\", \"14\", \"15\", \"16\", \"17\", \"18\", \"19\", \"20\", \"21\", \"22\", \"23\", \"24\", \"25\", \"26\", \"27\", \"28\", \"29\"], \"mode\": \"markers\", \"name\": \"precision_score_micro\", \"stepped\": false, \"type\": \"scatter\", \"data\": [0.7781542401260712, 0.796405003447257, 0.7921205555008373, 0.7780951442923274, 0.769723234511967, 0.7879050526937851, 0.7879641485275288, 0.7963557569191372, 0.780921895006402, 0.7851767950359501, 0.7893529006205063, 0.772481040086674, 0.7851570964247021, 0.7682458386683739, 0.783709248497981, 0.8033290653008962, 0.7767950359499656, 0.7865556978233034, 0.7766768442824781, 0.7893135033980105, 0.6405397419481927, 0.7837486457204768, 0.7893233527036344, 0.8019600118191669, 0.7738894907908992, 0.5672510588003545, 0.7921796513345809, 0.7795232936078006, 0.8090121146459174, 0.7949473062149119]}, {\"categories\": [\"0\", \"1\", \"2\", \"3\", \"4\", \"5\", \"6\", \"7\", \"8\", \"9\", \"10\", \"11\", \"12\", \"13\", \"14\", \"15\", \"16\", \"17\", \"18\", \"19\", \"20\", \"21\", \"22\", \"23\", \"24\", \"25\", \"26\", \"27\", \"28\", \"29\"], \"mode\": \"lines\", \"name\": \"precision_score_micro_max\", \"stepped\": true, \"type\": \"scatter\", \"data\": [0.7781542401260712, 0.796405003447257, 0.796405003447257, 0.796405003447257, 0.796405003447257, 0.796405003447257, 0.796405003447257, 0.796405003447257, 0.796405003447257, 0.796405003447257, 0.796405003447257, 0.796405003447257, 0.796405003447257, 0.796405003447257, 0.796405003447257, 0.8033290653008962, 0.8033290653008962, 0.8033290653008962, 0.8033290653008962, 0.8033290653008962, 0.8033290653008962, 0.8033290653008962, 0.8033290653008962, 0.8033290653008962, 0.8033290653008962, 0.8033290653008962, 0.8033290653008962, 0.8033290653008962, 0.8090121146459174, 0.8090121146459174]}], \"log_loss\": [{\"categories\": [\"0\", \"1\", \"2\", \"3\", \"4\", \"5\", \"6\", \"7\", \"8\", \"9\", \"10\", \"11\", \"12\", \"13\", \"14\", \"15\", \"16\", \"17\", \"18\", \"19\", \"20\", \"21\", \"22\", \"23\", \"24\", \"25\", \"26\", \"27\", \"28\", \"29\"], \"mode\": \"markers\", \"name\": \"log_loss\", \"stepped\": false, \"type\": \"scatter\", \"data\": [0.5125870146995416, 0.45893851703907745, 0.47784230781575854, 0.5072255923901711, 0.481130167844106, 0.5330077460803155, 0.4764445327327665, 0.49939071604515706, 0.47993287530115547, 0.46500436995654904, 0.4736479192782598, 0.45392111793683754, 0.5120538013955905, 0.4582719471267585, 0.528733606265056, 0.45171553301487133, 0.4698079993386909, 0.504775021572585, 0.4561855482003372, 0.50926174089001, 0.6664417179236996, 0.47284814038208206, 0.46920989438542404, 0.4552381222361568, 0.4783323272450602, 0.6929459387530719, 0.4544539459154028, 0.466324154001455, 0.4617354512630191, 0.4700228082515464]}, {\"categories\": [\"0\", \"1\", \"2\", \"3\", \"4\", \"5\", \"6\", \"7\", \"8\", \"9\", \"10\", \"11\", \"12\", \"13\", \"14\", \"15\", \"16\", \"17\", \"18\", \"19\", \"20\", \"21\", \"22\", \"23\", \"24\", \"25\", \"26\", \"27\", \"28\", \"29\"], \"mode\": \"lines\", \"name\": \"log_loss_min\", \"stepped\": true, \"type\": \"scatter\", \"data\": [0.5125870146995416, 0.45893851703907745, 0.45893851703907745, 0.45893851703907745, 0.45893851703907745, 0.45893851703907745, 0.45893851703907745, 0.45893851703907745, 0.45893851703907745, 0.45893851703907745, 0.45893851703907745, 0.45392111793683754, 0.45392111793683754, 0.45392111793683754, 0.45392111793683754, 0.45171553301487133, 0.45171553301487133, 0.45171553301487133, 0.45171553301487133, 0.45171553301487133, 0.45171553301487133, 0.45171553301487133, 0.45171553301487133, 0.45171553301487133, 0.45171553301487133, 0.45171553301487133, 0.45171553301487133, 0.45171553301487133, 0.45171553301487133, 0.45171553301487133]}], \"precision_score_macro\": [{\"categories\": [\"0\", \"1\", \"2\", \"3\", \"4\", \"5\", \"6\", \"7\", \"8\", \"9\", \"10\", \"11\", \"12\", \"13\", \"14\", \"15\", \"16\", \"17\", \"18\", \"19\", \"20\", \"21\", \"22\", \"23\", \"24\", \"25\", \"26\", \"27\", \"28\", \"29\"], \"mode\": \"markers\", \"name\": \"precision_score_macro\", \"stepped\": false, \"type\": \"scatter\", \"data\": [0.771578405488641, 0.8010621374980349, 0.8065632791439041, 0.792672247405856, 0.7621452838957293, 0.78687139558625, 0.7796863523059782, 0.7963954289147356, 0.7804381520550657, 0.7786972900288117, 0.797434143005173, 0.813565049683582, 0.780620046594652, 0.7885650053082192, 0.781199804152861, 0.8317012338565289, 0.7731136107172052, 0.7860742241269913, 0.7989414873610279, 0.8034777060141607, 0.6130936211132314, 0.7742530648331397, 0.7930610899771237, 0.8217686917250633, 0.7664024883687262, 0.28362552940017727, 0.7894904213080202, 0.7808453584616675, 0.8168724130428873, 0.804118967719436]}, {\"categories\": [\"0\", \"1\", \"2\", \"3\", \"4\", \"5\", \"6\", \"7\", \"8\", \"9\", \"10\", \"11\", \"12\", \"13\", \"14\", \"15\", \"16\", \"17\", \"18\", \"19\", \"20\", \"21\", \"22\", \"23\", \"24\", \"25\", \"26\", \"27\", \"28\", \"29\"], \"mode\": \"lines\", \"name\": \"precision_score_macro_max\", \"stepped\": true, \"type\": \"scatter\", \"data\": [0.771578405488641, 0.8010621374980349, 0.8065632791439041, 0.8065632791439041, 0.8065632791439041, 0.8065632791439041, 0.8065632791439041, 0.8065632791439041, 0.8065632791439041, 0.8065632791439041, 0.8065632791439041, 0.813565049683582, 0.813565049683582, 0.813565049683582, 0.813565049683582, 0.8317012338565289, 0.8317012338565289, 0.8317012338565289, 0.8317012338565289, 0.8317012338565289, 0.8317012338565289, 0.8317012338565289, 0.8317012338565289, 0.8317012338565289, 0.8317012338565289, 0.8317012338565289, 0.8317012338565289, 0.8317012338565289, 0.8317012338565289, 0.8317012338565289]}], \"precision_score_weighted\": [{\"categories\": [\"0\", \"1\", \"2\", \"3\", \"4\", \"5\", \"6\", \"7\", \"8\", \"9\", \"10\", \"11\", \"12\", \"13\", \"14\", \"15\", \"16\", \"17\", \"18\", \"19\", \"20\", \"21\", \"22\", \"23\", \"24\", \"25\", \"26\", \"27\", \"28\", \"29\"], \"mode\": \"markers\", \"name\": \"precision_score_weighted\", \"stepped\": false, \"type\": \"scatter\", \"data\": [0.7792443609098806, 0.7998053266267352, 0.7999506176534366, 0.7897901236744995, 0.7776163898461995, 0.7894220938326415, 0.788099543223611, 0.7971006318968223, 0.7828838712443769, 0.7859362323670473, 0.7950879349968472, 0.8047310447259747, 0.7870552855192167, 0.7878979949531244, 0.7854979825863995, 0.8199867297034962, 0.7807584833461831, 0.7880558635875863, 0.7958757133732753, 0.7977026576051279, 0.6249938314990853, 0.7838017881388357, 0.7933558646559113, 0.8127565204750647, 0.7874162752192797, 0.33099133392067, 0.7932364765483662, 0.78184229758935, 0.8135922713074099, 0.8014673563136784]}, {\"categories\": [\"0\", \"1\", \"2\", \"3\", \"4\", \"5\", \"6\", \"7\", \"8\", \"9\", \"10\", \"11\", \"12\", \"13\", \"14\", \"15\", \"16\", \"17\", \"18\", \"19\", \"20\", \"21\", \"22\", \"23\", \"24\", \"25\", \"26\", \"27\", \"28\", \"29\"], \"mode\": \"lines\", \"name\": \"precision_score_weighted_max\", \"stepped\": true, \"type\": \"scatter\", \"data\": [0.7792443609098806, 0.7998053266267352, 0.7999506176534366, 0.7999506176534366, 0.7999506176534366, 0.7999506176534366, 0.7999506176534366, 0.7999506176534366, 0.7999506176534366, 0.7999506176534366, 0.7999506176534366, 0.8047310447259747, 0.8047310447259747, 0.8047310447259747, 0.8047310447259747, 0.8199867297034962, 0.8199867297034962, 0.8199867297034962, 0.8199867297034962, 0.8199867297034962, 0.8199867297034962, 0.8199867297034962, 0.8199867297034962, 0.8199867297034962, 0.8199867297034962, 0.8199867297034962, 0.8199867297034962, 0.8199867297034962, 0.8199867297034962, 0.8199867297034962]}], \"recall_score_weighted\": [{\"categories\": [\"0\", \"1\", \"2\", \"3\", \"4\", \"5\", \"6\", \"7\", \"8\", \"9\", \"10\", \"11\", \"12\", \"13\", \"14\", \"15\", \"16\", \"17\", \"18\", \"19\", \"20\", \"21\", \"22\", \"23\", \"24\", \"25\", \"26\", \"27\", \"28\", \"29\"], \"mode\": \"markers\", \"name\": \"recall_score_weighted\", \"stepped\": false, \"type\": \"scatter\", \"data\": [0.7781542401260712, 0.796405003447257, 0.7921205555008373, 0.7780951442923274, 0.769723234511967, 0.7879050526937851, 0.7879641485275288, 0.7963557569191372, 0.780921895006402, 0.7851767950359501, 0.7893529006205063, 0.772481040086674, 0.7851570964247021, 0.7682458386683739, 0.783709248497981, 0.8033290653008962, 0.7767950359499656, 0.7865556978233034, 0.7766768442824781, 0.7893135033980105, 0.6405397419481927, 0.7837486457204768, 0.7893233527036344, 0.8019600118191669, 0.7738894907908992, 0.5672510588003545, 0.7921796513345809, 0.7795232936078006, 0.8090121146459174, 0.7949473062149119]}, {\"categories\": [\"0\", \"1\", \"2\", \"3\", \"4\", \"5\", \"6\", \"7\", \"8\", \"9\", \"10\", \"11\", \"12\", \"13\", \"14\", \"15\", \"16\", \"17\", \"18\", \"19\", \"20\", \"21\", \"22\", \"23\", \"24\", \"25\", \"26\", \"27\", \"28\", \"29\"], \"mode\": \"lines\", \"name\": \"recall_score_weighted_max\", \"stepped\": true, \"type\": \"scatter\", \"data\": [0.7781542401260712, 0.796405003447257, 0.796405003447257, 0.796405003447257, 0.796405003447257, 0.796405003447257, 0.796405003447257, 0.796405003447257, 0.796405003447257, 0.796405003447257, 0.796405003447257, 0.796405003447257, 0.796405003447257, 0.796405003447257, 0.796405003447257, 0.8033290653008962, 0.8033290653008962, 0.8033290653008962, 0.8033290653008962, 0.8033290653008962, 0.8033290653008962, 0.8033290653008962, 0.8033290653008962, 0.8033290653008962, 0.8033290653008962, 0.8033290653008962, 0.8033290653008962, 0.8033290653008962, 0.8090121146459174, 0.8090121146459174]}], \"f1_score_weighted\": [{\"categories\": [\"0\", \"1\", \"2\", \"3\", \"4\", \"5\", \"6\", \"7\", \"8\", \"9\", \"10\", \"11\", \"12\", \"13\", \"14\", \"15\", \"16\", \"17\", \"18\", \"19\", \"20\", \"21\", \"22\", \"23\", \"24\", \"25\", \"26\", \"27\", \"28\", \"29\"], \"mode\": \"markers\", \"name\": \"f1_score_weighted\", \"stepped\": false, \"type\": \"scatter\", \"data\": [0.7746864279098788, 0.7899782552753462, 0.7821653492512818, 0.7673282372850174, 0.770022515901691, 0.7819058283530007, 0.7860935916169745, 0.7905645238029965, 0.7747862343901153, 0.7823829482769173, 0.781388435833689, 0.7570081046532074, 0.7819399263705796, 0.7577868195905573, 0.7788470232943341, 0.7911457420549663, 0.7737318811997739, 0.7811369989751656, 0.7654127351635003, 0.7790313387158084, 0.6080694283069193, 0.7823635029631562, 0.7831224528836953, 0.7918732628071433, 0.7759956776195563, 0.41585681791999257, 0.788135258899141, 0.7727321024098753, 0.802187967583009, 0.7866135620207956]}, {\"categories\": [\"0\", \"1\", \"2\", \"3\", \"4\", \"5\", \"6\", \"7\", \"8\", \"9\", \"10\", \"11\", \"12\", \"13\", \"14\", \"15\", \"16\", \"17\", \"18\", \"19\", \"20\", \"21\", \"22\", \"23\", \"24\", \"25\", \"26\", \"27\", \"28\", \"29\"], \"mode\": \"lines\", \"name\": \"f1_score_weighted_max\", \"stepped\": true, \"type\": \"scatter\", \"data\": [0.7746864279098788, 0.7899782552753462, 0.7899782552753462, 0.7899782552753462, 0.7899782552753462, 0.7899782552753462, 0.7899782552753462, 0.7905645238029965, 0.7905645238029965, 0.7905645238029965, 0.7905645238029965, 0.7905645238029965, 0.7905645238029965, 0.7905645238029965, 0.7905645238029965, 0.7911457420549663, 0.7911457420549663, 0.7911457420549663, 0.7911457420549663, 0.7911457420549663, 0.7911457420549663, 0.7911457420549663, 0.7911457420549663, 0.7918732628071433, 0.7918732628071433, 0.7918732628071433, 0.7918732628071433, 0.7918732628071433, 0.802187967583009, 0.802187967583009]}], \"f1_score_micro\": [{\"categories\": [\"0\", \"1\", \"2\", \"3\", \"4\", \"5\", \"6\", \"7\", \"8\", \"9\", \"10\", \"11\", \"12\", \"13\", \"14\", \"15\", \"16\", \"17\", \"18\", \"19\", \"20\", \"21\", \"22\", \"23\", \"24\", \"25\", \"26\", \"27\", \"28\", \"29\"], \"mode\": \"markers\", \"name\": \"f1_score_micro\", \"stepped\": false, \"type\": \"scatter\", \"data\": [0.778154240126071, 0.796405003447257, 0.7921205555008373, 0.7780951442923273, 0.7697232345119669, 0.7879050526937851, 0.7879641485275288, 0.7963557569191372, 0.780921895006402, 0.7851767950359501, 0.7893529006205063, 0.7724810400866738, 0.7851570964247021, 0.7682458386683739, 0.783709248497981, 0.8033290653008962, 0.7767950359499656, 0.7865556978233034, 0.7766768442824781, 0.7893135033980104, 0.6405397419481927, 0.7837486457204768, 0.7893233527036344, 0.8019600118191669, 0.7738894907908993, 0.5672510588003545, 0.7921796513345809, 0.7795232936078006, 0.8090121146459174, 0.7949473062149119]}, {\"categories\": [\"0\", \"1\", \"2\", \"3\", \"4\", \"5\", \"6\", \"7\", \"8\", \"9\", \"10\", \"11\", \"12\", \"13\", \"14\", \"15\", \"16\", \"17\", \"18\", \"19\", \"20\", \"21\", \"22\", \"23\", \"24\", \"25\", \"26\", \"27\", \"28\", \"29\"], \"mode\": \"lines\", \"name\": \"f1_score_micro_max\", \"stepped\": true, \"type\": \"scatter\", \"data\": [0.778154240126071, 0.796405003447257, 0.796405003447257, 0.796405003447257, 0.796405003447257, 0.796405003447257, 0.796405003447257, 0.796405003447257, 0.796405003447257, 0.796405003447257, 0.796405003447257, 0.796405003447257, 0.796405003447257, 0.796405003447257, 0.796405003447257, 0.8033290653008962, 0.8033290653008962, 0.8033290653008962, 0.8033290653008962, 0.8033290653008962, 0.8033290653008962, 0.8033290653008962, 0.8033290653008962, 0.8033290653008962, 0.8033290653008962, 0.8033290653008962, 0.8033290653008962, 0.8033290653008962, 0.8090121146459174, 0.8090121146459174]}], \"weighted_accuracy\": [{\"categories\": [\"0\", \"1\", \"2\", \"3\", \"4\", \"5\", \"6\", \"7\", \"8\", \"9\", \"10\", \"11\", \"12\", \"13\", \"14\", \"15\", \"16\", \"17\", \"18\", \"19\", \"20\", \"21\", \"22\", \"23\", \"24\", \"25\", \"26\", \"27\", \"28\", \"29\"], \"mode\": \"markers\", \"name\": \"weighted_accuracy\", \"stepped\": false, \"type\": \"scatter\", \"data\": [0.7979386131382618, 0.8245811975918717, 0.8279957900519704, 0.8123437895608406, 0.7771081354704146, 0.8136731103905935, 0.8047070457018034, 0.8235214647456776, 0.8073810221264841, 0.8044576261454479, 0.8211286798737515, 0.8093355235525058, 0.8051913704283326, 0.7977927842786479, 0.8069132381596559, 0.8423451415101748, 0.7958782119234782, 0.8128885867830175, 0.8084577705870221, 0.8253754772468553, 0.69778069238575, 0.7993128525850317, 0.8168426703522551, 0.8384781444973693, 0.7713140801745798, 0.6270083588676026, 0.8149275114573671, 0.8084397134540671, 0.838131063912425, 0.8252847566148714]}, {\"categories\": [\"0\", \"1\", \"2\", \"3\", \"4\", \"5\", \"6\", \"7\", \"8\", \"9\", \"10\", \"11\", \"12\", \"13\", \"14\", \"15\", \"16\", \"17\", \"18\", \"19\", \"20\", \"21\", \"22\", \"23\", \"24\", \"25\", \"26\", \"27\", \"28\", \"29\"], \"mode\": \"lines\", \"name\": \"weighted_accuracy_max\", \"stepped\": true, \"type\": \"scatter\", \"data\": [0.7979386131382618, 0.8245811975918717, 0.8279957900519704, 0.8279957900519704, 0.8279957900519704, 0.8279957900519704, 0.8279957900519704, 0.8279957900519704, 0.8279957900519704, 0.8279957900519704, 0.8279957900519704, 0.8279957900519704, 0.8279957900519704, 0.8279957900519704, 0.8279957900519704, 0.8423451415101748, 0.8423451415101748, 0.8423451415101748, 0.8423451415101748, 0.8423451415101748, 0.8423451415101748, 0.8423451415101748, 0.8423451415101748, 0.8423451415101748, 0.8423451415101748, 0.8423451415101748, 0.8423451415101748, 0.8423451415101748, 0.8423451415101748, 0.8423451415101748]}], \"average_precision_score_macro\": [{\"categories\": [\"0\", \"1\", \"2\", \"3\", \"4\", \"5\", \"6\", \"7\", \"8\", \"9\", \"10\", \"11\", \"12\", \"13\", \"14\", \"15\", \"16\", \"17\", \"18\", \"19\", \"20\", \"21\", \"22\", \"23\", \"24\", \"25\", \"26\", \"27\", \"28\", \"29\"], \"mode\": \"markers\", \"name\": \"average_precision_score_macro\", \"stepped\": false, \"type\": \"scatter\", \"data\": [0.838206062800869, 0.8448197890051802, 0.846840060377564, 0.8373323304291029, 0.8468419723405042, 0.7677020164977635, 0.8402613174674525, 0.8463631825438102, 0.8277964377394351, 0.841416287429051, 0.8453691441948191, 0.8276963438887167, 0.8221360976695298, 0.8328220632961628, 0.8253195339179914, 0.8474072887267571, 0.8391265003869052, 0.8352739452288747, 0.8389736911805077, 0.8308806221972267, 0.6059158759554355, 0.8456555558903004, 0.8314165787669838, 0.8467325913454296, 0.8435550466722246, 0.5, 0.8476553436010207, 0.8420183639381371, 0.8486561789180168, 0.8472430305849559]}, {\"categories\": [\"0\", \"1\", \"2\", \"3\", \"4\", \"5\", \"6\", \"7\", \"8\", \"9\", \"10\", \"11\", \"12\", \"13\", \"14\", \"15\", \"16\", \"17\", \"18\", \"19\", \"20\", \"21\", \"22\", \"23\", \"24\", \"25\", \"26\", \"27\", \"28\", \"29\"], \"mode\": \"lines\", \"name\": \"average_precision_score_macro_max\", \"stepped\": true, \"type\": \"scatter\", \"data\": [0.838206062800869, 0.8448197890051802, 0.846840060377564, 0.846840060377564, 0.8468419723405042, 0.8468419723405042, 0.8468419723405042, 0.8468419723405042, 0.8468419723405042, 0.8468419723405042, 0.8468419723405042, 0.8468419723405042, 0.8468419723405042, 0.8468419723405042, 0.8468419723405042, 0.8474072887267571, 0.8474072887267571, 0.8474072887267571, 0.8474072887267571, 0.8474072887267571, 0.8474072887267571, 0.8474072887267571, 0.8474072887267571, 0.8474072887267571, 0.8474072887267571, 0.8474072887267571, 0.8476553436010207, 0.8476553436010207, 0.8486561789180168, 0.8486561789180168]}], \"recall_score_micro\": [{\"categories\": [\"0\", \"1\", \"2\", \"3\", \"4\", \"5\", \"6\", \"7\", \"8\", \"9\", \"10\", \"11\", \"12\", \"13\", \"14\", \"15\", \"16\", \"17\", \"18\", \"19\", \"20\", \"21\", \"22\", \"23\", \"24\", \"25\", \"26\", \"27\", \"28\", \"29\"], \"mode\": \"markers\", \"name\": \"recall_score_micro\", \"stepped\": false, \"type\": \"scatter\", \"data\": [0.7781542401260712, 0.796405003447257, 0.7921205555008373, 0.7780951442923274, 0.769723234511967, 0.7879050526937851, 0.7879641485275288, 0.7963557569191372, 0.780921895006402, 0.7851767950359501, 0.7893529006205063, 0.772481040086674, 0.7851570964247021, 0.7682458386683739, 0.783709248497981, 0.8033290653008962, 0.7767950359499656, 0.7865556978233034, 0.7766768442824781, 0.7893135033980105, 0.6405397419481927, 0.7837486457204768, 0.7893233527036344, 0.8019600118191669, 0.7738894907908992, 0.5672510588003545, 0.7921796513345809, 0.7795232936078006, 0.8090121146459174, 0.7949473062149119]}, {\"categories\": [\"0\", \"1\", \"2\", \"3\", \"4\", \"5\", \"6\", \"7\", \"8\", \"9\", \"10\", \"11\", \"12\", \"13\", \"14\", \"15\", \"16\", \"17\", \"18\", \"19\", \"20\", \"21\", \"22\", \"23\", \"24\", \"25\", \"26\", \"27\", \"28\", \"29\"], \"mode\": \"lines\", \"name\": \"recall_score_micro_max\", \"stepped\": true, \"type\": \"scatter\", \"data\": [0.7781542401260712, 0.796405003447257, 0.796405003447257, 0.796405003447257, 0.796405003447257, 0.796405003447257, 0.796405003447257, 0.796405003447257, 0.796405003447257, 0.796405003447257, 0.796405003447257, 0.796405003447257, 0.796405003447257, 0.796405003447257, 0.796405003447257, 0.8033290653008962, 0.8033290653008962, 0.8033290653008962, 0.8033290653008962, 0.8033290653008962, 0.8033290653008962, 0.8033290653008962, 0.8033290653008962, 0.8033290653008962, 0.8033290653008962, 0.8033290653008962, 0.8033290653008962, 0.8033290653008962, 0.8090121146459174, 0.8090121146459174]}], \"f1_score_macro\": [{\"categories\": [\"0\", \"1\", \"2\", \"3\", \"4\", \"5\", \"6\", \"7\", \"8\", \"9\", \"10\", \"11\", \"12\", \"13\", \"14\", \"15\", \"16\", \"17\", \"18\", \"19\", \"20\", \"21\", \"22\", \"23\", \"24\", \"25\", \"26\", \"27\", \"28\", \"29\"], \"mode\": \"markers\", \"name\": \"f1_score_macro\", \"stepped\": false, \"type\": \"scatter\", \"data\": [0.7595498462973538, 0.7738697353636909, 0.7633798714206772, 0.7476183109569716, 0.7580363871127499, 0.7656053722992072, 0.7723920436842078, 0.7742070209751133, 0.7580628912907648, 0.7677179282528704, 0.7633216059404121, 0.7355418439457029, 0.7672094214630997, 0.738918833711713, 0.7632040780822138, 0.7721645902264559, 0.7588577327819597, 0.7646860449130822, 0.7463649674357955, 0.7596675944134763, 0.5666486761967985, 0.7687909919149943, 0.7666690372823386, 0.7735306088808104, 0.7667047689425408, 0.3593226498403583, 0.7731026160442007, 0.7549989215178785, 0.7864553610189079, 0.7696733327290584]}, {\"categories\": [\"0\", \"1\", \"2\", \"3\", \"4\", \"5\", \"6\", \"7\", \"8\", \"9\", \"10\", \"11\", \"12\", \"13\", \"14\", \"15\", \"16\", \"17\", \"18\", \"19\", \"20\", \"21\", \"22\", \"23\", \"24\", \"25\", \"26\", \"27\", \"28\", \"29\"], \"mode\": \"lines\", \"name\": \"f1_score_macro_max\", \"stepped\": true, \"type\": \"scatter\", \"data\": [0.7595498462973538, 0.7738697353636909, 0.7738697353636909, 0.7738697353636909, 0.7738697353636909, 0.7738697353636909, 0.7738697353636909, 0.7742070209751133, 0.7742070209751133, 0.7742070209751133, 0.7742070209751133, 0.7742070209751133, 0.7742070209751133, 0.7742070209751133, 0.7742070209751133, 0.7742070209751133, 0.7742070209751133, 0.7742070209751133, 0.7742070209751133, 0.7742070209751133, 0.7742070209751133, 0.7742070209751133, 0.7742070209751133, 0.7742070209751133, 0.7742070209751133, 0.7742070209751133, 0.7742070209751133, 0.7742070209751133, 0.7864553610189079, 0.7864553610189079]}], \"balanced_accuracy\": [{\"categories\": [\"0\", \"1\", \"2\", \"3\", \"4\", \"5\", \"6\", \"7\", \"8\", \"9\", \"10\", \"11\", \"12\", \"13\", \"14\", \"15\", \"16\", \"17\", \"18\", \"19\", \"20\", \"21\", \"22\", \"23\", \"24\", \"25\", \"26\", \"27\", \"28\", \"29\"], \"mode\": \"markers\", \"name\": \"balanced_accuracy\", \"stepped\": false, \"type\": \"scatter\", \"data\": [0.7562654231022405, 0.7649417551312993, 0.7519039018858361, 0.7399197891931902, 0.7618592419768901, 0.759265847834161, 0.7693280445793308, 0.7658723525905119, 0.7514893454413573, 0.7637304381301308, 0.7538115079641539, 0.7314787610755247, 0.7629134487085574, 0.7354820433573657, 0.7579308736314749, 0.759710330725879, 0.7557388370513569, 0.7571588823461, 0.7413389793969467, 0.7489099593650425, 0.5762857245597758, 0.7663886979094572, 0.7586311239115877, 0.7610069385195433, 0.7770097157024624, 0.5, 0.7668191072334481, 0.7471655595502253, 0.7765005625862944, 0.7611657748125029]}, {\"categories\": [\"0\", \"1\", \"2\", \"3\", \"4\", \"5\", \"6\", \"7\", \"8\", \"9\", \"10\", \"11\", \"12\", \"13\", \"14\", \"15\", \"16\", \"17\", \"18\", \"19\", \"20\", \"21\", \"22\", \"23\", \"24\", \"25\", \"26\", \"27\", \"28\", \"29\"], \"mode\": \"lines\", \"name\": \"balanced_accuracy_max\", \"stepped\": true, \"type\": \"scatter\", \"data\": [0.7562654231022405, 0.7649417551312993, 0.7649417551312993, 0.7649417551312993, 0.7649417551312993, 0.7649417551312993, 0.7693280445793308, 0.7693280445793308, 0.7693280445793308, 0.7693280445793308, 0.7693280445793308, 0.7693280445793308, 0.7693280445793308, 0.7693280445793308, 0.7693280445793308, 0.7693280445793308, 0.7693280445793308, 0.7693280445793308, 0.7693280445793308, 0.7693280445793308, 0.7693280445793308, 0.7693280445793308, 0.7693280445793308, 0.7693280445793308, 0.7770097157024624, 0.7770097157024624, 0.7770097157024624, 0.7770097157024624, 0.7770097157024624, 0.7770097157024624]}], \"AUC_macro\": [{\"categories\": [\"0\", \"1\", \"2\", \"3\", \"4\", \"5\", \"6\", \"7\", \"8\", \"9\", \"10\", \"11\", \"12\", \"13\", \"14\", \"15\", \"16\", \"17\", \"18\", \"19\", \"20\", \"21\", \"22\", \"23\", \"24\", \"25\", \"26\", \"27\", \"28\", \"29\"], \"mode\": \"markers\", \"name\": \"AUC_macro\", \"stepped\": false, \"type\": \"scatter\", \"data\": [0.8321224116674182, 0.8406067267440814, 0.8421232720324017, 0.8387289451513829, 0.8445285239283711, 0.7854936862835252, 0.8434191321514746, 0.8468649892682212, 0.8177332691114467, 0.8419404032015393, 0.8442427675175171, 0.8385750116750288, 0.8178842774187629, 0.8352528030820228, 0.8195608826046656, 0.8454414966137339, 0.8395090287133172, 0.836383898156034, 0.8399273844098097, 0.8341358421275054, 0.613666277581471, 0.8439205105412132, 0.8264586703992103, 0.8394086931109541, 0.8460772994462042, 0.5, 0.8459691363721229, 0.836256027737505, 0.8432735835399787, 0.8420053541221224]}, {\"categories\": [\"0\", \"1\", \"2\", \"3\", \"4\", \"5\", \"6\", \"7\", \"8\", \"9\", \"10\", \"11\", \"12\", \"13\", \"14\", \"15\", \"16\", \"17\", \"18\", \"19\", \"20\", \"21\", \"22\", \"23\", \"24\", \"25\", \"26\", \"27\", \"28\", \"29\"], \"mode\": \"lines\", \"name\": \"AUC_macro_max\", \"stepped\": true, \"type\": \"scatter\", \"data\": [0.8321224116674182, 0.8406067267440814, 0.8421232720324017, 0.8421232720324017, 0.8445285239283711, 0.8445285239283711, 0.8445285239283711, 0.8468649892682212, 0.8468649892682212, 0.8468649892682212, 0.8468649892682212, 0.8468649892682212, 0.8468649892682212, 0.8468649892682212, 0.8468649892682212, 0.8468649892682212, 0.8468649892682212, 0.8468649892682212, 0.8468649892682212, 0.8468649892682212, 0.8468649892682212, 0.8468649892682212, 0.8468649892682212, 0.8468649892682212, 0.8468649892682212, 0.8468649892682212, 0.8468649892682212, 0.8468649892682212, 0.8468649892682212, 0.8468649892682212]}], \"average_precision_score_weighted\": [{\"categories\": [\"0\", \"1\", \"2\", \"3\", \"4\", \"5\", \"6\", \"7\", \"8\", \"9\", \"10\", \"11\", \"12\", \"13\", \"14\", \"15\", \"16\", \"17\", \"18\", \"19\", \"20\", \"21\", \"22\", \"23\", \"24\", \"25\", \"26\", \"27\", \"28\", \"29\"], \"mode\": \"markers\", \"name\": \"average_precision_score_weighted\", \"stepped\": false, \"type\": \"scatter\", \"data\": [0.8454579442246161, 0.8490018144887455, 0.8519153162473005, 0.8439639289300617, 0.8515000209513696, 0.7761904959923807, 0.8459380872626003, 0.8520363974603822, 0.8347634114271274, 0.846395108058789, 0.8517537425011668, 0.8362311791244682, 0.8295607274498866, 0.8397012886592312, 0.8316783279507041, 0.8536312363477329, 0.8453402534091097, 0.841194222022742, 0.8461344506349515, 0.8364158019860172, 0.628521331930977, 0.8523575934801224, 0.8355717212188978, 0.851857830396962, 0.848283093399312, 0.5274805502406309, 0.8531842617915737, 0.8481582859400512, 0.8547158726237761, 0.8532612816125573]}, {\"categories\": [\"0\", \"1\", \"2\", \"3\", \"4\", \"5\", \"6\", \"7\", \"8\", \"9\", \"10\", \"11\", \"12\", \"13\", \"14\", \"15\", \"16\", \"17\", \"18\", \"19\", \"20\", \"21\", \"22\", \"23\", \"24\", \"25\", \"26\", \"27\", \"28\", \"29\"], \"mode\": \"lines\", \"name\": \"average_precision_score_weighted_max\", \"stepped\": true, \"type\": \"scatter\", \"data\": [0.8454579442246161, 0.8490018144887455, 0.8519153162473005, 0.8519153162473005, 0.8519153162473005, 0.8519153162473005, 0.8519153162473005, 0.8520363974603822, 0.8520363974603822, 0.8520363974603822, 0.8520363974603822, 0.8520363974603822, 0.8520363974603822, 0.8520363974603822, 0.8520363974603822, 0.8536312363477329, 0.8536312363477329, 0.8536312363477329, 0.8536312363477329, 0.8536312363477329, 0.8536312363477329, 0.8536312363477329, 0.8536312363477329, 0.8536312363477329, 0.8536312363477329, 0.8536312363477329, 0.8536312363477329, 0.8536312363477329, 0.8547158726237761, 0.8547158726237761]}], \"matthews_correlation\": [{\"categories\": [\"0\", \"1\", \"2\", \"3\", \"4\", \"5\", \"6\", \"7\", \"8\", \"9\", \"10\", \"11\", \"12\", \"13\", \"14\", \"15\", \"16\", \"17\", \"18\", \"19\", \"20\", \"21\", \"22\", \"23\", \"24\", \"25\", \"26\", \"27\", \"28\", \"29\"], \"mode\": \"markers\", \"name\": \"matthews_correlation\", \"stepped\": false, \"type\": \"scatter\", \"data\": [0.5273720084421019, 0.5646721140298651, 0.5557568462866832, 0.5290178696362536, 0.5237642061608099, 0.5451895842821265, 0.5488134042582418, 0.5613445406619348, 0.5308617253675718, 0.5420515203269913, 0.5492212616061085, 0.5345473296159119, 0.5429916145010012, 0.5182411964547239, 0.5382995206694757, 0.5867474453093166, 0.5282350301008497, 0.5422549172589928, 0.5343815824727228, 0.5494937501044196, 0.18569367032344167, 0.5405076474494968, 0.5503101967756692, 0.5794235608186252, 0.5432122856018623, 0.0, 0.5556878747153213, 0.5266274329303828, 0.5918851682420452, 0.5631813246815872]}, {\"categories\": [\"0\", \"1\", \"2\", \"3\", \"4\", \"5\", \"6\", \"7\", \"8\", \"9\", \"10\", \"11\", \"12\", \"13\", \"14\", \"15\", \"16\", \"17\", \"18\", \"19\", \"20\", \"21\", \"22\", \"23\", \"24\", \"25\", \"26\", \"27\", \"28\", \"29\"], \"mode\": \"lines\", \"name\": \"matthews_correlation_max\", \"stepped\": true, \"type\": \"scatter\", \"data\": [0.5273720084421019, 0.5646721140298651, 0.5646721140298651, 0.5646721140298651, 0.5646721140298651, 0.5646721140298651, 0.5646721140298651, 0.5646721140298651, 0.5646721140298651, 0.5646721140298651, 0.5646721140298651, 0.5646721140298651, 0.5646721140298651, 0.5646721140298651, 0.5646721140298651, 0.5867474453093166, 0.5867474453093166, 0.5867474453093166, 0.5867474453093166, 0.5867474453093166, 0.5867474453093166, 0.5867474453093166, 0.5867474453093166, 0.5867474453093166, 0.5867474453093166, 0.5867474453093166, 0.5867474453093166, 0.5867474453093166, 0.5918851682420452, 0.5918851682420452]}], \"average_precision_score_micro\": [{\"categories\": [\"0\", \"1\", \"2\", \"3\", \"4\", \"5\", \"6\", \"7\", \"8\", \"9\", \"10\", \"11\", \"12\", \"13\", \"14\", \"15\", \"16\", \"17\", \"18\", \"19\", \"20\", \"21\", \"22\", \"23\", \"24\", \"25\", \"26\", \"27\", \"28\", \"29\"], \"mode\": \"markers\", \"name\": \"average_precision_score_micro\", \"stepped\": false, \"type\": \"scatter\", \"data\": [0.8541457169822355, 0.8614097486269566, 0.8502138959808896, 0.8370628337667275, 0.8572116883710178, 0.7767079626708089, 0.8418517027095375, 0.846063072082958, 0.8486275301467632, 0.8469699257861507, 0.8474633399557122, 0.8603936873565299, 0.8371287825553587, 0.8570187417412816, 0.8329758966808672, 0.8699950226237776, 0.8507377921203506, 0.8537048348942771, 0.8582299873481262, 0.859731826272087, 0.6494087321886026, 0.8575463988334382, 0.8527324928850242, 0.8700171067126801, 0.8449501634400025, 0.5473658045204928, 0.8604872877233941, 0.8550784904709896, 0.856598518779341, 0.8636783466448152]}, {\"categories\": [\"0\", \"1\", \"2\", \"3\", \"4\", \"5\", \"6\", \"7\", \"8\", \"9\", \"10\", \"11\", \"12\", \"13\", \"14\", \"15\", \"16\", \"17\", \"18\", \"19\", \"20\", \"21\", \"22\", \"23\", \"24\", \"25\", \"26\", \"27\", \"28\", \"29\"], \"mode\": \"lines\", \"name\": \"average_precision_score_micro_max\", \"stepped\": true, \"type\": \"scatter\", \"data\": [0.8541457169822355, 0.8614097486269566, 0.8614097486269566, 0.8614097486269566, 0.8614097486269566, 0.8614097486269566, 0.8614097486269566, 0.8614097486269566, 0.8614097486269566, 0.8614097486269566, 0.8614097486269566, 0.8614097486269566, 0.8614097486269566, 0.8614097486269566, 0.8614097486269566, 0.8699950226237776, 0.8699950226237776, 0.8699950226237776, 0.8699950226237776, 0.8699950226237776, 0.8699950226237776, 0.8699950226237776, 0.8699950226237776, 0.8700171067126801, 0.8700171067126801, 0.8700171067126801, 0.8700171067126801, 0.8700171067126801, 0.8700171067126801, 0.8700171067126801]}]}, \"metricName\": null, \"primaryMetricName\": \"accuracy\", \"showLegend\": false}, \"run_metrics\": [{\"name\": \"experiment_status\", \"run_id\": \"AutoML_ad43f349-8d0c-4cb6-9739-4f4ac96a8bed\", \"categories\": [0, 1, 2, 3, 4, 5], \"series\": [{\"data\": [\"DatasetEvaluation\", \"FeaturesGeneration\", \"DatasetFeaturization\", \"DatasetFeaturizationCompleted\", \"DatasetCrossValidationSplit\", \"ModelSelection\"]}]}, {\"name\": \"experiment_status_description\", \"run_id\": \"AutoML_ad43f349-8d0c-4cb6-9739-4f4ac96a8bed\", \"categories\": [0, 1, 2, 3, 4, 5], \"series\": [{\"data\": [\"Gathering dataset statistics.\", \"Generating features for the dataset.\", \"Beginning to fit featurizers and featurize the dataset.\", \"Completed fit featurizers and featurizing the dataset.\", \"Generating individually featurized CV splits.\", \"Beginning model selection.\"]}]}, {\"name\": \"balanced_accuracy\", \"run_id\": \"AutoML_ad43f349-8d0c-4cb6-9739-4f4ac96a8bed\", \"categories\": [0], \"series\": [{\"data\": [0.7765005625862944]}]}, {\"name\": \"AUC_micro\", \"run_id\": \"AutoML_ad43f349-8d0c-4cb6-9739-4f4ac96a8bed\", \"categories\": [0], \"series\": [{\"data\": [0.8670722283738211]}]}, {\"name\": \"f1_score_micro\", \"run_id\": \"AutoML_ad43f349-8d0c-4cb6-9739-4f4ac96a8bed\", \"categories\": [0], \"series\": [{\"data\": [0.8090121146459174]}]}, {\"name\": \"recall_score_micro\", \"run_id\": \"AutoML_ad43f349-8d0c-4cb6-9739-4f4ac96a8bed\", \"categories\": [0], \"series\": [{\"data\": [0.8090121146459174]}]}, {\"name\": \"precision_score_macro\", \"run_id\": \"AutoML_ad43f349-8d0c-4cb6-9739-4f4ac96a8bed\", \"categories\": [0], \"series\": [{\"data\": [0.8168724130428873]}]}, {\"name\": \"average_precision_score_weighted\", \"run_id\": \"AutoML_ad43f349-8d0c-4cb6-9739-4f4ac96a8bed\", \"categories\": [0], \"series\": [{\"data\": [0.8547158726237761]}]}, {\"name\": \"precision_score_micro\", \"run_id\": \"AutoML_ad43f349-8d0c-4cb6-9739-4f4ac96a8bed\", \"categories\": [0], \"series\": [{\"data\": [0.8090121146459174]}]}, {\"name\": \"average_precision_score_macro\", \"run_id\": \"AutoML_ad43f349-8d0c-4cb6-9739-4f4ac96a8bed\", \"categories\": [0], \"series\": [{\"data\": [0.8486561789180168]}]}, {\"name\": \"recall_score_macro\", \"run_id\": \"AutoML_ad43f349-8d0c-4cb6-9739-4f4ac96a8bed\", \"categories\": [0], \"series\": [{\"data\": [0.7765005625862944]}]}, {\"name\": \"AUC_weighted\", \"run_id\": \"AutoML_ad43f349-8d0c-4cb6-9739-4f4ac96a8bed\", \"categories\": [0], \"series\": [{\"data\": [0.8432735835399789]}]}, {\"name\": \"matthews_correlation\", \"run_id\": \"AutoML_ad43f349-8d0c-4cb6-9739-4f4ac96a8bed\", \"categories\": [0], \"series\": [{\"data\": [0.5918851682420452]}]}, {\"name\": \"average_precision_score_micro\", \"run_id\": \"AutoML_ad43f349-8d0c-4cb6-9739-4f4ac96a8bed\", \"categories\": [0], \"series\": [{\"data\": [0.856598518779341]}]}, {\"name\": \"f1_score_macro\", \"run_id\": \"AutoML_ad43f349-8d0c-4cb6-9739-4f4ac96a8bed\", \"categories\": [0], \"series\": [{\"data\": [0.7864553610189079]}]}, {\"name\": \"log_loss\", \"run_id\": \"AutoML_ad43f349-8d0c-4cb6-9739-4f4ac96a8bed\", \"categories\": [0], \"series\": [{\"data\": [0.4617354512630191]}]}, {\"name\": \"recall_score_weighted\", \"run_id\": \"AutoML_ad43f349-8d0c-4cb6-9739-4f4ac96a8bed\", \"categories\": [0], \"series\": [{\"data\": [0.8090121146459174]}]}, {\"name\": \"accuracy\", \"run_id\": \"AutoML_ad43f349-8d0c-4cb6-9739-4f4ac96a8bed\", \"categories\": [0], \"series\": [{\"data\": [0.8090121146459174]}]}, {\"name\": \"weighted_accuracy\", \"run_id\": \"AutoML_ad43f349-8d0c-4cb6-9739-4f4ac96a8bed\", \"categories\": [0], \"series\": [{\"data\": [0.838131063912425]}]}, {\"name\": \"norm_macro_recall\", \"run_id\": \"AutoML_ad43f349-8d0c-4cb6-9739-4f4ac96a8bed\", \"categories\": [0], \"series\": [{\"data\": [0.5530011251725888]}]}, {\"name\": \"precision_score_weighted\", \"run_id\": \"AutoML_ad43f349-8d0c-4cb6-9739-4f4ac96a8bed\", \"categories\": [0], \"series\": [{\"data\": [0.8135922713074099]}]}, {\"name\": \"f1_score_weighted\", \"run_id\": \"AutoML_ad43f349-8d0c-4cb6-9739-4f4ac96a8bed\", \"categories\": [0], \"series\": [{\"data\": [0.802187967583009]}]}, {\"name\": \"AUC_macro\", \"run_id\": \"AutoML_ad43f349-8d0c-4cb6-9739-4f4ac96a8bed\", \"categories\": [0], \"series\": [{\"data\": [0.8432735835399787]}]}], \"run_logs\": \"\\nRun is completed.\", \"graph\": {}, \"widget_settings\": {\"childWidgetDisplay\": \"popup\", \"send_telemetry\": false, \"log_level\": \"INFO\", \"sdk_version\": \"1.19.0\"}, \"loading\": false}"
     },
     "metadata": {},
     "output_type": "display_data"
    }
   ],
   "source": [
    "from azureml.widgets import RunDetails\n",
    "automl_run = experiment.submit(automl_config, show_output = True)\n",
    "RunDetails(automl_run).show()"
   ]
  },
  {
   "cell_type": "code",
   "execution_count": 33,
   "metadata": {
    "scrolled": false
   },
   "outputs": [
    {
     "data": {
      "text/plain": [
       "{'runId': 'AutoML_ad43f349-8d0c-4cb6-9739-4f4ac96a8bed',\n",
       " 'target': 'computecluster1',\n",
       " 'status': 'Completed',\n",
       " 'startTimeUtc': '2021-01-24T17:00:06.386942Z',\n",
       " 'endTimeUtc': '2021-01-24T17:37:52.613463Z',\n",
       " 'properties': {'num_iterations': '1000',\n",
       "  'training_type': 'TrainFull',\n",
       "  'acquisition_function': 'EI',\n",
       "  'primary_metric': 'accuracy',\n",
       "  'train_split': '0',\n",
       "  'acquisition_parameter': '0',\n",
       "  'num_cross_validation': '5',\n",
       "  'target': 'computecluster1',\n",
       "  'AMLSettingsJsonString': '{\"path\":null,\"name\":\"titanic_automl\",\"subscription_id\":\"a24a24d5-8d87-4c8a-99b6-91ed2d2df51f\",\"resource_group\":\"aml-quickstarts-135901\",\"workspace_name\":\"quick-starts-ws-135901\",\"region\":\"southcentralus\",\"compute_target\":\"computecluster1\",\"spark_service\":null,\"azure_service\":\"remote\",\"many_models\":false,\"pipeline_fetch_max_batch_size\":1,\"iterations\":1000,\"primary_metric\":\"accuracy\",\"task_type\":\"classification\",\"data_script\":null,\"validation_size\":0.0,\"n_cross_validations\":5,\"y_min\":null,\"y_max\":null,\"num_classes\":null,\"featurization\":\"auto\",\"_ignore_package_version_incompatibilities\":false,\"is_timeseries\":false,\"max_cores_per_iteration\":1,\"max_concurrent_iterations\":1,\"iteration_timeout_minutes\":null,\"mem_in_mb\":null,\"enforce_time_on_windows\":false,\"experiment_timeout_minutes\":30,\"experiment_exit_score\":null,\"whitelist_models\":null,\"blacklist_algos\":[\"TensorFlowLinearClassifier\",\"TensorFlowDNN\"],\"supported_models\":[\"SGD\",\"LogisticRegression\",\"SVM\",\"AveragedPerceptronClassifier\",\"TensorFlowLinearClassifier\",\"RandomForest\",\"MultinomialNaiveBayes\",\"GradientBoosting\",\"LightGBM\",\"BernoulliNaiveBayes\",\"LinearSVM\",\"DecisionTree\",\"XGBoostClassifier\",\"TensorFlowDNN\",\"KNN\",\"ExtremeRandomTrees\"],\"auto_blacklist\":true,\"blacklist_samples_reached\":false,\"exclude_nan_labels\":true,\"verbosity\":20,\"_debug_log\":\"azureml_automl.log\",\"show_warnings\":false,\"model_explainability\":true,\"service_url\":null,\"sdk_url\":null,\"sdk_packages\":null,\"enable_onnx_compatible_models\":false,\"enable_split_onnx_featurizer_estimator_models\":false,\"vm_type\":\"STANDARD_DS2_V2\",\"telemetry_verbosity\":20,\"send_telemetry\":true,\"enable_dnn\":false,\"scenario\":\"SDK-1.13.0\",\"environment_label\":null,\"force_text_dnn\":false,\"enable_feature_sweeping\":true,\"enable_early_stopping\":false,\"early_stopping_n_iters\":10,\"metrics\":null,\"enable_ensembling\":true,\"enable_stack_ensembling\":true,\"ensemble_iterations\":15,\"enable_tf\":false,\"enable_subsampling\":null,\"subsample_seed\":null,\"enable_nimbusml\":false,\"enable_streaming\":false,\"force_streaming\":false,\"track_child_runs\":true,\"allowed_private_models\":[],\"label_column_name\":\"Survived\",\"weight_column_name\":null,\"cv_split_column_names\":null,\"enable_local_managed\":false,\"_local_managed_run_id\":null,\"cost_mode\":1,\"lag_length\":0,\"metric_operation\":\"maximize\",\"preprocess\":true}',\n",
       "  'DataPrepJsonString': '{\\\\\"training_data\\\\\": \\\\\"{\\\\\\\\\\\\\"blocks\\\\\\\\\\\\\": [{\\\\\\\\\\\\\"id\\\\\\\\\\\\\": \\\\\\\\\\\\\"1881689d-28e0-430a-aa92-2a36306d5747\\\\\\\\\\\\\", \\\\\\\\\\\\\"type\\\\\\\\\\\\\": \\\\\\\\\\\\\"Microsoft.DPrep.GetDatastoreFilesBlock\\\\\\\\\\\\\", \\\\\\\\\\\\\"arguments\\\\\\\\\\\\\": {\\\\\\\\\\\\\"datastores\\\\\\\\\\\\\": [{\\\\\\\\\\\\\"datastoreName\\\\\\\\\\\\\": \\\\\\\\\\\\\"workspaceblobstore\\\\\\\\\\\\\", \\\\\\\\\\\\\"path\\\\\\\\\\\\\": \\\\\\\\\\\\\"data/train.csv\\\\\\\\\\\\\", \\\\\\\\\\\\\"resourceGroup\\\\\\\\\\\\\": \\\\\\\\\\\\\"aml-quickstarts-135901\\\\\\\\\\\\\", \\\\\\\\\\\\\"subscription\\\\\\\\\\\\\": \\\\\\\\\\\\\"a24a24d5-8d87-4c8a-99b6-91ed2d2df51f\\\\\\\\\\\\\", \\\\\\\\\\\\\"workspaceName\\\\\\\\\\\\\": \\\\\\\\\\\\\"quick-starts-ws-135901\\\\\\\\\\\\\"}]}, \\\\\\\\\\\\\"localData\\\\\\\\\\\\\": {}, \\\\\\\\\\\\\"isEnabled\\\\\\\\\\\\\": true, \\\\\\\\\\\\\"name\\\\\\\\\\\\\": null, \\\\\\\\\\\\\"annotation\\\\\\\\\\\\\": null}, {\\\\\\\\\\\\\"id\\\\\\\\\\\\\": \\\\\\\\\\\\\"6054a0ed-4eb1-4893-9ab1-bea1b55c2465\\\\\\\\\\\\\", \\\\\\\\\\\\\"type\\\\\\\\\\\\\": \\\\\\\\\\\\\"Microsoft.DPrep.ParseDelimitedBlock\\\\\\\\\\\\\", \\\\\\\\\\\\\"arguments\\\\\\\\\\\\\": {\\\\\\\\\\\\\"columnHeadersMode\\\\\\\\\\\\\": 3, \\\\\\\\\\\\\"fileEncoding\\\\\\\\\\\\\": 0, \\\\\\\\\\\\\"handleQuotedLineBreaks\\\\\\\\\\\\\": false, \\\\\\\\\\\\\"preview\\\\\\\\\\\\\": false, \\\\\\\\\\\\\"separator\\\\\\\\\\\\\": \\\\\\\\\\\\\",\\\\\\\\\\\\\", \\\\\\\\\\\\\"skipRows\\\\\\\\\\\\\": 0, \\\\\\\\\\\\\"skipRowsMode\\\\\\\\\\\\\": 0}, \\\\\\\\\\\\\"localData\\\\\\\\\\\\\": {}, \\\\\\\\\\\\\"isEnabled\\\\\\\\\\\\\": true, \\\\\\\\\\\\\"name\\\\\\\\\\\\\": null, \\\\\\\\\\\\\"annotation\\\\\\\\\\\\\": null}, {\\\\\\\\\\\\\"id\\\\\\\\\\\\\": \\\\\\\\\\\\\"a7e81aaa-b5c2-4ec3-b5cb-a0bda58c2015\\\\\\\\\\\\\", \\\\\\\\\\\\\"type\\\\\\\\\\\\\": \\\\\\\\\\\\\"Microsoft.DPrep.DropColumnsBlock\\\\\\\\\\\\\", \\\\\\\\\\\\\"arguments\\\\\\\\\\\\\": {\\\\\\\\\\\\\"columns\\\\\\\\\\\\\": {\\\\\\\\\\\\\"type\\\\\\\\\\\\\": 0, \\\\\\\\\\\\\"details\\\\\\\\\\\\\": {\\\\\\\\\\\\\"selectedColumns\\\\\\\\\\\\\": [\\\\\\\\\\\\\"Path\\\\\\\\\\\\\"]}}}, \\\\\\\\\\\\\"localData\\\\\\\\\\\\\": {}, \\\\\\\\\\\\\"isEnabled\\\\\\\\\\\\\": true, \\\\\\\\\\\\\"name\\\\\\\\\\\\\": null, \\\\\\\\\\\\\"annotation\\\\\\\\\\\\\": null}, {\\\\\\\\\\\\\"id\\\\\\\\\\\\\": \\\\\\\\\\\\\"755a8e3c-c601-451c-95ce-52fb873df44e\\\\\\\\\\\\\", \\\\\\\\\\\\\"type\\\\\\\\\\\\\": \\\\\\\\\\\\\"Microsoft.DPrep.SetColumnTypesBlock\\\\\\\\\\\\\", \\\\\\\\\\\\\"arguments\\\\\\\\\\\\\": {\\\\\\\\\\\\\"columnConversion\\\\\\\\\\\\\": [{\\\\\\\\\\\\\"column\\\\\\\\\\\\\": {\\\\\\\\\\\\\"type\\\\\\\\\\\\\": 2, \\\\\\\\\\\\\"details\\\\\\\\\\\\\": {\\\\\\\\\\\\\"selectedColumn\\\\\\\\\\\\\": \\\\\\\\\\\\\"Column1\\\\\\\\\\\\\"}}, \\\\\\\\\\\\\"typeProperty\\\\\\\\\\\\\": 2}, {\\\\\\\\\\\\\"column\\\\\\\\\\\\\": {\\\\\\\\\\\\\"type\\\\\\\\\\\\\": 2, \\\\\\\\\\\\\"details\\\\\\\\\\\\\": {\\\\\\\\\\\\\"selectedColumn\\\\\\\\\\\\\": \\\\\\\\\\\\\"Age_2.0\\\\\\\\\\\\\"}}, \\\\\\\\\\\\\"typeProperty\\\\\\\\\\\\\": 2}, {\\\\\\\\\\\\\"column\\\\\\\\\\\\\": {\\\\\\\\\\\\\"type\\\\\\\\\\\\\": 2, \\\\\\\\\\\\\"details\\\\\\\\\\\\\": {\\\\\\\\\\\\\"selectedColumn\\\\\\\\\\\\\": \\\\\\\\\\\\\"Age_3.0\\\\\\\\\\\\\"}}, \\\\\\\\\\\\\"typeProperty\\\\\\\\\\\\\": 2}, {\\\\\\\\\\\\\"column\\\\\\\\\\\\\": {\\\\\\\\\\\\\"type\\\\\\\\\\\\\": 2, \\\\\\\\\\\\\"details\\\\\\\\\\\\\": {\\\\\\\\\\\\\"selectedColumn\\\\\\\\\\\\\": \\\\\\\\\\\\\"Age_4.0\\\\\\\\\\\\\"}}, \\\\\\\\\\\\\"typeProperty\\\\\\\\\\\\\": 2}, {\\\\\\\\\\\\\"column\\\\\\\\\\\\\": {\\\\\\\\\\\\\"type\\\\\\\\\\\\\": 2, \\\\\\\\\\\\\"details\\\\\\\\\\\\\": {\\\\\\\\\\\\\"selectedColumn\\\\\\\\\\\\\": \\\\\\\\\\\\\"Fare_2.0\\\\\\\\\\\\\"}}, \\\\\\\\\\\\\"typeProperty\\\\\\\\\\\\\": 2}, {\\\\\\\\\\\\\"column\\\\\\\\\\\\\": {\\\\\\\\\\\\\"type\\\\\\\\\\\\\": 2, \\\\\\\\\\\\\"details\\\\\\\\\\\\\": {\\\\\\\\\\\\\"selectedColumn\\\\\\\\\\\\\": \\\\\\\\\\\\\"Fare_3.0\\\\\\\\\\\\\"}}, \\\\\\\\\\\\\"typeProperty\\\\\\\\\\\\\": 2}, {\\\\\\\\\\\\\"column\\\\\\\\\\\\\": {\\\\\\\\\\\\\"type\\\\\\\\\\\\\": 2, \\\\\\\\\\\\\"details\\\\\\\\\\\\\": {\\\\\\\\\\\\\"selectedColumn\\\\\\\\\\\\\": \\\\\\\\\\\\\"Fare_4.0\\\\\\\\\\\\\"}}, \\\\\\\\\\\\\"typeProperty\\\\\\\\\\\\\": 2}, {\\\\\\\\\\\\\"column\\\\\\\\\\\\\": {\\\\\\\\\\\\\"type\\\\\\\\\\\\\": 2, \\\\\\\\\\\\\"details\\\\\\\\\\\\\": {\\\\\\\\\\\\\"selectedColumn\\\\\\\\\\\\\": \\\\\\\\\\\\\"Pclass_2\\\\\\\\\\\\\"}}, \\\\\\\\\\\\\"typeProperty\\\\\\\\\\\\\": 2}, {\\\\\\\\\\\\\"column\\\\\\\\\\\\\": {\\\\\\\\\\\\\"type\\\\\\\\\\\\\": 2, \\\\\\\\\\\\\"details\\\\\\\\\\\\\": {\\\\\\\\\\\\\"selectedColumn\\\\\\\\\\\\\": \\\\\\\\\\\\\"Pclass_3\\\\\\\\\\\\\"}}, \\\\\\\\\\\\\"typeProperty\\\\\\\\\\\\\": 2}, {\\\\\\\\\\\\\"column\\\\\\\\\\\\\": {\\\\\\\\\\\\\"type\\\\\\\\\\\\\": 2, \\\\\\\\\\\\\"details\\\\\\\\\\\\\": {\\\\\\\\\\\\\"selectedColumn\\\\\\\\\\\\\": \\\\\\\\\\\\\"Sex_male\\\\\\\\\\\\\"}}, \\\\\\\\\\\\\"typeProperty\\\\\\\\\\\\\": 2}, {\\\\\\\\\\\\\"column\\\\\\\\\\\\\": {\\\\\\\\\\\\\"type\\\\\\\\\\\\\": 2, \\\\\\\\\\\\\"details\\\\\\\\\\\\\": {\\\\\\\\\\\\\"selectedColumn\\\\\\\\\\\\\": \\\\\\\\\\\\\"Embarked_Q\\\\\\\\\\\\\"}}, \\\\\\\\\\\\\"typeProperty\\\\\\\\\\\\\": 2}, {\\\\\\\\\\\\\"column\\\\\\\\\\\\\": {\\\\\\\\\\\\\"type\\\\\\\\\\\\\": 2, \\\\\\\\\\\\\"details\\\\\\\\\\\\\": {\\\\\\\\\\\\\"selectedColumn\\\\\\\\\\\\\": \\\\\\\\\\\\\"Embarked_S\\\\\\\\\\\\\"}}, \\\\\\\\\\\\\"typeProperty\\\\\\\\\\\\\": 2}, {\\\\\\\\\\\\\"column\\\\\\\\\\\\\": {\\\\\\\\\\\\\"type\\\\\\\\\\\\\": 2, \\\\\\\\\\\\\"details\\\\\\\\\\\\\": {\\\\\\\\\\\\\"selectedColumn\\\\\\\\\\\\\": \\\\\\\\\\\\\"Family_type_Large\\\\\\\\\\\\\"}}, \\\\\\\\\\\\\"typeProperty\\\\\\\\\\\\\": 2}, {\\\\\\\\\\\\\"column\\\\\\\\\\\\\": {\\\\\\\\\\\\\"type\\\\\\\\\\\\\": 2, \\\\\\\\\\\\\"details\\\\\\\\\\\\\": {\\\\\\\\\\\\\"selectedColumn\\\\\\\\\\\\\": \\\\\\\\\\\\\"Family_type_Medium\\\\\\\\\\\\\"}}, \\\\\\\\\\\\\"typeProperty\\\\\\\\\\\\\": 2}, {\\\\\\\\\\\\\"column\\\\\\\\\\\\\": {\\\\\\\\\\\\\"type\\\\\\\\\\\\\": 2, \\\\\\\\\\\\\"details\\\\\\\\\\\\\": {\\\\\\\\\\\\\"selectedColumn\\\\\\\\\\\\\": \\\\\\\\\\\\\"Survived\\\\\\\\\\\\\"}}, \\\\\\\\\\\\\"typeProperty\\\\\\\\\\\\\": 2}]}, \\\\\\\\\\\\\"localData\\\\\\\\\\\\\": {}, \\\\\\\\\\\\\"isEnabled\\\\\\\\\\\\\": true, \\\\\\\\\\\\\"name\\\\\\\\\\\\\": null, \\\\\\\\\\\\\"annotation\\\\\\\\\\\\\": null}], \\\\\\\\\\\\\"inspectors\\\\\\\\\\\\\": [], \\\\\\\\\\\\\"meta\\\\\\\\\\\\\": {\\\\\\\\\\\\\"savedDatasetId\\\\\\\\\\\\\": \\\\\\\\\\\\\"1682543e-807e-439e-ac83-d7b324c23bb8\\\\\\\\\\\\\", \\\\\\\\\\\\\"datasetType\\\\\\\\\\\\\": \\\\\\\\\\\\\"tabular\\\\\\\\\\\\\", \\\\\\\\\\\\\"subscriptionId\\\\\\\\\\\\\": \\\\\\\\\\\\\"a24a24d5-8d87-4c8a-99b6-91ed2d2df51f\\\\\\\\\\\\\", \\\\\\\\\\\\\"workspaceId\\\\\\\\\\\\\": \\\\\\\\\\\\\"c6ce5c3a-bee7-4a9a-bc82-98bea0154799\\\\\\\\\\\\\", \\\\\\\\\\\\\"workspaceLocation\\\\\\\\\\\\\": \\\\\\\\\\\\\"southcentralus\\\\\\\\\\\\\"}}\\\\\", \\\\\"activities\\\\\": 0}',\n",
       "  'EnableSubsampling': None,\n",
       "  'runTemplate': 'AutoML',\n",
       "  'azureml.runsource': 'automl',\n",
       "  'display_task_type': 'classification',\n",
       "  'dependencies_versions': '{\"azureml-widgets\": \"1.19.0\", \"azureml-train\": \"1.19.0\", \"azureml-train-restclients-hyperdrive\": \"1.19.0\", \"azureml-train-core\": \"1.19.0\", \"azureml-train-automl\": \"1.19.0\", \"azureml-train-automl-runtime\": \"1.19.0\", \"azureml-train-automl-client\": \"1.19.0\", \"azureml-tensorboard\": \"1.19.0\", \"azureml-telemetry\": \"1.19.0\", \"azureml-sdk\": \"1.19.0\", \"azureml-samples\": \"0+unknown\", \"azureml-pipeline\": \"1.19.0\", \"azureml-pipeline-steps\": \"1.19.0\", \"azureml-pipeline-core\": \"1.19.0\", \"azureml-opendatasets\": \"1.19.0\", \"azureml-model-management-sdk\": \"1.0.1b6.post1\", \"azureml-mlflow\": \"1.19.0\", \"azureml-interpret\": \"1.19.0\", \"azureml-explain-model\": \"1.19.0\", \"azureml-defaults\": \"1.19.0\", \"azureml-dataset-runtime\": \"1.19.0.post1\", \"azureml-dataprep\": \"2.6.1\", \"azureml-dataprep-rslex\": \"1.4.0\", \"azureml-dataprep-native\": \"26.0.0\", \"azureml-datadrift\": \"1.19.0\", \"azureml-core\": \"1.19.0\", \"azureml-contrib-services\": \"1.19.0\", \"azureml-contrib-server\": \"1.19.0\", \"azureml-contrib-reinforcementlearning\": \"1.19.0\", \"azureml-contrib-pipeline-steps\": \"1.19.0\", \"azureml-contrib-notebook\": \"1.19.0\", \"azureml-contrib-interpret\": \"1.19.0\", \"azureml-contrib-gbdt\": \"1.19.0\", \"azureml-contrib-fairness\": \"1.19.0\", \"azureml-contrib-dataset\": \"1.19.0\", \"azureml-cli-common\": \"1.19.0\", \"azureml-automl-runtime\": \"1.19.0\", \"azureml-automl-core\": \"1.19.0\", \"azureml-accel-models\": \"1.19.0\"}',\n",
       "  '_aml_system_scenario_identification': 'Remote.Parent',\n",
       "  'ClientType': 'SDK',\n",
       "  'environment_cpu_name': 'AzureML-AutoML',\n",
       "  'environment_cpu_label': 'prod',\n",
       "  'environment_gpu_name': 'AzureML-AutoML-GPU',\n",
       "  'environment_gpu_label': 'prod',\n",
       "  'root_attribution': 'automl',\n",
       "  'attribution': 'AutoML',\n",
       "  'Orchestrator': 'AutoML',\n",
       "  'CancelUri': 'https://southcentralus.experiments.azureml.net/jasmine/v1.0/subscriptions/a24a24d5-8d87-4c8a-99b6-91ed2d2df51f/resourceGroups/aml-quickstarts-135901/providers/Microsoft.MachineLearningServices/workspaces/quick-starts-ws-135901/experimentids/0de8fb1e-6ff3-4cc3-bab2-20cdc4141cb5/cancel/AutoML_ad43f349-8d0c-4cb6-9739-4f4ac96a8bed',\n",
       "  'ClientSdkVersion': '1.20.0',\n",
       "  'snapshotId': '00000000-0000-0000-0000-000000000000',\n",
       "  'SetupRunId': 'AutoML_ad43f349-8d0c-4cb6-9739-4f4ac96a8bed_setup',\n",
       "  'SetupRunContainerId': 'dcid.AutoML_ad43f349-8d0c-4cb6-9739-4f4ac96a8bed_setup',\n",
       "  'FeaturizationRunJsonPath': 'featurizer_container.json',\n",
       "  'FeaturizationRunId': 'AutoML_ad43f349-8d0c-4cb6-9739-4f4ac96a8bed_featurize',\n",
       "  'ProblemInfoJsonString': '{\"dataset_num_categorical\": 0, \"is_sparse\": false, \"subsampling\": false, \"dataset_classes\": 2, \"dataset_features\": 14, \"dataset_samples\": 712, \"single_frequency_class_detected\": false}',\n",
       "  'ModelExplainRunId': 'AutoML_ad43f349-8d0c-4cb6-9739-4f4ac96a8bed_ModelExplain'},\n",
       " 'inputDatasets': [{'dataset': {'id': '1682543e-807e-439e-ac83-d7b324c23bb8'}, 'consumptionDetails': {'type': 'RunInput', 'inputName': 'training_data', 'mechanism': 'Direct'}}],\n",
       " 'outputDatasets': [],\n",
       " 'logFiles': {}}"
      ]
     },
     "execution_count": 33,
     "metadata": {},
     "output_type": "execute_result"
    }
   ],
   "source": [
    "automl_run.wait_for_completion()"
   ]
  },
  {
   "cell_type": "markdown",
   "metadata": {},
   "source": [
    "## Best Model\n",
    "\n",
    "TODO: In the cell below, get the best model from the automl experiments and display all the properties of the model.\n",
    "\n"
   ]
  },
  {
   "cell_type": "code",
   "execution_count": 35,
   "metadata": {
    "gather": {
     "logged": 1598431425670
    },
    "jupyter": {
     "outputs_hidden": false,
     "source_hidden": false
    },
    "nteract": {
     "transient": {
      "deleting": false
     }
    }
   },
   "outputs": [
    {
     "name": "stderr",
     "output_type": "stream",
     "text": [
      "WARNING:root:The version of the SDK does not match the version the model was trained on.\n",
      "WARNING:root:The consistency in the result may not be guaranteed.\n",
      "WARNING:root:Package:azureml-automl-core, training version:1.20.0, current version:1.19.0\n",
      "Package:azureml-automl-runtime, training version:1.20.0, current version:1.19.0\n",
      "Package:azureml-core, training version:1.20.0, current version:1.19.0\n",
      "Package:azureml-dataprep, training version:2.7.2, current version:2.6.1\n",
      "Package:azureml-dataprep-native, training version:27.0.0, current version:26.0.0\n",
      "Package:azureml-dataprep-rslex, training version:1.5.0, current version:1.4.0\n",
      "Package:azureml-dataset-runtime, training version:1.20.0, current version:1.19.0.post1\n",
      "Package:azureml-defaults, training version:1.20.0, current version:1.19.0\n",
      "Package:azureml-interpret, training version:1.20.0, current version:1.19.0\n",
      "Package:azureml-pipeline-core, training version:1.20.0, current version:1.19.0\n",
      "Package:azureml-telemetry, training version:1.20.0, current version:1.19.0\n",
      "Package:azureml-train-automl-client, training version:1.20.0, current version:1.19.0\n",
      "Package:azureml-train-automl-runtime, training version:1.20.0, current version:1.19.0\n",
      "WARNING:root:Please ensure the version of your local conda dependencies match the version on which your model was trained in order to properly retrieve your model.\n"
     ]
    },
    {
     "name": "stdout",
     "output_type": "stream",
     "text": [
      "Best run Id:  AutoML_ad43f349-8d0c-4cb6-9739-4f4ac96a8bed_28\n",
      "Accuracy:  0.8090121146459174\n",
      "Other details: \n",
      "Fitted model: Pipeline(memory=None,\n",
      "         steps=[('datatransformer',\n",
      "                 DataTransformer(enable_dnn=None, enable_feature_sweeping=None,\n",
      "                                 feature_sweeping_config=None,\n",
      "                                 feature_sweeping_timeout=None,\n",
      "                                 featurization_config=None, force_text_dnn=None,\n",
      "                                 is_cross_validation=None,\n",
      "                                 is_onnx_compatible=None, logger=None,\n",
      "                                 observer=None, task=None, working_dir=None)),\n",
      "                ('prefittedsoftvotingclassifier',...\n",
      "                                                                             KNeighborsClassifier(algorithm='auto',\n",
      "                                                                                                  leaf_size=30,\n",
      "                                                                                                  metric='l1',\n",
      "                                                                                                  metric_params=None,\n",
      "                                                                                                  n_jobs=1,\n",
      "                                                                                                  n_neighbors=13,\n",
      "                                                                                                  p=2,\n",
      "                                                                                                  weights='distance'))],\n",
      "                                                                     verbose=False))],\n",
      "                                               flatten_transform=None,\n",
      "                                               weights=[0.1111111111111111,\n",
      "                                                        0.1111111111111111,\n",
      "                                                        0.1111111111111111,\n",
      "                                                        0.1111111111111111,\n",
      "                                                        0.1111111111111111,\n",
      "                                                        0.1111111111111111,\n",
      "                                                        0.2222222222222222,\n",
      "                                                        0.1111111111111111]))],\n",
      "         verbose=False)\n"
     ]
    }
   ],
   "source": [
    "best_run_AutoML, best_model_AutoML = automl_run.get_output()\n",
    "best_run_metrics_AutoML = best_run_AutoML.get_metrics()\n",
    "print(\"Best run Id: \",best_run_AutoML.id)\n",
    "print(\"Accuracy: \", best_run_metrics_AutoML['accuracy'])\n",
    "print(\"Other details: \")\n",
    "print(\"Fitted model:\",best_model_AutoML)"
   ]
  },
  {
   "cell_type": "code",
   "execution_count": null,
   "metadata": {
    "gather": {
     "logged": 1598431426111
    },
    "jupyter": {
     "outputs_hidden": false,
     "source_hidden": false
    },
    "nteract": {
     "transient": {
      "deleting": false
     }
    }
   },
   "outputs": [],
   "source": []
  },
  {
   "cell_type": "code",
   "execution_count": 38,
   "metadata": {},
   "outputs": [
    {
     "name": "stdout",
     "output_type": "stream",
     "text": [
      "Model saved successfully\n"
     ]
    }
   ],
   "source": [
    "import joblib\n",
    "from azureml.core.model import Model\n",
    "\n",
    "#Save the best model\n",
    "os.makedirs('results', exist_ok=True)\n",
    "joblib.dump(best_model_AutoML, filename=\"results/automl_model.pkl\")\n",
    "model = automl_run.register_model(model_name=best_run_AutoML.properties['model_name'], description='Best AutoML model')\n",
    "print(\"Model saved successfully\")"
   ]
  },
  {
   "cell_type": "markdown",
   "metadata": {},
   "source": [
    "## Model Deployment\n",
    "\n",
    "Remember you have to deploy only one of the two models you trained.. Perform the steps in the rest of this notebook only if you wish to deploy this model.\n",
    "\n",
    "TODO: In the cell below, register the model, create an inference config and deploy the model as a web service."
   ]
  },
  {
   "cell_type": "code",
   "execution_count": null,
   "metadata": {
    "gather": {
     "logged": 1598431435189
    },
    "jupyter": {
     "outputs_hidden": false,
     "source_hidden": false
    },
    "nteract": {
     "transient": {
      "deleting": false
     }
    }
   },
   "outputs": [],
   "source": []
  },
  {
   "cell_type": "markdown",
   "metadata": {
    "collapsed": true,
    "gather": {
     "logged": 1598431657736
    },
    "jupyter": {
     "outputs_hidden": false,
     "source_hidden": false
    },
    "nteract": {
     "transient": {
      "deleting": false
     }
    }
   },
   "source": [
    "TODO: In the cell below, send a request to the web service you deployed to test it."
   ]
  },
  {
   "cell_type": "code",
   "execution_count": null,
   "metadata": {
    "gather": {
     "logged": 1598432707604
    },
    "jupyter": {
     "outputs_hidden": false,
     "source_hidden": false
    },
    "nteract": {
     "transient": {
      "deleting": false
     }
    }
   },
   "outputs": [],
   "source": []
  },
  {
   "cell_type": "markdown",
   "metadata": {
    "collapsed": true,
    "gather": {
     "logged": 1598432765711
    },
    "jupyter": {
     "outputs_hidden": false,
     "source_hidden": false
    },
    "nteract": {
     "transient": {
      "deleting": false
     }
    }
   },
   "source": [
    "TODO: In the cell below, print the logs of the web service and delete the service"
   ]
  },
  {
   "cell_type": "code",
   "execution_count": null,
   "metadata": {
    "jupyter": {
     "outputs_hidden": false,
     "source_hidden": false
    },
    "nteract": {
     "transient": {
      "deleting": false
     }
    }
   },
   "outputs": [],
   "source": []
  }
 ],
 "metadata": {
  "kernel_info": {
   "name": "python3"
  },
  "kernelspec": {
   "display_name": "Python 3",
   "language": "python",
   "name": "python3"
  },
  "language_info": {
   "codemirror_mode": {
    "name": "ipython",
    "version": 3
   },
   "file_extension": ".py",
   "mimetype": "text/x-python",
   "name": "python",
   "nbconvert_exporter": "python",
   "pygments_lexer": "ipython3",
   "version": "3.6.9"
  },
  "nteract": {
   "version": "nteract-front-end@1.0.0"
  }
 },
 "nbformat": 4,
 "nbformat_minor": 2
}
