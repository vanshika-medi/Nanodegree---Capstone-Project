{
 "cells": [
  {
   "cell_type": "markdown",
   "metadata": {},
   "source": [
    "# Automated ML\n",
    "\n",
    "TODO: Import Dependencies. In the cell below, import all the dependencies that you will need to complete the project."
   ]
  },
  {
   "cell_type": "code",
   "execution_count": 1,
   "metadata": {
    "gather": {
     "logged": 1598423888013
    },
    "jupyter": {
     "outputs_hidden": false,
     "source_hidden": false
    },
    "nteract": {
     "transient": {
      "deleting": false
     }
    }
   },
   "outputs": [],
   "source": [
    "import logging\n",
    "import os\n",
    "import azureml.core\n",
    "from azureml.core.experiment import Experiment\n",
    "from azureml.core.workspace import Workspace\n",
    "from azureml.train.automl import AutoMLConfig\n",
    "from azureml.core.dataset import Dataset\n",
    "from azureml.data.dataset_factory import TabularDatasetFactory\n"
   ]
  },
  {
   "cell_type": "markdown",
   "metadata": {},
   "source": [
    "## Dataset\n",
    "\n",
    "### Overview\n",
    "The dataset being used is the housing dataset for California based on the 1990 consensus. This has been retrieved form kaggle and has 10 columns all used to predict medain house value."
   ]
  },
  {
   "cell_type": "markdown",
   "metadata": {},
   "source": [
    "## Setting up Workspace"
   ]
  },
  {
   "cell_type": "code",
   "execution_count": 2,
   "metadata": {
    "gather": {
     "logged": 1598423890461
    },
    "jupyter": {
     "outputs_hidden": false,
     "source_hidden": false
    },
    "nteract": {
     "transient": {
      "deleting": false
     }
    }
   },
   "outputs": [
    {
     "name": "stdout",
     "output_type": "stream",
     "text": [
      "quick-starts-ws-136108\n",
      "aml-quickstarts-136108\n",
      "southcentralus\n",
      "3d1a56d2-7c81-4118-9790-f85d1acf0c77\n"
     ]
    }
   ],
   "source": [
    "ws = Workspace.from_config()\n",
    "print(ws.name, ws.resource_group, ws.location, ws.subscription_id, sep = \"\\n\")"
   ]
  },
  {
   "cell_type": "markdown",
   "metadata": {},
   "source": [
    "## Initialising Experiment"
   ]
  },
  {
   "cell_type": "code",
   "execution_count": 3,
   "metadata": {},
   "outputs": [
    {
     "data": {
      "text/html": [
       "<table style=\"width:100%\"><tr><th>Name</th><th>Workspace</th><th>Report Page</th><th>Docs Page</th></tr><tr><td>titanic_automl</td><td>quick-starts-ws-136108</td><td><a href=\"https://ml.azure.com/experiments/titanic_automl?wsid=/subscriptions/3d1a56d2-7c81-4118-9790-f85d1acf0c77/resourcegroups/aml-quickstarts-136108/workspaces/quick-starts-ws-136108\" target=\"_blank\" rel=\"noopener\">Link to Azure Machine Learning studio</a></td><td><a href=\"https://docs.microsoft.com/en-us/python/api/azureml-core/azureml.core.experiment.Experiment?view=azure-ml-py\" target=\"_blank\" rel=\"noopener\">Link to Documentation</a></td></tr></table>"
      ],
      "text/plain": [
       "Experiment(Name: titanic_automl,\n",
       "Workspace: quick-starts-ws-136108)"
      ]
     },
     "execution_count": 3,
     "metadata": {},
     "output_type": "execute_result"
    }
   ],
   "source": [
    "# choose a name for experiment\n",
    "experiment_name = 'titanic_automl'\n",
    "project_folder = './titanic_automl'\n",
    "os.makedirs(project_folder, exist_ok = True)\n",
    "experiment=Experiment(ws, experiment_name)\n",
    "experiment"
   ]
  },
  {
   "cell_type": "markdown",
   "metadata": {},
   "source": [
    "## Creating or checking for existing compute cluster"
   ]
  },
  {
   "cell_type": "code",
   "execution_count": 4,
   "metadata": {
    "gather": {
     "logged": 1598429217746
    },
    "jupyter": {
     "outputs_hidden": false,
     "source_hidden": false
    },
    "nteract": {
     "transient": {
      "deleting": false
     }
    }
   },
   "outputs": [
    {
     "name": "stdout",
     "output_type": "stream",
     "text": [
      "Existing cluster. Use it.\n",
      "\n",
      "Running\n"
     ]
    }
   ],
   "source": [
    "from azureml.core.compute import AmlCompute\n",
    "from azureml.core.compute import ComputeTarget\n",
    "from azureml.core.compute_target import ComputeTargetException\n",
    "\n",
    "aml_compute_name = 'computecluster1' \n",
    "try:\n",
    "    compute_target = ComputeTarget(workspace = ws, name = aml_compute_name)\n",
    "    print(\"Existing cluster. Use it.\")\n",
    "except ComputeTargetException:\n",
    "    compute_config = AmlCompute.provisioning_configuration(vm_size = \"STANDARD_D2_V2\", max_nodes = 4)\n",
    "    compute_target = ComputeTarget.create(ws,aml_compute_name, compute_config)\n",
    "compute_target.wait_for_completion(show_output = True)"
   ]
  },
  {
   "cell_type": "markdown",
   "metadata": {},
   "source": [
    "## Preparing Data"
   ]
  },
  {
   "cell_type": "code",
   "execution_count": 5,
   "metadata": {},
   "outputs": [],
   "source": [
    "import pandas as pd\n",
    "data = pd.read_csv('titanic_dataset.csv', header = 0)"
   ]
  },
  {
   "cell_type": "code",
   "execution_count": 6,
   "metadata": {},
   "outputs": [
    {
     "data": {
      "text/html": [
       "<div>\n",
       "<style scoped>\n",
       "    .dataframe tbody tr th:only-of-type {\n",
       "        vertical-align: middle;\n",
       "    }\n",
       "\n",
       "    .dataframe tbody tr th {\n",
       "        vertical-align: top;\n",
       "    }\n",
       "\n",
       "    .dataframe thead th {\n",
       "        text-align: right;\n",
       "    }\n",
       "</style>\n",
       "<table border=\"1\" class=\"dataframe\">\n",
       "  <thead>\n",
       "    <tr style=\"text-align: right;\">\n",
       "      <th></th>\n",
       "      <th>PassengerId</th>\n",
       "      <th>Survived</th>\n",
       "      <th>Pclass</th>\n",
       "      <th>Name</th>\n",
       "      <th>Sex</th>\n",
       "      <th>Age</th>\n",
       "      <th>SibSp</th>\n",
       "      <th>Parch</th>\n",
       "      <th>Ticket</th>\n",
       "      <th>Fare</th>\n",
       "      <th>Cabin</th>\n",
       "      <th>Embarked</th>\n",
       "    </tr>\n",
       "  </thead>\n",
       "  <tbody>\n",
       "    <tr>\n",
       "      <th>0</th>\n",
       "      <td>1</td>\n",
       "      <td>0</td>\n",
       "      <td>3</td>\n",
       "      <td>Braund, Mr. Owen Harris</td>\n",
       "      <td>male</td>\n",
       "      <td>22.0</td>\n",
       "      <td>1</td>\n",
       "      <td>0</td>\n",
       "      <td>A/5 21171</td>\n",
       "      <td>7.2500</td>\n",
       "      <td>NaN</td>\n",
       "      <td>S</td>\n",
       "    </tr>\n",
       "    <tr>\n",
       "      <th>1</th>\n",
       "      <td>2</td>\n",
       "      <td>1</td>\n",
       "      <td>1</td>\n",
       "      <td>Cumings, Mrs. John Bradley (Florence Briggs Th...</td>\n",
       "      <td>female</td>\n",
       "      <td>38.0</td>\n",
       "      <td>1</td>\n",
       "      <td>0</td>\n",
       "      <td>PC 17599</td>\n",
       "      <td>71.2833</td>\n",
       "      <td>C85</td>\n",
       "      <td>C</td>\n",
       "    </tr>\n",
       "    <tr>\n",
       "      <th>2</th>\n",
       "      <td>3</td>\n",
       "      <td>1</td>\n",
       "      <td>3</td>\n",
       "      <td>Heikkinen, Miss. Laina</td>\n",
       "      <td>female</td>\n",
       "      <td>26.0</td>\n",
       "      <td>0</td>\n",
       "      <td>0</td>\n",
       "      <td>STON/O2. 3101282</td>\n",
       "      <td>7.9250</td>\n",
       "      <td>NaN</td>\n",
       "      <td>S</td>\n",
       "    </tr>\n",
       "    <tr>\n",
       "      <th>3</th>\n",
       "      <td>4</td>\n",
       "      <td>1</td>\n",
       "      <td>1</td>\n",
       "      <td>Futrelle, Mrs. Jacques Heath (Lily May Peel)</td>\n",
       "      <td>female</td>\n",
       "      <td>35.0</td>\n",
       "      <td>1</td>\n",
       "      <td>0</td>\n",
       "      <td>113803</td>\n",
       "      <td>53.1000</td>\n",
       "      <td>C123</td>\n",
       "      <td>S</td>\n",
       "    </tr>\n",
       "    <tr>\n",
       "      <th>4</th>\n",
       "      <td>5</td>\n",
       "      <td>0</td>\n",
       "      <td>3</td>\n",
       "      <td>Allen, Mr. William Henry</td>\n",
       "      <td>male</td>\n",
       "      <td>35.0</td>\n",
       "      <td>0</td>\n",
       "      <td>0</td>\n",
       "      <td>373450</td>\n",
       "      <td>8.0500</td>\n",
       "      <td>NaN</td>\n",
       "      <td>S</td>\n",
       "    </tr>\n",
       "  </tbody>\n",
       "</table>\n",
       "</div>"
      ],
      "text/plain": [
       "   PassengerId  Survived  Pclass  \\\n",
       "0            1         0       3   \n",
       "1            2         1       1   \n",
       "2            3         1       3   \n",
       "3            4         1       1   \n",
       "4            5         0       3   \n",
       "\n",
       "                                                Name     Sex   Age  SibSp  \\\n",
       "0                            Braund, Mr. Owen Harris    male  22.0      1   \n",
       "1  Cumings, Mrs. John Bradley (Florence Briggs Th...  female  38.0      1   \n",
       "2                             Heikkinen, Miss. Laina  female  26.0      0   \n",
       "3       Futrelle, Mrs. Jacques Heath (Lily May Peel)  female  35.0      1   \n",
       "4                           Allen, Mr. William Henry    male  35.0      0   \n",
       "\n",
       "   Parch            Ticket     Fare Cabin Embarked  \n",
       "0      0         A/5 21171   7.2500   NaN        S  \n",
       "1      0          PC 17599  71.2833   C85        C  \n",
       "2      0  STON/O2. 3101282   7.9250   NaN        S  \n",
       "3      0            113803  53.1000  C123        S  \n",
       "4      0            373450   8.0500   NaN        S  "
      ]
     },
     "execution_count": 6,
     "metadata": {},
     "output_type": "execute_result"
    }
   ],
   "source": [
    "data.head(5)"
   ]
  },
  {
   "cell_type": "code",
   "execution_count": 7,
   "metadata": {},
   "outputs": [],
   "source": [
    "from sklearn.model_selection import train_test_split"
   ]
  },
  {
   "cell_type": "code",
   "execution_count": 8,
   "metadata": {},
   "outputs": [
    {
     "name": "stdout",
     "output_type": "stream",
     "text": [
      "Uploading an estimated of 2 files\n",
      "Uploading data/test.csv\n",
      "Uploaded data/test.csv, 1 files out of an estimated total of 2\n",
      "Uploading data/train.csv\n",
      "Uploaded data/train.csv, 2 files out of an estimated total of 2\n",
      "Uploaded 2 files\n",
      "Successfully converted the dataset to TabularDataset format.\n"
     ]
    }
   ],
   "source": [
    "def Impute_missing_values(data):\n",
    "    data.drop(columns=['Cabin'],inplace=True)\n",
    "    data['Age'].fillna(data['Age'].median(), inplace=True)\n",
    "    data['Embarked'].fillna('S', inplace=True)\n",
    "    data['Fare'].fillna(data['Fare'].median()) \n",
    "    return data\n",
    "\n",
    "def Family_type(number):\n",
    "    if number==0:\n",
    "        return 'Alone'\n",
    "    elif number>0 and number<=4:\n",
    "        return 'Medium'\n",
    "    else:\n",
    "        return 'Large'\n",
    "\n",
    "def Transform_data(data):\n",
    "    data['Family_size']=data['Parch']+data['SibSp']\n",
    "    data['Family_type']=data['Family_size'].apply(Family_type)\n",
    "    data.drop(columns=['SibSp', 'Parch', 'Family_size'], inplace=True)\n",
    "    data.loc[ data['Age'] <= 16, 'Age'] = 1\n",
    "    data.loc[(data['Age'] > 16) & (data['Age'] <= 26), 'Age'] = 2\n",
    "    data.loc[(data['Age'] > 26) & (data['Age'] <= 36), 'Age'] = 3\n",
    "    data.loc[(data['Age'] > 36) & (data['Age'] <= 62), 'Age'] = 4\n",
    "    data.loc[ data['Age'] > 62, 'Age'] = 5\n",
    "    data.loc[data['Fare'] <= 17, 'Fare'] = 1,\n",
    "    data.loc[(data['Fare'] > 17) & (data['Fare'] <= 30), 'Fare'] = 2,\n",
    "    data.loc[(data['Fare'] > 30) & (data['Fare'] <= 100), 'Fare'] = 3,\n",
    "    data.loc[ data['Fare'] > 100, 'Fare'] = 4\n",
    "    return data\n",
    "\n",
    "def clean_data(data):\n",
    "    data = Impute_missing_values(data)\n",
    "    data.head()\n",
    "    x_data = Transform_data(data)\n",
    "    x_data=pd.get_dummies(data=x_data, columns=['Age' ,'Fare',  'Pclass', 'Sex', 'Embarked', 'Family_type'], drop_first=True)\n",
    "    x_data.drop(columns=['Ticket', 'PassengerId', 'Name','Age_5.0'],inplace=True)\n",
    "    y_data = x_data.pop(\"Survived\")\n",
    "    return x_data, y_data\n",
    "\n",
    "x, y = clean_data(data)\n",
    "x.head()\n",
    "\n",
    "#Split the dataset into train and test dataset. Combine x_train and y_train. \n",
    "x_train, x_test, y_train, y_test = train_test_split(x,y,test_size=0.2)\n",
    "data_train = pd.concat([x_train,y_train], axis=1)\n",
    "data_test = pd.concat([x_test,y_test], axis=1)\n",
    "\n",
    "#Convert x_train and y_train (Which are in pandas DataFrame format) to TabularDataset format.\n",
    "try:\n",
    "    os.makedirs('./data', exist_ok=True)\n",
    "except OSError as error:\n",
    "    print('New directory cannot be created')\n",
    "    \n",
    "path_train = 'data/train.csv'\n",
    "path_test = 'data/test.csv'\n",
    "data_train.to_csv(path_train)\n",
    "data_test.to_csv(path_test)\n",
    "\n",
    "datastore = ws.get_default_datastore()\n",
    "datastore.upload(src_dir='data', target_path='data')\n",
    "\n",
    "train_data = TabularDatasetFactory.from_delimited_files(path=[(datastore, ('data/train.csv'))])\n",
    "test_data = TabularDatasetFactory.from_delimited_files(path=[(datastore, ('data/test.csv'))])\n",
    "print(\"Successfully converted the dataset to TabularDataset format.\")\n"
   ]
  },
  {
   "cell_type": "markdown",
   "metadata": {},
   "source": [
    "## AutoML Configurations"
   ]
  },
  {
   "cell_type": "code",
   "execution_count": 9,
   "metadata": {},
   "outputs": [],
   "source": [
    "from azureml.train.automl import AutoMLConfig\n",
    "\n",
    "#Set parameters for AutoMLConfig\n",
    "automl_config = AutoMLConfig(\n",
    "    experiment_timeout_minutes=30,\n",
    "    task=\"classification\",\n",
    "    primary_metric=\"accuracy\",\n",
    "    training_data=train_data,\n",
    "    label_column_name=\"Survived\",\n",
    "    n_cross_validations=5,\n",
    "    compute_target=compute_target)"
   ]
  },
  {
   "cell_type": "markdown",
   "metadata": {},
   "source": [
    "## Run Details\n",
    "\n",
    "OPTIONAL: Write about the different models trained and their performance. Why do you think some models did better than others?\n",
    "\n",
    "TODO: In the cell below, use the `RunDetails` widget to show the different experiments."
   ]
  },
  {
   "cell_type": "code",
   "execution_count": 11,
   "metadata": {
    "gather": {
     "logged": 1598431121770
    },
    "jupyter": {
     "outputs_hidden": false,
     "source_hidden": false
    },
    "nteract": {
     "transient": {
      "deleting": false
     }
    },
    "scrolled": false
   },
   "outputs": [
    {
     "name": "stdout",
     "output_type": "stream",
     "text": [
      "Running on remote.\n",
      "No run_configuration provided, running on computecluster1 with default configuration\n",
      "Running on remote compute: computecluster1\n",
      "Parent Run ID: AutoML_d5d21135-6b5f-48b9-bbb5-8c30cb2f3f8f\n",
      "\n",
      "Current status: FeaturesGeneration. Generating features for the dataset.\n",
      "Current status: ModelSelection. Beginning model selection.\n",
      "\n",
      "****************************************************************************************************\n",
      "DATA GUARDRAILS: \n",
      "\n",
      "TYPE:         Class balancing detection\n",
      "STATUS:       PASSED\n",
      "DESCRIPTION:  Your inputs were analyzed, and all classes are balanced in your training data.\n",
      "              Learn more about imbalanced data: https://aka.ms/AutomatedMLImbalancedData\n",
      "\n",
      "****************************************************************************************************\n",
      "\n",
      "TYPE:         Missing feature values imputation\n",
      "STATUS:       PASSED\n",
      "DESCRIPTION:  No feature missing values were detected in the training data.\n",
      "              Learn more about missing value imputation: https://aka.ms/AutomatedMLFeaturization\n",
      "\n",
      "****************************************************************************************************\n",
      "\n",
      "TYPE:         High cardinality feature detection\n",
      "STATUS:       PASSED\n",
      "DESCRIPTION:  Your inputs were analyzed, and no high cardinality features were detected.\n",
      "              Learn more about high cardinality feature handling: https://aka.ms/AutomatedMLFeaturization\n",
      "\n",
      "****************************************************************************************************\n",
      "\n",
      "****************************************************************************************************\n",
      "ITERATION: The iteration being evaluated.\n",
      "PIPELINE: A summary description of the pipeline being evaluated.\n",
      "DURATION: Time taken for the current iteration.\n",
      "METRIC: The result of computing score on the fitted pipeline.\n",
      "BEST: The best observed score thus far.\n",
      "****************************************************************************************************\n",
      "\n",
      " ITERATION   PIPELINE                                       DURATION      METRIC      BEST\n",
      "         0   MaxAbsScaler LightGBM                          0:00:46       0.7921    0.7921\n",
      "         1   MaxAbsScaler XGBoostClassifier                 0:00:50       0.7907    0.7921\n",
      "         2   MinMaxScaler RandomForest                      0:00:49       0.7738    0.7921\n",
      "         3   MinMaxScaler RandomForest                      0:00:42       0.7724    0.7921\n",
      "         4   MinMaxScaler RandomForest                      0:01:00       0.7893    0.7921\n",
      "         5   MinMaxScaler SVM                               0:00:53       0.7837    0.7921\n",
      "         6   MaxAbsScaler GradientBoosting                  0:00:53       0.7766    0.7921\n",
      "         7   StandardScalerWrapper RandomForest             0:00:56       0.7879    0.7921\n",
      "         8   SparseNormalizer XGBoostClassifier             0:00:53       0.7780    0.7921\n",
      "         9   SparseNormalizer LightGBM                      0:00:49       0.7907    0.7921\n",
      "        10   RobustScaler RandomForest                      0:00:53       0.7892    0.7921\n",
      "        11   MaxAbsScaler LightGBM                          0:00:50       0.7935    0.7935\n",
      "        12   RobustScaler ExtremeRandomTrees                0:00:42       0.7808    0.7935\n",
      "        13   SparseNormalizer XGBoostClassifier             0:00:49       0.7766    0.7935\n",
      "        14   StandardScalerWrapper ExtremeRandomTrees       0:00:46       0.7837    0.7935\n",
      "        15   StandardScalerWrapper XGBoostClassifier        0:00:45       0.8033    0.8033\n",
      "        16   SparseNormalizer XGBoostClassifier             0:00:50       0.7892    0.8033\n",
      "        17   SparseNormalizer XGBoostClassifier             0:00:50       0.7892    0.8033\n",
      "        18   MinMaxScaler RandomForest                      0:00:55       0.7878    0.8033\n",
      "        19   SparseNormalizer XGBoostClassifier             0:00:49       0.7823    0.8033\n",
      "        20   MaxAbsScaler ExtremeRandomTrees                0:00:49       0.7963    0.8033\n",
      "        21   MinMaxScaler ExtremeRandomTrees                0:00:52       0.7837    0.8033\n",
      "        22   RobustScaler KNN                               0:01:26       0.6081    0.8033\n",
      "        23   SparseNormalizer GradientBoosting              0:00:41       0.7822    0.8033\n",
      "        24   SparseNormalizer XGBoostClassifier             0:00:46       0.7851    0.8033\n",
      "        25   SparseNormalizer XGBoostClassifier             0:01:21       0.6165    0.8033\n",
      "        26    VotingEnsemble                                0:01:14       0.8118    0.8118\n",
      "        27    StackEnsemble                                 0:01:34       0.7837    0.8118\n"
     ]
    },
    {
     "data": {
      "application/vnd.jupyter.widget-view+json": {
       "model_id": "8200e1955b25451b9c0527e0ba4a4544",
       "version_major": 2,
       "version_minor": 0
      },
      "text/plain": [
       "_AutoMLWidget(widget_settings={'childWidgetDisplay': 'popup', 'send_telemetry': False, 'log_level': 'INFO', 's…"
      ]
     },
     "metadata": {},
     "output_type": "display_data"
    },
    {
     "data": {
      "application/aml.mini.widget.v1": "{\"status\": \"Completed\", \"workbench_run_details_uri\": \"https://ml.azure.com/experiments/titanic_automl/runs/AutoML_d5d21135-6b5f-48b9-bbb5-8c30cb2f3f8f?wsid=/subscriptions/3d1a56d2-7c81-4118-9790-f85d1acf0c77/resourcegroups/aml-quickstarts-136108/workspaces/quick-starts-ws-136108\", \"run_id\": \"AutoML_d5d21135-6b5f-48b9-bbb5-8c30cb2f3f8f\", \"run_properties\": {\"run_id\": \"AutoML_d5d21135-6b5f-48b9-bbb5-8c30cb2f3f8f\", \"created_utc\": \"2021-01-26T10:47:39.469596Z\", \"properties\": {\"num_iterations\": \"1000\", \"training_type\": \"TrainFull\", \"acquisition_function\": \"EI\", \"primary_metric\": \"accuracy\", \"train_split\": \"0\", \"acquisition_parameter\": \"0\", \"num_cross_validation\": \"5\", \"target\": \"computecluster1\", \"AMLSettingsJsonString\": \"{\\\"path\\\":null,\\\"name\\\":\\\"titanic_automl\\\",\\\"subscription_id\\\":\\\"3d1a56d2-7c81-4118-9790-f85d1acf0c77\\\",\\\"resource_group\\\":\\\"aml-quickstarts-136108\\\",\\\"workspace_name\\\":\\\"quick-starts-ws-136108\\\",\\\"region\\\":\\\"southcentralus\\\",\\\"compute_target\\\":\\\"computecluster1\\\",\\\"spark_service\\\":null,\\\"azure_service\\\":\\\"remote\\\",\\\"many_models\\\":false,\\\"pipeline_fetch_max_batch_size\\\":1,\\\"iterations\\\":1000,\\\"primary_metric\\\":\\\"accuracy\\\",\\\"task_type\\\":\\\"classification\\\",\\\"data_script\\\":null,\\\"validation_size\\\":0.0,\\\"n_cross_validations\\\":5,\\\"y_min\\\":null,\\\"y_max\\\":null,\\\"num_classes\\\":null,\\\"featurization\\\":\\\"auto\\\",\\\"_ignore_package_version_incompatibilities\\\":false,\\\"is_timeseries\\\":false,\\\"max_cores_per_iteration\\\":1,\\\"max_concurrent_iterations\\\":1,\\\"iteration_timeout_minutes\\\":null,\\\"mem_in_mb\\\":null,\\\"enforce_time_on_windows\\\":false,\\\"experiment_timeout_minutes\\\":30,\\\"experiment_exit_score\\\":null,\\\"whitelist_models\\\":null,\\\"blacklist_algos\\\":[\\\"TensorFlowLinearClassifier\\\",\\\"TensorFlowDNN\\\"],\\\"supported_models\\\":[\\\"SVM\\\",\\\"RandomForest\\\",\\\"ExtremeRandomTrees\\\",\\\"MultinomialNaiveBayes\\\",\\\"BernoulliNaiveBayes\\\",\\\"SGD\\\",\\\"LinearSVM\\\",\\\"LogisticRegression\\\",\\\"DecisionTree\\\",\\\"KNN\\\",\\\"XGBoostClassifier\\\",\\\"TensorFlowDNN\\\",\\\"LightGBM\\\",\\\"TensorFlowLinearClassifier\\\",\\\"GradientBoosting\\\",\\\"AveragedPerceptronClassifier\\\"],\\\"auto_blacklist\\\":true,\\\"blacklist_samples_reached\\\":false,\\\"exclude_nan_labels\\\":true,\\\"verbosity\\\":20,\\\"_debug_log\\\":\\\"azureml_automl.log\\\",\\\"show_warnings\\\":false,\\\"model_explainability\\\":true,\\\"service_url\\\":null,\\\"sdk_url\\\":null,\\\"sdk_packages\\\":null,\\\"enable_onnx_compatible_models\\\":false,\\\"enable_split_onnx_featurizer_estimator_models\\\":false,\\\"vm_type\\\":\\\"STANDARD_DS2_V2\\\",\\\"telemetry_verbosity\\\":20,\\\"send_telemetry\\\":true,\\\"enable_dnn\\\":false,\\\"scenario\\\":\\\"SDK-1.13.0\\\",\\\"environment_label\\\":null,\\\"force_text_dnn\\\":false,\\\"enable_feature_sweeping\\\":true,\\\"enable_early_stopping\\\":false,\\\"early_stopping_n_iters\\\":10,\\\"metrics\\\":null,\\\"enable_ensembling\\\":true,\\\"enable_stack_ensembling\\\":true,\\\"ensemble_iterations\\\":15,\\\"enable_tf\\\":false,\\\"enable_subsampling\\\":null,\\\"subsample_seed\\\":null,\\\"enable_nimbusml\\\":false,\\\"enable_streaming\\\":false,\\\"force_streaming\\\":false,\\\"track_child_runs\\\":true,\\\"allowed_private_models\\\":[],\\\"label_column_name\\\":\\\"Survived\\\",\\\"weight_column_name\\\":null,\\\"cv_split_column_names\\\":null,\\\"enable_local_managed\\\":false,\\\"_local_managed_run_id\\\":null,\\\"cost_mode\\\":1,\\\"lag_length\\\":0,\\\"metric_operation\\\":\\\"maximize\\\",\\\"preprocess\\\":true}\", \"DataPrepJsonString\": \"{\\\\\\\"training_data\\\\\\\": \\\\\\\"{\\\\\\\\\\\\\\\"blocks\\\\\\\\\\\\\\\": [{\\\\\\\\\\\\\\\"id\\\\\\\\\\\\\\\": \\\\\\\\\\\\\\\"03e52d5e-4f6c-476a-b36b-c950aeb61e94\\\\\\\\\\\\\\\", \\\\\\\\\\\\\\\"type\\\\\\\\\\\\\\\": \\\\\\\\\\\\\\\"Microsoft.DPrep.GetDatastoreFilesBlock\\\\\\\\\\\\\\\", \\\\\\\\\\\\\\\"arguments\\\\\\\\\\\\\\\": {\\\\\\\\\\\\\\\"datastores\\\\\\\\\\\\\\\": [{\\\\\\\\\\\\\\\"datastoreName\\\\\\\\\\\\\\\": \\\\\\\\\\\\\\\"workspaceblobstore\\\\\\\\\\\\\\\", \\\\\\\\\\\\\\\"path\\\\\\\\\\\\\\\": \\\\\\\\\\\\\\\"data/train.csv\\\\\\\\\\\\\\\", \\\\\\\\\\\\\\\"resourceGroup\\\\\\\\\\\\\\\": \\\\\\\\\\\\\\\"aml-quickstarts-136108\\\\\\\\\\\\\\\", \\\\\\\\\\\\\\\"subscription\\\\\\\\\\\\\\\": \\\\\\\\\\\\\\\"3d1a56d2-7c81-4118-9790-f85d1acf0c77\\\\\\\\\\\\\\\", \\\\\\\\\\\\\\\"workspaceName\\\\\\\\\\\\\\\": \\\\\\\\\\\\\\\"quick-starts-ws-136108\\\\\\\\\\\\\\\"}]}, \\\\\\\\\\\\\\\"localData\\\\\\\\\\\\\\\": {}, \\\\\\\\\\\\\\\"isEnabled\\\\\\\\\\\\\\\": true, \\\\\\\\\\\\\\\"name\\\\\\\\\\\\\\\": null, \\\\\\\\\\\\\\\"annotation\\\\\\\\\\\\\\\": null}, {\\\\\\\\\\\\\\\"id\\\\\\\\\\\\\\\": \\\\\\\\\\\\\\\"f809b42a-42a4-485c-bc9f-512e0ba85670\\\\\\\\\\\\\\\", \\\\\\\\\\\\\\\"type\\\\\\\\\\\\\\\": \\\\\\\\\\\\\\\"Microsoft.DPrep.ParseDelimitedBlock\\\\\\\\\\\\\\\", \\\\\\\\\\\\\\\"arguments\\\\\\\\\\\\\\\": {\\\\\\\\\\\\\\\"columnHeadersMode\\\\\\\\\\\\\\\": 3, \\\\\\\\\\\\\\\"fileEncoding\\\\\\\\\\\\\\\": 0, \\\\\\\\\\\\\\\"handleQuotedLineBreaks\\\\\\\\\\\\\\\": false, \\\\\\\\\\\\\\\"preview\\\\\\\\\\\\\\\": false, \\\\\\\\\\\\\\\"separator\\\\\\\\\\\\\\\": \\\\\\\\\\\\\\\",\\\\\\\\\\\\\\\", \\\\\\\\\\\\\\\"skipRows\\\\\\\\\\\\\\\": 0, \\\\\\\\\\\\\\\"skipRowsMode\\\\\\\\\\\\\\\": 0}, \\\\\\\\\\\\\\\"localData\\\\\\\\\\\\\\\": {}, \\\\\\\\\\\\\\\"isEnabled\\\\\\\\\\\\\\\": true, \\\\\\\\\\\\\\\"name\\\\\\\\\\\\\\\": null, \\\\\\\\\\\\\\\"annotation\\\\\\\\\\\\\\\": null}, {\\\\\\\\\\\\\\\"id\\\\\\\\\\\\\\\": \\\\\\\\\\\\\\\"51112043-d896-45a6-aa14-ec905d050219\\\\\\\\\\\\\\\", \\\\\\\\\\\\\\\"type\\\\\\\\\\\\\\\": \\\\\\\\\\\\\\\"Microsoft.DPrep.DropColumnsBlock\\\\\\\\\\\\\\\", \\\\\\\\\\\\\\\"arguments\\\\\\\\\\\\\\\": {\\\\\\\\\\\\\\\"columns\\\\\\\\\\\\\\\": {\\\\\\\\\\\\\\\"type\\\\\\\\\\\\\\\": 0, \\\\\\\\\\\\\\\"details\\\\\\\\\\\\\\\": {\\\\\\\\\\\\\\\"selectedColumns\\\\\\\\\\\\\\\": [\\\\\\\\\\\\\\\"Path\\\\\\\\\\\\\\\"]}}}, \\\\\\\\\\\\\\\"localData\\\\\\\\\\\\\\\": {}, \\\\\\\\\\\\\\\"isEnabled\\\\\\\\\\\\\\\": true, \\\\\\\\\\\\\\\"name\\\\\\\\\\\\\\\": null, \\\\\\\\\\\\\\\"annotation\\\\\\\\\\\\\\\": null}, {\\\\\\\\\\\\\\\"id\\\\\\\\\\\\\\\": \\\\\\\\\\\\\\\"097c1f32-c2db-4b36-95a6-e75c9c47a9e4\\\\\\\\\\\\\\\", \\\\\\\\\\\\\\\"type\\\\\\\\\\\\\\\": \\\\\\\\\\\\\\\"Microsoft.DPrep.SetColumnTypesBlock\\\\\\\\\\\\\\\", \\\\\\\\\\\\\\\"arguments\\\\\\\\\\\\\\\": {\\\\\\\\\\\\\\\"columnConversion\\\\\\\\\\\\\\\": [{\\\\\\\\\\\\\\\"column\\\\\\\\\\\\\\\": {\\\\\\\\\\\\\\\"type\\\\\\\\\\\\\\\": 2, \\\\\\\\\\\\\\\"details\\\\\\\\\\\\\\\": {\\\\\\\\\\\\\\\"selectedColumn\\\\\\\\\\\\\\\": \\\\\\\\\\\\\\\"Column1\\\\\\\\\\\\\\\"}}, \\\\\\\\\\\\\\\"typeProperty\\\\\\\\\\\\\\\": 2}, {\\\\\\\\\\\\\\\"column\\\\\\\\\\\\\\\": {\\\\\\\\\\\\\\\"type\\\\\\\\\\\\\\\": 2, \\\\\\\\\\\\\\\"details\\\\\\\\\\\\\\\": {\\\\\\\\\\\\\\\"selectedColumn\\\\\\\\\\\\\\\": \\\\\\\\\\\\\\\"Age_2.0\\\\\\\\\\\\\\\"}}, \\\\\\\\\\\\\\\"typeProperty\\\\\\\\\\\\\\\": 2}, {\\\\\\\\\\\\\\\"column\\\\\\\\\\\\\\\": {\\\\\\\\\\\\\\\"type\\\\\\\\\\\\\\\": 2, \\\\\\\\\\\\\\\"details\\\\\\\\\\\\\\\": {\\\\\\\\\\\\\\\"selectedColumn\\\\\\\\\\\\\\\": \\\\\\\\\\\\\\\"Age_3.0\\\\\\\\\\\\\\\"}}, \\\\\\\\\\\\\\\"typeProperty\\\\\\\\\\\\\\\": 2}, {\\\\\\\\\\\\\\\"column\\\\\\\\\\\\\\\": {\\\\\\\\\\\\\\\"type\\\\\\\\\\\\\\\": 2, \\\\\\\\\\\\\\\"details\\\\\\\\\\\\\\\": {\\\\\\\\\\\\\\\"selectedColumn\\\\\\\\\\\\\\\": \\\\\\\\\\\\\\\"Age_4.0\\\\\\\\\\\\\\\"}}, \\\\\\\\\\\\\\\"typeProperty\\\\\\\\\\\\\\\": 2}, {\\\\\\\\\\\\\\\"column\\\\\\\\\\\\\\\": {\\\\\\\\\\\\\\\"type\\\\\\\\\\\\\\\": 2, \\\\\\\\\\\\\\\"details\\\\\\\\\\\\\\\": {\\\\\\\\\\\\\\\"selectedColumn\\\\\\\\\\\\\\\": \\\\\\\\\\\\\\\"Fare_2.0\\\\\\\\\\\\\\\"}}, \\\\\\\\\\\\\\\"typeProperty\\\\\\\\\\\\\\\": 2}, {\\\\\\\\\\\\\\\"column\\\\\\\\\\\\\\\": {\\\\\\\\\\\\\\\"type\\\\\\\\\\\\\\\": 2, \\\\\\\\\\\\\\\"details\\\\\\\\\\\\\\\": {\\\\\\\\\\\\\\\"selectedColumn\\\\\\\\\\\\\\\": \\\\\\\\\\\\\\\"Fare_3.0\\\\\\\\\\\\\\\"}}, \\\\\\\\\\\\\\\"typeProperty\\\\\\\\\\\\\\\": 2}, {\\\\\\\\\\\\\\\"column\\\\\\\\\\\\\\\": {\\\\\\\\\\\\\\\"type\\\\\\\\\\\\\\\": 2, \\\\\\\\\\\\\\\"details\\\\\\\\\\\\\\\": {\\\\\\\\\\\\\\\"selectedColumn\\\\\\\\\\\\\\\": \\\\\\\\\\\\\\\"Fare_4.0\\\\\\\\\\\\\\\"}}, \\\\\\\\\\\\\\\"typeProperty\\\\\\\\\\\\\\\": 2}, {\\\\\\\\\\\\\\\"column\\\\\\\\\\\\\\\": {\\\\\\\\\\\\\\\"type\\\\\\\\\\\\\\\": 2, \\\\\\\\\\\\\\\"details\\\\\\\\\\\\\\\": {\\\\\\\\\\\\\\\"selectedColumn\\\\\\\\\\\\\\\": \\\\\\\\\\\\\\\"Pclass_2\\\\\\\\\\\\\\\"}}, \\\\\\\\\\\\\\\"typeProperty\\\\\\\\\\\\\\\": 2}, {\\\\\\\\\\\\\\\"column\\\\\\\\\\\\\\\": {\\\\\\\\\\\\\\\"type\\\\\\\\\\\\\\\": 2, \\\\\\\\\\\\\\\"details\\\\\\\\\\\\\\\": {\\\\\\\\\\\\\\\"selectedColumn\\\\\\\\\\\\\\\": \\\\\\\\\\\\\\\"Pclass_3\\\\\\\\\\\\\\\"}}, \\\\\\\\\\\\\\\"typeProperty\\\\\\\\\\\\\\\": 2}, {\\\\\\\\\\\\\\\"column\\\\\\\\\\\\\\\": {\\\\\\\\\\\\\\\"type\\\\\\\\\\\\\\\": 2, \\\\\\\\\\\\\\\"details\\\\\\\\\\\\\\\": {\\\\\\\\\\\\\\\"selectedColumn\\\\\\\\\\\\\\\": \\\\\\\\\\\\\\\"Sex_male\\\\\\\\\\\\\\\"}}, \\\\\\\\\\\\\\\"typeProperty\\\\\\\\\\\\\\\": 2}, {\\\\\\\\\\\\\\\"column\\\\\\\\\\\\\\\": {\\\\\\\\\\\\\\\"type\\\\\\\\\\\\\\\": 2, \\\\\\\\\\\\\\\"details\\\\\\\\\\\\\\\": {\\\\\\\\\\\\\\\"selectedColumn\\\\\\\\\\\\\\\": \\\\\\\\\\\\\\\"Embarked_Q\\\\\\\\\\\\\\\"}}, \\\\\\\\\\\\\\\"typeProperty\\\\\\\\\\\\\\\": 2}, {\\\\\\\\\\\\\\\"column\\\\\\\\\\\\\\\": {\\\\\\\\\\\\\\\"type\\\\\\\\\\\\\\\": 2, \\\\\\\\\\\\\\\"details\\\\\\\\\\\\\\\": {\\\\\\\\\\\\\\\"selectedColumn\\\\\\\\\\\\\\\": \\\\\\\\\\\\\\\"Embarked_S\\\\\\\\\\\\\\\"}}, \\\\\\\\\\\\\\\"typeProperty\\\\\\\\\\\\\\\": 2}, {\\\\\\\\\\\\\\\"column\\\\\\\\\\\\\\\": {\\\\\\\\\\\\\\\"type\\\\\\\\\\\\\\\": 2, \\\\\\\\\\\\\\\"details\\\\\\\\\\\\\\\": {\\\\\\\\\\\\\\\"selectedColumn\\\\\\\\\\\\\\\": \\\\\\\\\\\\\\\"Family_type_Large\\\\\\\\\\\\\\\"}}, \\\\\\\\\\\\\\\"typeProperty\\\\\\\\\\\\\\\": 2}, {\\\\\\\\\\\\\\\"column\\\\\\\\\\\\\\\": {\\\\\\\\\\\\\\\"type\\\\\\\\\\\\\\\": 2, \\\\\\\\\\\\\\\"details\\\\\\\\\\\\\\\": {\\\\\\\\\\\\\\\"selectedColumn\\\\\\\\\\\\\\\": \\\\\\\\\\\\\\\"Family_type_Medium\\\\\\\\\\\\\\\"}}, \\\\\\\\\\\\\\\"typeProperty\\\\\\\\\\\\\\\": 2}, {\\\\\\\\\\\\\\\"column\\\\\\\\\\\\\\\": {\\\\\\\\\\\\\\\"type\\\\\\\\\\\\\\\": 2, \\\\\\\\\\\\\\\"details\\\\\\\\\\\\\\\": {\\\\\\\\\\\\\\\"selectedColumn\\\\\\\\\\\\\\\": \\\\\\\\\\\\\\\"Survived\\\\\\\\\\\\\\\"}}, \\\\\\\\\\\\\\\"typeProperty\\\\\\\\\\\\\\\": 2}]}, \\\\\\\\\\\\\\\"localData\\\\\\\\\\\\\\\": {}, \\\\\\\\\\\\\\\"isEnabled\\\\\\\\\\\\\\\": true, \\\\\\\\\\\\\\\"name\\\\\\\\\\\\\\\": null, \\\\\\\\\\\\\\\"annotation\\\\\\\\\\\\\\\": null}], \\\\\\\\\\\\\\\"inspectors\\\\\\\\\\\\\\\": [], \\\\\\\\\\\\\\\"meta\\\\\\\\\\\\\\\": {\\\\\\\\\\\\\\\"savedDatasetId\\\\\\\\\\\\\\\": \\\\\\\\\\\\\\\"d514f3bf-2c57-4972-a7fb-eb902530669a\\\\\\\\\\\\\\\", \\\\\\\\\\\\\\\"datasetType\\\\\\\\\\\\\\\": \\\\\\\\\\\\\\\"tabular\\\\\\\\\\\\\\\", \\\\\\\\\\\\\\\"subscriptionId\\\\\\\\\\\\\\\": \\\\\\\\\\\\\\\"3d1a56d2-7c81-4118-9790-f85d1acf0c77\\\\\\\\\\\\\\\", \\\\\\\\\\\\\\\"workspaceId\\\\\\\\\\\\\\\": \\\\\\\\\\\\\\\"0be4eeb6-e384-42ee-9207-5ec4ef507c80\\\\\\\\\\\\\\\", \\\\\\\\\\\\\\\"workspaceLocation\\\\\\\\\\\\\\\": \\\\\\\\\\\\\\\"southcentralus\\\\\\\\\\\\\\\"}}\\\\\\\", \\\\\\\"activities\\\\\\\": 0}\", \"EnableSubsampling\": null, \"runTemplate\": \"AutoML\", \"azureml.runsource\": \"automl\", \"display_task_type\": \"classification\", \"dependencies_versions\": \"{\\\"azureml-widgets\\\": \\\"1.20.0\\\", \\\"azureml-train\\\": \\\"1.20.0\\\", \\\"azureml-train-restclients-hyperdrive\\\": \\\"1.20.0\\\", \\\"azureml-train-core\\\": \\\"1.20.0\\\", \\\"azureml-train-automl\\\": \\\"1.20.0\\\", \\\"azureml-train-automl-runtime\\\": \\\"1.20.0\\\", \\\"azureml-train-automl-client\\\": \\\"1.20.0\\\", \\\"azureml-tensorboard\\\": \\\"1.20.0\\\", \\\"azureml-telemetry\\\": \\\"1.20.0\\\", \\\"azureml-sdk\\\": \\\"1.20.0\\\", \\\"azureml-samples\\\": \\\"0+unknown\\\", \\\"azureml-pipeline\\\": \\\"1.20.0\\\", \\\"azureml-pipeline-steps\\\": \\\"1.20.0\\\", \\\"azureml-pipeline-core\\\": \\\"1.20.0\\\", \\\"azureml-opendatasets\\\": \\\"1.20.0\\\", \\\"azureml-model-management-sdk\\\": \\\"1.0.1b6.post1\\\", \\\"azureml-mlflow\\\": \\\"1.20.0.post1\\\", \\\"azureml-interpret\\\": \\\"1.20.0\\\", \\\"azureml-explain-model\\\": \\\"1.20.0\\\", \\\"azureml-defaults\\\": \\\"1.20.0\\\", \\\"azureml-dataset-runtime\\\": \\\"1.20.0\\\", \\\"azureml-dataprep\\\": \\\"2.7.3\\\", \\\"azureml-dataprep-rslex\\\": \\\"1.5.0\\\", \\\"azureml-dataprep-native\\\": \\\"27.0.0\\\", \\\"azureml-datadrift\\\": \\\"1.20.0\\\", \\\"azureml-core\\\": \\\"1.20.0\\\", \\\"azureml-contrib-services\\\": \\\"1.20.0\\\", \\\"azureml-contrib-server\\\": \\\"1.20.0\\\", \\\"azureml-contrib-reinforcementlearning\\\": \\\"1.20.0\\\", \\\"azureml-contrib-pipeline-steps\\\": \\\"1.20.0\\\", \\\"azureml-contrib-notebook\\\": \\\"1.20.0\\\", \\\"azureml-contrib-interpret\\\": \\\"1.20.0\\\", \\\"azureml-contrib-gbdt\\\": \\\"1.20.0\\\", \\\"azureml-contrib-fairness\\\": \\\"1.20.0\\\", \\\"azureml-contrib-dataset\\\": \\\"1.20.0\\\", \\\"azureml-cli-common\\\": \\\"1.20.0\\\", \\\"azureml-automl-runtime\\\": \\\"1.20.0\\\", \\\"azureml-automl-core\\\": \\\"1.20.0\\\", \\\"azureml-accel-models\\\": \\\"1.20.0\\\"}\", \"_aml_system_scenario_identification\": \"Remote.Parent\", \"ClientType\": \"SDK\", \"environment_cpu_name\": \"AzureML-AutoML\", \"environment_cpu_label\": \"prod\", \"environment_gpu_name\": \"AzureML-AutoML-GPU\", \"environment_gpu_label\": \"prod\", \"root_attribution\": \"automl\", \"attribution\": \"AutoML\", \"Orchestrator\": \"AutoML\", \"CancelUri\": \"https://southcentralus.experiments.azureml.net/jasmine/v1.0/subscriptions/3d1a56d2-7c81-4118-9790-f85d1acf0c77/resourceGroups/aml-quickstarts-136108/providers/Microsoft.MachineLearningServices/workspaces/quick-starts-ws-136108/experimentids/ec29f5d4-007f-48e0-bab4-6807ea366eae/cancel/AutoML_d5d21135-6b5f-48b9-bbb5-8c30cb2f3f8f\", \"ClientSdkVersion\": \"1.20.0.post1\", \"snapshotId\": \"00000000-0000-0000-0000-000000000000\", \"SetupRunId\": \"AutoML_d5d21135-6b5f-48b9-bbb5-8c30cb2f3f8f_setup\", \"SetupRunContainerId\": \"dcid.AutoML_d5d21135-6b5f-48b9-bbb5-8c30cb2f3f8f_setup\", \"FeaturizationRunJsonPath\": \"featurizer_container.json\", \"FeaturizationRunId\": \"AutoML_d5d21135-6b5f-48b9-bbb5-8c30cb2f3f8f_featurize\", \"ProblemInfoJsonString\": \"{\\\"dataset_num_categorical\\\": 0, \\\"is_sparse\\\": false, \\\"subsampling\\\": false, \\\"dataset_classes\\\": 2, \\\"dataset_features\\\": 14, \\\"dataset_samples\\\": 712, \\\"single_frequency_class_detected\\\": false}\", \"ModelExplainRunId\": \"AutoML_d5d21135-6b5f-48b9-bbb5-8c30cb2f3f8f_ModelExplain\"}, \"tags\": {\"model_explain_run\": \"best_run\", \"_aml_system_azureml.automlComponent\": \"AutoML\", \"pipeline_id\": \"\", \"score\": \"\", \"predicted_cost\": \"\", \"fit_time\": \"\", \"training_percent\": \"\", \"iteration\": \"\", \"run_preprocessor\": \"\", \"run_algorithm\": \"\", \"dynamic_whitelisting_iterations\": \"<25>;\", \"automl_best_child_run_id\": \"AutoML_d5d21135-6b5f-48b9-bbb5-8c30cb2f3f8f_26\", \"model_explain_best_run_child_id\": \"AutoML_d5d21135-6b5f-48b9-bbb5-8c30cb2f3f8f_26\"}, \"end_time_utc\": \"2021-01-26T11:27:21.350548Z\", \"status\": \"Completed\", \"log_files\": {}, \"log_groups\": [], \"run_duration\": \"0:39:41\"}, \"child_runs\": [{\"run_id\": \"AutoML_d5d21135-6b5f-48b9-bbb5-8c30cb2f3f8f_0\", \"run_number\": 5, \"metric\": null, \"status\": \"Completed\", \"run_type\": \"azureml.scriptrun\", \"training_percent\": \"100\", \"start_time\": \"2021-01-26T10:53:56.464713Z\", \"end_time\": \"2021-01-26T10:54:42.217305Z\", \"created_time\": \"2021-01-26T10:53:42.125901Z\", \"created_time_dt\": \"2021-01-26T10:53:42.125901Z\", \"duration\": \"0:01:00\", \"iteration\": \"0\", \"goal\": \"accuracy_max\", \"run_name\": \"MaxAbsScaler, LightGBM\", \"run_properties\": \"copy=True\", \"primary_metric\": 0.79208116, \"best_metric\": 0.79208116}, {\"run_id\": \"AutoML_d5d21135-6b5f-48b9-bbb5-8c30cb2f3f8f_1\", \"run_number\": 6, \"metric\": null, \"status\": \"Completed\", \"run_type\": \"azureml.scriptrun\", \"training_percent\": \"100\", \"start_time\": \"2021-01-26T10:55:01.567583Z\", \"end_time\": \"2021-01-26T10:55:51.887026Z\", \"created_time\": \"2021-01-26T10:54:43.099759Z\", \"created_time_dt\": \"2021-01-26T10:54:43.099759Z\", \"duration\": \"0:01:08\", \"iteration\": \"1\", \"goal\": \"accuracy_max\", \"run_name\": \"MaxAbsScaler, XGBoostClassifier\", \"run_properties\": \"copy=True\", \"primary_metric\": 0.79069241, \"best_metric\": 0.79208116}, {\"run_id\": \"AutoML_d5d21135-6b5f-48b9-bbb5-8c30cb2f3f8f_2\", \"run_number\": 7, \"metric\": null, \"status\": \"Completed\", \"run_type\": \"azureml.scriptrun\", \"training_percent\": \"100\", \"start_time\": \"2021-01-26T10:56:13.093965Z\", \"end_time\": \"2021-01-26T10:57:02.001364Z\", \"created_time\": \"2021-01-26T10:55:54.607911Z\", \"created_time_dt\": \"2021-01-26T10:55:54.607911Z\", \"duration\": \"0:01:07\", \"iteration\": \"2\", \"goal\": \"accuracy_max\", \"run_name\": \"MinMaxScaler, RandomForest\", \"run_properties\": \"copy=True, feature_range=(0, 1\", \"primary_metric\": 0.77383039, \"best_metric\": 0.79208116}, {\"run_id\": \"AutoML_d5d21135-6b5f-48b9-bbb5-8c30cb2f3f8f_3\", \"run_number\": 8, \"metric\": null, \"status\": \"Completed\", \"run_type\": \"azureml.scriptrun\", \"training_percent\": \"100\", \"start_time\": \"2021-01-26T10:57:14.519587Z\", \"end_time\": \"2021-01-26T10:57:56.183564Z\", \"created_time\": \"2021-01-26T10:57:04.162649Z\", \"created_time_dt\": \"2021-01-26T10:57:04.162649Z\", \"duration\": \"0:00:52\", \"iteration\": \"3\", \"goal\": \"accuracy_max\", \"run_name\": \"MinMaxScaler, RandomForest\", \"run_properties\": \"copy=True, feature_range=(0, 1\", \"primary_metric\": 0.77243179, \"best_metric\": 0.79208116}, {\"run_id\": \"AutoML_d5d21135-6b5f-48b9-bbb5-8c30cb2f3f8f_4\", \"run_number\": 9, \"metric\": null, \"status\": \"Completed\", \"run_type\": \"azureml.scriptrun\", \"training_percent\": \"100\", \"start_time\": \"2021-01-26T10:58:11.059769Z\", \"end_time\": \"2021-01-26T10:59:11.190332Z\", \"created_time\": \"2021-01-26T10:57:58.350871Z\", \"created_time_dt\": \"2021-01-26T10:57:58.350871Z\", \"duration\": \"0:01:12\", \"iteration\": \"4\", \"goal\": \"accuracy_max\", \"run_name\": \"MinMaxScaler, RandomForest\", \"run_properties\": \"copy=True, feature_range=(0, 1\", \"primary_metric\": 0.7892938, \"best_metric\": 0.79208116}, {\"run_id\": \"AutoML_d5d21135-6b5f-48b9-bbb5-8c30cb2f3f8f_5\", \"run_number\": 10, \"metric\": null, \"status\": \"Completed\", \"run_type\": \"azureml.scriptrun\", \"training_percent\": \"100\", \"start_time\": \"2021-01-26T10:59:25.581481Z\", \"end_time\": \"2021-01-26T11:00:18.832197Z\", \"created_time\": \"2021-01-26T10:59:13.967119Z\", \"created_time_dt\": \"2021-01-26T10:59:13.967119Z\", \"duration\": \"0:01:04\", \"iteration\": \"5\", \"goal\": \"accuracy_max\", \"run_name\": \"MinMaxScaler, SVM\", \"run_properties\": \"copy=True, feature_range=(0, 1\", \"primary_metric\": 0.7837191, \"best_metric\": 0.79208116}, {\"run_id\": \"AutoML_d5d21135-6b5f-48b9-bbb5-8c30cb2f3f8f_6\", \"run_number\": 11, \"metric\": null, \"status\": \"Completed\", \"run_type\": \"azureml.scriptrun\", \"training_percent\": \"100\", \"start_time\": \"2021-01-26T11:00:33.263255Z\", \"end_time\": \"2021-01-26T11:01:26.529855Z\", \"created_time\": \"2021-01-26T11:00:21.251354Z\", \"created_time_dt\": \"2021-01-26T11:00:21.251354Z\", \"duration\": \"0:01:05\", \"iteration\": \"6\", \"goal\": \"accuracy_max\", \"run_name\": \"MaxAbsScaler, GradientBoosting\", \"run_properties\": \"copy=True\", \"primary_metric\": 0.7766473, \"best_metric\": 0.79208116}, {\"run_id\": \"AutoML_d5d21135-6b5f-48b9-bbb5-8c30cb2f3f8f_7\", \"run_number\": 12, \"metric\": null, \"status\": \"Completed\", \"run_type\": \"azureml.scriptrun\", \"training_percent\": \"100\", \"start_time\": \"2021-01-26T11:01:45.51752Z\", \"end_time\": \"2021-01-26T11:02:41.599821Z\", \"created_time\": \"2021-01-26T11:01:28.349892Z\", \"created_time_dt\": \"2021-01-26T11:01:28.349892Z\", \"duration\": \"0:01:13\", \"iteration\": \"7\", \"goal\": \"accuracy_max\", \"run_name\": \"StandardScalerWrapper, RandomForest\", \"run_properties\": \"<azureml.automl.runtime.shared.model_wrappers.StandardScalerWrapper object at 0x7fdbc96a4a58\", \"primary_metric\": 0.78785581, \"best_metric\": 0.79208116}, {\"run_id\": \"AutoML_d5d21135-6b5f-48b9-bbb5-8c30cb2f3f8f_8\", \"run_number\": 13, \"metric\": null, \"status\": \"Completed\", \"run_type\": \"azureml.scriptrun\", \"training_percent\": \"100\", \"start_time\": \"2021-01-26T11:02:54.59747Z\", \"end_time\": \"2021-01-26T11:03:47.99062Z\", \"created_time\": \"2021-01-26T11:02:43.385477Z\", \"created_time_dt\": \"2021-01-26T11:02:43.385477Z\", \"duration\": \"0:01:04\", \"iteration\": \"8\", \"goal\": \"accuracy_max\", \"run_name\": \"SparseNormalizer, XGBoostClassifier\", \"run_properties\": \"<azureml.automl.runtime.shared.model_wrappers.SparseNormalizer object at 0x7fd885e08470\", \"primary_metric\": 0.77803605, \"best_metric\": 0.79208116}, {\"run_id\": \"AutoML_d5d21135-6b5f-48b9-bbb5-8c30cb2f3f8f_9\", \"run_number\": 14, \"metric\": null, \"status\": \"Completed\", \"run_type\": \"azureml.scriptrun\", \"training_percent\": \"100\", \"start_time\": \"2021-01-26T11:04:04.77824Z\", \"end_time\": \"2021-01-26T11:04:53.420395Z\", \"created_time\": \"2021-01-26T11:03:49.831889Z\", \"created_time_dt\": \"2021-01-26T11:03:49.831889Z\", \"duration\": \"0:01:03\", \"iteration\": \"9\", \"goal\": \"accuracy_max\", \"run_name\": \"SparseNormalizer, LightGBM\", \"run_properties\": \"<azureml.automl.runtime.shared.model_wrappers.SparseNormalizer object at 0x7fd33e56f160\", \"primary_metric\": 0.79069241, \"best_metric\": 0.79208116}, {\"run_id\": \"AutoML_d5d21135-6b5f-48b9-bbb5-8c30cb2f3f8f_10\", \"run_number\": 15, \"metric\": null, \"status\": \"Completed\", \"run_type\": \"azureml.scriptrun\", \"training_percent\": \"100\", \"start_time\": \"2021-01-26T11:05:13.6327Z\", \"end_time\": \"2021-01-26T11:06:06.739194Z\", \"created_time\": \"2021-01-26T11:04:56.688037Z\", \"created_time_dt\": \"2021-01-26T11:04:56.688037Z\", \"duration\": \"0:01:10\", \"iteration\": \"10\", \"goal\": \"accuracy_max\", \"run_name\": \"RobustScaler, RandomForest\", \"run_properties\": \"copy=True, quantile_range=[10, 90], with_centering=True,\\n             with_scaling=True\", \"primary_metric\": 0.78923471, \"best_metric\": 0.79208116}, {\"run_id\": \"AutoML_d5d21135-6b5f-48b9-bbb5-8c30cb2f3f8f_11\", \"run_number\": 16, \"metric\": null, \"status\": \"Completed\", \"run_type\": \"azureml.scriptrun\", \"training_percent\": \"100\", \"start_time\": \"2021-01-26T11:06:27.603552Z\", \"end_time\": \"2021-01-26T11:07:17.686855Z\", \"created_time\": \"2021-01-26T11:06:10.031744Z\", \"created_time_dt\": \"2021-01-26T11:06:10.031744Z\", \"duration\": \"0:01:07\", \"iteration\": \"11\", \"goal\": \"accuracy_max\", \"run_name\": \"MaxAbsScaler, LightGBM\", \"run_properties\": \"copy=True\", \"primary_metric\": 0.79347976, \"best_metric\": 0.79347976}, {\"run_id\": \"AutoML_d5d21135-6b5f-48b9-bbb5-8c30cb2f3f8f_12\", \"run_number\": 17, \"metric\": null, \"status\": \"Completed\", \"run_type\": \"azureml.scriptrun\", \"training_percent\": \"100\", \"start_time\": \"2021-01-26T11:07:35.284943Z\", \"end_time\": \"2021-01-26T11:08:17.751886Z\", \"created_time\": \"2021-01-26T11:07:20.418264Z\", \"created_time_dt\": \"2021-01-26T11:07:20.418264Z\", \"duration\": \"0:00:57\", \"iteration\": \"12\", \"goal\": \"accuracy_max\", \"run_name\": \"RobustScaler, ExtremeRandomTrees\", \"run_properties\": \"copy=True, quantile_range=[25, 75], with_centering=True,\\n             with_scaling=False\", \"primary_metric\": 0.7808037, \"best_metric\": 0.79347976}, {\"run_id\": \"AutoML_d5d21135-6b5f-48b9-bbb5-8c30cb2f3f8f_13\", \"run_number\": 18, \"metric\": null, \"status\": \"Completed\", \"run_type\": \"azureml.scriptrun\", \"training_percent\": \"100\", \"start_time\": \"2021-01-26T11:08:36.631112Z\", \"end_time\": \"2021-01-26T11:09:25.609979Z\", \"created_time\": \"2021-01-26T11:08:20.76826Z\", \"created_time_dt\": \"2021-01-26T11:08:20.76826Z\", \"duration\": \"0:01:04\", \"iteration\": \"13\", \"goal\": \"accuracy_max\", \"run_name\": \"SparseNormalizer, XGBoostClassifier\", \"run_properties\": \"<azureml.automl.runtime.shared.model_wrappers.SparseNormalizer object at 0x7fd844124358\", \"primary_metric\": 0.77663745, \"best_metric\": 0.79347976}, {\"run_id\": \"AutoML_d5d21135-6b5f-48b9-bbb5-8c30cb2f3f8f_14\", \"run_number\": 19, \"metric\": null, \"status\": \"Completed\", \"run_type\": \"azureml.scriptrun\", \"training_percent\": \"100\", \"start_time\": \"2021-01-26T11:09:44.565275Z\", \"end_time\": \"2021-01-26T11:10:30.546391Z\", \"created_time\": \"2021-01-26T11:09:28.814604Z\", \"created_time_dt\": \"2021-01-26T11:09:28.814604Z\", \"duration\": \"0:01:01\", \"iteration\": \"14\", \"goal\": \"accuracy_max\", \"run_name\": \"StandardScalerWrapper, ExtremeRandomTrees\", \"run_properties\": \"<azureml.automl.runtime.shared.model_wrappers.StandardScalerWrapper object at 0x7f08fcacdcf8\", \"primary_metric\": 0.78365015, \"best_metric\": 0.79347976}, {\"run_id\": \"AutoML_d5d21135-6b5f-48b9-bbb5-8c30cb2f3f8f_15\", \"run_number\": 20, \"metric\": null, \"status\": \"Completed\", \"run_type\": \"azureml.scriptrun\", \"training_percent\": \"100\", \"start_time\": \"2021-01-26T11:10:47.187245Z\", \"end_time\": \"2021-01-26T11:11:31.770712Z\", \"created_time\": \"2021-01-26T11:10:33.001236Z\", \"created_time_dt\": \"2021-01-26T11:10:33.001236Z\", \"duration\": \"0:00:58\", \"iteration\": \"15\", \"goal\": \"accuracy_max\", \"run_name\": \"StandardScalerWrapper, XGBoostClassifier\", \"run_properties\": \"<azureml.automl.runtime.shared.model_wrappers.StandardScalerWrapper object at 0x7fdbb95ff5f8\", \"primary_metric\": 0.80328967, \"best_metric\": 0.80328967}, {\"run_id\": \"AutoML_d5d21135-6b5f-48b9-bbb5-8c30cb2f3f8f_16\", \"run_number\": 21, \"metric\": null, \"status\": \"Completed\", \"run_type\": \"azureml.scriptrun\", \"training_percent\": \"100\", \"start_time\": \"2021-01-26T11:11:46.427138Z\", \"end_time\": \"2021-01-26T11:12:36.793853Z\", \"created_time\": \"2021-01-26T11:11:34.213544Z\", \"created_time_dt\": \"2021-01-26T11:11:34.213544Z\", \"duration\": \"0:01:02\", \"iteration\": \"16\", \"goal\": \"accuracy_max\", \"run_name\": \"SparseNormalizer, XGBoostClassifier\", \"run_properties\": \"<azureml.automl.runtime.shared.model_wrappers.SparseNormalizer object at 0x7f9b965bffd0\", \"primary_metric\": 0.78924456, \"best_metric\": 0.80328967}, {\"run_id\": \"AutoML_d5d21135-6b5f-48b9-bbb5-8c30cb2f3f8f_17\", \"run_number\": 22, \"metric\": null, \"status\": \"Completed\", \"run_type\": \"azureml.scriptrun\", \"training_percent\": \"100\", \"start_time\": \"2021-01-26T11:12:54.523699Z\", \"end_time\": \"2021-01-26T11:13:44.879879Z\", \"created_time\": \"2021-01-26T11:12:39.335869Z\", \"created_time_dt\": \"2021-01-26T11:12:39.335869Z\", \"duration\": \"0:01:05\", \"iteration\": \"17\", \"goal\": \"accuracy_max\", \"run_name\": \"SparseNormalizer, XGBoostClassifier\", \"run_properties\": \"<azureml.automl.runtime.shared.model_wrappers.SparseNormalizer object at 0x7fac2b00bfd0\", \"primary_metric\": 0.78923471, \"best_metric\": 0.80328967}, {\"run_id\": \"AutoML_d5d21135-6b5f-48b9-bbb5-8c30cb2f3f8f_18\", \"run_number\": 23, \"metric\": null, \"status\": \"Completed\", \"run_type\": \"azureml.scriptrun\", \"training_percent\": \"100\", \"start_time\": \"2021-01-26T11:14:04.569165Z\", \"end_time\": \"2021-01-26T11:14:59.47132Z\", \"created_time\": \"2021-01-26T11:13:47.951717Z\", \"created_time_dt\": \"2021-01-26T11:13:47.951717Z\", \"duration\": \"0:01:11\", \"iteration\": \"18\", \"goal\": \"accuracy_max\", \"run_name\": \"MinMaxScaler, RandomForest\", \"run_properties\": \"copy=True, feature_range=(0, 1\", \"primary_metric\": 0.78783611, \"best_metric\": 0.80328967}, {\"run_id\": \"AutoML_d5d21135-6b5f-48b9-bbb5-8c30cb2f3f8f_19\", \"run_number\": 24, \"metric\": null, \"status\": \"Completed\", \"run_type\": \"azureml.scriptrun\", \"training_percent\": \"100\", \"start_time\": \"2021-01-26T11:15:15.979925Z\", \"end_time\": \"2021-01-26T11:16:04.723798Z\", \"created_time\": \"2021-01-26T11:15:02.42413Z\", \"created_time_dt\": \"2021-01-26T11:15:02.42413Z\", \"duration\": \"0:01:02\", \"iteration\": \"19\", \"goal\": \"accuracy_max\", \"run_name\": \"SparseNormalizer, XGBoostClassifier\", \"run_properties\": \"<azureml.automl.runtime.shared.model_wrappers.SparseNormalizer object at 0x7fa7082215c0\", \"primary_metric\": 0.78227125, \"best_metric\": 0.80328967}, {\"run_id\": \"AutoML_d5d21135-6b5f-48b9-bbb5-8c30cb2f3f8f_20\", \"run_number\": 25, \"metric\": null, \"status\": \"Completed\", \"run_type\": \"azureml.scriptrun\", \"training_percent\": \"100\", \"start_time\": \"2021-01-26T11:16:24.028438Z\", \"end_time\": \"2021-01-26T11:17:13.306885Z\", \"created_time\": \"2021-01-26T11:16:07.525724Z\", \"created_time_dt\": \"2021-01-26T11:16:07.525724Z\", \"duration\": \"0:01:05\", \"iteration\": \"20\", \"goal\": \"accuracy_max\", \"run_name\": \"MaxAbsScaler, ExtremeRandomTrees\", \"run_properties\": \"copy=True\", \"primary_metric\": 0.79629666, \"best_metric\": 0.80328967}, {\"run_id\": \"AutoML_d5d21135-6b5f-48b9-bbb5-8c30cb2f3f8f_21\", \"run_number\": 26, \"metric\": null, \"status\": \"Completed\", \"run_type\": \"azureml.scriptrun\", \"training_percent\": \"100\", \"start_time\": \"2021-01-26T11:17:30.232552Z\", \"end_time\": \"2021-01-26T11:18:22.699335Z\", \"created_time\": \"2021-01-26T11:17:15.363835Z\", \"created_time_dt\": \"2021-01-26T11:17:15.363835Z\", \"duration\": \"0:01:07\", \"iteration\": \"21\", \"goal\": \"accuracy_max\", \"run_name\": \"MinMaxScaler, ExtremeRandomTrees\", \"run_properties\": \"copy=True, feature_range=(0, 1\", \"primary_metric\": 0.78366, \"best_metric\": 0.80328967}, {\"run_id\": \"AutoML_d5d21135-6b5f-48b9-bbb5-8c30cb2f3f8f_22\", \"run_number\": 27, \"metric\": null, \"status\": \"Completed\", \"run_type\": \"azureml.scriptrun\", \"training_percent\": \"100\", \"start_time\": \"2021-01-26T11:18:40.780613Z\", \"end_time\": \"2021-01-26T11:20:06.904817Z\", \"created_time\": \"2021-01-26T11:18:24.448826Z\", \"created_time_dt\": \"2021-01-26T11:18:24.448826Z\", \"duration\": \"0:01:42\", \"iteration\": \"22\", \"goal\": \"accuracy_max\", \"run_name\": \"RobustScaler, KNN\", \"run_properties\": \"copy=True, quantile_range=[25, 75], with_centering=True,\\n             with_scaling=False\", \"primary_metric\": 0.60807643, \"best_metric\": 0.80328967}, {\"run_id\": \"AutoML_d5d21135-6b5f-48b9-bbb5-8c30cb2f3f8f_23\", \"run_number\": 28, \"metric\": null, \"status\": \"Completed\", \"run_type\": \"azureml.scriptrun\", \"training_percent\": \"100\", \"start_time\": \"2021-01-26T11:20:22.614812Z\", \"end_time\": \"2021-01-26T11:21:03.178273Z\", \"created_time\": \"2021-01-26T11:20:09.241212Z\", \"created_time_dt\": \"2021-01-26T11:20:09.241212Z\", \"duration\": \"0:00:53\", \"iteration\": \"23\", \"goal\": \"accuracy_max\", \"run_name\": \"SparseNormalizer, GradientBoosting\", \"run_properties\": \"<azureml.automl.runtime.shared.model_wrappers.SparseNormalizer object at 0x7fa6175b4ac8\", \"primary_metric\": 0.78223185, \"best_metric\": 0.80328967}, {\"run_id\": \"AutoML_d5d21135-6b5f-48b9-bbb5-8c30cb2f3f8f_24\", \"run_number\": 29, \"metric\": null, \"status\": \"Completed\", \"run_type\": \"azureml.scriptrun\", \"training_percent\": \"100\", \"start_time\": \"2021-01-26T11:21:30.625414Z\", \"end_time\": \"2021-01-26T11:22:17.001532Z\", \"created_time\": \"2021-01-26T11:21:15.493051Z\", \"created_time_dt\": \"2021-01-26T11:21:15.493051Z\", \"duration\": \"0:01:01\", \"iteration\": \"24\", \"goal\": \"accuracy_max\", \"run_name\": \"SparseNormalizer, XGBoostClassifier\", \"run_properties\": \"<azureml.automl.runtime.shared.model_wrappers.SparseNormalizer object at 0x7f8d0740eb00\", \"primary_metric\": 0.7850783, \"best_metric\": 0.80328967}, {\"run_id\": \"AutoML_d5d21135-6b5f-48b9-bbb5-8c30cb2f3f8f_25\", \"run_number\": 30, \"metric\": null, \"status\": \"Completed\", \"run_type\": \"azureml.scriptrun\", \"training_percent\": \"100\", \"start_time\": \"2021-01-26T11:22:32.230741Z\", \"end_time\": \"2021-01-26T11:23:52.933658Z\", \"created_time\": \"2021-01-26T11:22:19.657055Z\", \"created_time_dt\": \"2021-01-26T11:22:19.657055Z\", \"duration\": \"0:01:33\", \"iteration\": \"25\", \"goal\": \"accuracy_max\", \"run_name\": \"SparseNormalizer, XGBoostClassifier\", \"run_properties\": \"<azureml.automl.runtime.shared.model_wrappers.SparseNormalizer object at 0x7f9feef7f240\", \"primary_metric\": 0.61652713, \"best_metric\": 0.80328967}, {\"run_id\": \"AutoML_d5d21135-6b5f-48b9-bbb5-8c30cb2f3f8f_26\", \"run_number\": 31, \"metric\": null, \"status\": \"Completed\", \"run_type\": \"azureml.scriptrun\", \"training_percent\": \"100\", \"start_time\": \"2021-01-26T11:24:05.972225Z\", \"end_time\": \"2021-01-26T11:25:20.379092Z\", \"created_time\": \"2021-01-26T11:23:54.050906Z\", \"created_time_dt\": \"2021-01-26T11:23:54.050906Z\", \"duration\": \"0:01:26\", \"iteration\": \"26\", \"goal\": \"accuracy_max\", \"run_name\": \"VotingEnsemble\", \"run_properties\": \"classification_labels=None,\\n                              estimators=[('15',\\n                                           Pipeline(memory=None,\\n                                                    steps=[('standardscalerwrapper',\\n                                                            <azureml.automl.runtime.shared.model_wrappers.StandardScalerWrapper object at 0x7f982004f5c0>\", \"primary_metric\": 0.81176007, \"best_metric\": 0.81176007}, {\"run_id\": \"AutoML_d5d21135-6b5f-48b9-bbb5-8c30cb2f3f8f_27\", \"run_number\": 32, \"metric\": null, \"status\": \"Completed\", \"run_type\": \"azureml.scriptrun\", \"training_percent\": \"100\", \"start_time\": \"2021-01-26T11:25:35.53872Z\", \"end_time\": \"2021-01-26T11:27:09.474051Z\", \"created_time\": \"2021-01-26T11:25:21.933904Z\", \"created_time_dt\": \"2021-01-26T11:25:21.933904Z\", \"duration\": \"0:01:47\", \"iteration\": \"27\", \"goal\": \"accuracy_max\", \"run_name\": \"StackEnsemble\", \"run_properties\": \"base_learners=[('15',\\n                                        Pipeline(memory=None,\\n                                                 steps=[('standardscalerwrapper',\\n                                                         <azureml.automl.runtime.shared.model_wrappers.StandardScalerWrapper object at 0x7f0c48497cf8>\", \"primary_metric\": 0.78366, \"best_metric\": 0.81176007}], \"children_metrics\": {\"categories\": [0], \"series\": {\"log_loss\": [{\"categories\": [\"0\", \"1\", \"2\", \"3\", \"4\", \"5\", \"6\", \"7\", \"8\", \"9\", \"10\", \"11\", \"12\", \"13\", \"14\", \"15\", \"16\", \"17\", \"18\", \"19\", \"20\", \"21\", \"22\", \"23\", \"24\", \"25\", \"26\", \"27\"], \"mode\": \"markers\", \"name\": \"log_loss\", \"stepped\": false, \"type\": \"scatter\", \"data\": [0.5330049079872252, 0.4625022332290974, 0.49083060304300713, 0.5059827272139565, 0.4843298431392668, 0.5314360324603717, 0.4748985885304422, 0.501153355967374, 0.48296874261552825, 0.4614018570367618, 0.45497653097912066, 0.49824211415036085, 0.44983511932545267, 0.5286867152397662, 0.4545929567276147, 0.512552005403729, 0.5093693920662654, 0.49343071576884723, 0.45237683071583074, 0.47428954610641105, 0.4575226593482684, 0.4499689543461128, 1.0302260327969541, 0.49347896890679477, 0.5316998183525394, 0.6674703328111233, 0.47222841671416027, 0.4543228325442679]}, {\"categories\": [\"0\", \"1\", \"2\", \"3\", \"4\", \"5\", \"6\", \"7\", \"8\", \"9\", \"10\", \"11\", \"12\", \"13\", \"14\", \"15\", \"16\", \"17\", \"18\", \"19\", \"20\", \"21\", \"22\", \"23\", \"24\", \"25\", \"26\", \"27\"], \"mode\": \"lines\", \"name\": \"log_loss_min\", \"stepped\": true, \"type\": \"scatter\", \"data\": [0.5330049079872252, 0.4625022332290974, 0.4625022332290974, 0.4625022332290974, 0.4625022332290974, 0.4625022332290974, 0.4625022332290974, 0.4625022332290974, 0.4625022332290974, 0.4614018570367618, 0.45497653097912066, 0.45497653097912066, 0.44983511932545267, 0.44983511932545267, 0.44983511932545267, 0.44983511932545267, 0.44983511932545267, 0.44983511932545267, 0.44983511932545267, 0.44983511932545267, 0.44983511932545267, 0.44983511932545267, 0.44983511932545267, 0.44983511932545267, 0.44983511932545267, 0.44983511932545267, 0.44983511932545267, 0.44983511932545267]}], \"balanced_accuracy\": [{\"categories\": [\"0\", \"1\", \"2\", \"3\", \"4\", \"5\", \"6\", \"7\", \"8\", \"9\", \"10\", \"11\", \"12\", \"13\", \"14\", \"15\", \"16\", \"17\", \"18\", \"19\", \"20\", \"21\", \"22\", \"23\", \"24\", \"25\", \"26\", \"27\"], \"mode\": \"markers\", \"name\": \"balanced_accuracy\", \"stepped\": false, \"type\": \"scatter\", \"data\": [0.7668301574967666, 0.7559467717717678, 0.7401327950611126, 0.7370117116333, 0.7729463300646332, 0.7547192163275996, 0.7569013400288345, 0.7512088624287803, 0.7438528231476857, 0.7684256845564326, 0.7580886828425817, 0.7495293103480164, 0.7486857202604562, 0.7476727695482481, 0.7599859268368256, 0.7710936014881731, 0.7433967378182891, 0.7612819403715145, 0.7512232397864103, 0.7465952841750305, 0.755868432312967, 0.7458964993686503, 0.5460109081700854, 0.7545225447375951, 0.7347934022072841, 0.5, 0.7734959392622824, 0.7534823564316162]}, {\"categories\": [\"0\", \"1\", \"2\", \"3\", \"4\", \"5\", \"6\", \"7\", \"8\", \"9\", \"10\", \"11\", \"12\", \"13\", \"14\", \"15\", \"16\", \"17\", \"18\", \"19\", \"20\", \"21\", \"22\", \"23\", \"24\", \"25\", \"26\", \"27\"], \"mode\": \"lines\", \"name\": \"balanced_accuracy_max\", \"stepped\": true, \"type\": \"scatter\", \"data\": [0.7668301574967666, 0.7668301574967666, 0.7668301574967666, 0.7668301574967666, 0.7729463300646332, 0.7729463300646332, 0.7729463300646332, 0.7729463300646332, 0.7729463300646332, 0.7729463300646332, 0.7729463300646332, 0.7729463300646332, 0.7729463300646332, 0.7729463300646332, 0.7729463300646332, 0.7729463300646332, 0.7729463300646332, 0.7729463300646332, 0.7729463300646332, 0.7729463300646332, 0.7729463300646332, 0.7729463300646332, 0.7729463300646332, 0.7729463300646332, 0.7729463300646332, 0.7729463300646332, 0.7734959392622824, 0.7734959392622824]}], \"precision_score_micro\": [{\"categories\": [\"0\", \"1\", \"2\", \"3\", \"4\", \"5\", \"6\", \"7\", \"8\", \"9\", \"10\", \"11\", \"12\", \"13\", \"14\", \"15\", \"16\", \"17\", \"18\", \"19\", \"20\", \"21\", \"22\", \"23\", \"24\", \"25\", \"26\", \"27\"], \"mode\": \"markers\", \"name\": \"precision_score_micro\", \"stepped\": false, \"type\": \"scatter\", \"data\": [0.7920811582783415, 0.7906924061853638, 0.7738303949571554, 0.7724317935585541, 0.7892938047867626, 0.7837190978036048, 0.7766472963656061, 0.7878558061656653, 0.7780360484585838, 0.7906924061853638, 0.7892347089530187, 0.7934797596769427, 0.7808037033389146, 0.7766374470599823, 0.7836501526642371, 0.8032896680784004, 0.7892445582586427, 0.7892347089530187, 0.7878361075544174, 0.7822712498768837, 0.7962966610853934, 0.7836600019698612, 0.608076430611642, 0.7822318526543879, 0.7850783019797105, 0.6165271348369941, 0.8117600709150004, 0.7836600019698612]}, {\"categories\": [\"0\", \"1\", \"2\", \"3\", \"4\", \"5\", \"6\", \"7\", \"8\", \"9\", \"10\", \"11\", \"12\", \"13\", \"14\", \"15\", \"16\", \"17\", \"18\", \"19\", \"20\", \"21\", \"22\", \"23\", \"24\", \"25\", \"26\", \"27\"], \"mode\": \"lines\", \"name\": \"precision_score_micro_max\", \"stepped\": true, \"type\": \"scatter\", \"data\": [0.7920811582783415, 0.7920811582783415, 0.7920811582783415, 0.7920811582783415, 0.7920811582783415, 0.7920811582783415, 0.7920811582783415, 0.7920811582783415, 0.7920811582783415, 0.7920811582783415, 0.7920811582783415, 0.7934797596769427, 0.7934797596769427, 0.7934797596769427, 0.7934797596769427, 0.8032896680784004, 0.8032896680784004, 0.8032896680784004, 0.8032896680784004, 0.8032896680784004, 0.8032896680784004, 0.8032896680784004, 0.8032896680784004, 0.8032896680784004, 0.8032896680784004, 0.8032896680784004, 0.8117600709150004, 0.8117600709150004]}], \"recall_score_micro\": [{\"categories\": [\"0\", \"1\", \"2\", \"3\", \"4\", \"5\", \"6\", \"7\", \"8\", \"9\", \"10\", \"11\", \"12\", \"13\", \"14\", \"15\", \"16\", \"17\", \"18\", \"19\", \"20\", \"21\", \"22\", \"23\", \"24\", \"25\", \"26\", \"27\"], \"mode\": \"markers\", \"name\": \"recall_score_micro\", \"stepped\": false, \"type\": \"scatter\", \"data\": [0.7920811582783415, 0.7906924061853638, 0.7738303949571554, 0.7724317935585541, 0.7892938047867626, 0.7837190978036048, 0.7766472963656061, 0.7878558061656653, 0.7780360484585838, 0.7906924061853638, 0.7892347089530187, 0.7934797596769427, 0.7808037033389146, 0.7766374470599823, 0.7836501526642371, 0.8032896680784004, 0.7892445582586427, 0.7892347089530187, 0.7878361075544174, 0.7822712498768837, 0.7962966610853934, 0.7836600019698612, 0.608076430611642, 0.7822318526543879, 0.7850783019797105, 0.6165271348369941, 0.8117600709150004, 0.7836600019698612]}, {\"categories\": [\"0\", \"1\", \"2\", \"3\", \"4\", \"5\", \"6\", \"7\", \"8\", \"9\", \"10\", \"11\", \"12\", \"13\", \"14\", \"15\", \"16\", \"17\", \"18\", \"19\", \"20\", \"21\", \"22\", \"23\", \"24\", \"25\", \"26\", \"27\"], \"mode\": \"lines\", \"name\": \"recall_score_micro_max\", \"stepped\": true, \"type\": \"scatter\", \"data\": [0.7920811582783415, 0.7920811582783415, 0.7920811582783415, 0.7920811582783415, 0.7920811582783415, 0.7920811582783415, 0.7920811582783415, 0.7920811582783415, 0.7920811582783415, 0.7920811582783415, 0.7920811582783415, 0.7934797596769427, 0.7934797596769427, 0.7934797596769427, 0.7934797596769427, 0.8032896680784004, 0.8032896680784004, 0.8032896680784004, 0.8032896680784004, 0.8032896680784004, 0.8032896680784004, 0.8032896680784004, 0.8032896680784004, 0.8032896680784004, 0.8032896680784004, 0.8032896680784004, 0.8117600709150004, 0.8117600709150004]}], \"precision_score_weighted\": [{\"categories\": [\"0\", \"1\", \"2\", \"3\", \"4\", \"5\", \"6\", \"7\", \"8\", \"9\", \"10\", \"11\", \"12\", \"13\", \"14\", \"15\", \"16\", \"17\", \"18\", \"19\", \"20\", \"21\", \"22\", \"23\", \"24\", \"25\", \"26\", \"27\"], \"mode\": \"markers\", \"name\": \"precision_score_weighted\", \"stepped\": false, \"type\": \"scatter\", \"data\": [0.7923516234297466, 0.793455939016565, 0.779754791321192, 0.7854290839527083, 0.789646069110318, 0.7835469962200277, 0.7764704791046143, 0.7913963059096714, 0.7780004500987181, 0.789852948226861, 0.7970340602050718, 0.8038821915751335, 0.7981939426059135, 0.7765192641628742, 0.7824850896912995, 0.8081854515895166, 0.8071091521901799, 0.7886837572184442, 0.7958053783317169, 0.7836116030881517, 0.8058592878349096, 0.7869993532069504, 0.585253658851656, 0.7852530496542403, 0.8099933976544689, 0.3815581845959324, 0.8206851661381412, 0.7884126488761237]}, {\"categories\": [\"0\", \"1\", \"2\", \"3\", \"4\", \"5\", \"6\", \"7\", \"8\", \"9\", \"10\", \"11\", \"12\", \"13\", \"14\", \"15\", \"16\", \"17\", \"18\", \"19\", \"20\", \"21\", \"22\", \"23\", \"24\", \"25\", \"26\", \"27\"], \"mode\": \"lines\", \"name\": \"precision_score_weighted_max\", \"stepped\": true, \"type\": \"scatter\", \"data\": [0.7923516234297466, 0.793455939016565, 0.793455939016565, 0.793455939016565, 0.793455939016565, 0.793455939016565, 0.793455939016565, 0.793455939016565, 0.793455939016565, 0.793455939016565, 0.7970340602050718, 0.8038821915751335, 0.8038821915751335, 0.8038821915751335, 0.8038821915751335, 0.8081854515895166, 0.8081854515895166, 0.8081854515895166, 0.8081854515895166, 0.8081854515895166, 0.8081854515895166, 0.8081854515895166, 0.8081854515895166, 0.8081854515895166, 0.8099933976544689, 0.8099933976544689, 0.8206851661381412, 0.8206851661381412]}], \"f1_score_micro\": [{\"categories\": [\"0\", \"1\", \"2\", \"3\", \"4\", \"5\", \"6\", \"7\", \"8\", \"9\", \"10\", \"11\", \"12\", \"13\", \"14\", \"15\", \"16\", \"17\", \"18\", \"19\", \"20\", \"21\", \"22\", \"23\", \"24\", \"25\", \"26\", \"27\"], \"mode\": \"markers\", \"name\": \"f1_score_micro\", \"stepped\": false, \"type\": \"scatter\", \"data\": [0.7920811582783414, 0.7906924061853638, 0.7738303949571554, 0.7724317935585542, 0.7892938047867626, 0.7837190978036048, 0.7766472963656063, 0.7878558061656653, 0.7780360484585838, 0.7906924061853638, 0.7892347089530187, 0.7934797596769428, 0.7808037033389146, 0.7766374470599823, 0.7836501526642372, 0.8032896680784004, 0.7892445582586427, 0.7892347089530187, 0.7878361075544174, 0.7822712498768837, 0.7962966610853934, 0.7836600019698612, 0.608076430611642, 0.7822318526543879, 0.7850783019797105, 0.6165271348369941, 0.8117600709150004, 0.7836600019698612]}, {\"categories\": [\"0\", \"1\", \"2\", \"3\", \"4\", \"5\", \"6\", \"7\", \"8\", \"9\", \"10\", \"11\", \"12\", \"13\", \"14\", \"15\", \"16\", \"17\", \"18\", \"19\", \"20\", \"21\", \"22\", \"23\", \"24\", \"25\", \"26\", \"27\"], \"mode\": \"lines\", \"name\": \"f1_score_micro_max\", \"stepped\": true, \"type\": \"scatter\", \"data\": [0.7920811582783414, 0.7920811582783414, 0.7920811582783414, 0.7920811582783414, 0.7920811582783414, 0.7920811582783414, 0.7920811582783414, 0.7920811582783414, 0.7920811582783414, 0.7920811582783414, 0.7920811582783414, 0.7934797596769428, 0.7934797596769428, 0.7934797596769428, 0.7934797596769428, 0.8032896680784004, 0.8032896680784004, 0.8032896680784004, 0.8032896680784004, 0.8032896680784004, 0.8032896680784004, 0.8032896680784004, 0.8032896680784004, 0.8032896680784004, 0.8032896680784004, 0.8032896680784004, 0.8117600709150004, 0.8117600709150004]}], \"AUC_micro\": [{\"categories\": [\"0\", \"1\", \"2\", \"3\", \"4\", \"5\", \"6\", \"7\", \"8\", \"9\", \"10\", \"11\", \"12\", \"13\", \"14\", \"15\", \"16\", \"17\", \"18\", \"19\", \"20\", \"21\", \"22\", \"23\", \"24\", \"25\", \"26\", \"27\"], \"mode\": \"markers\", \"name\": \"AUC_micro\", \"stepped\": false, \"type\": \"scatter\", \"data\": [0.8482157720453346, 0.8637029242989044, 0.8504357214263258, 0.8485423614579919, 0.8576459360206063, 0.8126690297465812, 0.8559403395361128, 0.855552820337946, 0.847112691529245, 0.8634089924208851, 0.865308434842313, 0.8571511774508738, 0.8712914994885356, 0.8408165144208608, 0.8673155997392363, 0.8596454629279868, 0.8596415927610621, 0.8453491385796138, 0.8723368306533208, 0.8535754458799476, 0.8665458143705743, 0.8724770399279287, 0.629644088749529, 0.8459681736951481, 0.8540701350883729, 0.616527134836994, 0.8607790250708531, 0.8667782644828907]}, {\"categories\": [\"0\", \"1\", \"2\", \"3\", \"4\", \"5\", \"6\", \"7\", \"8\", \"9\", \"10\", \"11\", \"12\", \"13\", \"14\", \"15\", \"16\", \"17\", \"18\", \"19\", \"20\", \"21\", \"22\", \"23\", \"24\", \"25\", \"26\", \"27\"], \"mode\": \"lines\", \"name\": \"AUC_micro_max\", \"stepped\": true, \"type\": \"scatter\", \"data\": [0.8482157720453346, 0.8637029242989044, 0.8637029242989044, 0.8637029242989044, 0.8637029242989044, 0.8637029242989044, 0.8637029242989044, 0.8637029242989044, 0.8637029242989044, 0.8637029242989044, 0.865308434842313, 0.865308434842313, 0.8712914994885356, 0.8712914994885356, 0.8712914994885356, 0.8712914994885356, 0.8712914994885356, 0.8712914994885356, 0.8723368306533208, 0.8723368306533208, 0.8723368306533208, 0.8724770399279287, 0.8724770399279287, 0.8724770399279287, 0.8724770399279287, 0.8724770399279287, 0.8724770399279287, 0.8724770399279287]}], \"precision_score_macro\": [{\"categories\": [\"0\", \"1\", \"2\", \"3\", \"4\", \"5\", \"6\", \"7\", \"8\", \"9\", \"10\", \"11\", \"12\", \"13\", \"14\", \"15\", \"16\", \"17\", \"18\", \"19\", \"20\", \"21\", \"22\", \"23\", \"24\", \"25\", \"26\", \"27\"], \"mode\": \"markers\", \"name\": \"precision_score_macro\", \"stepped\": false, \"type\": \"scatter\", \"data\": [0.7879446738364122, 0.7930692147048136, 0.7764322412123981, 0.7835899436685235, 0.778221929397849, 0.7781350605950257, 0.7647303292821257, 0.7915375189954412, 0.7752432222649166, 0.7811612507437452, 0.7940504592678282, 0.8103168124086189, 0.7964319656613232, 0.7707065764753713, 0.7735984544938073, 0.8078595248987412, 0.8144946560936471, 0.7835452704924888, 0.7957256474408384, 0.7825246180582125, 0.8100632069883951, 0.7876812701767018, 0.566178794076399, 0.7798006994320739, 0.822791028719694, 0.30826356741849703, 0.8267152108660983, 0.784678118852107]}, {\"categories\": [\"0\", \"1\", \"2\", \"3\", \"4\", \"5\", \"6\", \"7\", \"8\", \"9\", \"10\", \"11\", \"12\", \"13\", \"14\", \"15\", \"16\", \"17\", \"18\", \"19\", \"20\", \"21\", \"22\", \"23\", \"24\", \"25\", \"26\", \"27\"], \"mode\": \"lines\", \"name\": \"precision_score_macro_max\", \"stepped\": true, \"type\": \"scatter\", \"data\": [0.7879446738364122, 0.7930692147048136, 0.7930692147048136, 0.7930692147048136, 0.7930692147048136, 0.7930692147048136, 0.7930692147048136, 0.7930692147048136, 0.7930692147048136, 0.7930692147048136, 0.7940504592678282, 0.8103168124086189, 0.8103168124086189, 0.8103168124086189, 0.8103168124086189, 0.8103168124086189, 0.8144946560936471, 0.8144946560936471, 0.8144946560936471, 0.8144946560936471, 0.8144946560936471, 0.8144946560936471, 0.8144946560936471, 0.8144946560936471, 0.822791028719694, 0.822791028719694, 0.8267152108660983, 0.8267152108660983]}], \"average_precision_score_micro\": [{\"categories\": [\"0\", \"1\", \"2\", \"3\", \"4\", \"5\", \"6\", \"7\", \"8\", \"9\", \"10\", \"11\", \"12\", \"13\", \"14\", \"15\", \"16\", \"17\", \"18\", \"19\", \"20\", \"21\", \"22\", \"23\", \"24\", \"25\", \"26\", \"27\"], \"mode\": \"markers\", \"name\": \"average_precision_score_micro\", \"stepped\": false, \"type\": \"scatter\", \"data\": [0.8368183193384772, 0.8504123084750667, 0.8299494345633815, 0.8214266756154709, 0.8494315665468644, 0.7812460857589205, 0.8377148822618636, 0.8333762059834283, 0.8292079106001452, 0.8500934218302569, 0.8572592480443066, 0.8365440133063629, 0.8621218486008633, 0.8223998947597699, 0.8521564904652006, 0.8395739144122629, 0.8382600997381007, 0.826239582315176, 0.8688019860570732, 0.8246766975688671, 0.8522119589520527, 0.8655034056934436, 0.6099367681785586, 0.8222140905567017, 0.8252265597595473, 0.5732946171774355, 0.8401907528920123, 0.8557655627400935]}, {\"categories\": [\"0\", \"1\", \"2\", \"3\", \"4\", \"5\", \"6\", \"7\", \"8\", \"9\", \"10\", \"11\", \"12\", \"13\", \"14\", \"15\", \"16\", \"17\", \"18\", \"19\", \"20\", \"21\", \"22\", \"23\", \"24\", \"25\", \"26\", \"27\"], \"mode\": \"lines\", \"name\": \"average_precision_score_micro_max\", \"stepped\": true, \"type\": \"scatter\", \"data\": [0.8368183193384772, 0.8504123084750667, 0.8504123084750667, 0.8504123084750667, 0.8504123084750667, 0.8504123084750667, 0.8504123084750667, 0.8504123084750667, 0.8504123084750667, 0.8504123084750667, 0.8572592480443066, 0.8572592480443066, 0.8621218486008633, 0.8621218486008633, 0.8621218486008633, 0.8621218486008633, 0.8621218486008633, 0.8621218486008633, 0.8688019860570732, 0.8688019860570732, 0.8688019860570732, 0.8688019860570732, 0.8688019860570732, 0.8688019860570732, 0.8688019860570732, 0.8688019860570732, 0.8688019860570732, 0.8688019860570732]}], \"f1_score_weighted\": [{\"categories\": [\"0\", \"1\", \"2\", \"3\", \"4\", \"5\", \"6\", \"7\", \"8\", \"9\", \"10\", \"11\", \"12\", \"13\", \"14\", \"15\", \"16\", \"17\", \"18\", \"19\", \"20\", \"21\", \"22\", \"23\", \"24\", \"25\", \"26\", \"27\"], \"mode\": \"markers\", \"name\": \"f1_score_weighted\", \"stepped\": false, \"type\": \"scatter\", \"data\": [0.7885720987135327, 0.7836659944655071, 0.766928866351771, 0.7631431231830164, 0.7885029835699889, 0.7790329846415098, 0.7753203470126213, 0.7798937075578112, 0.7711414415257132, 0.7885201514338261, 0.7830594656420488, 0.7826594044560997, 0.7715666375480789, 0.7715792832658237, 0.7811564674747453, 0.7963690174406034, 0.7764044325896001, 0.7845189319182652, 0.7786376423101764, 0.7749253889492327, 0.7863389912807512, 0.77482449565568, 0.5800684956878202, 0.777255152901443, 0.7689398228382845, 0.4709748676512491, 0.8033385663779005, 0.7772511751779234]}, {\"categories\": [\"0\", \"1\", \"2\", \"3\", \"4\", \"5\", \"6\", \"7\", \"8\", \"9\", \"10\", \"11\", \"12\", \"13\", \"14\", \"15\", \"16\", \"17\", \"18\", \"19\", \"20\", \"21\", \"22\", \"23\", \"24\", \"25\", \"26\", \"27\"], \"mode\": \"lines\", \"name\": \"f1_score_weighted_max\", \"stepped\": true, \"type\": \"scatter\", \"data\": [0.7885720987135327, 0.7885720987135327, 0.7885720987135327, 0.7885720987135327, 0.7885720987135327, 0.7885720987135327, 0.7885720987135327, 0.7885720987135327, 0.7885720987135327, 0.7885720987135327, 0.7885720987135327, 0.7885720987135327, 0.7885720987135327, 0.7885720987135327, 0.7885720987135327, 0.7963690174406034, 0.7963690174406034, 0.7963690174406034, 0.7963690174406034, 0.7963690174406034, 0.7963690174406034, 0.7963690174406034, 0.7963690174406034, 0.7963690174406034, 0.7963690174406034, 0.7963690174406034, 0.8033385663779005, 0.8033385663779005]}], \"average_precision_score_weighted\": [{\"categories\": [\"0\", \"1\", \"2\", \"3\", \"4\", \"5\", \"6\", \"7\", \"8\", \"9\", \"10\", \"11\", \"12\", \"13\", \"14\", \"15\", \"16\", \"17\", \"18\", \"19\", \"20\", \"21\", \"22\", \"23\", \"24\", \"25\", \"26\", \"27\"], \"mode\": \"markers\", \"name\": \"average_precision_score_weighted\", \"stepped\": false, \"type\": \"scatter\", \"data\": [0.8284567309723508, 0.8329228881271238, 0.8322239174708745, 0.8264027365320896, 0.8391459441599242, 0.7752541171093581, 0.8398842075963628, 0.8371557004942656, 0.8131509121831357, 0.842105991150113, 0.8434018060423444, 0.8385024190406144, 0.8380570862570187, 0.8189922086223929, 0.8408813768747075, 0.8248284681859779, 0.8124825203496157, 0.8178885369849901, 0.8489169486257546, 0.8169346492232312, 0.8479417037419203, 0.8477905400592315, 0.5821902668548443, 0.823710779264377, 0.8161107827060166, 0.5300620995178769, 0.8370354731267684, 0.8458859178508081]}, {\"categories\": [\"0\", \"1\", \"2\", \"3\", \"4\", \"5\", \"6\", \"7\", \"8\", \"9\", \"10\", \"11\", \"12\", \"13\", \"14\", \"15\", \"16\", \"17\", \"18\", \"19\", \"20\", \"21\", \"22\", \"23\", \"24\", \"25\", \"26\", \"27\"], \"mode\": \"lines\", \"name\": \"average_precision_score_weighted_max\", \"stepped\": true, \"type\": \"scatter\", \"data\": [0.8284567309723508, 0.8329228881271238, 0.8329228881271238, 0.8329228881271238, 0.8391459441599242, 0.8391459441599242, 0.8398842075963628, 0.8398842075963628, 0.8398842075963628, 0.842105991150113, 0.8434018060423444, 0.8434018060423444, 0.8434018060423444, 0.8434018060423444, 0.8434018060423444, 0.8434018060423444, 0.8434018060423444, 0.8434018060423444, 0.8489169486257546, 0.8489169486257546, 0.8489169486257546, 0.8489169486257546, 0.8489169486257546, 0.8489169486257546, 0.8489169486257546, 0.8489169486257546, 0.8489169486257546, 0.8489169486257546]}], \"matthews_correlation\": [{\"categories\": [\"0\", \"1\", \"2\", \"3\", \"4\", \"5\", \"6\", \"7\", \"8\", \"9\", \"10\", \"11\", \"12\", \"13\", \"14\", \"15\", \"16\", \"17\", \"18\", \"19\", \"20\", \"21\", \"22\", \"23\", \"24\", \"25\", \"26\", \"27\"], \"mode\": \"markers\", \"name\": \"matthews_correlation\", \"stepped\": false, \"type\": \"scatter\", \"data\": [0.5542866635428817, 0.5476991699609632, 0.5149859465035511, 0.5177057887838629, 0.5510807490892603, 0.5321426612716311, 0.5215102842058255, 0.5409007024307771, 0.5180718049794237, 0.5493512797078879, 0.5505698331999784, 0.5563790980628054, 0.5412881164257454, 0.5177749557528106, 0.5333494230430624, 0.5776084015298644, 0.5531962912711036, 0.5443368840386268, 0.5447656037126941, 0.5278661967205738, 0.5630874805437498, 0.5316879906554974, 0.11033690258844701, 0.53354031636038, 0.5488747635399456, 0.0, 0.5976139239982635, 0.5369672895982603]}, {\"categories\": [\"0\", \"1\", \"2\", \"3\", \"4\", \"5\", \"6\", \"7\", \"8\", \"9\", \"10\", \"11\", \"12\", \"13\", \"14\", \"15\", \"16\", \"17\", \"18\", \"19\", \"20\", \"21\", \"22\", \"23\", \"24\", \"25\", \"26\", \"27\"], \"mode\": \"lines\", \"name\": \"matthews_correlation_max\", \"stepped\": true, \"type\": \"scatter\", \"data\": [0.5542866635428817, 0.5542866635428817, 0.5542866635428817, 0.5542866635428817, 0.5542866635428817, 0.5542866635428817, 0.5542866635428817, 0.5542866635428817, 0.5542866635428817, 0.5542866635428817, 0.5542866635428817, 0.5563790980628054, 0.5563790980628054, 0.5563790980628054, 0.5563790980628054, 0.5776084015298644, 0.5776084015298644, 0.5776084015298644, 0.5776084015298644, 0.5776084015298644, 0.5776084015298644, 0.5776084015298644, 0.5776084015298644, 0.5776084015298644, 0.5776084015298644, 0.5776084015298644, 0.5976139239982635, 0.5976139239982635]}], \"f1_score_macro\": [{\"categories\": [\"0\", \"1\", \"2\", \"3\", \"4\", \"5\", \"6\", \"7\", \"8\", \"9\", \"10\", \"11\", \"12\", \"13\", \"14\", \"15\", \"16\", \"17\", \"18\", \"19\", \"20\", \"21\", \"22\", \"23\", \"24\", \"25\", \"26\", \"27\"], \"mode\": \"markers\", \"name\": \"f1_score_macro\", \"stepped\": false, \"type\": \"scatter\", \"data\": [0.7733310017120674, 0.7650599786750505, 0.7473352079918216, 0.7430156199478641, 0.7745264525953128, 0.7611998313761233, 0.7594614602603503, 0.7601811483652916, 0.7517942829691804, 0.7728292973219157, 0.7650407139845155, 0.7614017293465519, 0.7527778983561257, 0.7536918212316118, 0.7646571371118469, 0.7792083866218734, 0.754290547683582, 0.7675582638672488, 0.7589782589739305, 0.7555048337993775, 0.7662615217350256, 0.7548102618449277, 0.537243191088263, 0.7601329756438199, 0.7449982899962132, 0.38103970101136947, 0.7853310990380613, 0.7595137584678384]}, {\"categories\": [\"0\", \"1\", \"2\", \"3\", \"4\", \"5\", \"6\", \"7\", \"8\", \"9\", \"10\", \"11\", \"12\", \"13\", \"14\", \"15\", \"16\", \"17\", \"18\", \"19\", \"20\", \"21\", \"22\", \"23\", \"24\", \"25\", \"26\", \"27\"], \"mode\": \"lines\", \"name\": \"f1_score_macro_max\", \"stepped\": true, \"type\": \"scatter\", \"data\": [0.7733310017120674, 0.7733310017120674, 0.7733310017120674, 0.7733310017120674, 0.7745264525953128, 0.7745264525953128, 0.7745264525953128, 0.7745264525953128, 0.7745264525953128, 0.7745264525953128, 0.7745264525953128, 0.7745264525953128, 0.7745264525953128, 0.7745264525953128, 0.7745264525953128, 0.7792083866218734, 0.7792083866218734, 0.7792083866218734, 0.7792083866218734, 0.7792083866218734, 0.7792083866218734, 0.7792083866218734, 0.7792083866218734, 0.7792083866218734, 0.7792083866218734, 0.7792083866218734, 0.7853310990380613, 0.7853310990380613]}], \"recall_score_macro\": [{\"categories\": [\"0\", \"1\", \"2\", \"3\", \"4\", \"5\", \"6\", \"7\", \"8\", \"9\", \"10\", \"11\", \"12\", \"13\", \"14\", \"15\", \"16\", \"17\", \"18\", \"19\", \"20\", \"21\", \"22\", \"23\", \"24\", \"25\", \"26\", \"27\"], \"mode\": \"markers\", \"name\": \"recall_score_macro\", \"stepped\": false, \"type\": \"scatter\", \"data\": [0.7668301574967666, 0.7559467717717678, 0.7401327950611126, 0.7370117116333, 0.7729463300646332, 0.7547192163275996, 0.7569013400288345, 0.7512088624287803, 0.7438528231476857, 0.7684256845564326, 0.7580886828425817, 0.7495293103480164, 0.7486857202604562, 0.7476727695482481, 0.7599859268368256, 0.7710936014881731, 0.7433967378182891, 0.7612819403715145, 0.7512232397864103, 0.7465952841750305, 0.755868432312967, 0.7458964993686503, 0.5460109081700854, 0.7545225447375951, 0.7347934022072841, 0.5, 0.7734959392622824, 0.7534823564316162]}, {\"categories\": [\"0\", \"1\", \"2\", \"3\", \"4\", \"5\", \"6\", \"7\", \"8\", \"9\", \"10\", \"11\", \"12\", \"13\", \"14\", \"15\", \"16\", \"17\", \"18\", \"19\", \"20\", \"21\", \"22\", \"23\", \"24\", \"25\", \"26\", \"27\"], \"mode\": \"lines\", \"name\": \"recall_score_macro_max\", \"stepped\": true, \"type\": \"scatter\", \"data\": [0.7668301574967666, 0.7668301574967666, 0.7668301574967666, 0.7668301574967666, 0.7729463300646332, 0.7729463300646332, 0.7729463300646332, 0.7729463300646332, 0.7729463300646332, 0.7729463300646332, 0.7729463300646332, 0.7729463300646332, 0.7729463300646332, 0.7729463300646332, 0.7729463300646332, 0.7729463300646332, 0.7729463300646332, 0.7729463300646332, 0.7729463300646332, 0.7729463300646332, 0.7729463300646332, 0.7729463300646332, 0.7729463300646332, 0.7729463300646332, 0.7729463300646332, 0.7729463300646332, 0.7734959392622824, 0.7734959392622824]}], \"recall_score_weighted\": [{\"categories\": [\"0\", \"1\", \"2\", \"3\", \"4\", \"5\", \"6\", \"7\", \"8\", \"9\", \"10\", \"11\", \"12\", \"13\", \"14\", \"15\", \"16\", \"17\", \"18\", \"19\", \"20\", \"21\", \"22\", \"23\", \"24\", \"25\", \"26\", \"27\"], \"mode\": \"markers\", \"name\": \"recall_score_weighted\", \"stepped\": false, \"type\": \"scatter\", \"data\": [0.7920811582783415, 0.7906924061853638, 0.7738303949571554, 0.7724317935585541, 0.7892938047867626, 0.7837190978036048, 0.7766472963656061, 0.7878558061656653, 0.7780360484585838, 0.7906924061853638, 0.7892347089530187, 0.7934797596769427, 0.7808037033389146, 0.7766374470599823, 0.7836501526642371, 0.8032896680784004, 0.7892445582586427, 0.7892347089530187, 0.7878361075544174, 0.7822712498768837, 0.7962966610853934, 0.7836600019698612, 0.608076430611642, 0.7822318526543879, 0.7850783019797105, 0.6165271348369941, 0.8117600709150004, 0.7836600019698612]}, {\"categories\": [\"0\", \"1\", \"2\", \"3\", \"4\", \"5\", \"6\", \"7\", \"8\", \"9\", \"10\", \"11\", \"12\", \"13\", \"14\", \"15\", \"16\", \"17\", \"18\", \"19\", \"20\", \"21\", \"22\", \"23\", \"24\", \"25\", \"26\", \"27\"], \"mode\": \"lines\", \"name\": \"recall_score_weighted_max\", \"stepped\": true, \"type\": \"scatter\", \"data\": [0.7920811582783415, 0.7920811582783415, 0.7920811582783415, 0.7920811582783415, 0.7920811582783415, 0.7920811582783415, 0.7920811582783415, 0.7920811582783415, 0.7920811582783415, 0.7920811582783415, 0.7920811582783415, 0.7934797596769427, 0.7934797596769427, 0.7934797596769427, 0.7934797596769427, 0.8032896680784004, 0.8032896680784004, 0.8032896680784004, 0.8032896680784004, 0.8032896680784004, 0.8032896680784004, 0.8032896680784004, 0.8032896680784004, 0.8032896680784004, 0.8032896680784004, 0.8032896680784004, 0.8117600709150004, 0.8117600709150004]}], \"AUC_macro\": [{\"categories\": [\"0\", \"1\", \"2\", \"3\", \"4\", \"5\", \"6\", \"7\", \"8\", \"9\", \"10\", \"11\", \"12\", \"13\", \"14\", \"15\", \"16\", \"17\", \"18\", \"19\", \"20\", \"21\", \"22\", \"23\", \"24\", \"25\", \"26\", \"27\"], \"mode\": \"markers\", \"name\": \"AUC_macro\", \"stepped\": false, \"type\": \"scatter\", \"data\": [0.8209113051326998, 0.8345661197701875, 0.8307148030795848, 0.830411957918735, 0.8349616395814332, 0.7801789139747181, 0.8361122566544209, 0.8358000426530596, 0.8071651491042537, 0.836526745723386, 0.8362042734693251, 0.8354920416849785, 0.8403639297797983, 0.81555733730385, 0.8386023697616446, 0.8273612494121702, 0.8206630489894632, 0.8137579386285143, 0.8400569373197986, 0.8212684574065037, 0.8426368014961678, 0.8441977112750566, 0.5611906441251767, 0.8272636843085941, 0.8263268536079422, 0.5, 0.8346708206100638, 0.8395041406836754]}, {\"categories\": [\"0\", \"1\", \"2\", \"3\", \"4\", \"5\", \"6\", \"7\", \"8\", \"9\", \"10\", \"11\", \"12\", \"13\", \"14\", \"15\", \"16\", \"17\", \"18\", \"19\", \"20\", \"21\", \"22\", \"23\", \"24\", \"25\", \"26\", \"27\"], \"mode\": \"lines\", \"name\": \"AUC_macro_max\", \"stepped\": true, \"type\": \"scatter\", \"data\": [0.8209113051326998, 0.8345661197701875, 0.8345661197701875, 0.8345661197701875, 0.8349616395814332, 0.8349616395814332, 0.8361122566544209, 0.8361122566544209, 0.8361122566544209, 0.836526745723386, 0.836526745723386, 0.836526745723386, 0.8403639297797983, 0.8403639297797983, 0.8403639297797983, 0.8403639297797983, 0.8403639297797983, 0.8403639297797983, 0.8403639297797983, 0.8403639297797983, 0.8426368014961678, 0.8441977112750566, 0.8441977112750566, 0.8441977112750566, 0.8441977112750566, 0.8441977112750566, 0.8441977112750566, 0.8441977112750566]}], \"accuracy\": [{\"categories\": [\"0\", \"1\", \"2\", \"3\", \"4\", \"5\", \"6\", \"7\", \"8\", \"9\", \"10\", \"11\", \"12\", \"13\", \"14\", \"15\", \"16\", \"17\", \"18\", \"19\", \"20\", \"21\", \"22\", \"23\", \"24\", \"25\", \"26\", \"27\"], \"mode\": \"markers\", \"name\": \"accuracy\", \"stepped\": false, \"type\": \"scatter\", \"data\": [0.7920811582783415, 0.7906924061853638, 0.7738303949571554, 0.7724317935585541, 0.7892938047867626, 0.7837190978036048, 0.7766472963656061, 0.7878558061656653, 0.7780360484585838, 0.7906924061853638, 0.7892347089530187, 0.7934797596769427, 0.7808037033389146, 0.7766374470599823, 0.7836501526642371, 0.8032896680784004, 0.7892445582586427, 0.7892347089530187, 0.7878361075544174, 0.7822712498768837, 0.7962966610853934, 0.7836600019698612, 0.608076430611642, 0.7822318526543879, 0.7850783019797105, 0.6165271348369941, 0.8117600709150004, 0.7836600019698612]}, {\"categories\": [\"0\", \"1\", \"2\", \"3\", \"4\", \"5\", \"6\", \"7\", \"8\", \"9\", \"10\", \"11\", \"12\", \"13\", \"14\", \"15\", \"16\", \"17\", \"18\", \"19\", \"20\", \"21\", \"22\", \"23\", \"24\", \"25\", \"26\", \"27\"], \"mode\": \"lines\", \"name\": \"accuracy_max\", \"stepped\": true, \"type\": \"scatter\", \"data\": [0.7920811582783415, 0.7920811582783415, 0.7920811582783415, 0.7920811582783415, 0.7920811582783415, 0.7920811582783415, 0.7920811582783415, 0.7920811582783415, 0.7920811582783415, 0.7920811582783415, 0.7920811582783415, 0.7934797596769427, 0.7934797596769427, 0.7934797596769427, 0.7934797596769427, 0.8032896680784004, 0.8032896680784004, 0.8032896680784004, 0.8032896680784004, 0.8032896680784004, 0.8032896680784004, 0.8032896680784004, 0.8032896680784004, 0.8032896680784004, 0.8032896680784004, 0.8032896680784004, 0.8117600709150004, 0.8117600709150004]}], \"AUC_weighted\": [{\"categories\": [\"0\", \"1\", \"2\", \"3\", \"4\", \"5\", \"6\", \"7\", \"8\", \"9\", \"10\", \"11\", \"12\", \"13\", \"14\", \"15\", \"16\", \"17\", \"18\", \"19\", \"20\", \"21\", \"22\", \"23\", \"24\", \"25\", \"26\", \"27\"], \"mode\": \"markers\", \"name\": \"AUC_weighted\", \"stepped\": false, \"type\": \"scatter\", \"data\": [0.8209113051326998, 0.8345661197701875, 0.8307148030795846, 0.830411957918735, 0.8349616395814332, 0.7801789139747181, 0.8361122566544209, 0.8358000426530594, 0.8071651491042537, 0.8365267457233859, 0.8362042734693251, 0.8354920416849785, 0.8403639297797983, 0.81555733730385, 0.8386023697616448, 0.8273612494121702, 0.8206630489894632, 0.8137579386285143, 0.8400569373197986, 0.8212684574065037, 0.8426368014961678, 0.8441977112750566, 0.5611906441251767, 0.8272636843085941, 0.8263268536079422, 0.5, 0.8346708206100638, 0.8395041406836754]}, {\"categories\": [\"0\", \"1\", \"2\", \"3\", \"4\", \"5\", \"6\", \"7\", \"8\", \"9\", \"10\", \"11\", \"12\", \"13\", \"14\", \"15\", \"16\", \"17\", \"18\", \"19\", \"20\", \"21\", \"22\", \"23\", \"24\", \"25\", \"26\", \"27\"], \"mode\": \"lines\", \"name\": \"AUC_weighted_max\", \"stepped\": true, \"type\": \"scatter\", \"data\": [0.8209113051326998, 0.8345661197701875, 0.8345661197701875, 0.8345661197701875, 0.8349616395814332, 0.8349616395814332, 0.8361122566544209, 0.8361122566544209, 0.8361122566544209, 0.8365267457233859, 0.8365267457233859, 0.8365267457233859, 0.8403639297797983, 0.8403639297797983, 0.8403639297797983, 0.8403639297797983, 0.8403639297797983, 0.8403639297797983, 0.8403639297797983, 0.8403639297797983, 0.8426368014961678, 0.8441977112750566, 0.8441977112750566, 0.8441977112750566, 0.8441977112750566, 0.8441977112750566, 0.8441977112750566, 0.8441977112750566]}], \"average_precision_score_macro\": [{\"categories\": [\"0\", \"1\", \"2\", \"3\", \"4\", \"5\", \"6\", \"7\", \"8\", \"9\", \"10\", \"11\", \"12\", \"13\", \"14\", \"15\", \"16\", \"17\", \"18\", \"19\", \"20\", \"21\", \"22\", \"23\", \"24\", \"25\", \"26\", \"27\"], \"mode\": \"markers\", \"name\": \"average_precision_score_macro\", \"stepped\": false, \"type\": \"scatter\", \"data\": [0.8209606978198595, 0.8278838480290549, 0.8248020877342659, 0.8208435471385991, 0.832954242053904, 0.7669577720888519, 0.8327764679680023, 0.8312098632789799, 0.8080774245279978, 0.8342004457338279, 0.8355443706953395, 0.8311439296657437, 0.8276422232645206, 0.8106979796224383, 0.8321581024897554, 0.8211857444246625, 0.8034798835530349, 0.8100471056244156, 0.8425736661134821, 0.8117890569728676, 0.8410911846458957, 0.8433215371627728, 0.5573164059060844, 0.816210806016404, 0.806751143472692, 0.5, 0.8297329477912797, 0.8399441182950085]}, {\"categories\": [\"0\", \"1\", \"2\", \"3\", \"4\", \"5\", \"6\", \"7\", \"8\", \"9\", \"10\", \"11\", \"12\", \"13\", \"14\", \"15\", \"16\", \"17\", \"18\", \"19\", \"20\", \"21\", \"22\", \"23\", \"24\", \"25\", \"26\", \"27\"], \"mode\": \"lines\", \"name\": \"average_precision_score_macro_max\", \"stepped\": true, \"type\": \"scatter\", \"data\": [0.8209606978198595, 0.8278838480290549, 0.8278838480290549, 0.8278838480290549, 0.832954242053904, 0.832954242053904, 0.832954242053904, 0.832954242053904, 0.832954242053904, 0.8342004457338279, 0.8355443706953395, 0.8355443706953395, 0.8355443706953395, 0.8355443706953395, 0.8355443706953395, 0.8355443706953395, 0.8355443706953395, 0.8355443706953395, 0.8425736661134821, 0.8425736661134821, 0.8425736661134821, 0.8433215371627728, 0.8433215371627728, 0.8433215371627728, 0.8433215371627728, 0.8433215371627728, 0.8433215371627728, 0.8433215371627728]}], \"weighted_accuracy\": [{\"categories\": [\"0\", \"1\", \"2\", \"3\", \"4\", \"5\", \"6\", \"7\", \"8\", \"9\", \"10\", \"11\", \"12\", \"13\", \"14\", \"15\", \"16\", \"17\", \"18\", \"19\", \"20\", \"21\", \"22\", \"23\", \"24\", \"25\", \"26\", \"27\"], \"mode\": \"markers\", \"name\": \"weighted_accuracy\", \"stepped\": false, \"type\": \"scatter\", \"data\": [0.8141651140303363, 0.8208991980125189, 0.8033997670348232, 0.8036519653744062, 0.8034241822701637, 0.8087856378214339, 0.7937952798194445, 0.819477523872469, 0.8076283550814789, 0.8099247980048492, 0.8165707977640636, 0.8315821674174557, 0.8093807168170221, 0.8017434534152299, 0.8041859606085016, 0.8313165285236339, 0.8292644052151645, 0.8134669397810631, 0.8197567485084873, 0.8131924476572969, 0.831368022809993, 0.8163218783408993, 0.6619108446274178, 0.8065217307104344, 0.8286736221379088, 0.7178826610803902, 0.8448929256448748, 0.8101761446038249]}, {\"categories\": [\"0\", \"1\", \"2\", \"3\", \"4\", \"5\", \"6\", \"7\", \"8\", \"9\", \"10\", \"11\", \"12\", \"13\", \"14\", \"15\", \"16\", \"17\", \"18\", \"19\", \"20\", \"21\", \"22\", \"23\", \"24\", \"25\", \"26\", \"27\"], \"mode\": \"lines\", \"name\": \"weighted_accuracy_max\", \"stepped\": true, \"type\": \"scatter\", \"data\": [0.8141651140303363, 0.8208991980125189, 0.8208991980125189, 0.8208991980125189, 0.8208991980125189, 0.8208991980125189, 0.8208991980125189, 0.8208991980125189, 0.8208991980125189, 0.8208991980125189, 0.8208991980125189, 0.8315821674174557, 0.8315821674174557, 0.8315821674174557, 0.8315821674174557, 0.8315821674174557, 0.8315821674174557, 0.8315821674174557, 0.8315821674174557, 0.8315821674174557, 0.8315821674174557, 0.8315821674174557, 0.8315821674174557, 0.8315821674174557, 0.8315821674174557, 0.8315821674174557, 0.8448929256448748, 0.8448929256448748]}], \"norm_macro_recall\": [{\"categories\": [\"0\", \"1\", \"2\", \"3\", \"4\", \"5\", \"6\", \"7\", \"8\", \"9\", \"10\", \"11\", \"12\", \"13\", \"14\", \"15\", \"16\", \"17\", \"18\", \"19\", \"20\", \"21\", \"22\", \"23\", \"24\", \"25\", \"26\", \"27\"], \"mode\": \"markers\", \"name\": \"norm_macro_recall\", \"stepped\": false, \"type\": \"scatter\", \"data\": [0.5336603149935331, 0.5118935435435359, 0.4802655901222252, 0.47402342326659996, 0.5458926601292664, 0.5094384326551991, 0.5138026800576689, 0.5024177248575606, 0.4877056462953716, 0.5368513691128651, 0.5161773656851635, 0.49905862069603285, 0.4973714405209124, 0.4953455390964961, 0.5199718536736511, 0.5421872029763461, 0.48679347563657827, 0.5225638807430292, 0.5024464795728205, 0.49319056835006114, 0.5117368646259338, 0.4917929987373005, 0.09202181634017056, 0.5090450894751901, 0.4695868044145682, 0.0, 0.5469918785245648, 0.5069647128632324]}, {\"categories\": [\"0\", \"1\", \"2\", \"3\", \"4\", \"5\", \"6\", \"7\", \"8\", \"9\", \"10\", \"11\", \"12\", \"13\", \"14\", \"15\", \"16\", \"17\", \"18\", \"19\", \"20\", \"21\", \"22\", \"23\", \"24\", \"25\", \"26\", \"27\"], \"mode\": \"lines\", \"name\": \"norm_macro_recall_max\", \"stepped\": true, \"type\": \"scatter\", \"data\": [0.5336603149935331, 0.5336603149935331, 0.5336603149935331, 0.5336603149935331, 0.5458926601292664, 0.5458926601292664, 0.5458926601292664, 0.5458926601292664, 0.5458926601292664, 0.5458926601292664, 0.5458926601292664, 0.5458926601292664, 0.5458926601292664, 0.5458926601292664, 0.5458926601292664, 0.5458926601292664, 0.5458926601292664, 0.5458926601292664, 0.5458926601292664, 0.5458926601292664, 0.5458926601292664, 0.5458926601292664, 0.5458926601292664, 0.5458926601292664, 0.5458926601292664, 0.5458926601292664, 0.5469918785245648, 0.5469918785245648]}]}, \"metricName\": null, \"primaryMetricName\": \"accuracy\", \"showLegend\": false}, \"run_metrics\": [{\"name\": \"experiment_status\", \"run_id\": \"AutoML_d5d21135-6b5f-48b9-bbb5-8c30cb2f3f8f\", \"categories\": [0, 1, 2, 3, 4, 5, 6, 7, 8, 9, 10, 11, 12, 13], \"series\": [{\"data\": [\"DatasetEvaluation\", \"FeaturesGeneration\", \"DatasetFeaturization\", \"DatasetFeaturizationCompleted\", \"DatasetCrossValidationSplit\", \"ModelSelection\", \"BestRunExplainModel\", \"ModelExplanationDataSetSetup\", \"PickSurrogateModel\", \"EngineeredFeatureExplanations\", \"EngineeredFeatureExplanations\", \"RawFeaturesExplanations\", \"RawFeaturesExplanations\", \"BestRunExplainModel\"]}]}, {\"name\": \"experiment_status_description\", \"run_id\": \"AutoML_d5d21135-6b5f-48b9-bbb5-8c30cb2f3f8f\", \"categories\": [0, 1, 2, 3, 4, 5, 6, 7, 8, 9, 10, 11, 12, 13], \"series\": [{\"data\": [\"Gathering dataset statistics.\", \"Generating features for the dataset.\", \"Beginning to fit featurizers and featurize the dataset.\", \"Completed fit featurizers and featurizing the dataset.\", \"Generating individually featurized CV splits.\", \"Beginning model selection.\", \"Best run model explanations started\", \"Model explanations data setup completed\", \"Choosing LightGBM as the surrogate model for explanations\", \"Computation of engineered features started\", \"Computation of engineered features completed\", \"Computation of raw features started\", \"Computation of raw features completed\", \"Best run model explanations completed\"]}]}, {\"name\": \"weighted_accuracy\", \"run_id\": \"AutoML_d5d21135-6b5f-48b9-bbb5-8c30cb2f3f8f\", \"categories\": [0], \"series\": [{\"data\": [0.8448929256448748]}]}, {\"name\": \"norm_macro_recall\", \"run_id\": \"AutoML_d5d21135-6b5f-48b9-bbb5-8c30cb2f3f8f\", \"categories\": [0], \"series\": [{\"data\": [0.5469918785245648]}]}, {\"name\": \"precision_score_macro\", \"run_id\": \"AutoML_d5d21135-6b5f-48b9-bbb5-8c30cb2f3f8f\", \"categories\": [0], \"series\": [{\"data\": [0.8267152108660983]}]}, {\"name\": \"recall_score_macro\", \"run_id\": \"AutoML_d5d21135-6b5f-48b9-bbb5-8c30cb2f3f8f\", \"categories\": [0], \"series\": [{\"data\": [0.7734959392622824]}]}, {\"name\": \"f1_score_macro\", \"run_id\": \"AutoML_d5d21135-6b5f-48b9-bbb5-8c30cb2f3f8f\", \"categories\": [0], \"series\": [{\"data\": [0.7853310990380613]}]}, {\"name\": \"precision_score_micro\", \"run_id\": \"AutoML_d5d21135-6b5f-48b9-bbb5-8c30cb2f3f8f\", \"categories\": [0], \"series\": [{\"data\": [0.8117600709150004]}]}, {\"name\": \"log_loss\", \"run_id\": \"AutoML_d5d21135-6b5f-48b9-bbb5-8c30cb2f3f8f\", \"categories\": [0], \"series\": [{\"data\": [0.47222841671416027]}]}, {\"name\": \"average_precision_score_micro\", \"run_id\": \"AutoML_d5d21135-6b5f-48b9-bbb5-8c30cb2f3f8f\", \"categories\": [0], \"series\": [{\"data\": [0.8401907528920123]}]}, {\"name\": \"precision_score_weighted\", \"run_id\": \"AutoML_d5d21135-6b5f-48b9-bbb5-8c30cb2f3f8f\", \"categories\": [0], \"series\": [{\"data\": [0.8206851661381412]}]}, {\"name\": \"recall_score_weighted\", \"run_id\": \"AutoML_d5d21135-6b5f-48b9-bbb5-8c30cb2f3f8f\", \"categories\": [0], \"series\": [{\"data\": [0.8117600709150004]}]}, {\"name\": \"f1_score_micro\", \"run_id\": \"AutoML_d5d21135-6b5f-48b9-bbb5-8c30cb2f3f8f\", \"categories\": [0], \"series\": [{\"data\": [0.8117600709150004]}]}, {\"name\": \"AUC_macro\", \"run_id\": \"AutoML_d5d21135-6b5f-48b9-bbb5-8c30cb2f3f8f\", \"categories\": [0], \"series\": [{\"data\": [0.8346708206100638]}]}, {\"name\": \"average_precision_score_weighted\", \"run_id\": \"AutoML_d5d21135-6b5f-48b9-bbb5-8c30cb2f3f8f\", \"categories\": [0], \"series\": [{\"data\": [0.8370354731267684]}]}, {\"name\": \"AUC_weighted\", \"run_id\": \"AutoML_d5d21135-6b5f-48b9-bbb5-8c30cb2f3f8f\", \"categories\": [0], \"series\": [{\"data\": [0.8346708206100638]}]}, {\"name\": \"accuracy\", \"run_id\": \"AutoML_d5d21135-6b5f-48b9-bbb5-8c30cb2f3f8f\", \"categories\": [0], \"series\": [{\"data\": [0.8117600709150004]}]}, {\"name\": \"matthews_correlation\", \"run_id\": \"AutoML_d5d21135-6b5f-48b9-bbb5-8c30cb2f3f8f\", \"categories\": [0], \"series\": [{\"data\": [0.5976139239982635]}]}, {\"name\": \"AUC_micro\", \"run_id\": \"AutoML_d5d21135-6b5f-48b9-bbb5-8c30cb2f3f8f\", \"categories\": [0], \"series\": [{\"data\": [0.8607790250708531]}]}, {\"name\": \"recall_score_micro\", \"run_id\": \"AutoML_d5d21135-6b5f-48b9-bbb5-8c30cb2f3f8f\", \"categories\": [0], \"series\": [{\"data\": [0.8117600709150004]}]}, {\"name\": \"average_precision_score_macro\", \"run_id\": \"AutoML_d5d21135-6b5f-48b9-bbb5-8c30cb2f3f8f\", \"categories\": [0], \"series\": [{\"data\": [0.8297329477912797]}]}, {\"name\": \"balanced_accuracy\", \"run_id\": \"AutoML_d5d21135-6b5f-48b9-bbb5-8c30cb2f3f8f\", \"categories\": [0], \"series\": [{\"data\": [0.7734959392622824]}]}, {\"name\": \"f1_score_weighted\", \"run_id\": \"AutoML_d5d21135-6b5f-48b9-bbb5-8c30cb2f3f8f\", \"categories\": [0], \"series\": [{\"data\": [0.8033385663779005]}]}], \"run_logs\": \"\\nRun is completed.\", \"graph\": {}, \"widget_settings\": {\"childWidgetDisplay\": \"popup\", \"send_telemetry\": false, \"log_level\": \"INFO\", \"sdk_version\": \"1.20.0\"}, \"loading\": false}"
     },
     "metadata": {},
     "output_type": "display_data"
    }
   ],
   "source": [
    "from azureml.widgets import RunDetails\n",
    "automl_run = experiment.submit(automl_config, show_output = True)\n",
    "RunDetails(automl_run).show()"
   ]
  },
  {
   "cell_type": "code",
   "execution_count": 12,
   "metadata": {
    "scrolled": false
   },
   "outputs": [
    {
     "data": {
      "text/plain": [
       "{'runId': 'AutoML_d5d21135-6b5f-48b9-bbb5-8c30cb2f3f8f',\n",
       " 'target': 'computecluster1',\n",
       " 'status': 'Completed',\n",
       " 'startTimeUtc': '2021-01-26T10:47:54.937126Z',\n",
       " 'endTimeUtc': '2021-01-26T11:27:21.350548Z',\n",
       " 'properties': {'num_iterations': '1000',\n",
       "  'training_type': 'TrainFull',\n",
       "  'acquisition_function': 'EI',\n",
       "  'primary_metric': 'accuracy',\n",
       "  'train_split': '0',\n",
       "  'acquisition_parameter': '0',\n",
       "  'num_cross_validation': '5',\n",
       "  'target': 'computecluster1',\n",
       "  'AMLSettingsJsonString': '{\"path\":null,\"name\":\"titanic_automl\",\"subscription_id\":\"3d1a56d2-7c81-4118-9790-f85d1acf0c77\",\"resource_group\":\"aml-quickstarts-136108\",\"workspace_name\":\"quick-starts-ws-136108\",\"region\":\"southcentralus\",\"compute_target\":\"computecluster1\",\"spark_service\":null,\"azure_service\":\"remote\",\"many_models\":false,\"pipeline_fetch_max_batch_size\":1,\"iterations\":1000,\"primary_metric\":\"accuracy\",\"task_type\":\"classification\",\"data_script\":null,\"validation_size\":0.0,\"n_cross_validations\":5,\"y_min\":null,\"y_max\":null,\"num_classes\":null,\"featurization\":\"auto\",\"_ignore_package_version_incompatibilities\":false,\"is_timeseries\":false,\"max_cores_per_iteration\":1,\"max_concurrent_iterations\":1,\"iteration_timeout_minutes\":null,\"mem_in_mb\":null,\"enforce_time_on_windows\":false,\"experiment_timeout_minutes\":30,\"experiment_exit_score\":null,\"whitelist_models\":null,\"blacklist_algos\":[\"TensorFlowLinearClassifier\",\"TensorFlowDNN\"],\"supported_models\":[\"SVM\",\"RandomForest\",\"ExtremeRandomTrees\",\"MultinomialNaiveBayes\",\"BernoulliNaiveBayes\",\"SGD\",\"LinearSVM\",\"LogisticRegression\",\"DecisionTree\",\"KNN\",\"XGBoostClassifier\",\"TensorFlowDNN\",\"LightGBM\",\"TensorFlowLinearClassifier\",\"GradientBoosting\",\"AveragedPerceptronClassifier\"],\"auto_blacklist\":true,\"blacklist_samples_reached\":false,\"exclude_nan_labels\":true,\"verbosity\":20,\"_debug_log\":\"azureml_automl.log\",\"show_warnings\":false,\"model_explainability\":true,\"service_url\":null,\"sdk_url\":null,\"sdk_packages\":null,\"enable_onnx_compatible_models\":false,\"enable_split_onnx_featurizer_estimator_models\":false,\"vm_type\":\"STANDARD_DS2_V2\",\"telemetry_verbosity\":20,\"send_telemetry\":true,\"enable_dnn\":false,\"scenario\":\"SDK-1.13.0\",\"environment_label\":null,\"force_text_dnn\":false,\"enable_feature_sweeping\":true,\"enable_early_stopping\":false,\"early_stopping_n_iters\":10,\"metrics\":null,\"enable_ensembling\":true,\"enable_stack_ensembling\":true,\"ensemble_iterations\":15,\"enable_tf\":false,\"enable_subsampling\":null,\"subsample_seed\":null,\"enable_nimbusml\":false,\"enable_streaming\":false,\"force_streaming\":false,\"track_child_runs\":true,\"allowed_private_models\":[],\"label_column_name\":\"Survived\",\"weight_column_name\":null,\"cv_split_column_names\":null,\"enable_local_managed\":false,\"_local_managed_run_id\":null,\"cost_mode\":1,\"lag_length\":0,\"metric_operation\":\"maximize\",\"preprocess\":true}',\n",
       "  'DataPrepJsonString': '{\\\\\"training_data\\\\\": \\\\\"{\\\\\\\\\\\\\"blocks\\\\\\\\\\\\\": [{\\\\\\\\\\\\\"id\\\\\\\\\\\\\": \\\\\\\\\\\\\"03e52d5e-4f6c-476a-b36b-c950aeb61e94\\\\\\\\\\\\\", \\\\\\\\\\\\\"type\\\\\\\\\\\\\": \\\\\\\\\\\\\"Microsoft.DPrep.GetDatastoreFilesBlock\\\\\\\\\\\\\", \\\\\\\\\\\\\"arguments\\\\\\\\\\\\\": {\\\\\\\\\\\\\"datastores\\\\\\\\\\\\\": [{\\\\\\\\\\\\\"datastoreName\\\\\\\\\\\\\": \\\\\\\\\\\\\"workspaceblobstore\\\\\\\\\\\\\", \\\\\\\\\\\\\"path\\\\\\\\\\\\\": \\\\\\\\\\\\\"data/train.csv\\\\\\\\\\\\\", \\\\\\\\\\\\\"resourceGroup\\\\\\\\\\\\\": \\\\\\\\\\\\\"aml-quickstarts-136108\\\\\\\\\\\\\", \\\\\\\\\\\\\"subscription\\\\\\\\\\\\\": \\\\\\\\\\\\\"3d1a56d2-7c81-4118-9790-f85d1acf0c77\\\\\\\\\\\\\", \\\\\\\\\\\\\"workspaceName\\\\\\\\\\\\\": \\\\\\\\\\\\\"quick-starts-ws-136108\\\\\\\\\\\\\"}]}, \\\\\\\\\\\\\"localData\\\\\\\\\\\\\": {}, \\\\\\\\\\\\\"isEnabled\\\\\\\\\\\\\": true, \\\\\\\\\\\\\"name\\\\\\\\\\\\\": null, \\\\\\\\\\\\\"annotation\\\\\\\\\\\\\": null}, {\\\\\\\\\\\\\"id\\\\\\\\\\\\\": \\\\\\\\\\\\\"f809b42a-42a4-485c-bc9f-512e0ba85670\\\\\\\\\\\\\", \\\\\\\\\\\\\"type\\\\\\\\\\\\\": \\\\\\\\\\\\\"Microsoft.DPrep.ParseDelimitedBlock\\\\\\\\\\\\\", \\\\\\\\\\\\\"arguments\\\\\\\\\\\\\": {\\\\\\\\\\\\\"columnHeadersMode\\\\\\\\\\\\\": 3, \\\\\\\\\\\\\"fileEncoding\\\\\\\\\\\\\": 0, \\\\\\\\\\\\\"handleQuotedLineBreaks\\\\\\\\\\\\\": false, \\\\\\\\\\\\\"preview\\\\\\\\\\\\\": false, \\\\\\\\\\\\\"separator\\\\\\\\\\\\\": \\\\\\\\\\\\\",\\\\\\\\\\\\\", \\\\\\\\\\\\\"skipRows\\\\\\\\\\\\\": 0, \\\\\\\\\\\\\"skipRowsMode\\\\\\\\\\\\\": 0}, \\\\\\\\\\\\\"localData\\\\\\\\\\\\\": {}, \\\\\\\\\\\\\"isEnabled\\\\\\\\\\\\\": true, \\\\\\\\\\\\\"name\\\\\\\\\\\\\": null, \\\\\\\\\\\\\"annotation\\\\\\\\\\\\\": null}, {\\\\\\\\\\\\\"id\\\\\\\\\\\\\": \\\\\\\\\\\\\"51112043-d896-45a6-aa14-ec905d050219\\\\\\\\\\\\\", \\\\\\\\\\\\\"type\\\\\\\\\\\\\": \\\\\\\\\\\\\"Microsoft.DPrep.DropColumnsBlock\\\\\\\\\\\\\", \\\\\\\\\\\\\"arguments\\\\\\\\\\\\\": {\\\\\\\\\\\\\"columns\\\\\\\\\\\\\": {\\\\\\\\\\\\\"type\\\\\\\\\\\\\": 0, \\\\\\\\\\\\\"details\\\\\\\\\\\\\": {\\\\\\\\\\\\\"selectedColumns\\\\\\\\\\\\\": [\\\\\\\\\\\\\"Path\\\\\\\\\\\\\"]}}}, \\\\\\\\\\\\\"localData\\\\\\\\\\\\\": {}, \\\\\\\\\\\\\"isEnabled\\\\\\\\\\\\\": true, \\\\\\\\\\\\\"name\\\\\\\\\\\\\": null, \\\\\\\\\\\\\"annotation\\\\\\\\\\\\\": null}, {\\\\\\\\\\\\\"id\\\\\\\\\\\\\": \\\\\\\\\\\\\"097c1f32-c2db-4b36-95a6-e75c9c47a9e4\\\\\\\\\\\\\", \\\\\\\\\\\\\"type\\\\\\\\\\\\\": \\\\\\\\\\\\\"Microsoft.DPrep.SetColumnTypesBlock\\\\\\\\\\\\\", \\\\\\\\\\\\\"arguments\\\\\\\\\\\\\": {\\\\\\\\\\\\\"columnConversion\\\\\\\\\\\\\": [{\\\\\\\\\\\\\"column\\\\\\\\\\\\\": {\\\\\\\\\\\\\"type\\\\\\\\\\\\\": 2, \\\\\\\\\\\\\"details\\\\\\\\\\\\\": {\\\\\\\\\\\\\"selectedColumn\\\\\\\\\\\\\": \\\\\\\\\\\\\"Column1\\\\\\\\\\\\\"}}, \\\\\\\\\\\\\"typeProperty\\\\\\\\\\\\\": 2}, {\\\\\\\\\\\\\"column\\\\\\\\\\\\\": {\\\\\\\\\\\\\"type\\\\\\\\\\\\\": 2, \\\\\\\\\\\\\"details\\\\\\\\\\\\\": {\\\\\\\\\\\\\"selectedColumn\\\\\\\\\\\\\": \\\\\\\\\\\\\"Age_2.0\\\\\\\\\\\\\"}}, \\\\\\\\\\\\\"typeProperty\\\\\\\\\\\\\": 2}, {\\\\\\\\\\\\\"column\\\\\\\\\\\\\": {\\\\\\\\\\\\\"type\\\\\\\\\\\\\": 2, \\\\\\\\\\\\\"details\\\\\\\\\\\\\": {\\\\\\\\\\\\\"selectedColumn\\\\\\\\\\\\\": \\\\\\\\\\\\\"Age_3.0\\\\\\\\\\\\\"}}, \\\\\\\\\\\\\"typeProperty\\\\\\\\\\\\\": 2}, {\\\\\\\\\\\\\"column\\\\\\\\\\\\\": {\\\\\\\\\\\\\"type\\\\\\\\\\\\\": 2, \\\\\\\\\\\\\"details\\\\\\\\\\\\\": {\\\\\\\\\\\\\"selectedColumn\\\\\\\\\\\\\": \\\\\\\\\\\\\"Age_4.0\\\\\\\\\\\\\"}}, \\\\\\\\\\\\\"typeProperty\\\\\\\\\\\\\": 2}, {\\\\\\\\\\\\\"column\\\\\\\\\\\\\": {\\\\\\\\\\\\\"type\\\\\\\\\\\\\": 2, \\\\\\\\\\\\\"details\\\\\\\\\\\\\": {\\\\\\\\\\\\\"selectedColumn\\\\\\\\\\\\\": \\\\\\\\\\\\\"Fare_2.0\\\\\\\\\\\\\"}}, \\\\\\\\\\\\\"typeProperty\\\\\\\\\\\\\": 2}, {\\\\\\\\\\\\\"column\\\\\\\\\\\\\": {\\\\\\\\\\\\\"type\\\\\\\\\\\\\": 2, \\\\\\\\\\\\\"details\\\\\\\\\\\\\": {\\\\\\\\\\\\\"selectedColumn\\\\\\\\\\\\\": \\\\\\\\\\\\\"Fare_3.0\\\\\\\\\\\\\"}}, \\\\\\\\\\\\\"typeProperty\\\\\\\\\\\\\": 2}, {\\\\\\\\\\\\\"column\\\\\\\\\\\\\": {\\\\\\\\\\\\\"type\\\\\\\\\\\\\": 2, \\\\\\\\\\\\\"details\\\\\\\\\\\\\": {\\\\\\\\\\\\\"selectedColumn\\\\\\\\\\\\\": \\\\\\\\\\\\\"Fare_4.0\\\\\\\\\\\\\"}}, \\\\\\\\\\\\\"typeProperty\\\\\\\\\\\\\": 2}, {\\\\\\\\\\\\\"column\\\\\\\\\\\\\": {\\\\\\\\\\\\\"type\\\\\\\\\\\\\": 2, \\\\\\\\\\\\\"details\\\\\\\\\\\\\": {\\\\\\\\\\\\\"selectedColumn\\\\\\\\\\\\\": \\\\\\\\\\\\\"Pclass_2\\\\\\\\\\\\\"}}, \\\\\\\\\\\\\"typeProperty\\\\\\\\\\\\\": 2}, {\\\\\\\\\\\\\"column\\\\\\\\\\\\\": {\\\\\\\\\\\\\"type\\\\\\\\\\\\\": 2, \\\\\\\\\\\\\"details\\\\\\\\\\\\\": {\\\\\\\\\\\\\"selectedColumn\\\\\\\\\\\\\": \\\\\\\\\\\\\"Pclass_3\\\\\\\\\\\\\"}}, \\\\\\\\\\\\\"typeProperty\\\\\\\\\\\\\": 2}, {\\\\\\\\\\\\\"column\\\\\\\\\\\\\": {\\\\\\\\\\\\\"type\\\\\\\\\\\\\": 2, \\\\\\\\\\\\\"details\\\\\\\\\\\\\": {\\\\\\\\\\\\\"selectedColumn\\\\\\\\\\\\\": \\\\\\\\\\\\\"Sex_male\\\\\\\\\\\\\"}}, \\\\\\\\\\\\\"typeProperty\\\\\\\\\\\\\": 2}, {\\\\\\\\\\\\\"column\\\\\\\\\\\\\": {\\\\\\\\\\\\\"type\\\\\\\\\\\\\": 2, \\\\\\\\\\\\\"details\\\\\\\\\\\\\": {\\\\\\\\\\\\\"selectedColumn\\\\\\\\\\\\\": \\\\\\\\\\\\\"Embarked_Q\\\\\\\\\\\\\"}}, \\\\\\\\\\\\\"typeProperty\\\\\\\\\\\\\": 2}, {\\\\\\\\\\\\\"column\\\\\\\\\\\\\": {\\\\\\\\\\\\\"type\\\\\\\\\\\\\": 2, \\\\\\\\\\\\\"details\\\\\\\\\\\\\": {\\\\\\\\\\\\\"selectedColumn\\\\\\\\\\\\\": \\\\\\\\\\\\\"Embarked_S\\\\\\\\\\\\\"}}, \\\\\\\\\\\\\"typeProperty\\\\\\\\\\\\\": 2}, {\\\\\\\\\\\\\"column\\\\\\\\\\\\\": {\\\\\\\\\\\\\"type\\\\\\\\\\\\\": 2, \\\\\\\\\\\\\"details\\\\\\\\\\\\\": {\\\\\\\\\\\\\"selectedColumn\\\\\\\\\\\\\": \\\\\\\\\\\\\"Family_type_Large\\\\\\\\\\\\\"}}, \\\\\\\\\\\\\"typeProperty\\\\\\\\\\\\\": 2}, {\\\\\\\\\\\\\"column\\\\\\\\\\\\\": {\\\\\\\\\\\\\"type\\\\\\\\\\\\\": 2, \\\\\\\\\\\\\"details\\\\\\\\\\\\\": {\\\\\\\\\\\\\"selectedColumn\\\\\\\\\\\\\": \\\\\\\\\\\\\"Family_type_Medium\\\\\\\\\\\\\"}}, \\\\\\\\\\\\\"typeProperty\\\\\\\\\\\\\": 2}, {\\\\\\\\\\\\\"column\\\\\\\\\\\\\": {\\\\\\\\\\\\\"type\\\\\\\\\\\\\": 2, \\\\\\\\\\\\\"details\\\\\\\\\\\\\": {\\\\\\\\\\\\\"selectedColumn\\\\\\\\\\\\\": \\\\\\\\\\\\\"Survived\\\\\\\\\\\\\"}}, \\\\\\\\\\\\\"typeProperty\\\\\\\\\\\\\": 2}]}, \\\\\\\\\\\\\"localData\\\\\\\\\\\\\": {}, \\\\\\\\\\\\\"isEnabled\\\\\\\\\\\\\": true, \\\\\\\\\\\\\"name\\\\\\\\\\\\\": null, \\\\\\\\\\\\\"annotation\\\\\\\\\\\\\": null}], \\\\\\\\\\\\\"inspectors\\\\\\\\\\\\\": [], \\\\\\\\\\\\\"meta\\\\\\\\\\\\\": {\\\\\\\\\\\\\"savedDatasetId\\\\\\\\\\\\\": \\\\\\\\\\\\\"d514f3bf-2c57-4972-a7fb-eb902530669a\\\\\\\\\\\\\", \\\\\\\\\\\\\"datasetType\\\\\\\\\\\\\": \\\\\\\\\\\\\"tabular\\\\\\\\\\\\\", \\\\\\\\\\\\\"subscriptionId\\\\\\\\\\\\\": \\\\\\\\\\\\\"3d1a56d2-7c81-4118-9790-f85d1acf0c77\\\\\\\\\\\\\", \\\\\\\\\\\\\"workspaceId\\\\\\\\\\\\\": \\\\\\\\\\\\\"0be4eeb6-e384-42ee-9207-5ec4ef507c80\\\\\\\\\\\\\", \\\\\\\\\\\\\"workspaceLocation\\\\\\\\\\\\\": \\\\\\\\\\\\\"southcentralus\\\\\\\\\\\\\"}}\\\\\", \\\\\"activities\\\\\": 0}',\n",
       "  'EnableSubsampling': None,\n",
       "  'runTemplate': 'AutoML',\n",
       "  'azureml.runsource': 'automl',\n",
       "  'display_task_type': 'classification',\n",
       "  'dependencies_versions': '{\"azureml-widgets\": \"1.20.0\", \"azureml-train\": \"1.20.0\", \"azureml-train-restclients-hyperdrive\": \"1.20.0\", \"azureml-train-core\": \"1.20.0\", \"azureml-train-automl\": \"1.20.0\", \"azureml-train-automl-runtime\": \"1.20.0\", \"azureml-train-automl-client\": \"1.20.0\", \"azureml-tensorboard\": \"1.20.0\", \"azureml-telemetry\": \"1.20.0\", \"azureml-sdk\": \"1.20.0\", \"azureml-samples\": \"0+unknown\", \"azureml-pipeline\": \"1.20.0\", \"azureml-pipeline-steps\": \"1.20.0\", \"azureml-pipeline-core\": \"1.20.0\", \"azureml-opendatasets\": \"1.20.0\", \"azureml-model-management-sdk\": \"1.0.1b6.post1\", \"azureml-mlflow\": \"1.20.0.post1\", \"azureml-interpret\": \"1.20.0\", \"azureml-explain-model\": \"1.20.0\", \"azureml-defaults\": \"1.20.0\", \"azureml-dataset-runtime\": \"1.20.0\", \"azureml-dataprep\": \"2.7.3\", \"azureml-dataprep-rslex\": \"1.5.0\", \"azureml-dataprep-native\": \"27.0.0\", \"azureml-datadrift\": \"1.20.0\", \"azureml-core\": \"1.20.0\", \"azureml-contrib-services\": \"1.20.0\", \"azureml-contrib-server\": \"1.20.0\", \"azureml-contrib-reinforcementlearning\": \"1.20.0\", \"azureml-contrib-pipeline-steps\": \"1.20.0\", \"azureml-contrib-notebook\": \"1.20.0\", \"azureml-contrib-interpret\": \"1.20.0\", \"azureml-contrib-gbdt\": \"1.20.0\", \"azureml-contrib-fairness\": \"1.20.0\", \"azureml-contrib-dataset\": \"1.20.0\", \"azureml-cli-common\": \"1.20.0\", \"azureml-automl-runtime\": \"1.20.0\", \"azureml-automl-core\": \"1.20.0\", \"azureml-accel-models\": \"1.20.0\"}',\n",
       "  '_aml_system_scenario_identification': 'Remote.Parent',\n",
       "  'ClientType': 'SDK',\n",
       "  'environment_cpu_name': 'AzureML-AutoML',\n",
       "  'environment_cpu_label': 'prod',\n",
       "  'environment_gpu_name': 'AzureML-AutoML-GPU',\n",
       "  'environment_gpu_label': 'prod',\n",
       "  'root_attribution': 'automl',\n",
       "  'attribution': 'AutoML',\n",
       "  'Orchestrator': 'AutoML',\n",
       "  'CancelUri': 'https://southcentralus.experiments.azureml.net/jasmine/v1.0/subscriptions/3d1a56d2-7c81-4118-9790-f85d1acf0c77/resourceGroups/aml-quickstarts-136108/providers/Microsoft.MachineLearningServices/workspaces/quick-starts-ws-136108/experimentids/ec29f5d4-007f-48e0-bab4-6807ea366eae/cancel/AutoML_d5d21135-6b5f-48b9-bbb5-8c30cb2f3f8f',\n",
       "  'ClientSdkVersion': '1.20.0.post1',\n",
       "  'snapshotId': '00000000-0000-0000-0000-000000000000',\n",
       "  'SetupRunId': 'AutoML_d5d21135-6b5f-48b9-bbb5-8c30cb2f3f8f_setup',\n",
       "  'SetupRunContainerId': 'dcid.AutoML_d5d21135-6b5f-48b9-bbb5-8c30cb2f3f8f_setup',\n",
       "  'FeaturizationRunJsonPath': 'featurizer_container.json',\n",
       "  'FeaturizationRunId': 'AutoML_d5d21135-6b5f-48b9-bbb5-8c30cb2f3f8f_featurize',\n",
       "  'ProblemInfoJsonString': '{\"dataset_num_categorical\": 0, \"is_sparse\": false, \"subsampling\": false, \"dataset_classes\": 2, \"dataset_features\": 14, \"dataset_samples\": 712, \"single_frequency_class_detected\": false}',\n",
       "  'ModelExplainRunId': 'AutoML_d5d21135-6b5f-48b9-bbb5-8c30cb2f3f8f_ModelExplain'},\n",
       " 'inputDatasets': [{'dataset': {'id': 'd514f3bf-2c57-4972-a7fb-eb902530669a'}, 'consumptionDetails': {'type': 'RunInput', 'inputName': 'training_data', 'mechanism': 'Direct'}}],\n",
       " 'outputDatasets': [],\n",
       " 'logFiles': {},\n",
       " 'submittedBy': 'ODL_User 136108'}"
      ]
     },
     "execution_count": 12,
     "metadata": {},
     "output_type": "execute_result"
    }
   ],
   "source": [
    "automl_run.wait_for_completion()"
   ]
  },
  {
   "cell_type": "markdown",
   "metadata": {},
   "source": [
    "## Best Model"
   ]
  },
  {
   "cell_type": "code",
   "execution_count": 13,
   "metadata": {
    "gather": {
     "logged": 1598431425670
    },
    "jupyter": {
     "outputs_hidden": false,
     "source_hidden": false
    },
    "nteract": {
     "transient": {
      "deleting": false
     }
    }
   },
   "outputs": [
    {
     "name": "stdout",
     "output_type": "stream",
     "text": [
      "Best run Id:  AutoML_d5d21135-6b5f-48b9-bbb5-8c30cb2f3f8f_26\n",
      "Accuracy:  0.8117600709150004\n",
      "Other details: \n",
      "Fitted model: Pipeline(memory=None,\n",
      "         steps=[('datatransformer',\n",
      "                 DataTransformer(enable_dnn=None, enable_feature_sweeping=None,\n",
      "                                 feature_sweeping_config=None,\n",
      "                                 feature_sweeping_timeout=None,\n",
      "                                 featurization_config=None, force_text_dnn=None,\n",
      "                                 is_cross_validation=None,\n",
      "                                 is_onnx_compatible=None, logger=None,\n",
      "                                 observer=None, task=None, working_dir=None)),\n",
      "                ('prefittedsoftvotingclassifier',...\n",
      "                                                                             KNeighborsClassifier(algorithm='auto',\n",
      "                                                                                                  leaf_size=30,\n",
      "                                                                                                  metric='l1',\n",
      "                                                                                                  metric_params=None,\n",
      "                                                                                                  n_jobs=1,\n",
      "                                                                                                  n_neighbors=8,\n",
      "                                                                                                  p=2,\n",
      "                                                                                                  weights='distance'))],\n",
      "                                                                     verbose=False))],\n",
      "                                               flatten_transform=None,\n",
      "                                               weights=[0.06666666666666667,\n",
      "                                                        0.2,\n",
      "                                                        0.06666666666666667,\n",
      "                                                        0.06666666666666667,\n",
      "                                                        0.2,\n",
      "                                                        0.06666666666666667,\n",
      "                                                        0.06666666666666667,\n",
      "                                                        0.06666666666666667,\n",
      "                                                        0.06666666666666667,\n",
      "                                                        0.13333333333333333]))],\n",
      "         verbose=False)\n"
     ]
    }
   ],
   "source": [
    "best_run_AutoML, best_model_AutoML = automl_run.get_output()\n",
    "best_run_metrics_AutoML = best_run_AutoML.get_metrics()\n",
    "print(\"Best run Id: \",best_run_AutoML.id)\n",
    "print(\"Accuracy: \", best_run_metrics_AutoML['accuracy'])\n",
    "print(\"Other details: \")\n",
    "print(\"Fitted model:\",best_model_AutoML)"
   ]
  },
  {
   "cell_type": "code",
   "execution_count": 14,
   "metadata": {},
   "outputs": [
    {
     "name": "stdout",
     "output_type": "stream",
     "text": [
      "Model saved successfully\n"
     ]
    }
   ],
   "source": [
    "import joblib\n",
    "from azureml.core.model import Model\n",
    "\n",
    "#Save the best model\n",
    "os.makedirs('results', exist_ok=True)\n",
    "joblib.dump(best_model_AutoML, filename=\"results/automl_model.pkl\")\n",
    "model = automl_run.register_model(model_name=best_run_AutoML.properties['model_name'], description='Best AutoML model')\n",
    "print(\"Model saved successfully\")"
   ]
  },
  {
   "cell_type": "markdown",
   "metadata": {},
   "source": [
    "## Model Deployment\n",
    "\n",
    "Remember you have to deploy only one of the two models you trained.. Perform the steps in the rest of this notebook only if you wish to deploy this model.\n",
    "\n",
    "TODO: In the cell below, register the model, create an inference config and deploy the model as a web service."
   ]
  },
  {
   "cell_type": "code",
   "execution_count": 15,
   "metadata": {
    "gather": {
     "logged": 1598431435189
    },
    "jupyter": {
     "outputs_hidden": false,
     "source_hidden": false
    },
    "nteract": {
     "transient": {
      "deleting": false
     }
    }
   },
   "outputs": [],
   "source": [
    "env = best_run_AutoML.get_environment()\n",
    "entry_script='score.py'\n",
    "best_run_AutoML.download_file('outputs/scoring_file_v_1_0_0.py', entry_script)"
   ]
  },
  {
   "cell_type": "markdown",
   "metadata": {
    "collapsed": true,
    "gather": {
     "logged": 1598431657736
    },
    "jupyter": {
     "outputs_hidden": false,
     "source_hidden": false
    },
    "nteract": {
     "transient": {
      "deleting": false
     }
    }
   },
   "source": [
    "TODO: In the cell below, send a request to the web service you deployed to test it."
   ]
  },
  {
   "cell_type": "code",
   "execution_count": 16,
   "metadata": {
    "gather": {
     "logged": 1598432707604
    },
    "jupyter": {
     "outputs_hidden": false,
     "source_hidden": false
    },
    "nteract": {
     "transient": {
      "deleting": false
     }
    }
   },
   "outputs": [
    {
     "name": "stdout",
     "output_type": "stream",
     "text": [
      "Tips: You can try get_logs(): https://aka.ms/debugimage#dockerlog or local deployment: https://aka.ms/debugimage#debug-locally to debug if deployment takes longer than 10 minutes.\n",
      "Running..............................................\n",
      "Succeeded\n",
      "ACI service creation operation finished, operation \"Succeeded\"\n"
     ]
    }
   ],
   "source": [
    "from azureml.core.model import InferenceConfig\n",
    "from azureml.core.webservice import AciWebservice\n",
    "\n",
    "#Deploy the model as a Web Service on Azure Container Instance\n",
    "inference_config = InferenceConfig(entry_script = entry_script, environment = env)\n",
    "deployment_config = AciWebservice.deploy_configuration(cpu_cores = 1, memory_gb = 1, auth_enabled=True, enable_app_insights=True)\n",
    "service = Model.deploy(ws, 'titanicpred2', [model], inference_config, deployment_config)\n",
    "service.wait_for_deployment(True)"
   ]
  },
  {
   "cell_type": "markdown",
   "metadata": {
    "collapsed": true,
    "gather": {
     "logged": 1598432765711
    },
    "jupyter": {
     "outputs_hidden": false,
     "source_hidden": false
    },
    "nteract": {
     "transient": {
      "deleting": false
     }
    }
   },
   "source": [
    "TODO: In the cell below, print the logs of the web service and delete the service"
   ]
  },
  {
   "cell_type": "code",
   "execution_count": 17,
   "metadata": {
    "jupyter": {
     "outputs_hidden": false,
     "source_hidden": false
    },
    "nteract": {
     "transient": {
      "deleting": false
     }
    }
   },
   "outputs": [
    {
     "name": "stdout",
     "output_type": "stream",
     "text": [
      "2021-01-26T13:19:33,354509185+00:00 - rsyslog/run \n",
      "2021-01-26T13:19:33,355460557+00:00 - iot-server/run \n",
      "2021-01-26T13:19:33,354372075+00:00 - gunicorn/run \n",
      "rsyslogd: /azureml-envs/azureml_265db83b0c6014ce472c5de2f0b97e04/lib/libuuid.so.1: no version information available (required by rsyslogd)\n",
      "2021-01-26T13:19:33,355935493+00:00 - nginx/run \n",
      "/usr/sbin/nginx: /azureml-envs/azureml_265db83b0c6014ce472c5de2f0b97e04/lib/libcrypto.so.1.0.0: no version information available (required by /usr/sbin/nginx)\n",
      "/usr/sbin/nginx: /azureml-envs/azureml_265db83b0c6014ce472c5de2f0b97e04/lib/libcrypto.so.1.0.0: no version information available (required by /usr/sbin/nginx)\n",
      "/usr/sbin/nginx: /azureml-envs/azureml_265db83b0c6014ce472c5de2f0b97e04/lib/libssl.so.1.0.0: no version information available (required by /usr/sbin/nginx)\n",
      "/usr/sbin/nginx: /azureml-envs/azureml_265db83b0c6014ce472c5de2f0b97e04/lib/libssl.so.1.0.0: no version information available (required by /usr/sbin/nginx)\n",
      "/usr/sbin/nginx: /azureml-envs/azureml_265db83b0c6014ce472c5de2f0b97e04/lib/libssl.so.1.0.0: no version information available (required by /usr/sbin/nginx)\n",
      "EdgeHubConnectionString and IOTEDGE_IOTHUBHOSTNAME are not set. Exiting...\n",
      "2021-01-26T13:19:33,498865331+00:00 - iot-server/finish 1 0\n",
      "2021-01-26T13:19:33,500060022+00:00 - Exit code 1 is normal. Not restarting iot-server.\n",
      "Starting gunicorn 19.9.0\n",
      "Listening at: http://127.0.0.1:31311 (13)\n",
      "Using worker: sync\n",
      "worker timeout is set to 300\n",
      "Booting worker with pid: 42\n",
      "SPARK_HOME not set. Skipping PySpark Initialization.\n",
      "Generating new fontManager, this may take some time...\n",
      "Initializing logger\n",
      "2021-01-26 13:19:34,864 | root | INFO | Starting up app insights client\n",
      "2021-01-26 13:19:34,864 | root | INFO | Starting up request id generator\n",
      "2021-01-26 13:19:34,864 | root | INFO | Starting up app insight hooks\n",
      "2021-01-26 13:19:34,864 | root | INFO | Invoking user's init function\n",
      "2021-01-26 13:19:38,054 | azureml.core | WARNING | Failure while loading azureml_run_type_providers. Failed to load entrypoint automl = azureml.train.automl.run:AutoMLRun._from_run_dto with exception cannot import name 'RunType'.\n",
      "Failure while loading azureml_run_type_providers. Failed to load entrypoint automl = azureml.train.automl.run:AutoMLRun._from_run_dto with exception cannot import name 'RunType'.\n",
      "2021-01-26 13:19:38,550 | root | INFO | Users's init has completed successfully\n",
      "2021-01-26 13:19:38,560 | root | INFO | Skipping middleware: dbg_model_info as it's not enabled.\n",
      "2021-01-26 13:19:38,560 | root | INFO | Skipping middleware: dbg_resource_usage as it's not enabled.\n",
      "2021-01-26 13:19:38,561 | root | INFO | Scoring timeout is found from os.environ: 60000 ms\n",
      "2021-01-26 13:19:41,753 | root | INFO | 200\n",
      "127.0.0.1 - - [26/Jan/2021:13:19:41 +0000] \"GET /swagger.json HTTP/1.0\" 200 2936 \"-\" \"Go-http-client/1.1\"\n",
      "2021-01-26 13:19:44,131 | root | INFO | 200\n",
      "127.0.0.1 - - [26/Jan/2021:13:19:44 +0000] \"GET /swagger.json HTTP/1.0\" 200 2936 \"-\" \"Go-http-client/1.1\"\n",
      "\n"
     ]
    }
   ],
   "source": [
    "print(service.get_logs())"
   ]
  },
  {
   "cell_type": "code",
   "execution_count": 18,
   "metadata": {},
   "outputs": [
    {
     "name": "stdout",
     "output_type": "stream",
     "text": [
      "Scoring URI: http://8cc545c7-70c8-4ea9-b151-bd9e912cf07d.southcentralus.azurecontainer.io/score\n",
      "Authetication Key: T4968NbKrhFRSxucsiJPehltZbZs4cPT\n",
      "Swagger URI: http://8cc545c7-70c8-4ea9-b151-bd9e912cf07d.southcentralus.azurecontainer.io/swagger.json\n"
     ]
    }
   ],
   "source": [
    "print(\"Scoring URI: \" + service.scoring_uri)\n",
    "print(\"Authetication Key: \" + service.get_keys()[0])\n",
    "print(\"Swagger URI: \" + service.swagger_uri)"
   ]
  },
  {
   "cell_type": "code",
   "execution_count": 19,
   "metadata": {},
   "outputs": [
    {
     "name": "stdout",
     "output_type": "stream",
     "text": [
      "{\"result\": [0, 1]}\n"
     ]
    }
   ],
   "source": [
    "%run endpoint.py"
   ]
  },
  {
   "cell_type": "code",
   "execution_count": null,
   "metadata": {},
   "outputs": [],
   "source": []
  }
 ],
 "metadata": {
  "kernel_info": {
   "name": "python3"
  },
  "kernelspec": {
   "display_name": "Python 3",
   "language": "python",
   "name": "python3"
  },
  "language_info": {
   "codemirror_mode": {
    "name": "ipython",
    "version": 3
   },
   "file_extension": ".py",
   "mimetype": "text/x-python",
   "name": "python",
   "nbconvert_exporter": "python",
   "pygments_lexer": "ipython3",
   "version": "3.6.9"
  },
  "nteract": {
   "version": "nteract-front-end@1.0.0"
  }
 },
 "nbformat": 4,
 "nbformat_minor": 2
}
