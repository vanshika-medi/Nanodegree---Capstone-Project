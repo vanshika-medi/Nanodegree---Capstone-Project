{
 "cells": [
  {
   "cell_type": "markdown",
   "metadata": {},
   "source": [
    "# Automated ML"
   ]
  },
  {
   "cell_type": "code",
   "execution_count": 1,
   "metadata": {
    "gather": {
     "logged": 1598423888013
    },
    "jupyter": {
     "outputs_hidden": false,
     "source_hidden": false
    },
    "nteract": {
     "transient": {
      "deleting": false
     }
    }
   },
   "outputs": [],
   "source": [
    "import logging\n",
    "import os\n",
    "import azureml.core\n",
    "from azureml.core.experiment import Experiment\n",
    "from azureml.core.workspace import Workspace\n",
    "from azureml.train.automl import AutoMLConfig\n",
    "from azureml.core.dataset import Dataset\n",
    "from azureml.data.dataset_factory import TabularDatasetFactory\n"
   ]
  },
  {
   "cell_type": "markdown",
   "metadata": {},
   "source": [
    "## Dataset\n",
    "\n",
    "### Overview\n",
    "The dataset being used is the titanic dataset which is used in predicting whether a person survived the drowning of the ship based on different characteristics like age, gender etc."
   ]
  },
  {
   "cell_type": "markdown",
   "metadata": {},
   "source": [
    "## Setting up Workspace"
   ]
  },
  {
   "cell_type": "code",
   "execution_count": 2,
   "metadata": {
    "gather": {
     "logged": 1598423890461
    },
    "jupyter": {
     "outputs_hidden": false,
     "source_hidden": false
    },
    "nteract": {
     "transient": {
      "deleting": false
     }
    }
   },
   "outputs": [
    {
     "name": "stdout",
     "output_type": "stream",
     "text": [
      "quick-starts-ws-136135\n",
      "aml-quickstarts-136135\n",
      "southcentralus\n",
      "d4ad7261-832d-46b2-b093-22156001df5b\n"
     ]
    }
   ],
   "source": [
    "ws = Workspace.from_config()\n",
    "print(ws.name, ws.resource_group, ws.location, ws.subscription_id, sep = \"\\n\")"
   ]
  },
  {
   "cell_type": "markdown",
   "metadata": {},
   "source": [
    "## Initialising Experiment"
   ]
  },
  {
   "cell_type": "code",
   "execution_count": 3,
   "metadata": {},
   "outputs": [
    {
     "data": {
      "text/html": [
       "<table style=\"width:100%\"><tr><th>Name</th><th>Workspace</th><th>Report Page</th><th>Docs Page</th></tr><tr><td>titanic_automl</td><td>quick-starts-ws-136135</td><td><a href=\"https://ml.azure.com/experiments/titanic_automl?wsid=/subscriptions/d4ad7261-832d-46b2-b093-22156001df5b/resourcegroups/aml-quickstarts-136135/workspaces/quick-starts-ws-136135\" target=\"_blank\" rel=\"noopener\">Link to Azure Machine Learning studio</a></td><td><a href=\"https://docs.microsoft.com/en-us/python/api/azureml-core/azureml.core.experiment.Experiment?view=azure-ml-py\" target=\"_blank\" rel=\"noopener\">Link to Documentation</a></td></tr></table>"
      ],
      "text/plain": [
       "Experiment(Name: titanic_automl,\n",
       "Workspace: quick-starts-ws-136135)"
      ]
     },
     "execution_count": 3,
     "metadata": {},
     "output_type": "execute_result"
    }
   ],
   "source": [
    "# choose a name for experiment\n",
    "experiment_name = 'titanic_automl'\n",
    "project_folder = './titanic_automl'\n",
    "os.makedirs(project_folder, exist_ok = True)\n",
    "experiment=Experiment(ws, experiment_name)\n",
    "experiment"
   ]
  },
  {
   "cell_type": "markdown",
   "metadata": {},
   "source": [
    "## Creating or checking for existing compute cluster"
   ]
  },
  {
   "cell_type": "code",
   "execution_count": 4,
   "metadata": {
    "gather": {
     "logged": 1598429217746
    },
    "jupyter": {
     "outputs_hidden": false,
     "source_hidden": false
    },
    "nteract": {
     "transient": {
      "deleting": false
     }
    }
   },
   "outputs": [
    {
     "name": "stdout",
     "output_type": "stream",
     "text": [
      "Existing cluster. Use it.\n",
      "\n",
      "Running\n"
     ]
    }
   ],
   "source": [
    "from azureml.core.compute import AmlCompute\n",
    "from azureml.core.compute import ComputeTarget\n",
    "from azureml.core.compute_target import ComputeTargetException\n",
    "\n",
    "aml_compute_name = 'computecluster1' \n",
    "try:\n",
    "    compute_target = ComputeTarget(workspace = ws, name = aml_compute_name)\n",
    "    print(\"Existing cluster. Use it.\")\n",
    "except ComputeTargetException:\n",
    "    compute_config = AmlCompute.provisioning_configuration(vm_size = \"STANDARD_D2_V2\", max_nodes = 4)\n",
    "    compute_target = ComputeTarget.create(ws,aml_compute_name, compute_config)\n",
    "compute_target.wait_for_completion(show_output = True)"
   ]
  },
  {
   "cell_type": "markdown",
   "metadata": {},
   "source": [
    "## Preparing Data"
   ]
  },
  {
   "cell_type": "code",
   "execution_count": 5,
   "metadata": {},
   "outputs": [],
   "source": [
    "import pandas as pd\n",
    "data = pd.read_csv('titanic_dataset.csv', header = 0)"
   ]
  },
  {
   "cell_type": "code",
   "execution_count": 6,
   "metadata": {},
   "outputs": [
    {
     "data": {
      "text/html": [
       "<div>\n",
       "<style scoped>\n",
       "    .dataframe tbody tr th:only-of-type {\n",
       "        vertical-align: middle;\n",
       "    }\n",
       "\n",
       "    .dataframe tbody tr th {\n",
       "        vertical-align: top;\n",
       "    }\n",
       "\n",
       "    .dataframe thead th {\n",
       "        text-align: right;\n",
       "    }\n",
       "</style>\n",
       "<table border=\"1\" class=\"dataframe\">\n",
       "  <thead>\n",
       "    <tr style=\"text-align: right;\">\n",
       "      <th></th>\n",
       "      <th>PassengerId</th>\n",
       "      <th>Survived</th>\n",
       "      <th>Pclass</th>\n",
       "      <th>Name</th>\n",
       "      <th>Sex</th>\n",
       "      <th>Age</th>\n",
       "      <th>SibSp</th>\n",
       "      <th>Parch</th>\n",
       "      <th>Ticket</th>\n",
       "      <th>Fare</th>\n",
       "      <th>Cabin</th>\n",
       "      <th>Embarked</th>\n",
       "    </tr>\n",
       "  </thead>\n",
       "  <tbody>\n",
       "    <tr>\n",
       "      <th>0</th>\n",
       "      <td>1</td>\n",
       "      <td>0</td>\n",
       "      <td>3</td>\n",
       "      <td>Braund, Mr. Owen Harris</td>\n",
       "      <td>male</td>\n",
       "      <td>22.0</td>\n",
       "      <td>1</td>\n",
       "      <td>0</td>\n",
       "      <td>A/5 21171</td>\n",
       "      <td>7.2500</td>\n",
       "      <td>NaN</td>\n",
       "      <td>S</td>\n",
       "    </tr>\n",
       "    <tr>\n",
       "      <th>1</th>\n",
       "      <td>2</td>\n",
       "      <td>1</td>\n",
       "      <td>1</td>\n",
       "      <td>Cumings, Mrs. John Bradley (Florence Briggs Th...</td>\n",
       "      <td>female</td>\n",
       "      <td>38.0</td>\n",
       "      <td>1</td>\n",
       "      <td>0</td>\n",
       "      <td>PC 17599</td>\n",
       "      <td>71.2833</td>\n",
       "      <td>C85</td>\n",
       "      <td>C</td>\n",
       "    </tr>\n",
       "    <tr>\n",
       "      <th>2</th>\n",
       "      <td>3</td>\n",
       "      <td>1</td>\n",
       "      <td>3</td>\n",
       "      <td>Heikkinen, Miss. Laina</td>\n",
       "      <td>female</td>\n",
       "      <td>26.0</td>\n",
       "      <td>0</td>\n",
       "      <td>0</td>\n",
       "      <td>STON/O2. 3101282</td>\n",
       "      <td>7.9250</td>\n",
       "      <td>NaN</td>\n",
       "      <td>S</td>\n",
       "    </tr>\n",
       "    <tr>\n",
       "      <th>3</th>\n",
       "      <td>4</td>\n",
       "      <td>1</td>\n",
       "      <td>1</td>\n",
       "      <td>Futrelle, Mrs. Jacques Heath (Lily May Peel)</td>\n",
       "      <td>female</td>\n",
       "      <td>35.0</td>\n",
       "      <td>1</td>\n",
       "      <td>0</td>\n",
       "      <td>113803</td>\n",
       "      <td>53.1000</td>\n",
       "      <td>C123</td>\n",
       "      <td>S</td>\n",
       "    </tr>\n",
       "    <tr>\n",
       "      <th>4</th>\n",
       "      <td>5</td>\n",
       "      <td>0</td>\n",
       "      <td>3</td>\n",
       "      <td>Allen, Mr. William Henry</td>\n",
       "      <td>male</td>\n",
       "      <td>35.0</td>\n",
       "      <td>0</td>\n",
       "      <td>0</td>\n",
       "      <td>373450</td>\n",
       "      <td>8.0500</td>\n",
       "      <td>NaN</td>\n",
       "      <td>S</td>\n",
       "    </tr>\n",
       "  </tbody>\n",
       "</table>\n",
       "</div>"
      ],
      "text/plain": [
       "   PassengerId  Survived  Pclass  \\\n",
       "0            1         0       3   \n",
       "1            2         1       1   \n",
       "2            3         1       3   \n",
       "3            4         1       1   \n",
       "4            5         0       3   \n",
       "\n",
       "                                                Name     Sex   Age  SibSp  \\\n",
       "0                            Braund, Mr. Owen Harris    male  22.0      1   \n",
       "1  Cumings, Mrs. John Bradley (Florence Briggs Th...  female  38.0      1   \n",
       "2                             Heikkinen, Miss. Laina  female  26.0      0   \n",
       "3       Futrelle, Mrs. Jacques Heath (Lily May Peel)  female  35.0      1   \n",
       "4                           Allen, Mr. William Henry    male  35.0      0   \n",
       "\n",
       "   Parch            Ticket     Fare Cabin Embarked  \n",
       "0      0         A/5 21171   7.2500   NaN        S  \n",
       "1      0          PC 17599  71.2833   C85        C  \n",
       "2      0  STON/O2. 3101282   7.9250   NaN        S  \n",
       "3      0            113803  53.1000  C123        S  \n",
       "4      0            373450   8.0500   NaN        S  "
      ]
     },
     "execution_count": 6,
     "metadata": {},
     "output_type": "execute_result"
    }
   ],
   "source": [
    "data.head(5)"
   ]
  },
  {
   "cell_type": "code",
   "execution_count": 7,
   "metadata": {},
   "outputs": [],
   "source": [
    "from sklearn.model_selection import train_test_split"
   ]
  },
  {
   "cell_type": "code",
   "execution_count": 8,
   "metadata": {},
   "outputs": [
    {
     "name": "stdout",
     "output_type": "stream",
     "text": [
      "Uploading an estimated of 2 files\n",
      "Uploading data/test.csv\n",
      "Uploaded data/test.csv, 1 files out of an estimated total of 2\n",
      "Uploading data/train.csv\n",
      "Uploaded data/train.csv, 2 files out of an estimated total of 2\n",
      "Uploaded 2 files\n",
      "Successfully converted the dataset to TabularDataset format.\n"
     ]
    }
   ],
   "source": [
    "def Impute_missing_values(data):\n",
    "    data.drop(columns=['Cabin'],inplace=True)\n",
    "    data['Age'].fillna(data['Age'].median(), inplace=True)\n",
    "    data['Embarked'].fillna('S', inplace=True)\n",
    "    data['Fare'].fillna(data['Fare'].median()) \n",
    "    return data\n",
    "\n",
    "def Family_type(number):\n",
    "    if number==0:\n",
    "        return 'Alone'\n",
    "    elif number>0 and number<=4:\n",
    "        return 'Medium'\n",
    "    else:\n",
    "        return 'Large'\n",
    "\n",
    "def Transform_data(data):\n",
    "    data['Family_size']=data['Parch']+data['SibSp']\n",
    "    data['Family_type']=data['Family_size'].apply(Family_type)\n",
    "    data.drop(columns=['SibSp', 'Parch', 'Family_size'], inplace=True)\n",
    "    data.loc[ data['Age'] <= 16, 'Age'] = 1\n",
    "    data.loc[(data['Age'] > 16) & (data['Age'] <= 26), 'Age'] = 2\n",
    "    data.loc[(data['Age'] > 26) & (data['Age'] <= 36), 'Age'] = 3\n",
    "    data.loc[(data['Age'] > 36) & (data['Age'] <= 62), 'Age'] = 4\n",
    "    data.loc[ data['Age'] > 62, 'Age'] = 5\n",
    "    data.loc[data['Fare'] <= 17, 'Fare'] = 1,\n",
    "    data.loc[(data['Fare'] > 17) & (data['Fare'] <= 30), 'Fare'] = 2,\n",
    "    data.loc[(data['Fare'] > 30) & (data['Fare'] <= 100), 'Fare'] = 3,\n",
    "    data.loc[ data['Fare'] > 100, 'Fare'] = 4\n",
    "    return data\n",
    "\n",
    "def clean_data(data):\n",
    "    data = Impute_missing_values(data)\n",
    "    data.head()\n",
    "    x_data = Transform_data(data)\n",
    "    x_data=pd.get_dummies(data=x_data, columns=['Age' ,'Fare',  'Pclass', 'Sex', 'Embarked', 'Family_type'], drop_first=True)\n",
    "    x_data.drop(columns=['Ticket', 'PassengerId', 'Name','Age_5.0'],inplace=True)\n",
    "    y_data = x_data.pop(\"Survived\")\n",
    "    return x_data, y_data\n",
    "\n",
    "x, y = clean_data(data)\n",
    "x.head()\n",
    "\n",
    "#Split the dataset into train and test dataset. Combine x_train and y_train. \n",
    "x_train, x_test, y_train, y_test = train_test_split(x,y,test_size=0.2)\n",
    "data_train = pd.concat([x_train,y_train], axis=1)\n",
    "data_test = pd.concat([x_test,y_test], axis=1)\n",
    "\n",
    "#Convert x_train and y_train (Which are in pandas DataFrame format) to TabularDataset format.\n",
    "try:\n",
    "    os.makedirs('./data', exist_ok=True)\n",
    "except OSError as error:\n",
    "    print('New directory cannot be created')\n",
    "    \n",
    "path_train = 'data/train.csv'\n",
    "path_test = 'data/test.csv'\n",
    "data_train.to_csv(path_train)\n",
    "data_test.to_csv(path_test)\n",
    "\n",
    "datastore = ws.get_default_datastore()\n",
    "datastore.upload(src_dir='data', target_path='data')\n",
    "\n",
    "train_data = TabularDatasetFactory.from_delimited_files(path=[(datastore, ('data/train.csv'))])\n",
    "test_data = TabularDatasetFactory.from_delimited_files(path=[(datastore, ('data/test.csv'))])\n",
    "print(\"Successfully converted the dataset to TabularDataset format.\")\n"
   ]
  },
  {
   "cell_type": "markdown",
   "metadata": {},
   "source": [
    "## AutoML Configurations"
   ]
  },
  {
   "cell_type": "code",
   "execution_count": 9,
   "metadata": {},
   "outputs": [],
   "source": [
    "from azureml.train.automl import AutoMLConfig\n",
    "\n",
    "#Set parameters for AutoMLConfig\n",
    "automl_config = AutoMLConfig(\n",
    "    experiment_timeout_minutes=30,\n",
    "    task=\"classification\",\n",
    "    primary_metric=\"accuracy\",\n",
    "    training_data=train_data,\n",
    "    label_column_name=\"Survived\",\n",
    "    n_cross_validations=5,\n",
    "    compute_target=compute_target)"
   ]
  },
  {
   "cell_type": "markdown",
   "metadata": {},
   "source": [
    "## Run Details\n",
    "\n",
    "The models trained are all different. You cannot determine how a model will perform until it is tried. Some models are more robust to violations than others."
   ]
  },
  {
   "cell_type": "code",
   "execution_count": 10,
   "metadata": {
    "gather": {
     "logged": 1598431121770
    },
    "jupyter": {
     "outputs_hidden": false,
     "source_hidden": false
    },
    "nteract": {
     "transient": {
      "deleting": false
     }
    },
    "scrolled": false
   },
   "outputs": [
    {
     "name": "stdout",
     "output_type": "stream",
     "text": [
      "Running on remote.\n",
      "No run_configuration provided, running on computecluster1 with default configuration\n",
      "Running on remote compute: computecluster1\n",
      "Parent Run ID: AutoML_025b4651-c12a-48f7-88a8-da072e26f839\n",
      "\n",
      "Current status: FeaturesGeneration. Generating features for the dataset.\n",
      "Current status: ModelSelection. Beginning model selection.\n",
      "\n",
      "****************************************************************************************************\n",
      "DATA GUARDRAILS: \n",
      "\n",
      "TYPE:         Class balancing detection\n",
      "STATUS:       PASSED\n",
      "DESCRIPTION:  Your inputs were analyzed, and all classes are balanced in your training data.\n",
      "              Learn more about imbalanced data: https://aka.ms/AutomatedMLImbalancedData\n",
      "\n",
      "****************************************************************************************************\n",
      "\n",
      "TYPE:         Missing feature values imputation\n",
      "STATUS:       PASSED\n",
      "DESCRIPTION:  No feature missing values were detected in the training data.\n",
      "              Learn more about missing value imputation: https://aka.ms/AutomatedMLFeaturization\n",
      "\n",
      "****************************************************************************************************\n",
      "\n",
      "TYPE:         High cardinality feature detection\n",
      "STATUS:       PASSED\n",
      "DESCRIPTION:  Your inputs were analyzed, and no high cardinality features were detected.\n",
      "              Learn more about high cardinality feature handling: https://aka.ms/AutomatedMLFeaturization\n",
      "\n",
      "****************************************************************************************************\n",
      "\n",
      "****************************************************************************************************\n",
      "ITERATION: The iteration being evaluated.\n",
      "PIPELINE: A summary description of the pipeline being evaluated.\n",
      "DURATION: Time taken for the current iteration.\n",
      "METRIC: The result of computing score on the fitted pipeline.\n",
      "BEST: The best observed score thus far.\n",
      "****************************************************************************************************\n",
      "\n",
      " ITERATION   PIPELINE                                       DURATION      METRIC      BEST\n",
      "         0   MaxAbsScaler LightGBM                          0:00:54       0.7725    0.7725\n",
      "         1   MaxAbsScaler XGBoostClassifier                 0:00:49       0.7993    0.7993\n",
      "         2   MinMaxScaler RandomForest                      0:01:03       0.8006    0.8006\n",
      "         3   MinMaxScaler RandomForest                      0:01:15       0.7796    0.8006\n",
      "         4   MinMaxScaler RandomForest                      0:00:46       0.7754    0.8006\n",
      "         5   MinMaxScaler SVM                               0:00:40       0.7669    0.8006\n",
      "         6   MaxAbsScaler GradientBoosting                  0:02:38       0.7810    0.8006\n",
      "         7   StandardScalerWrapper RandomForest             0:01:51       0.7852    0.8006\n",
      "         8   SparseNormalizer XGBoostClassifier             0:00:39       0.7880    0.8006\n",
      "         9   SparseNormalizer LightGBM                      0:00:51       0.7880    0.8006\n",
      "        10   StandardScalerWrapper LightGBM                 0:00:46       0.7964    0.8006\n",
      "        11   RobustScaler ExtremeRandomTrees                0:02:36       0.7739    0.8006\n",
      "        12   SparseNormalizer XGBoostClassifier             0:00:53       0.7768    0.8006\n",
      "        13   RobustScaler ExtremeRandomTrees                0:01:13       0.7767    0.8006\n",
      "        14   SparseNormalizer XGBoostClassifier             0:00:46       0.7809    0.8006\n",
      "        15   MinMaxScaler LightGBM                          0:01:21       0.7838    0.8006\n",
      "        16   StandardScalerWrapper GradientBoosting         0:00:48       0.7979    0.8006\n",
      "        17   MaxAbsScaler GradientBoosting                  0:00:50       0.7908    0.8006\n",
      "        18   RobustScaler KNN                               0:00:46       0.6124    0.8006\n",
      "        19   StandardScalerWrapper ExtremeRandomTrees       0:00:55       0.7824    0.8006\n",
      "        20   StandardScalerWrapper LightGBM                 0:00:34       0.8007    0.8007\n",
      "ERROR: {\n",
      "    \"additional_properties\": {},\n",
      "    \"error\": {\n",
      "        \"additional_properties\": {\n",
      "            \"debugInfo\": null\n",
      "        },\n",
      "        \"code\": \"UserError\",\n",
      "        \"severity\": null,\n",
      "        \"message\": \"Experiment timeout reached, please consider increasing your experiment timeout.\",\n",
      "        \"message_format\": \"Experiment timeout reached, please consider increasing your experiment timeout.\",\n",
      "        \"message_parameters\": {},\n",
      "        \"reference_code\": null,\n",
      "        \"details_uri\": null,\n",
      "        \"target\": null,\n",
      "        \"details\": [],\n",
      "        \"inner_error\": {\n",
      "            \"additional_properties\": {},\n",
      "            \"code\": \"ResourceExhausted\",\n",
      "            \"inner_error\": {\n",
      "                \"additional_properties\": {},\n",
      "                \"code\": \"Timeout\",\n",
      "                \"inner_error\": {\n",
      "                    \"additional_properties\": {},\n",
      "                    \"code\": \"ExperimentTimeoutForIterations\",\n",
      "                    \"inner_error\": null\n",
      "                }\n",
      "            }\n",
      "        }\n",
      "    },\n",
      "    \"correlation\": null,\n",
      "    \"environment\": null,\n",
      "    \"location\": null,\n",
      "    \"time\": {},\n",
      "    \"component_name\": null\n",
      "}\n",
      "        21    VotingEnsemble                                0:01:10       0.8217    0.8217\n",
      "        22    StackEnsemble                                 0:01:54       0.8035    0.8217\n"
     ]
    },
    {
     "data": {
      "application/vnd.jupyter.widget-view+json": {
       "model_id": "f24e5f51ff324859b3911bc676bcf6b4",
       "version_major": 2,
       "version_minor": 0
      },
      "text/plain": [
       "_AutoMLWidget(widget_settings={'childWidgetDisplay': 'popup', 'send_telemetry': False, 'log_level': 'INFO', 's…"
      ]
     },
     "metadata": {},
     "output_type": "display_data"
    },
    {
     "data": {
      "application/aml.mini.widget.v1": "{\"status\": \"Completed\", \"workbench_run_details_uri\": \"https://ml.azure.com/experiments/titanic_automl/runs/AutoML_025b4651-c12a-48f7-88a8-da072e26f839?wsid=/subscriptions/d4ad7261-832d-46b2-b093-22156001df5b/resourcegroups/aml-quickstarts-136135/workspaces/quick-starts-ws-136135\", \"run_id\": \"AutoML_025b4651-c12a-48f7-88a8-da072e26f839\", \"run_properties\": {\"run_id\": \"AutoML_025b4651-c12a-48f7-88a8-da072e26f839\", \"created_utc\": \"2021-01-26T15:27:20.015589Z\", \"properties\": {\"num_iterations\": \"1000\", \"training_type\": \"TrainFull\", \"acquisition_function\": \"EI\", \"primary_metric\": \"accuracy\", \"train_split\": \"0\", \"acquisition_parameter\": \"0\", \"num_cross_validation\": \"5\", \"target\": \"computecluster1\", \"AMLSettingsJsonString\": \"{\\\"path\\\":null,\\\"name\\\":\\\"titanic_automl\\\",\\\"subscription_id\\\":\\\"d4ad7261-832d-46b2-b093-22156001df5b\\\",\\\"resource_group\\\":\\\"aml-quickstarts-136135\\\",\\\"workspace_name\\\":\\\"quick-starts-ws-136135\\\",\\\"region\\\":\\\"southcentralus\\\",\\\"compute_target\\\":\\\"computecluster1\\\",\\\"spark_service\\\":null,\\\"azure_service\\\":\\\"remote\\\",\\\"many_models\\\":false,\\\"pipeline_fetch_max_batch_size\\\":1,\\\"iterations\\\":1000,\\\"primary_metric\\\":\\\"accuracy\\\",\\\"task_type\\\":\\\"classification\\\",\\\"data_script\\\":null,\\\"validation_size\\\":0.0,\\\"n_cross_validations\\\":5,\\\"y_min\\\":null,\\\"y_max\\\":null,\\\"num_classes\\\":null,\\\"featurization\\\":\\\"auto\\\",\\\"_ignore_package_version_incompatibilities\\\":false,\\\"is_timeseries\\\":false,\\\"max_cores_per_iteration\\\":1,\\\"max_concurrent_iterations\\\":1,\\\"iteration_timeout_minutes\\\":null,\\\"mem_in_mb\\\":null,\\\"enforce_time_on_windows\\\":false,\\\"experiment_timeout_minutes\\\":30,\\\"experiment_exit_score\\\":null,\\\"whitelist_models\\\":null,\\\"blacklist_algos\\\":[\\\"TensorFlowLinearClassifier\\\",\\\"TensorFlowDNN\\\"],\\\"supported_models\\\":[\\\"MultinomialNaiveBayes\\\",\\\"ExtremeRandomTrees\\\",\\\"XGBoostClassifier\\\",\\\"AveragedPerceptronClassifier\\\",\\\"SVM\\\",\\\"KNN\\\",\\\"LinearSVM\\\",\\\"LightGBM\\\",\\\"DecisionTree\\\",\\\"BernoulliNaiveBayes\\\",\\\"RandomForest\\\",\\\"LogisticRegression\\\",\\\"SGD\\\",\\\"TensorFlowDNN\\\",\\\"TensorFlowLinearClassifier\\\",\\\"GradientBoosting\\\"],\\\"auto_blacklist\\\":true,\\\"blacklist_samples_reached\\\":false,\\\"exclude_nan_labels\\\":true,\\\"verbosity\\\":20,\\\"_debug_log\\\":\\\"azureml_automl.log\\\",\\\"show_warnings\\\":false,\\\"model_explainability\\\":true,\\\"service_url\\\":null,\\\"sdk_url\\\":null,\\\"sdk_packages\\\":null,\\\"enable_onnx_compatible_models\\\":false,\\\"enable_split_onnx_featurizer_estimator_models\\\":false,\\\"vm_type\\\":\\\"STANDARD_DS2_V2\\\",\\\"telemetry_verbosity\\\":20,\\\"send_telemetry\\\":true,\\\"enable_dnn\\\":false,\\\"scenario\\\":\\\"SDK-1.13.0\\\",\\\"environment_label\\\":null,\\\"force_text_dnn\\\":false,\\\"enable_feature_sweeping\\\":true,\\\"enable_early_stopping\\\":false,\\\"early_stopping_n_iters\\\":10,\\\"metrics\\\":null,\\\"enable_ensembling\\\":true,\\\"enable_stack_ensembling\\\":true,\\\"ensemble_iterations\\\":15,\\\"enable_tf\\\":false,\\\"enable_subsampling\\\":null,\\\"subsample_seed\\\":null,\\\"enable_nimbusml\\\":false,\\\"enable_streaming\\\":false,\\\"force_streaming\\\":false,\\\"track_child_runs\\\":true,\\\"allowed_private_models\\\":[],\\\"label_column_name\\\":\\\"Survived\\\",\\\"weight_column_name\\\":null,\\\"cv_split_column_names\\\":null,\\\"enable_local_managed\\\":false,\\\"_local_managed_run_id\\\":null,\\\"cost_mode\\\":1,\\\"lag_length\\\":0,\\\"metric_operation\\\":\\\"maximize\\\",\\\"preprocess\\\":true}\", \"DataPrepJsonString\": \"{\\\\\\\"training_data\\\\\\\": \\\\\\\"{\\\\\\\\\\\\\\\"blocks\\\\\\\\\\\\\\\": [{\\\\\\\\\\\\\\\"id\\\\\\\\\\\\\\\": \\\\\\\\\\\\\\\"01b2b79f-1caa-46b1-996c-3e29f8f0d3ad\\\\\\\\\\\\\\\", \\\\\\\\\\\\\\\"type\\\\\\\\\\\\\\\": \\\\\\\\\\\\\\\"Microsoft.DPrep.GetDatastoreFilesBlock\\\\\\\\\\\\\\\", \\\\\\\\\\\\\\\"arguments\\\\\\\\\\\\\\\": {\\\\\\\\\\\\\\\"datastores\\\\\\\\\\\\\\\": [{\\\\\\\\\\\\\\\"datastoreName\\\\\\\\\\\\\\\": \\\\\\\\\\\\\\\"workspaceblobstore\\\\\\\\\\\\\\\", \\\\\\\\\\\\\\\"path\\\\\\\\\\\\\\\": \\\\\\\\\\\\\\\"data/train.csv\\\\\\\\\\\\\\\", \\\\\\\\\\\\\\\"resourceGroup\\\\\\\\\\\\\\\": \\\\\\\\\\\\\\\"aml-quickstarts-136135\\\\\\\\\\\\\\\", \\\\\\\\\\\\\\\"subscription\\\\\\\\\\\\\\\": \\\\\\\\\\\\\\\"d4ad7261-832d-46b2-b093-22156001df5b\\\\\\\\\\\\\\\", \\\\\\\\\\\\\\\"workspaceName\\\\\\\\\\\\\\\": \\\\\\\\\\\\\\\"quick-starts-ws-136135\\\\\\\\\\\\\\\"}]}, \\\\\\\\\\\\\\\"localData\\\\\\\\\\\\\\\": {}, \\\\\\\\\\\\\\\"isEnabled\\\\\\\\\\\\\\\": true, \\\\\\\\\\\\\\\"name\\\\\\\\\\\\\\\": null, \\\\\\\\\\\\\\\"annotation\\\\\\\\\\\\\\\": null}, {\\\\\\\\\\\\\\\"id\\\\\\\\\\\\\\\": \\\\\\\\\\\\\\\"f1ecce37-33fb-482a-b310-fa2a1962c1bd\\\\\\\\\\\\\\\", \\\\\\\\\\\\\\\"type\\\\\\\\\\\\\\\": \\\\\\\\\\\\\\\"Microsoft.DPrep.ParseDelimitedBlock\\\\\\\\\\\\\\\", \\\\\\\\\\\\\\\"arguments\\\\\\\\\\\\\\\": {\\\\\\\\\\\\\\\"columnHeadersMode\\\\\\\\\\\\\\\": 3, \\\\\\\\\\\\\\\"fileEncoding\\\\\\\\\\\\\\\": 0, \\\\\\\\\\\\\\\"handleQuotedLineBreaks\\\\\\\\\\\\\\\": false, \\\\\\\\\\\\\\\"preview\\\\\\\\\\\\\\\": false, \\\\\\\\\\\\\\\"separator\\\\\\\\\\\\\\\": \\\\\\\\\\\\\\\",\\\\\\\\\\\\\\\", \\\\\\\\\\\\\\\"skipRows\\\\\\\\\\\\\\\": 0, \\\\\\\\\\\\\\\"skipRowsMode\\\\\\\\\\\\\\\": 0}, \\\\\\\\\\\\\\\"localData\\\\\\\\\\\\\\\": {}, \\\\\\\\\\\\\\\"isEnabled\\\\\\\\\\\\\\\": true, \\\\\\\\\\\\\\\"name\\\\\\\\\\\\\\\": null, \\\\\\\\\\\\\\\"annotation\\\\\\\\\\\\\\\": null}, {\\\\\\\\\\\\\\\"id\\\\\\\\\\\\\\\": \\\\\\\\\\\\\\\"e74f3cd2-0e4c-4856-a2b0-727889e7fbfd\\\\\\\\\\\\\\\", \\\\\\\\\\\\\\\"type\\\\\\\\\\\\\\\": \\\\\\\\\\\\\\\"Microsoft.DPrep.DropColumnsBlock\\\\\\\\\\\\\\\", \\\\\\\\\\\\\\\"arguments\\\\\\\\\\\\\\\": {\\\\\\\\\\\\\\\"columns\\\\\\\\\\\\\\\": {\\\\\\\\\\\\\\\"type\\\\\\\\\\\\\\\": 0, \\\\\\\\\\\\\\\"details\\\\\\\\\\\\\\\": {\\\\\\\\\\\\\\\"selectedColumns\\\\\\\\\\\\\\\": [\\\\\\\\\\\\\\\"Path\\\\\\\\\\\\\\\"]}}}, \\\\\\\\\\\\\\\"localData\\\\\\\\\\\\\\\": {}, \\\\\\\\\\\\\\\"isEnabled\\\\\\\\\\\\\\\": true, \\\\\\\\\\\\\\\"name\\\\\\\\\\\\\\\": null, \\\\\\\\\\\\\\\"annotation\\\\\\\\\\\\\\\": null}, {\\\\\\\\\\\\\\\"id\\\\\\\\\\\\\\\": \\\\\\\\\\\\\\\"d7a72b3a-2d57-408a-a93e-68f20210054f\\\\\\\\\\\\\\\", \\\\\\\\\\\\\\\"type\\\\\\\\\\\\\\\": \\\\\\\\\\\\\\\"Microsoft.DPrep.SetColumnTypesBlock\\\\\\\\\\\\\\\", \\\\\\\\\\\\\\\"arguments\\\\\\\\\\\\\\\": {\\\\\\\\\\\\\\\"columnConversion\\\\\\\\\\\\\\\": [{\\\\\\\\\\\\\\\"column\\\\\\\\\\\\\\\": {\\\\\\\\\\\\\\\"type\\\\\\\\\\\\\\\": 2, \\\\\\\\\\\\\\\"details\\\\\\\\\\\\\\\": {\\\\\\\\\\\\\\\"selectedColumn\\\\\\\\\\\\\\\": \\\\\\\\\\\\\\\"Column1\\\\\\\\\\\\\\\"}}, \\\\\\\\\\\\\\\"typeProperty\\\\\\\\\\\\\\\": 2}, {\\\\\\\\\\\\\\\"column\\\\\\\\\\\\\\\": {\\\\\\\\\\\\\\\"type\\\\\\\\\\\\\\\": 2, \\\\\\\\\\\\\\\"details\\\\\\\\\\\\\\\": {\\\\\\\\\\\\\\\"selectedColumn\\\\\\\\\\\\\\\": \\\\\\\\\\\\\\\"Age_2.0\\\\\\\\\\\\\\\"}}, \\\\\\\\\\\\\\\"typeProperty\\\\\\\\\\\\\\\": 2}, {\\\\\\\\\\\\\\\"column\\\\\\\\\\\\\\\": {\\\\\\\\\\\\\\\"type\\\\\\\\\\\\\\\": 2, \\\\\\\\\\\\\\\"details\\\\\\\\\\\\\\\": {\\\\\\\\\\\\\\\"selectedColumn\\\\\\\\\\\\\\\": \\\\\\\\\\\\\\\"Age_3.0\\\\\\\\\\\\\\\"}}, \\\\\\\\\\\\\\\"typeProperty\\\\\\\\\\\\\\\": 2}, {\\\\\\\\\\\\\\\"column\\\\\\\\\\\\\\\": {\\\\\\\\\\\\\\\"type\\\\\\\\\\\\\\\": 2, \\\\\\\\\\\\\\\"details\\\\\\\\\\\\\\\": {\\\\\\\\\\\\\\\"selectedColumn\\\\\\\\\\\\\\\": \\\\\\\\\\\\\\\"Age_4.0\\\\\\\\\\\\\\\"}}, \\\\\\\\\\\\\\\"typeProperty\\\\\\\\\\\\\\\": 2}, {\\\\\\\\\\\\\\\"column\\\\\\\\\\\\\\\": {\\\\\\\\\\\\\\\"type\\\\\\\\\\\\\\\": 2, \\\\\\\\\\\\\\\"details\\\\\\\\\\\\\\\": {\\\\\\\\\\\\\\\"selectedColumn\\\\\\\\\\\\\\\": \\\\\\\\\\\\\\\"Fare_2.0\\\\\\\\\\\\\\\"}}, \\\\\\\\\\\\\\\"typeProperty\\\\\\\\\\\\\\\": 2}, {\\\\\\\\\\\\\\\"column\\\\\\\\\\\\\\\": {\\\\\\\\\\\\\\\"type\\\\\\\\\\\\\\\": 2, \\\\\\\\\\\\\\\"details\\\\\\\\\\\\\\\": {\\\\\\\\\\\\\\\"selectedColumn\\\\\\\\\\\\\\\": \\\\\\\\\\\\\\\"Fare_3.0\\\\\\\\\\\\\\\"}}, \\\\\\\\\\\\\\\"typeProperty\\\\\\\\\\\\\\\": 2}, {\\\\\\\\\\\\\\\"column\\\\\\\\\\\\\\\": {\\\\\\\\\\\\\\\"type\\\\\\\\\\\\\\\": 2, \\\\\\\\\\\\\\\"details\\\\\\\\\\\\\\\": {\\\\\\\\\\\\\\\"selectedColumn\\\\\\\\\\\\\\\": \\\\\\\\\\\\\\\"Fare_4.0\\\\\\\\\\\\\\\"}}, \\\\\\\\\\\\\\\"typeProperty\\\\\\\\\\\\\\\": 2}, {\\\\\\\\\\\\\\\"column\\\\\\\\\\\\\\\": {\\\\\\\\\\\\\\\"type\\\\\\\\\\\\\\\": 2, \\\\\\\\\\\\\\\"details\\\\\\\\\\\\\\\": {\\\\\\\\\\\\\\\"selectedColumn\\\\\\\\\\\\\\\": \\\\\\\\\\\\\\\"Pclass_2\\\\\\\\\\\\\\\"}}, \\\\\\\\\\\\\\\"typeProperty\\\\\\\\\\\\\\\": 2}, {\\\\\\\\\\\\\\\"column\\\\\\\\\\\\\\\": {\\\\\\\\\\\\\\\"type\\\\\\\\\\\\\\\": 2, \\\\\\\\\\\\\\\"details\\\\\\\\\\\\\\\": {\\\\\\\\\\\\\\\"selectedColumn\\\\\\\\\\\\\\\": \\\\\\\\\\\\\\\"Pclass_3\\\\\\\\\\\\\\\"}}, \\\\\\\\\\\\\\\"typeProperty\\\\\\\\\\\\\\\": 2}, {\\\\\\\\\\\\\\\"column\\\\\\\\\\\\\\\": {\\\\\\\\\\\\\\\"type\\\\\\\\\\\\\\\": 2, \\\\\\\\\\\\\\\"details\\\\\\\\\\\\\\\": {\\\\\\\\\\\\\\\"selectedColumn\\\\\\\\\\\\\\\": \\\\\\\\\\\\\\\"Sex_male\\\\\\\\\\\\\\\"}}, \\\\\\\\\\\\\\\"typeProperty\\\\\\\\\\\\\\\": 2}, {\\\\\\\\\\\\\\\"column\\\\\\\\\\\\\\\": {\\\\\\\\\\\\\\\"type\\\\\\\\\\\\\\\": 2, \\\\\\\\\\\\\\\"details\\\\\\\\\\\\\\\": {\\\\\\\\\\\\\\\"selectedColumn\\\\\\\\\\\\\\\": \\\\\\\\\\\\\\\"Embarked_Q\\\\\\\\\\\\\\\"}}, \\\\\\\\\\\\\\\"typeProperty\\\\\\\\\\\\\\\": 2}, {\\\\\\\\\\\\\\\"column\\\\\\\\\\\\\\\": {\\\\\\\\\\\\\\\"type\\\\\\\\\\\\\\\": 2, \\\\\\\\\\\\\\\"details\\\\\\\\\\\\\\\": {\\\\\\\\\\\\\\\"selectedColumn\\\\\\\\\\\\\\\": \\\\\\\\\\\\\\\"Embarked_S\\\\\\\\\\\\\\\"}}, \\\\\\\\\\\\\\\"typeProperty\\\\\\\\\\\\\\\": 2}, {\\\\\\\\\\\\\\\"column\\\\\\\\\\\\\\\": {\\\\\\\\\\\\\\\"type\\\\\\\\\\\\\\\": 2, \\\\\\\\\\\\\\\"details\\\\\\\\\\\\\\\": {\\\\\\\\\\\\\\\"selectedColumn\\\\\\\\\\\\\\\": \\\\\\\\\\\\\\\"Family_type_Large\\\\\\\\\\\\\\\"}}, \\\\\\\\\\\\\\\"typeProperty\\\\\\\\\\\\\\\": 2}, {\\\\\\\\\\\\\\\"column\\\\\\\\\\\\\\\": {\\\\\\\\\\\\\\\"type\\\\\\\\\\\\\\\": 2, \\\\\\\\\\\\\\\"details\\\\\\\\\\\\\\\": {\\\\\\\\\\\\\\\"selectedColumn\\\\\\\\\\\\\\\": \\\\\\\\\\\\\\\"Family_type_Medium\\\\\\\\\\\\\\\"}}, \\\\\\\\\\\\\\\"typeProperty\\\\\\\\\\\\\\\": 2}, {\\\\\\\\\\\\\\\"column\\\\\\\\\\\\\\\": {\\\\\\\\\\\\\\\"type\\\\\\\\\\\\\\\": 2, \\\\\\\\\\\\\\\"details\\\\\\\\\\\\\\\": {\\\\\\\\\\\\\\\"selectedColumn\\\\\\\\\\\\\\\": \\\\\\\\\\\\\\\"Survived\\\\\\\\\\\\\\\"}}, \\\\\\\\\\\\\\\"typeProperty\\\\\\\\\\\\\\\": 2}]}, \\\\\\\\\\\\\\\"localData\\\\\\\\\\\\\\\": {}, \\\\\\\\\\\\\\\"isEnabled\\\\\\\\\\\\\\\": true, \\\\\\\\\\\\\\\"name\\\\\\\\\\\\\\\": null, \\\\\\\\\\\\\\\"annotation\\\\\\\\\\\\\\\": null}], \\\\\\\\\\\\\\\"inspectors\\\\\\\\\\\\\\\": [], \\\\\\\\\\\\\\\"meta\\\\\\\\\\\\\\\": {\\\\\\\\\\\\\\\"savedDatasetId\\\\\\\\\\\\\\\": \\\\\\\\\\\\\\\"ba5fc202-ec32-4605-91ef-20437822ba6e\\\\\\\\\\\\\\\", \\\\\\\\\\\\\\\"datasetType\\\\\\\\\\\\\\\": \\\\\\\\\\\\\\\"tabular\\\\\\\\\\\\\\\", \\\\\\\\\\\\\\\"subscriptionId\\\\\\\\\\\\\\\": \\\\\\\\\\\\\\\"d4ad7261-832d-46b2-b093-22156001df5b\\\\\\\\\\\\\\\", \\\\\\\\\\\\\\\"workspaceId\\\\\\\\\\\\\\\": \\\\\\\\\\\\\\\"fb6baac6-55f2-4dd5-a566-c35946051c91\\\\\\\\\\\\\\\", \\\\\\\\\\\\\\\"workspaceLocation\\\\\\\\\\\\\\\": \\\\\\\\\\\\\\\"southcentralus\\\\\\\\\\\\\\\"}}\\\\\\\", \\\\\\\"activities\\\\\\\": 0}\", \"EnableSubsampling\": null, \"runTemplate\": \"AutoML\", \"azureml.runsource\": \"automl\", \"display_task_type\": \"classification\", \"dependencies_versions\": \"{\\\"azureml-widgets\\\": \\\"1.20.0\\\", \\\"azureml-train\\\": \\\"1.20.0\\\", \\\"azureml-train-restclients-hyperdrive\\\": \\\"1.20.0\\\", \\\"azureml-train-core\\\": \\\"1.20.0\\\", \\\"azureml-train-automl\\\": \\\"1.20.0\\\", \\\"azureml-train-automl-runtime\\\": \\\"1.20.0\\\", \\\"azureml-train-automl-client\\\": \\\"1.20.0\\\", \\\"azureml-tensorboard\\\": \\\"1.20.0\\\", \\\"azureml-telemetry\\\": \\\"1.20.0\\\", \\\"azureml-sdk\\\": \\\"1.20.0\\\", \\\"azureml-samples\\\": \\\"0+unknown\\\", \\\"azureml-pipeline\\\": \\\"1.20.0\\\", \\\"azureml-pipeline-steps\\\": \\\"1.20.0\\\", \\\"azureml-pipeline-core\\\": \\\"1.20.0\\\", \\\"azureml-opendatasets\\\": \\\"1.20.0\\\", \\\"azureml-model-management-sdk\\\": \\\"1.0.1b6.post1\\\", \\\"azureml-mlflow\\\": \\\"1.20.0.post1\\\", \\\"azureml-interpret\\\": \\\"1.20.0\\\", \\\"azureml-explain-model\\\": \\\"1.20.0\\\", \\\"azureml-defaults\\\": \\\"1.20.0\\\", \\\"azureml-dataset-runtime\\\": \\\"1.20.0\\\", \\\"azureml-dataprep\\\": \\\"2.7.3\\\", \\\"azureml-dataprep-rslex\\\": \\\"1.5.0\\\", \\\"azureml-dataprep-native\\\": \\\"27.0.0\\\", \\\"azureml-datadrift\\\": \\\"1.20.0\\\", \\\"azureml-core\\\": \\\"1.20.0\\\", \\\"azureml-contrib-services\\\": \\\"1.20.0\\\", \\\"azureml-contrib-server\\\": \\\"1.20.0\\\", \\\"azureml-contrib-reinforcementlearning\\\": \\\"1.20.0\\\", \\\"azureml-contrib-pipeline-steps\\\": \\\"1.20.0\\\", \\\"azureml-contrib-notebook\\\": \\\"1.20.0\\\", \\\"azureml-contrib-interpret\\\": \\\"1.20.0\\\", \\\"azureml-contrib-gbdt\\\": \\\"1.20.0\\\", \\\"azureml-contrib-fairness\\\": \\\"1.20.0\\\", \\\"azureml-contrib-dataset\\\": \\\"1.20.0\\\", \\\"azureml-cli-common\\\": \\\"1.20.0\\\", \\\"azureml-automl-runtime\\\": \\\"1.20.0\\\", \\\"azureml-automl-core\\\": \\\"1.20.0\\\", \\\"azureml-accel-models\\\": \\\"1.20.0\\\"}\", \"_aml_system_scenario_identification\": \"Remote.Parent\", \"ClientType\": \"SDK\", \"environment_cpu_name\": \"AzureML-AutoML\", \"environment_cpu_label\": \"prod\", \"environment_gpu_name\": \"AzureML-AutoML-GPU\", \"environment_gpu_label\": \"prod\", \"root_attribution\": \"automl\", \"attribution\": \"AutoML\", \"Orchestrator\": \"AutoML\", \"CancelUri\": \"https://southcentralus.experiments.azureml.net/jasmine/v1.0/subscriptions/d4ad7261-832d-46b2-b093-22156001df5b/resourceGroups/aml-quickstarts-136135/providers/Microsoft.MachineLearningServices/workspaces/quick-starts-ws-136135/experimentids/2f839dea-652b-45e4-9a8a-a1f67df82cbb/cancel/AutoML_025b4651-c12a-48f7-88a8-da072e26f839\", \"ClientSdkVersion\": \"1.20.0.post1\", \"snapshotId\": \"00000000-0000-0000-0000-000000000000\", \"SetupRunId\": \"AutoML_025b4651-c12a-48f7-88a8-da072e26f839_setup\", \"SetupRunContainerId\": \"dcid.AutoML_025b4651-c12a-48f7-88a8-da072e26f839_setup\", \"FeaturizationRunJsonPath\": \"featurizer_container.json\", \"FeaturizationRunId\": \"AutoML_025b4651-c12a-48f7-88a8-da072e26f839_featurize\", \"ProblemInfoJsonString\": \"{\\\"dataset_num_categorical\\\": 0, \\\"is_sparse\\\": false, \\\"subsampling\\\": false, \\\"dataset_classes\\\": 2, \\\"dataset_features\\\": 14, \\\"dataset_samples\\\": 712, \\\"single_frequency_class_detected\\\": false}\", \"ModelExplainRunId\": \"AutoML_025b4651-c12a-48f7-88a8-da072e26f839_ModelExplain\"}, \"tags\": {\"model_explain_run\": \"best_run\", \"_aml_system_azureml.automlComponent\": \"AutoML\", \"pipeline_id\": \"\", \"score\": \"\", \"predicted_cost\": \"\", \"fit_time\": \"\", \"training_percent\": \"\", \"iteration\": \"\", \"run_preprocessor\": \"\", \"run_algorithm\": \"\", \"automl_best_child_run_id\": \"AutoML_025b4651-c12a-48f7-88a8-da072e26f839_21\", \"model_explain_best_run_child_id\": \"AutoML_025b4651-c12a-48f7-88a8-da072e26f839_21\"}, \"end_time_utc\": \"2021-01-26T16:06:22.804517Z\", \"status\": \"Completed\", \"log_files\": {}, \"log_groups\": [], \"run_duration\": \"0:39:02\"}, \"child_runs\": [{\"run_id\": \"AutoML_025b4651-c12a-48f7-88a8-da072e26f839_0\", \"run_number\": 5, \"metric\": null, \"status\": \"Completed\", \"run_type\": \"azureml.scriptrun\", \"training_percent\": \"100\", \"start_time\": \"2021-01-26T15:32:20.074849Z\", \"end_time\": \"2021-01-26T15:33:13.641949Z\", \"created_time\": \"2021-01-26T15:32:07.636722Z\", \"created_time_dt\": \"2021-01-26T15:32:07.636722Z\", \"duration\": \"0:01:06\", \"iteration\": \"0\", \"goal\": \"accuracy_max\", \"run_name\": \"MaxAbsScaler, LightGBM\", \"run_properties\": \"copy=True\", \"primary_metric\": 0.77250074, \"best_metric\": 0.77250074}, {\"run_id\": \"AutoML_025b4651-c12a-48f7-88a8-da072e26f839_1\", \"run_number\": 6, \"metric\": null, \"status\": \"Completed\", \"run_type\": \"azureml.scriptrun\", \"training_percent\": \"100\", \"start_time\": \"2021-01-26T15:33:36.254785Z\", \"end_time\": \"2021-01-26T15:34:25.411999Z\", \"created_time\": \"2021-01-26T15:33:15.497075Z\", \"created_time_dt\": \"2021-01-26T15:33:15.497075Z\", \"duration\": \"0:01:09\", \"iteration\": \"1\", \"goal\": \"accuracy_max\", \"run_name\": \"MaxAbsScaler, XGBoostClassifier\", \"run_properties\": \"copy=True\", \"primary_metric\": 0.79925145, \"best_metric\": 0.79925145}, {\"run_id\": \"AutoML_025b4651-c12a-48f7-88a8-da072e26f839_2\", \"run_number\": 7, \"metric\": null, \"status\": \"Completed\", \"run_type\": \"azureml.scriptrun\", \"training_percent\": \"100\", \"start_time\": \"2021-01-26T15:36:04.407547Z\", \"end_time\": \"2021-01-26T15:37:07.631346Z\", \"created_time\": \"2021-01-26T15:34:27.303876Z\", \"created_time_dt\": \"2021-01-26T15:34:27.303876Z\", \"duration\": \"0:02:40\", \"iteration\": \"2\", \"goal\": \"accuracy_max\", \"run_name\": \"MinMaxScaler, RandomForest\", \"run_properties\": \"copy=True, feature_range=(0, 1\", \"primary_metric\": 0.8006402, \"best_metric\": 0.8006402}, {\"run_id\": \"AutoML_025b4651-c12a-48f7-88a8-da072e26f839_3\", \"run_number\": 8, \"metric\": null, \"status\": \"Completed\", \"run_type\": \"azureml.scriptrun\", \"training_percent\": \"100\", \"start_time\": \"2021-01-26T15:37:23.185391Z\", \"end_time\": \"2021-01-26T15:38:38.51114Z\", \"created_time\": \"2021-01-26T15:37:10.189998Z\", \"created_time_dt\": \"2021-01-26T15:37:10.189998Z\", \"duration\": \"0:01:28\", \"iteration\": \"3\", \"goal\": \"accuracy_max\", \"run_name\": \"MinMaxScaler, RandomForest\", \"run_properties\": \"copy=True, feature_range=(0, 1\", \"primary_metric\": 0.77961194, \"best_metric\": 0.8006402}, {\"run_id\": \"AutoML_025b4651-c12a-48f7-88a8-da072e26f839_4\", \"run_number\": 9, \"metric\": null, \"status\": \"Completed\", \"run_type\": \"azureml.scriptrun\", \"training_percent\": \"100\", \"start_time\": \"2021-01-26T15:38:55.902536Z\", \"end_time\": \"2021-01-26T15:39:42.128191Z\", \"created_time\": \"2021-01-26T15:38:40.706098Z\", \"created_time_dt\": \"2021-01-26T15:38:40.706098Z\", \"duration\": \"0:01:01\", \"iteration\": \"4\", \"goal\": \"accuracy_max\", \"run_name\": \"MinMaxScaler, RandomForest\", \"run_properties\": \"copy=True, feature_range=(0, 1\", \"primary_metric\": 0.77537674, \"best_metric\": 0.8006402}, {\"run_id\": \"AutoML_025b4651-c12a-48f7-88a8-da072e26f839_5\", \"run_number\": 10, \"metric\": null, \"status\": \"Completed\", \"run_type\": \"azureml.scriptrun\", \"training_percent\": \"100\", \"start_time\": \"2021-01-26T15:39:55.374719Z\", \"end_time\": \"2021-01-26T15:40:35.553817Z\", \"created_time\": \"2021-01-26T15:39:44.206781Z\", \"created_time_dt\": \"2021-01-26T15:39:44.206781Z\", \"duration\": \"0:00:51\", \"iteration\": \"5\", \"goal\": \"accuracy_max\", \"run_name\": \"MinMaxScaler, SVM\", \"run_properties\": \"copy=True, feature_range=(0, 1\", \"primary_metric\": 0.76690633, \"best_metric\": 0.8006402}, {\"run_id\": \"AutoML_025b4651-c12a-48f7-88a8-da072e26f839_6\", \"run_number\": 11, \"metric\": null, \"status\": \"Completed\", \"run_type\": \"azureml.scriptrun\", \"training_percent\": \"100\", \"start_time\": \"2021-01-26T15:41:05.487455Z\", \"end_time\": \"2021-01-26T15:43:43.127784Z\", \"created_time\": \"2021-01-26T15:40:37.192031Z\", \"created_time_dt\": \"2021-01-26T15:40:37.192031Z\", \"duration\": \"0:03:05\", \"iteration\": \"6\", \"goal\": \"accuracy_max\", \"run_name\": \"MaxAbsScaler, GradientBoosting\", \"run_properties\": \"copy=True\", \"primary_metric\": 0.78098099, \"best_metric\": 0.8006402}, {\"run_id\": \"AutoML_025b4651-c12a-48f7-88a8-da072e26f839_7\", \"run_number\": 12, \"metric\": null, \"status\": \"Completed\", \"run_type\": \"azureml.scriptrun\", \"training_percent\": \"100\", \"start_time\": \"2021-01-26T15:43:57.368236Z\", \"end_time\": \"2021-01-26T15:45:48.477233Z\", \"created_time\": \"2021-01-26T15:43:45.410347Z\", \"created_time_dt\": \"2021-01-26T15:43:45.410347Z\", \"duration\": \"0:02:03\", \"iteration\": \"7\", \"goal\": \"accuracy_max\", \"run_name\": \"StandardScalerWrapper, RandomForest\", \"run_properties\": \"<azureml.automl.runtime.shared.model_wrappers.StandardScalerWrapper object at 0x7f9b64288cc0\", \"primary_metric\": 0.78516695, \"best_metric\": 0.8006402}, {\"run_id\": \"AutoML_025b4651-c12a-48f7-88a8-da072e26f839_8\", \"run_number\": 13, \"metric\": null, \"status\": \"Completed\", \"run_type\": \"azureml.scriptrun\", \"training_percent\": \"100\", \"start_time\": \"2021-01-26T15:46:01.261833Z\", \"end_time\": \"2021-01-26T15:46:40.378599Z\", \"created_time\": \"2021-01-26T15:45:50.384651Z\", \"created_time_dt\": \"2021-01-26T15:45:50.384651Z\", \"duration\": \"0:00:49\", \"iteration\": \"8\", \"goal\": \"accuracy_max\", \"run_name\": \"SparseNormalizer, XGBoostClassifier\", \"run_properties\": \"<azureml.automl.runtime.shared.model_wrappers.SparseNormalizer object at 0x7fd69763f240\", \"primary_metric\": 0.7879543, \"best_metric\": 0.8006402}, {\"run_id\": \"AutoML_025b4651-c12a-48f7-88a8-da072e26f839_9\", \"run_number\": 14, \"metric\": null, \"status\": \"Completed\", \"run_type\": \"azureml.scriptrun\", \"training_percent\": \"100\", \"start_time\": \"2021-01-26T15:46:54.828623Z\", \"end_time\": \"2021-01-26T15:47:46.063155Z\", \"created_time\": \"2021-01-26T15:46:41.960275Z\", \"created_time_dt\": \"2021-01-26T15:46:41.960275Z\", \"duration\": \"0:01:04\", \"iteration\": \"9\", \"goal\": \"accuracy_max\", \"run_name\": \"SparseNormalizer, LightGBM\", \"run_properties\": \"<azureml.automl.runtime.shared.model_wrappers.SparseNormalizer object at 0x7f80f86e2cf8\", \"primary_metric\": 0.7880134, \"best_metric\": 0.8006402}, {\"run_id\": \"AutoML_025b4651-c12a-48f7-88a8-da072e26f839_10\", \"run_number\": 15, \"metric\": null, \"status\": \"Completed\", \"run_type\": \"azureml.scriptrun\", \"training_percent\": \"100\", \"start_time\": \"2021-01-26T15:48:01.515248Z\", \"end_time\": \"2021-01-26T15:48:47.824819Z\", \"created_time\": \"2021-01-26T15:47:47.719219Z\", \"created_time_dt\": \"2021-01-26T15:47:47.719219Z\", \"duration\": \"0:01:00\", \"iteration\": \"10\", \"goal\": \"accuracy_max\", \"run_name\": \"StandardScalerWrapper, LightGBM\", \"run_properties\": \"<azureml.automl.runtime.shared.model_wrappers.StandardScalerWrapper object at 0x7fe0e59437f0\", \"primary_metric\": 0.796405, \"best_metric\": 0.8006402}, {\"run_id\": \"AutoML_025b4651-c12a-48f7-88a8-da072e26f839_11\", \"run_number\": 16, \"metric\": null, \"status\": \"Completed\", \"run_type\": \"azureml.scriptrun\", \"training_percent\": \"100\", \"start_time\": \"2021-01-26T15:49:23.833482Z\", \"end_time\": \"2021-01-26T15:51:59.570797Z\", \"created_time\": \"2021-01-26T15:48:49.952237Z\", \"created_time_dt\": \"2021-01-26T15:48:49.952237Z\", \"duration\": \"0:03:09\", \"iteration\": \"11\", \"goal\": \"accuracy_max\", \"run_name\": \"RobustScaler, ExtremeRandomTrees\", \"run_properties\": \"copy=True, quantile_range=[25, 75], with_centering=True,\\n             with_scaling=False\", \"primary_metric\": 0.77392889, \"best_metric\": 0.8006402}, {\"run_id\": \"AutoML_025b4651-c12a-48f7-88a8-da072e26f839_12\", \"run_number\": 17, \"metric\": null, \"status\": \"Completed\", \"run_type\": \"azureml.scriptrun\", \"training_percent\": \"100\", \"start_time\": \"2021-01-26T15:52:16.758233Z\", \"end_time\": \"2021-01-26T15:53:09.399713Z\", \"created_time\": \"2021-01-26T15:52:03.488249Z\", \"created_time_dt\": \"2021-01-26T15:52:03.488249Z\", \"duration\": \"0:01:05\", \"iteration\": \"12\", \"goal\": \"accuracy_max\", \"run_name\": \"SparseNormalizer, XGBoostClassifier\", \"run_properties\": \"<azureml.automl.runtime.shared.model_wrappers.SparseNormalizer object at 0x7f57cc18b5c0\", \"primary_metric\": 0.77675564, \"best_metric\": 0.8006402}, {\"run_id\": \"AutoML_025b4651-c12a-48f7-88a8-da072e26f839_13\", \"run_number\": 18, \"metric\": null, \"status\": \"Completed\", \"run_type\": \"azureml.scriptrun\", \"training_percent\": \"100\", \"start_time\": \"2021-01-26T15:53:27.824311Z\", \"end_time\": \"2021-01-26T15:54:40.57805Z\", \"created_time\": \"2021-01-26T15:53:12.294988Z\", \"created_time_dt\": \"2021-01-26T15:53:12.294988Z\", \"duration\": \"0:01:28\", \"iteration\": \"13\", \"goal\": \"accuracy_max\", \"run_name\": \"RobustScaler, ExtremeRandomTrees\", \"run_properties\": \"copy=True, quantile_range=[25, 75], with_centering=True,\\n             with_scaling=False\", \"primary_metric\": 0.77671624, \"best_metric\": 0.8006402}, {\"run_id\": \"AutoML_025b4651-c12a-48f7-88a8-da072e26f839_14\", \"run_number\": 19, \"metric\": null, \"status\": \"Completed\", \"run_type\": \"azureml.scriptrun\", \"training_percent\": \"100\", \"start_time\": \"2021-01-26T15:54:57.214942Z\", \"end_time\": \"2021-01-26T15:55:42.90383Z\", \"created_time\": \"2021-01-26T15:54:43.349719Z\", \"created_time_dt\": \"2021-01-26T15:54:43.349719Z\", \"duration\": \"0:00:59\", \"iteration\": \"14\", \"goal\": \"accuracy_max\", \"run_name\": \"SparseNormalizer, XGBoostClassifier\", \"run_properties\": \"<azureml.automl.runtime.shared.model_wrappers.SparseNormalizer object at 0x7f6315cb1b70\", \"primary_metric\": 0.7809219, \"best_metric\": 0.8006402}, {\"run_id\": \"AutoML_025b4651-c12a-48f7-88a8-da072e26f839_15\", \"run_number\": 20, \"metric\": null, \"status\": \"Completed\", \"run_type\": \"azureml.scriptrun\", \"training_percent\": \"100\", \"start_time\": \"2021-01-26T15:55:56.423566Z\", \"end_time\": \"2021-01-26T15:57:17.477783Z\", \"created_time\": \"2021-01-26T15:55:45.314135Z\", \"created_time_dt\": \"2021-01-26T15:55:45.314135Z\", \"duration\": \"0:01:32\", \"iteration\": \"15\", \"goal\": \"accuracy_max\", \"run_name\": \"MinMaxScaler, LightGBM\", \"run_properties\": \"copy=True, feature_range=(0, 1\", \"primary_metric\": 0.78376834, \"best_metric\": 0.8006402}, {\"run_id\": \"AutoML_025b4651-c12a-48f7-88a8-da072e26f839_16\", \"run_number\": 21, \"metric\": null, \"status\": \"Completed\", \"run_type\": \"azureml.scriptrun\", \"training_percent\": \"100\", \"start_time\": \"2021-01-26T15:57:31.859999Z\", \"end_time\": \"2021-01-26T15:58:19.513877Z\", \"created_time\": \"2021-01-26T15:57:20.241673Z\", \"created_time_dt\": \"2021-01-26T15:57:20.241673Z\", \"duration\": \"0:00:59\", \"iteration\": \"16\", \"goal\": \"accuracy_max\", \"run_name\": \"StandardScalerWrapper, GradientBoosting\", \"run_properties\": \"<azureml.automl.runtime.shared.model_wrappers.StandardScalerWrapper object at 0x7fa2984e6c50\", \"primary_metric\": 0.79787255, \"best_metric\": 0.8006402}, {\"run_id\": \"AutoML_025b4651-c12a-48f7-88a8-da072e26f839_17\", \"run_number\": 22, \"metric\": null, \"status\": \"Completed\", \"run_type\": \"azureml.scriptrun\", \"training_percent\": \"100\", \"start_time\": \"2021-01-26T15:58:38.913912Z\", \"end_time\": \"2021-01-26T15:59:29.300839Z\", \"created_time\": \"2021-01-26T15:58:21.684011Z\", \"created_time_dt\": \"2021-01-26T15:58:21.684011Z\", \"duration\": \"0:01:07\", \"iteration\": \"17\", \"goal\": \"accuracy_max\", \"run_name\": \"MaxAbsScaler, GradientBoosting\", \"run_properties\": \"copy=True\", \"primary_metric\": 0.79080075, \"best_metric\": 0.8006402}, {\"run_id\": \"AutoML_025b4651-c12a-48f7-88a8-da072e26f839_18\", \"run_number\": 23, \"metric\": null, \"status\": \"Completed\", \"run_type\": \"azureml.scriptrun\", \"training_percent\": \"100\", \"start_time\": \"2021-01-26T15:59:48.043294Z\", \"end_time\": \"2021-01-26T16:00:34.010024Z\", \"created_time\": \"2021-01-26T15:59:31.252109Z\", \"created_time_dt\": \"2021-01-26T15:59:31.252109Z\", \"duration\": \"0:01:02\", \"iteration\": \"18\", \"goal\": \"accuracy_max\", \"run_name\": \"RobustScaler, KNN\", \"run_properties\": \"copy=True, quantile_range=[25, 75], with_centering=True,\\n             with_scaling=False\", \"primary_metric\": 0.61241997, \"best_metric\": 0.8006402}, {\"run_id\": \"AutoML_025b4651-c12a-48f7-88a8-da072e26f839_19\", \"run_number\": 24, \"metric\": null, \"status\": \"Completed\", \"run_type\": \"azureml.scriptrun\", \"training_percent\": \"100\", \"start_time\": \"2021-01-26T16:00:47.766661Z\", \"end_time\": \"2021-01-26T16:01:42.419078Z\", \"created_time\": \"2021-01-26T16:00:35.649307Z\", \"created_time_dt\": \"2021-01-26T16:00:35.649307Z\", \"duration\": \"0:01:06\", \"iteration\": \"19\", \"goal\": \"accuracy_max\", \"run_name\": \"StandardScalerWrapper, ExtremeRandomTrees\", \"run_properties\": \"<azureml.automl.runtime.shared.model_wrappers.StandardScalerWrapper object at 0x7f0159026940\", \"primary_metric\": 0.78235989, \"best_metric\": 0.8006402}, {\"run_id\": \"AutoML_025b4651-c12a-48f7-88a8-da072e26f839_20\", \"run_number\": 25, \"metric\": null, \"status\": \"Canceled\", \"run_type\": \"azureml.scriptrun\", \"training_percent\": \"100\", \"start_time\": \"2021-01-26T16:02:00.018716Z\", \"end_time\": \"2021-01-26T16:02:33.988743Z\", \"created_time\": \"2021-01-26T16:01:46.622949Z\", \"created_time_dt\": \"2021-01-26T16:01:46.622949Z\", \"duration\": \"0:00:47\", \"iteration\": \"20\", \"goal\": \"accuracy_max\", \"run_name\": \"StandardScalerWrapper, LightGBM\", \"run_properties\": \"<azureml.automl.runtime.shared.model_wrappers.StandardScalerWrapper object at 0x7f8ba40792b0\", \"primary_metric\": 0.80065005, \"best_metric\": 0.80065005}, {\"run_id\": \"AutoML_025b4651-c12a-48f7-88a8-da072e26f839_21\", \"run_number\": 26, \"metric\": null, \"status\": \"Completed\", \"run_type\": \"azureml.scriptrun\", \"training_percent\": \"100\", \"start_time\": \"2021-01-26T16:02:49.381569Z\", \"end_time\": \"2021-01-26T16:03:59.82037Z\", \"created_time\": \"2021-01-26T16:02:36.408448Z\", \"created_time_dt\": \"2021-01-26T16:02:36.408448Z\", \"duration\": \"0:01:23\", \"iteration\": \"21\", \"goal\": \"accuracy_max\", \"run_name\": \"VotingEnsemble\", \"run_properties\": \"classification_labels=None,\\n                              estimators=[('20',\\n                                           Pipeline(memory=None,\\n                                                    steps=[('standardscalerwrapper',\\n                                                            <azureml.automl.runtime.shared.model_wrappers.StandardScalerWrapper object at 0x7f0f6e056208>\", \"primary_metric\": 0.82173742, \"best_metric\": 0.82173742}, {\"run_id\": \"AutoML_025b4651-c12a-48f7-88a8-da072e26f839_22\", \"run_number\": 27, \"metric\": null, \"status\": \"Completed\", \"run_type\": \"azureml.scriptrun\", \"training_percent\": \"100\", \"start_time\": \"2021-01-26T16:04:18.691365Z\", \"end_time\": \"2021-01-26T16:06:12.27429Z\", \"created_time\": \"2021-01-26T16:04:00.576608Z\", \"created_time_dt\": \"2021-01-26T16:04:00.576608Z\", \"duration\": \"0:02:11\", \"iteration\": \"22\", \"goal\": \"accuracy_max\", \"run_name\": \"StackEnsemble\", \"run_properties\": \"base_learners=[('20',\\n                                        Pipeline(memory=None,\\n                                                 steps=[('standardscalerwrapper',\\n                                                         <azureml.automl.runtime.shared.model_wrappers.StandardScalerWrapper object at 0x7fc9d668bda0>\", \"primary_metric\": 0.80346696, \"best_metric\": 0.82173742}], \"children_metrics\": {\"categories\": [0], \"series\": {\"average_precision_score_macro\": [{\"categories\": [\"0\", \"1\", \"2\", \"3\", \"4\", \"5\", \"6\", \"7\", \"8\", \"9\", \"10\", \"11\", \"12\", \"13\", \"14\", \"15\", \"16\", \"17\", \"18\", \"19\", \"20\", \"21\", \"22\"], \"mode\": \"markers\", \"name\": \"average_precision_score_macro\", \"stepped\": false, \"type\": \"scatter\", \"data\": [0.8127168930529056, 0.818313535215545, 0.8342355799704612, 0.8249793013474787, 0.8484556093977336, 0.7860170898167196, 0.8341852337181518, 0.8380098670259988, 0.8244399318246864, 0.8310701487542692, 0.8379877643264992, 0.8205867898369066, 0.8057880691954518, 0.8355027440212025, 0.8130675339384501, 0.8321410908784209, 0.8379961972900354, 0.8317804547973798, 0.585654126739579, 0.8372826209676013, 0.8315822131180755, 0.8380762810754409, 0.8378933106040687]}, {\"categories\": [\"0\", \"1\", \"2\", \"3\", \"4\", \"5\", \"6\", \"7\", \"8\", \"9\", \"10\", \"11\", \"12\", \"13\", \"14\", \"15\", \"16\", \"17\", \"18\", \"19\", \"20\", \"21\", \"22\"], \"mode\": \"lines\", \"name\": \"average_precision_score_macro_max\", \"stepped\": true, \"type\": \"scatter\", \"data\": [0.8127168930529056, 0.818313535215545, 0.8342355799704612, 0.8342355799704612, 0.8484556093977336, 0.8484556093977336, 0.8484556093977336, 0.8484556093977336, 0.8484556093977336, 0.8484556093977336, 0.8484556093977336, 0.8484556093977336, 0.8484556093977336, 0.8484556093977336, 0.8484556093977336, 0.8484556093977336, 0.8484556093977336, 0.8484556093977336, 0.8484556093977336, 0.8484556093977336, 0.8484556093977336, 0.8484556093977336, 0.8484556093977336]}], \"f1_score_macro\": [{\"categories\": [\"0\", \"1\", \"2\", \"3\", \"4\", \"5\", \"6\", \"7\", \"8\", \"9\", \"10\", \"11\", \"12\", \"13\", \"14\", \"15\", \"16\", \"17\", \"18\", \"19\", \"20\", \"21\", \"22\"], \"mode\": \"markers\", \"name\": \"f1_score_macro\", \"stepped\": false, \"type\": \"scatter\", \"data\": [0.7504475220732955, 0.7781202590868566, 0.7757066483661277, 0.74747121603914, 0.7611431751089709, 0.7428535770354527, 0.7626141078465412, 0.75949124829723, 0.7639391348295478, 0.7671926177694399, 0.7698053649739213, 0.7313104987421426, 0.7550323987789276, 0.7363473349703269, 0.7582712161876322, 0.7639903465300089, 0.7783388892636813, 0.7669035574699381, 0.5300341453019335, 0.7539856857127119, 0.7699477117808883, 0.7992495507264076, 0.7783444084902186]}, {\"categories\": [\"0\", \"1\", \"2\", \"3\", \"4\", \"5\", \"6\", \"7\", \"8\", \"9\", \"10\", \"11\", \"12\", \"13\", \"14\", \"15\", \"16\", \"17\", \"18\", \"19\", \"20\", \"21\", \"22\"], \"mode\": \"lines\", \"name\": \"f1_score_macro_max\", \"stepped\": true, \"type\": \"scatter\", \"data\": [0.7504475220732955, 0.7781202590868566, 0.7781202590868566, 0.7781202590868566, 0.7781202590868566, 0.7781202590868566, 0.7781202590868566, 0.7781202590868566, 0.7781202590868566, 0.7781202590868566, 0.7781202590868566, 0.7781202590868566, 0.7781202590868566, 0.7781202590868566, 0.7781202590868566, 0.7781202590868566, 0.7783388892636813, 0.7783388892636813, 0.7783388892636813, 0.7783388892636813, 0.7783388892636813, 0.7992495507264076, 0.7992495507264076]}], \"weighted_accuracy\": [{\"categories\": [\"0\", \"1\", \"2\", \"3\", \"4\", \"5\", \"6\", \"7\", \"8\", \"9\", \"10\", \"11\", \"12\", \"13\", \"14\", \"15\", \"16\", \"17\", \"18\", \"19\", \"20\", \"21\", \"22\"], \"mode\": \"markers\", \"name\": \"weighted_accuracy\", \"stepped\": false, \"type\": \"scatter\", \"data\": [0.7944917825459895, 0.8231579671773648, 0.8298297058218568, 0.8153019268537512, 0.7869797871447743, 0.7908286663913138, 0.7989179352148923, 0.8128627409014395, 0.8139785003338931, 0.8101936624169681, 0.8262327157297756, 0.8141946908866388, 0.7977627140761175, 0.8134268829018373, 0.8028036814195829, 0.8043942528222257, 0.8197079187671464, 0.8175514471591825, 0.6709937534516225, 0.8115406364582156, 0.8367213302881564, 0.8504371942348727, 0.8329885245876865]}, {\"categories\": [\"0\", \"1\", \"2\", \"3\", \"4\", \"5\", \"6\", \"7\", \"8\", \"9\", \"10\", \"11\", \"12\", \"13\", \"14\", \"15\", \"16\", \"17\", \"18\", \"19\", \"20\", \"21\", \"22\"], \"mode\": \"lines\", \"name\": \"weighted_accuracy_max\", \"stepped\": true, \"type\": \"scatter\", \"data\": [0.7944917825459895, 0.8231579671773648, 0.8298297058218568, 0.8298297058218568, 0.8298297058218568, 0.8298297058218568, 0.8298297058218568, 0.8298297058218568, 0.8298297058218568, 0.8298297058218568, 0.8298297058218568, 0.8298297058218568, 0.8298297058218568, 0.8298297058218568, 0.8298297058218568, 0.8298297058218568, 0.8298297058218568, 0.8298297058218568, 0.8298297058218568, 0.8298297058218568, 0.8367213302881564, 0.8504371942348727, 0.8504371942348727]}], \"AUC_weighted\": [{\"categories\": [\"0\", \"1\", \"2\", \"3\", \"4\", \"5\", \"6\", \"7\", \"8\", \"9\", \"10\", \"11\", \"12\", \"13\", \"14\", \"15\", \"16\", \"17\", \"18\", \"19\", \"20\", \"21\", \"22\"], \"mode\": \"markers\", \"name\": \"AUC_weighted\", \"stepped\": false, \"type\": \"scatter\", \"data\": [0.8219698031299212, 0.8327108878986165, 0.8392495585422768, 0.8321054116549765, 0.8529279573883587, 0.80524723746055, 0.8395854557449848, 0.8434783717649095, 0.8255475854533951, 0.8347916979285497, 0.8414769547679304, 0.8395077035153037, 0.8188686781530418, 0.8432778561249498, 0.8261397959112899, 0.8402018792854621, 0.8429807351895263, 0.8354616177443314, 0.5905516830134856, 0.8467228046536939, 0.8379680127947633, 0.8445708274545026, 0.8434360909953439]}, {\"categories\": [\"0\", \"1\", \"2\", \"3\", \"4\", \"5\", \"6\", \"7\", \"8\", \"9\", \"10\", \"11\", \"12\", \"13\", \"14\", \"15\", \"16\", \"17\", \"18\", \"19\", \"20\", \"21\", \"22\"], \"mode\": \"lines\", \"name\": \"AUC_weighted_max\", \"stepped\": true, \"type\": \"scatter\", \"data\": [0.8219698031299212, 0.8327108878986165, 0.8392495585422768, 0.8392495585422768, 0.8529279573883587, 0.8529279573883587, 0.8529279573883587, 0.8529279573883587, 0.8529279573883587, 0.8529279573883587, 0.8529279573883587, 0.8529279573883587, 0.8529279573883587, 0.8529279573883587, 0.8529279573883587, 0.8529279573883587, 0.8529279573883587, 0.8529279573883587, 0.8529279573883587, 0.8529279573883587, 0.8529279573883587, 0.8529279573883587, 0.8529279573883587]}], \"precision_score_macro\": [{\"categories\": [\"0\", \"1\", \"2\", \"3\", \"4\", \"5\", \"6\", \"7\", \"8\", \"9\", \"10\", \"11\", \"12\", \"13\", \"14\", \"15\", \"16\", \"17\", \"18\", \"19\", \"20\", \"21\", \"22\"], \"mode\": \"markers\", \"name\": \"precision_score_macro\", \"stepped\": false, \"type\": \"scatter\", \"data\": [0.7591601109660716, 0.7955950992585932, 0.8052781705576392, 0.8012045899711069, 0.7631468723323882, 0.7584817025852294, 0.7706820575676583, 0.7845362671233646, 0.7815264468026408, 0.7808103717215513, 0.8013891002092899, 0.8074370918981041, 0.76744757944531, 0.8042647650495459, 0.7735326269597586, 0.7749835173724166, 0.7928271664930305, 0.7886287289621597, 0.567998993334495, 0.7871849389111549, 0.8161870368814854, 0.8329325191505642, 0.8089731157160773]}, {\"categories\": [\"0\", \"1\", \"2\", \"3\", \"4\", \"5\", \"6\", \"7\", \"8\", \"9\", \"10\", \"11\", \"12\", \"13\", \"14\", \"15\", \"16\", \"17\", \"18\", \"19\", \"20\", \"21\", \"22\"], \"mode\": \"lines\", \"name\": \"precision_score_macro_max\", \"stepped\": true, \"type\": \"scatter\", \"data\": [0.7591601109660716, 0.7955950992585932, 0.8052781705576392, 0.8052781705576392, 0.8052781705576392, 0.8052781705576392, 0.8052781705576392, 0.8052781705576392, 0.8052781705576392, 0.8052781705576392, 0.8052781705576392, 0.8074370918981041, 0.8074370918981041, 0.8074370918981041, 0.8074370918981041, 0.8074370918981041, 0.8074370918981041, 0.8074370918981041, 0.8074370918981041, 0.8074370918981041, 0.8161870368814854, 0.8329325191505642, 0.8329325191505642]}], \"accuracy\": [{\"categories\": [\"0\", \"1\", \"2\", \"3\", \"4\", \"5\", \"6\", \"7\", \"8\", \"9\", \"10\", \"11\", \"12\", \"13\", \"14\", \"15\", \"16\", \"17\", \"18\", \"19\", \"20\", \"21\", \"22\"], \"mode\": \"markers\", \"name\": \"accuracy\", \"stepped\": false, \"type\": \"scatter\", \"data\": [0.7725007386979218, 0.7992514527725796, 0.800640204865557, 0.7796119373584162, 0.7753767359401162, 0.7669063331035162, 0.7809809908401458, 0.7851669457303261, 0.7879542992219049, 0.7880133950556486, 0.796405003447257, 0.7739288880133952, 0.7767556387274698, 0.776716241504974, 0.780921895006402, 0.7837683443317246, 0.7978725499852259, 0.7908007485472275, 0.6124199743918053, 0.7823598936274992, 0.8006500541711808, 0.8217374175120653, 0.8034669555796317]}, {\"categories\": [\"0\", \"1\", \"2\", \"3\", \"4\", \"5\", \"6\", \"7\", \"8\", \"9\", \"10\", \"11\", \"12\", \"13\", \"14\", \"15\", \"16\", \"17\", \"18\", \"19\", \"20\", \"21\", \"22\"], \"mode\": \"lines\", \"name\": \"accuracy_max\", \"stepped\": true, \"type\": \"scatter\", \"data\": [0.7725007386979218, 0.7992514527725796, 0.800640204865557, 0.800640204865557, 0.800640204865557, 0.800640204865557, 0.800640204865557, 0.800640204865557, 0.800640204865557, 0.800640204865557, 0.800640204865557, 0.800640204865557, 0.800640204865557, 0.800640204865557, 0.800640204865557, 0.800640204865557, 0.800640204865557, 0.800640204865557, 0.800640204865557, 0.800640204865557, 0.8006500541711808, 0.8217374175120653, 0.8217374175120653]}], \"recall_score_macro\": [{\"categories\": [\"0\", \"1\", \"2\", \"3\", \"4\", \"5\", \"6\", \"7\", \"8\", \"9\", \"10\", \"11\", \"12\", \"13\", \"14\", \"15\", \"16\", \"17\", \"18\", \"19\", \"20\", \"21\", \"22\"], \"mode\": \"markers\", \"name\": \"recall_score_macro\", \"stepped\": false, \"type\": \"scatter\", \"data\": [0.7467631531287555, 0.771483261782081, 0.7667995030809156, 0.7377808052662933, 0.7616189543156897, 0.739047419982495, 0.7601104142301972, 0.7530932836033595, 0.7575669774710423, 0.7623996153822722, 0.7617720928972764, 0.7272135969528234, 0.752639472672491, 0.7346532067170257, 0.7557078320477115, 0.7596196810972776, 0.7723124213030826, 0.7597111180691758, 0.5437337448771606, 0.7486375987560646, 0.7584127236730989, 0.7884885377767549, 0.7690453116221263]}, {\"categories\": [\"0\", \"1\", \"2\", \"3\", \"4\", \"5\", \"6\", \"7\", \"8\", \"9\", \"10\", \"11\", \"12\", \"13\", \"14\", \"15\", \"16\", \"17\", \"18\", \"19\", \"20\", \"21\", \"22\"], \"mode\": \"lines\", \"name\": \"recall_score_macro_max\", \"stepped\": true, \"type\": \"scatter\", \"data\": [0.7467631531287555, 0.771483261782081, 0.771483261782081, 0.771483261782081, 0.771483261782081, 0.771483261782081, 0.771483261782081, 0.771483261782081, 0.771483261782081, 0.771483261782081, 0.771483261782081, 0.771483261782081, 0.771483261782081, 0.771483261782081, 0.771483261782081, 0.771483261782081, 0.7723124213030826, 0.7723124213030826, 0.7723124213030826, 0.7723124213030826, 0.7723124213030826, 0.7884885377767549, 0.7884885377767549]}], \"balanced_accuracy\": [{\"categories\": [\"0\", \"1\", \"2\", \"3\", \"4\", \"5\", \"6\", \"7\", \"8\", \"9\", \"10\", \"11\", \"12\", \"13\", \"14\", \"15\", \"16\", \"17\", \"18\", \"19\", \"20\", \"21\", \"22\"], \"mode\": \"markers\", \"name\": \"balanced_accuracy\", \"stepped\": false, \"type\": \"scatter\", \"data\": [0.7467631531287555, 0.771483261782081, 0.7667995030809156, 0.7377808052662933, 0.7616189543156897, 0.739047419982495, 0.7601104142301972, 0.7530932836033595, 0.7575669774710423, 0.7623996153822722, 0.7617720928972764, 0.7272135969528234, 0.752639472672491, 0.7346532067170257, 0.7557078320477115, 0.7596196810972776, 0.7723124213030826, 0.7597111180691758, 0.5437337448771606, 0.7486375987560646, 0.7584127236730989, 0.7884885377767549, 0.7690453116221263]}, {\"categories\": [\"0\", \"1\", \"2\", \"3\", \"4\", \"5\", \"6\", \"7\", \"8\", \"9\", \"10\", \"11\", \"12\", \"13\", \"14\", \"15\", \"16\", \"17\", \"18\", \"19\", \"20\", \"21\", \"22\"], \"mode\": \"lines\", \"name\": \"balanced_accuracy_max\", \"stepped\": true, \"type\": \"scatter\", \"data\": [0.7467631531287555, 0.771483261782081, 0.771483261782081, 0.771483261782081, 0.771483261782081, 0.771483261782081, 0.771483261782081, 0.771483261782081, 0.771483261782081, 0.771483261782081, 0.771483261782081, 0.771483261782081, 0.771483261782081, 0.771483261782081, 0.771483261782081, 0.771483261782081, 0.7723124213030826, 0.7723124213030826, 0.7723124213030826, 0.7723124213030826, 0.7723124213030826, 0.7884885377767549, 0.7884885377767549]}], \"AUC_micro\": [{\"categories\": [\"0\", \"1\", \"2\", \"3\", \"4\", \"5\", \"6\", \"7\", \"8\", \"9\", \"10\", \"11\", \"12\", \"13\", \"14\", \"15\", \"16\", \"17\", \"18\", \"19\", \"20\", \"21\", \"22\"], \"mode\": \"markers\", \"name\": \"AUC_micro\", \"stepped\": false, \"type\": \"scatter\", \"data\": [0.8457705570253309, 0.8577937100430972, 0.8593431310561334, 0.8489993079293681, 0.8673891062333803, 0.8250638691527946, 0.8569312361410166, 0.8573002315047615, 0.850099762416666, 0.8557781820156919, 0.8623482111461798, 0.8668865374834469, 0.8404623075668752, 0.8657829389402518, 0.8457623670555948, 0.8592315030054933, 0.8650178531639364, 0.8568119701008337, 0.6515529712933728, 0.8667647487288669, 0.8677401646660714, 0.8663703171671399, 0.8661284329469547]}, {\"categories\": [\"0\", \"1\", \"2\", \"3\", \"4\", \"5\", \"6\", \"7\", \"8\", \"9\", \"10\", \"11\", \"12\", \"13\", \"14\", \"15\", \"16\", \"17\", \"18\", \"19\", \"20\", \"21\", \"22\"], \"mode\": \"lines\", \"name\": \"AUC_micro_max\", \"stepped\": true, \"type\": \"scatter\", \"data\": [0.8457705570253309, 0.8577937100430972, 0.8593431310561334, 0.8593431310561334, 0.8673891062333803, 0.8673891062333803, 0.8673891062333803, 0.8673891062333803, 0.8673891062333803, 0.8673891062333803, 0.8673891062333803, 0.8673891062333803, 0.8673891062333803, 0.8673891062333803, 0.8673891062333803, 0.8673891062333803, 0.8673891062333803, 0.8673891062333803, 0.8673891062333803, 0.8673891062333803, 0.8677401646660714, 0.8677401646660714, 0.8677401646660714]}], \"precision_score_micro\": [{\"categories\": [\"0\", \"1\", \"2\", \"3\", \"4\", \"5\", \"6\", \"7\", \"8\", \"9\", \"10\", \"11\", \"12\", \"13\", \"14\", \"15\", \"16\", \"17\", \"18\", \"19\", \"20\", \"21\", \"22\"], \"mode\": \"markers\", \"name\": \"precision_score_micro\", \"stepped\": false, \"type\": \"scatter\", \"data\": [0.7725007386979218, 0.7992514527725796, 0.800640204865557, 0.7796119373584162, 0.7753767359401162, 0.7669063331035162, 0.7809809908401458, 0.7851669457303261, 0.7879542992219049, 0.7880133950556486, 0.796405003447257, 0.7739288880133952, 0.7767556387274698, 0.776716241504974, 0.780921895006402, 0.7837683443317246, 0.7978725499852259, 0.7908007485472275, 0.6124199743918053, 0.7823598936274992, 0.8006500541711808, 0.8217374175120653, 0.8034669555796317]}, {\"categories\": [\"0\", \"1\", \"2\", \"3\", \"4\", \"5\", \"6\", \"7\", \"8\", \"9\", \"10\", \"11\", \"12\", \"13\", \"14\", \"15\", \"16\", \"17\", \"18\", \"19\", \"20\", \"21\", \"22\"], \"mode\": \"lines\", \"name\": \"precision_score_micro_max\", \"stepped\": true, \"type\": \"scatter\", \"data\": [0.7725007386979218, 0.7992514527725796, 0.800640204865557, 0.800640204865557, 0.800640204865557, 0.800640204865557, 0.800640204865557, 0.800640204865557, 0.800640204865557, 0.800640204865557, 0.800640204865557, 0.800640204865557, 0.800640204865557, 0.800640204865557, 0.800640204865557, 0.800640204865557, 0.800640204865557, 0.800640204865557, 0.800640204865557, 0.800640204865557, 0.8006500541711808, 0.8217374175120653, 0.8217374175120653]}], \"f1_score_weighted\": [{\"categories\": [\"0\", \"1\", \"2\", \"3\", \"4\", \"5\", \"6\", \"7\", \"8\", \"9\", \"10\", \"11\", \"12\", \"13\", \"14\", \"15\", \"16\", \"17\", \"18\", \"19\", \"20\", \"21\", \"22\"], \"mode\": \"markers\", \"name\": \"f1_score_weighted\", \"stepped\": false, \"type\": \"scatter\", \"data\": [0.7689039439621366, 0.794615696653711, 0.7936499966929048, 0.7684603560511392, 0.7751257895147247, 0.7619684890223983, 0.7786742307728388, 0.7783116988756014, 0.7826780936821338, 0.7839367236157835, 0.788687695739957, 0.7568228124787726, 0.7726973065722291, 0.7606012446993214, 0.7764456475797723, 0.7806134280105016, 0.7940244251292653, 0.7849624649519267, 0.5781083090164527, 0.7740687674778848, 0.7903418254277281, 0.8150958401622764, 0.7962986064744392]}, {\"categories\": [\"0\", \"1\", \"2\", \"3\", \"4\", \"5\", \"6\", \"7\", \"8\", \"9\", \"10\", \"11\", \"12\", \"13\", \"14\", \"15\", \"16\", \"17\", \"18\", \"19\", \"20\", \"21\", \"22\"], \"mode\": \"lines\", \"name\": \"f1_score_weighted_max\", \"stepped\": true, \"type\": \"scatter\", \"data\": [0.7689039439621366, 0.794615696653711, 0.794615696653711, 0.794615696653711, 0.794615696653711, 0.794615696653711, 0.794615696653711, 0.794615696653711, 0.794615696653711, 0.794615696653711, 0.794615696653711, 0.794615696653711, 0.794615696653711, 0.794615696653711, 0.794615696653711, 0.794615696653711, 0.794615696653711, 0.794615696653711, 0.794615696653711, 0.794615696653711, 0.794615696653711, 0.8150958401622764, 0.8150958401622764]}], \"AUC_macro\": [{\"categories\": [\"0\", \"1\", \"2\", \"3\", \"4\", \"5\", \"6\", \"7\", \"8\", \"9\", \"10\", \"11\", \"12\", \"13\", \"14\", \"15\", \"16\", \"17\", \"18\", \"19\", \"20\", \"21\", \"22\"], \"mode\": \"markers\", \"name\": \"AUC_macro\", \"stepped\": false, \"type\": \"scatter\", \"data\": [0.8219698031299212, 0.8327108878986165, 0.8392495585422768, 0.8321054116549765, 0.8529279573883587, 0.80524723746055, 0.839585455744985, 0.8434783717649095, 0.8255475854533951, 0.8347916979285497, 0.8414769547679304, 0.8395077035153037, 0.8188686781530418, 0.8432778561249498, 0.8261397959112899, 0.8402018792854621, 0.8429807351895263, 0.8354616177443314, 0.5905516830134856, 0.8467228046536937, 0.8379680127947633, 0.8445708274545026, 0.8434360909953437]}, {\"categories\": [\"0\", \"1\", \"2\", \"3\", \"4\", \"5\", \"6\", \"7\", \"8\", \"9\", \"10\", \"11\", \"12\", \"13\", \"14\", \"15\", \"16\", \"17\", \"18\", \"19\", \"20\", \"21\", \"22\"], \"mode\": \"lines\", \"name\": \"AUC_macro_max\", \"stepped\": true, \"type\": \"scatter\", \"data\": [0.8219698031299212, 0.8327108878986165, 0.8392495585422768, 0.8392495585422768, 0.8529279573883587, 0.8529279573883587, 0.8529279573883587, 0.8529279573883587, 0.8529279573883587, 0.8529279573883587, 0.8529279573883587, 0.8529279573883587, 0.8529279573883587, 0.8529279573883587, 0.8529279573883587, 0.8529279573883587, 0.8529279573883587, 0.8529279573883587, 0.8529279573883587, 0.8529279573883587, 0.8529279573883587, 0.8529279573883587, 0.8529279573883587]}], \"average_precision_score_micro\": [{\"categories\": [\"0\", \"1\", \"2\", \"3\", \"4\", \"5\", \"6\", \"7\", \"8\", \"9\", \"10\", \"11\", \"12\", \"13\", \"14\", \"15\", \"16\", \"17\", \"18\", \"19\", \"20\", \"21\", \"22\"], \"mode\": \"markers\", \"name\": \"average_precision_score_micro\", \"stepped\": false, \"type\": \"scatter\", \"data\": [0.8272829232085559, 0.8384078424599861, 0.8462234212107941, 0.8317857034685175, 0.8596359089849364, 0.8049112844243561, 0.8407836986042891, 0.8467272286888358, 0.8364055427817965, 0.8414221502684219, 0.8470545041720557, 0.8549614583486882, 0.8192915976402512, 0.8525356371516024, 0.8258484418728875, 0.8433189383245203, 0.8486511271841806, 0.8409733514146998, 0.63944088756981, 0.8471856065004524, 0.8531927192771169, 0.850805958232411, 0.8506146712380446]}, {\"categories\": [\"0\", \"1\", \"2\", \"3\", \"4\", \"5\", \"6\", \"7\", \"8\", \"9\", \"10\", \"11\", \"12\", \"13\", \"14\", \"15\", \"16\", \"17\", \"18\", \"19\", \"20\", \"21\", \"22\"], \"mode\": \"lines\", \"name\": \"average_precision_score_micro_max\", \"stepped\": true, \"type\": \"scatter\", \"data\": [0.8272829232085559, 0.8384078424599861, 0.8462234212107941, 0.8462234212107941, 0.8596359089849364, 0.8596359089849364, 0.8596359089849364, 0.8596359089849364, 0.8596359089849364, 0.8596359089849364, 0.8596359089849364, 0.8596359089849364, 0.8596359089849364, 0.8596359089849364, 0.8596359089849364, 0.8596359089849364, 0.8596359089849364, 0.8596359089849364, 0.8596359089849364, 0.8596359089849364, 0.8596359089849364, 0.8596359089849364, 0.8596359089849364]}], \"log_loss\": [{\"categories\": [\"0\", \"1\", \"2\", \"3\", \"4\", \"5\", \"6\", \"7\", \"8\", \"9\", \"10\", \"11\", \"12\", \"13\", \"14\", \"15\", \"16\", \"17\", \"18\", \"19\", \"20\", \"21\", \"22\"], \"mode\": \"markers\", \"name\": \"log_loss\", \"stepped\": false, \"type\": \"scatter\", \"data\": [0.5419462144976872, 0.47604158420397413, 0.4741001276301925, 0.5091912308641638, 0.47257175308307897, 0.5143852723872857, 0.47584510233877453, 0.49401779474902235, 0.4824821060325847, 0.4722246794490406, 0.47600522952365887, 0.4554605624733702, 0.5224338233231113, 0.45699949986074023, 0.5240710604587173, 0.46707053074121685, 0.46118143332031625, 0.48310933373856074, 0.8705279300063357, 0.4573462666004845, 0.45788327450501337, 0.4689573092003448, 0.4665291372053878]}, {\"categories\": [\"0\", \"1\", \"2\", \"3\", \"4\", \"5\", \"6\", \"7\", \"8\", \"9\", \"10\", \"11\", \"12\", \"13\", \"14\", \"15\", \"16\", \"17\", \"18\", \"19\", \"20\", \"21\", \"22\"], \"mode\": \"lines\", \"name\": \"log_loss_min\", \"stepped\": true, \"type\": \"scatter\", \"data\": [0.5419462144976872, 0.47604158420397413, 0.4741001276301925, 0.4741001276301925, 0.47257175308307897, 0.47257175308307897, 0.47257175308307897, 0.47257175308307897, 0.47257175308307897, 0.4722246794490406, 0.4722246794490406, 0.4554605624733702, 0.4554605624733702, 0.4554605624733702, 0.4554605624733702, 0.4554605624733702, 0.4554605624733702, 0.4554605624733702, 0.4554605624733702, 0.4554605624733702, 0.4554605624733702, 0.4554605624733702, 0.4554605624733702]}], \"norm_macro_recall\": [{\"categories\": [\"0\", \"1\", \"2\", \"3\", \"4\", \"5\", \"6\", \"7\", \"8\", \"9\", \"10\", \"11\", \"12\", \"13\", \"14\", \"15\", \"16\", \"17\", \"18\", \"19\", \"20\", \"21\", \"22\"], \"mode\": \"markers\", \"name\": \"norm_macro_recall\", \"stepped\": false, \"type\": \"scatter\", \"data\": [0.49352630625751104, 0.5429665235641623, 0.5335990061618312, 0.4755616105325869, 0.5232379086313796, 0.47809483996499014, 0.5202208284603944, 0.5061865672067191, 0.5151339549420848, 0.5247992307645445, 0.523544185794553, 0.45442719390564684, 0.5052789453449822, 0.46930641343405133, 0.511415664095423, 0.5192393621945552, 0.5446248426061653, 0.5194222361383515, 0.09268188320400883, 0.4972751975121293, 0.5168254473461978, 0.5769770755535097, 0.5380906232442526]}, {\"categories\": [\"0\", \"1\", \"2\", \"3\", \"4\", \"5\", \"6\", \"7\", \"8\", \"9\", \"10\", \"11\", \"12\", \"13\", \"14\", \"15\", \"16\", \"17\", \"18\", \"19\", \"20\", \"21\", \"22\"], \"mode\": \"lines\", \"name\": \"norm_macro_recall_max\", \"stepped\": true, \"type\": \"scatter\", \"data\": [0.49352630625751104, 0.5429665235641623, 0.5429665235641623, 0.5429665235641623, 0.5429665235641623, 0.5429665235641623, 0.5429665235641623, 0.5429665235641623, 0.5429665235641623, 0.5429665235641623, 0.5429665235641623, 0.5429665235641623, 0.5429665235641623, 0.5429665235641623, 0.5429665235641623, 0.5429665235641623, 0.5446248426061653, 0.5446248426061653, 0.5446248426061653, 0.5446248426061653, 0.5446248426061653, 0.5769770755535097, 0.5769770755535097]}], \"average_precision_score_weighted\": [{\"categories\": [\"0\", \"1\", \"2\", \"3\", \"4\", \"5\", \"6\", \"7\", \"8\", \"9\", \"10\", \"11\", \"12\", \"13\", \"14\", \"15\", \"16\", \"17\", \"18\", \"19\", \"20\", \"21\", \"22\"], \"mode\": \"markers\", \"name\": \"average_precision_score_weighted\", \"stepped\": false, \"type\": \"scatter\", \"data\": [0.8238771088773484, 0.8275655775605228, 0.8446575117883292, 0.8337803382081523, 0.856951631474003, 0.7986140718444465, 0.8429203740199342, 0.8488926187058654, 0.8336269444831833, 0.8402278299444619, 0.8465703655124533, 0.8323185498007583, 0.8179038552519151, 0.8439963023849009, 0.8241362472266232, 0.8407268553804574, 0.8451510057161491, 0.840881996714888, 0.6155740937765775, 0.8465922229163987, 0.8410784495164261, 0.8471533134170206, 0.8464724904076577]}, {\"categories\": [\"0\", \"1\", \"2\", \"3\", \"4\", \"5\", \"6\", \"7\", \"8\", \"9\", \"10\", \"11\", \"12\", \"13\", \"14\", \"15\", \"16\", \"17\", \"18\", \"19\", \"20\", \"21\", \"22\"], \"mode\": \"lines\", \"name\": \"average_precision_score_weighted_max\", \"stepped\": true, \"type\": \"scatter\", \"data\": [0.8238771088773484, 0.8275655775605228, 0.8446575117883292, 0.8446575117883292, 0.856951631474003, 0.856951631474003, 0.856951631474003, 0.856951631474003, 0.856951631474003, 0.856951631474003, 0.856951631474003, 0.856951631474003, 0.856951631474003, 0.856951631474003, 0.856951631474003, 0.856951631474003, 0.856951631474003, 0.856951631474003, 0.856951631474003, 0.856951631474003, 0.856951631474003, 0.856951631474003, 0.856951631474003]}], \"recall_score_weighted\": [{\"categories\": [\"0\", \"1\", \"2\", \"3\", \"4\", \"5\", \"6\", \"7\", \"8\", \"9\", \"10\", \"11\", \"12\", \"13\", \"14\", \"15\", \"16\", \"17\", \"18\", \"19\", \"20\", \"21\", \"22\"], \"mode\": \"markers\", \"name\": \"recall_score_weighted\", \"stepped\": false, \"type\": \"scatter\", \"data\": [0.7725007386979218, 0.7992514527725796, 0.800640204865557, 0.7796119373584162, 0.7753767359401162, 0.7669063331035162, 0.7809809908401458, 0.7851669457303261, 0.7879542992219049, 0.7880133950556486, 0.796405003447257, 0.7739288880133952, 0.7767556387274698, 0.776716241504974, 0.780921895006402, 0.7837683443317246, 0.7978725499852259, 0.7908007485472275, 0.6124199743918053, 0.7823598936274992, 0.8006500541711808, 0.8217374175120653, 0.8034669555796317]}, {\"categories\": [\"0\", \"1\", \"2\", \"3\", \"4\", \"5\", \"6\", \"7\", \"8\", \"9\", \"10\", \"11\", \"12\", \"13\", \"14\", \"15\", \"16\", \"17\", \"18\", \"19\", \"20\", \"21\", \"22\"], \"mode\": \"lines\", \"name\": \"recall_score_weighted_max\", \"stepped\": true, \"type\": \"scatter\", \"data\": [0.7725007386979218, 0.7992514527725796, 0.800640204865557, 0.800640204865557, 0.800640204865557, 0.800640204865557, 0.800640204865557, 0.800640204865557, 0.800640204865557, 0.800640204865557, 0.800640204865557, 0.800640204865557, 0.800640204865557, 0.800640204865557, 0.800640204865557, 0.800640204865557, 0.800640204865557, 0.800640204865557, 0.800640204865557, 0.800640204865557, 0.8006500541711808, 0.8217374175120653, 0.8217374175120653]}], \"recall_score_micro\": [{\"categories\": [\"0\", \"1\", \"2\", \"3\", \"4\", \"5\", \"6\", \"7\", \"8\", \"9\", \"10\", \"11\", \"12\", \"13\", \"14\", \"15\", \"16\", \"17\", \"18\", \"19\", \"20\", \"21\", \"22\"], \"mode\": \"markers\", \"name\": \"recall_score_micro\", \"stepped\": false, \"type\": \"scatter\", \"data\": [0.7725007386979218, 0.7992514527725796, 0.800640204865557, 0.7796119373584162, 0.7753767359401162, 0.7669063331035162, 0.7809809908401458, 0.7851669457303261, 0.7879542992219049, 0.7880133950556486, 0.796405003447257, 0.7739288880133952, 0.7767556387274698, 0.776716241504974, 0.780921895006402, 0.7837683443317246, 0.7978725499852259, 0.7908007485472275, 0.6124199743918053, 0.7823598936274992, 0.8006500541711808, 0.8217374175120653, 0.8034669555796317]}, {\"categories\": [\"0\", \"1\", \"2\", \"3\", \"4\", \"5\", \"6\", \"7\", \"8\", \"9\", \"10\", \"11\", \"12\", \"13\", \"14\", \"15\", \"16\", \"17\", \"18\", \"19\", \"20\", \"21\", \"22\"], \"mode\": \"lines\", \"name\": \"recall_score_micro_max\", \"stepped\": true, \"type\": \"scatter\", \"data\": [0.7725007386979218, 0.7992514527725796, 0.800640204865557, 0.800640204865557, 0.800640204865557, 0.800640204865557, 0.800640204865557, 0.800640204865557, 0.800640204865557, 0.800640204865557, 0.800640204865557, 0.800640204865557, 0.800640204865557, 0.800640204865557, 0.800640204865557, 0.800640204865557, 0.800640204865557, 0.800640204865557, 0.800640204865557, 0.800640204865557, 0.8006500541711808, 0.8217374175120653, 0.8217374175120653]}], \"matthews_correlation\": [{\"categories\": [\"0\", \"1\", \"2\", \"3\", \"4\", \"5\", \"6\", \"7\", \"8\", \"9\", \"10\", \"11\", \"12\", \"13\", \"14\", \"15\", \"16\", \"17\", \"18\", \"19\", \"20\", \"21\", \"22\"], \"mode\": \"markers\", \"name\": \"matthews_correlation\", \"stepped\": false, \"type\": \"scatter\", \"data\": [0.5056521458872666, 0.5663462198365986, 0.5706557904513578, 0.533756450398861, 0.5246724544198192, 0.49695215116632097, 0.5305399204342877, 0.536408013812942, 0.5383200021235452, 0.5427936488318257, 0.561360258262179, 0.5243105287510582, 0.5194882271942602, 0.5302361495762459, 0.528289617044096, 0.5342550668046752, 0.5644944286917516, 0.5474496905701491, 0.10893394674058365, 0.5331514055001082, 0.5711646729900609, 0.6197336759490133, 0.5761383934346176]}, {\"categories\": [\"0\", \"1\", \"2\", \"3\", \"4\", \"5\", \"6\", \"7\", \"8\", \"9\", \"10\", \"11\", \"12\", \"13\", \"14\", \"15\", \"16\", \"17\", \"18\", \"19\", \"20\", \"21\", \"22\"], \"mode\": \"lines\", \"name\": \"matthews_correlation_max\", \"stepped\": true, \"type\": \"scatter\", \"data\": [0.5056521458872666, 0.5663462198365986, 0.5706557904513578, 0.5706557904513578, 0.5706557904513578, 0.5706557904513578, 0.5706557904513578, 0.5706557904513578, 0.5706557904513578, 0.5706557904513578, 0.5706557904513578, 0.5706557904513578, 0.5706557904513578, 0.5706557904513578, 0.5706557904513578, 0.5706557904513578, 0.5706557904513578, 0.5706557904513578, 0.5706557904513578, 0.5706557904513578, 0.5711646729900609, 0.6197336759490133, 0.6197336759490133]}], \"precision_score_weighted\": [{\"categories\": [\"0\", \"1\", \"2\", \"3\", \"4\", \"5\", \"6\", \"7\", \"8\", \"9\", \"10\", \"11\", \"12\", \"13\", \"14\", \"15\", \"16\", \"17\", \"18\", \"19\", \"20\", \"21\", \"22\"], \"mode\": \"markers\", \"name\": \"precision_score_weighted\", \"stepped\": false, \"type\": \"scatter\", \"data\": [0.7697858960583195, 0.7996073475082628, 0.8052404449659851, 0.794547332616302, 0.7770985236198032, 0.7681187354924999, 0.7814663265333298, 0.7882425932015612, 0.7872817958663753, 0.787994683111954, 0.8019155301645462, 0.8004457977480233, 0.7776321315531567, 0.8017474136332347, 0.7831122350907409, 0.7834349047339435, 0.797516018263155, 0.7922296833074016, 0.5892940152507335, 0.7900061822140292, 0.8097134569373379, 0.8289414331471207, 0.8075858080121648]}, {\"categories\": [\"0\", \"1\", \"2\", \"3\", \"4\", \"5\", \"6\", \"7\", \"8\", \"9\", \"10\", \"11\", \"12\", \"13\", \"14\", \"15\", \"16\", \"17\", \"18\", \"19\", \"20\", \"21\", \"22\"], \"mode\": \"lines\", \"name\": \"precision_score_weighted_max\", \"stepped\": true, \"type\": \"scatter\", \"data\": [0.7697858960583195, 0.7996073475082628, 0.8052404449659851, 0.8052404449659851, 0.8052404449659851, 0.8052404449659851, 0.8052404449659851, 0.8052404449659851, 0.8052404449659851, 0.8052404449659851, 0.8052404449659851, 0.8052404449659851, 0.8052404449659851, 0.8052404449659851, 0.8052404449659851, 0.8052404449659851, 0.8052404449659851, 0.8052404449659851, 0.8052404449659851, 0.8052404449659851, 0.8097134569373379, 0.8289414331471207, 0.8289414331471207]}], \"f1_score_micro\": [{\"categories\": [\"0\", \"1\", \"2\", \"3\", \"4\", \"5\", \"6\", \"7\", \"8\", \"9\", \"10\", \"11\", \"12\", \"13\", \"14\", \"15\", \"16\", \"17\", \"18\", \"19\", \"20\", \"21\", \"22\"], \"mode\": \"markers\", \"name\": \"f1_score_micro\", \"stepped\": false, \"type\": \"scatter\", \"data\": [0.7725007386979218, 0.7992514527725794, 0.800640204865557, 0.7796119373584162, 0.7753767359401162, 0.7669063331035162, 0.7809809908401457, 0.7851669457303261, 0.7879542992219049, 0.7880133950556486, 0.796405003447257, 0.7739288880133951, 0.7767556387274698, 0.7767162415049739, 0.7809218950064021, 0.7837683443317246, 0.7978725499852259, 0.7908007485472275, 0.6124199743918053, 0.7823598936274992, 0.8006500541711808, 0.8217374175120653, 0.8034669555796317]}, {\"categories\": [\"0\", \"1\", \"2\", \"3\", \"4\", \"5\", \"6\", \"7\", \"8\", \"9\", \"10\", \"11\", \"12\", \"13\", \"14\", \"15\", \"16\", \"17\", \"18\", \"19\", \"20\", \"21\", \"22\"], \"mode\": \"lines\", \"name\": \"f1_score_micro_max\", \"stepped\": true, \"type\": \"scatter\", \"data\": [0.7725007386979218, 0.7992514527725794, 0.800640204865557, 0.800640204865557, 0.800640204865557, 0.800640204865557, 0.800640204865557, 0.800640204865557, 0.800640204865557, 0.800640204865557, 0.800640204865557, 0.800640204865557, 0.800640204865557, 0.800640204865557, 0.800640204865557, 0.800640204865557, 0.800640204865557, 0.800640204865557, 0.800640204865557, 0.800640204865557, 0.8006500541711808, 0.8217374175120653, 0.8217374175120653]}]}, \"metricName\": null, \"primaryMetricName\": \"accuracy\", \"showLegend\": false}, \"run_metrics\": [{\"name\": \"experiment_status\", \"run_id\": \"AutoML_025b4651-c12a-48f7-88a8-da072e26f839\", \"categories\": [0, 1, 2, 3, 4, 5, 6, 7, 8, 9, 10, 11, 12, 13], \"series\": [{\"data\": [\"DatasetEvaluation\", \"FeaturesGeneration\", \"DatasetFeaturization\", \"DatasetFeaturizationCompleted\", \"DatasetCrossValidationSplit\", \"ModelSelection\", \"BestRunExplainModel\", \"ModelExplanationDataSetSetup\", \"PickSurrogateModel\", \"EngineeredFeatureExplanations\", \"EngineeredFeatureExplanations\", \"RawFeaturesExplanations\", \"RawFeaturesExplanations\", \"BestRunExplainModel\"]}]}, {\"name\": \"experiment_status_description\", \"run_id\": \"AutoML_025b4651-c12a-48f7-88a8-da072e26f839\", \"categories\": [0, 1, 2, 3, 4, 5, 6, 7, 8, 9, 10, 11, 12, 13], \"series\": [{\"data\": [\"Gathering dataset statistics.\", \"Generating features for the dataset.\", \"Beginning to fit featurizers and featurize the dataset.\", \"Completed fit featurizers and featurizing the dataset.\", \"Generating individually featurized CV splits.\", \"Beginning model selection.\", \"Best run model explanations started\", \"Model explanations data setup completed\", \"Choosing LightGBM as the surrogate model for explanations\", \"Computation of engineered features started\", \"Computation of engineered features completed\", \"Computation of raw features started\", \"Computation of raw features completed\", \"Best run model explanations completed\"]}]}, {\"name\": \"average_precision_score_weighted\", \"run_id\": \"AutoML_025b4651-c12a-48f7-88a8-da072e26f839\", \"categories\": [0], \"series\": [{\"data\": [0.8471533134170206]}]}, {\"name\": \"f1_score_macro\", \"run_id\": \"AutoML_025b4651-c12a-48f7-88a8-da072e26f839\", \"categories\": [0], \"series\": [{\"data\": [0.7992495507264076]}]}, {\"name\": \"precision_score_weighted\", \"run_id\": \"AutoML_025b4651-c12a-48f7-88a8-da072e26f839\", \"categories\": [0], \"series\": [{\"data\": [0.8289414331471207]}]}, {\"name\": \"matthews_correlation\", \"run_id\": \"AutoML_025b4651-c12a-48f7-88a8-da072e26f839\", \"categories\": [0], \"series\": [{\"data\": [0.6197336759490133]}]}, {\"name\": \"recall_score_macro\", \"run_id\": \"AutoML_025b4651-c12a-48f7-88a8-da072e26f839\", \"categories\": [0], \"series\": [{\"data\": [0.7884885377767549]}]}, {\"name\": \"log_loss\", \"run_id\": \"AutoML_025b4651-c12a-48f7-88a8-da072e26f839\", \"categories\": [0], \"series\": [{\"data\": [0.4689573092003448]}]}, {\"name\": \"average_precision_score_micro\", \"run_id\": \"AutoML_025b4651-c12a-48f7-88a8-da072e26f839\", \"categories\": [0], \"series\": [{\"data\": [0.850805958232411]}]}, {\"name\": \"average_precision_score_macro\", \"run_id\": \"AutoML_025b4651-c12a-48f7-88a8-da072e26f839\", \"categories\": [0], \"series\": [{\"data\": [0.8380762810754409]}]}, {\"name\": \"AUC_weighted\", \"run_id\": \"AutoML_025b4651-c12a-48f7-88a8-da072e26f839\", \"categories\": [0], \"series\": [{\"data\": [0.8445708274545026]}]}, {\"name\": \"accuracy\", \"run_id\": \"AutoML_025b4651-c12a-48f7-88a8-da072e26f839\", \"categories\": [0], \"series\": [{\"data\": [0.8217374175120653]}]}, {\"name\": \"precision_score_macro\", \"run_id\": \"AutoML_025b4651-c12a-48f7-88a8-da072e26f839\", \"categories\": [0], \"series\": [{\"data\": [0.8329325191505642]}]}, {\"name\": \"recall_score_weighted\", \"run_id\": \"AutoML_025b4651-c12a-48f7-88a8-da072e26f839\", \"categories\": [0], \"series\": [{\"data\": [0.8217374175120653]}]}, {\"name\": \"recall_score_micro\", \"run_id\": \"AutoML_025b4651-c12a-48f7-88a8-da072e26f839\", \"categories\": [0], \"series\": [{\"data\": [0.8217374175120653]}]}, {\"name\": \"AUC_micro\", \"run_id\": \"AutoML_025b4651-c12a-48f7-88a8-da072e26f839\", \"categories\": [0], \"series\": [{\"data\": [0.8663703171671399]}]}, {\"name\": \"f1_score_micro\", \"run_id\": \"AutoML_025b4651-c12a-48f7-88a8-da072e26f839\", \"categories\": [0], \"series\": [{\"data\": [0.8217374175120653]}]}, {\"name\": \"AUC_macro\", \"run_id\": \"AutoML_025b4651-c12a-48f7-88a8-da072e26f839\", \"categories\": [0], \"series\": [{\"data\": [0.8445708274545026]}]}, {\"name\": \"f1_score_weighted\", \"run_id\": \"AutoML_025b4651-c12a-48f7-88a8-da072e26f839\", \"categories\": [0], \"series\": [{\"data\": [0.8150958401622764]}]}, {\"name\": \"balanced_accuracy\", \"run_id\": \"AutoML_025b4651-c12a-48f7-88a8-da072e26f839\", \"categories\": [0], \"series\": [{\"data\": [0.7884885377767549]}]}, {\"name\": \"norm_macro_recall\", \"run_id\": \"AutoML_025b4651-c12a-48f7-88a8-da072e26f839\", \"categories\": [0], \"series\": [{\"data\": [0.5769770755535097]}]}, {\"name\": \"precision_score_micro\", \"run_id\": \"AutoML_025b4651-c12a-48f7-88a8-da072e26f839\", \"categories\": [0], \"series\": [{\"data\": [0.8217374175120653]}]}, {\"name\": \"weighted_accuracy\", \"run_id\": \"AutoML_025b4651-c12a-48f7-88a8-da072e26f839\", \"categories\": [0], \"series\": [{\"data\": [0.8504371942348727]}]}], \"run_logs\": \"\\nRun is completed.\", \"graph\": {}, \"widget_settings\": {\"childWidgetDisplay\": \"popup\", \"send_telemetry\": false, \"log_level\": \"INFO\", \"sdk_version\": \"1.20.0\"}, \"loading\": false}"
     },
     "metadata": {},
     "output_type": "display_data"
    }
   ],
   "source": [
    "from azureml.widgets import RunDetails\n",
    "automl_run = experiment.submit(automl_config, show_output = True)\n",
    "RunDetails(automl_run).show()"
   ]
  },
  {
   "cell_type": "code",
   "execution_count": 11,
   "metadata": {
    "scrolled": false
   },
   "outputs": [
    {
     "data": {
      "text/plain": [
       "{'runId': 'AutoML_025b4651-c12a-48f7-88a8-da072e26f839',\n",
       " 'target': 'computecluster1',\n",
       " 'status': 'Completed',\n",
       " 'startTimeUtc': '2021-01-26T15:27:35.114632Z',\n",
       " 'endTimeUtc': '2021-01-26T16:06:22.804517Z',\n",
       " 'properties': {'num_iterations': '1000',\n",
       "  'training_type': 'TrainFull',\n",
       "  'acquisition_function': 'EI',\n",
       "  'primary_metric': 'accuracy',\n",
       "  'train_split': '0',\n",
       "  'acquisition_parameter': '0',\n",
       "  'num_cross_validation': '5',\n",
       "  'target': 'computecluster1',\n",
       "  'AMLSettingsJsonString': '{\"path\":null,\"name\":\"titanic_automl\",\"subscription_id\":\"d4ad7261-832d-46b2-b093-22156001df5b\",\"resource_group\":\"aml-quickstarts-136135\",\"workspace_name\":\"quick-starts-ws-136135\",\"region\":\"southcentralus\",\"compute_target\":\"computecluster1\",\"spark_service\":null,\"azure_service\":\"remote\",\"many_models\":false,\"pipeline_fetch_max_batch_size\":1,\"iterations\":1000,\"primary_metric\":\"accuracy\",\"task_type\":\"classification\",\"data_script\":null,\"validation_size\":0.0,\"n_cross_validations\":5,\"y_min\":null,\"y_max\":null,\"num_classes\":null,\"featurization\":\"auto\",\"_ignore_package_version_incompatibilities\":false,\"is_timeseries\":false,\"max_cores_per_iteration\":1,\"max_concurrent_iterations\":1,\"iteration_timeout_minutes\":null,\"mem_in_mb\":null,\"enforce_time_on_windows\":false,\"experiment_timeout_minutes\":30,\"experiment_exit_score\":null,\"whitelist_models\":null,\"blacklist_algos\":[\"TensorFlowLinearClassifier\",\"TensorFlowDNN\"],\"supported_models\":[\"MultinomialNaiveBayes\",\"ExtremeRandomTrees\",\"XGBoostClassifier\",\"AveragedPerceptronClassifier\",\"SVM\",\"KNN\",\"LinearSVM\",\"LightGBM\",\"DecisionTree\",\"BernoulliNaiveBayes\",\"RandomForest\",\"LogisticRegression\",\"SGD\",\"TensorFlowDNN\",\"TensorFlowLinearClassifier\",\"GradientBoosting\"],\"auto_blacklist\":true,\"blacklist_samples_reached\":false,\"exclude_nan_labels\":true,\"verbosity\":20,\"_debug_log\":\"azureml_automl.log\",\"show_warnings\":false,\"model_explainability\":true,\"service_url\":null,\"sdk_url\":null,\"sdk_packages\":null,\"enable_onnx_compatible_models\":false,\"enable_split_onnx_featurizer_estimator_models\":false,\"vm_type\":\"STANDARD_DS2_V2\",\"telemetry_verbosity\":20,\"send_telemetry\":true,\"enable_dnn\":false,\"scenario\":\"SDK-1.13.0\",\"environment_label\":null,\"force_text_dnn\":false,\"enable_feature_sweeping\":true,\"enable_early_stopping\":false,\"early_stopping_n_iters\":10,\"metrics\":null,\"enable_ensembling\":true,\"enable_stack_ensembling\":true,\"ensemble_iterations\":15,\"enable_tf\":false,\"enable_subsampling\":null,\"subsample_seed\":null,\"enable_nimbusml\":false,\"enable_streaming\":false,\"force_streaming\":false,\"track_child_runs\":true,\"allowed_private_models\":[],\"label_column_name\":\"Survived\",\"weight_column_name\":null,\"cv_split_column_names\":null,\"enable_local_managed\":false,\"_local_managed_run_id\":null,\"cost_mode\":1,\"lag_length\":0,\"metric_operation\":\"maximize\",\"preprocess\":true}',\n",
       "  'DataPrepJsonString': '{\\\\\"training_data\\\\\": \\\\\"{\\\\\\\\\\\\\"blocks\\\\\\\\\\\\\": [{\\\\\\\\\\\\\"id\\\\\\\\\\\\\": \\\\\\\\\\\\\"01b2b79f-1caa-46b1-996c-3e29f8f0d3ad\\\\\\\\\\\\\", \\\\\\\\\\\\\"type\\\\\\\\\\\\\": \\\\\\\\\\\\\"Microsoft.DPrep.GetDatastoreFilesBlock\\\\\\\\\\\\\", \\\\\\\\\\\\\"arguments\\\\\\\\\\\\\": {\\\\\\\\\\\\\"datastores\\\\\\\\\\\\\": [{\\\\\\\\\\\\\"datastoreName\\\\\\\\\\\\\": \\\\\\\\\\\\\"workspaceblobstore\\\\\\\\\\\\\", \\\\\\\\\\\\\"path\\\\\\\\\\\\\": \\\\\\\\\\\\\"data/train.csv\\\\\\\\\\\\\", \\\\\\\\\\\\\"resourceGroup\\\\\\\\\\\\\": \\\\\\\\\\\\\"aml-quickstarts-136135\\\\\\\\\\\\\", \\\\\\\\\\\\\"subscription\\\\\\\\\\\\\": \\\\\\\\\\\\\"d4ad7261-832d-46b2-b093-22156001df5b\\\\\\\\\\\\\", \\\\\\\\\\\\\"workspaceName\\\\\\\\\\\\\": \\\\\\\\\\\\\"quick-starts-ws-136135\\\\\\\\\\\\\"}]}, \\\\\\\\\\\\\"localData\\\\\\\\\\\\\": {}, \\\\\\\\\\\\\"isEnabled\\\\\\\\\\\\\": true, \\\\\\\\\\\\\"name\\\\\\\\\\\\\": null, \\\\\\\\\\\\\"annotation\\\\\\\\\\\\\": null}, {\\\\\\\\\\\\\"id\\\\\\\\\\\\\": \\\\\\\\\\\\\"f1ecce37-33fb-482a-b310-fa2a1962c1bd\\\\\\\\\\\\\", \\\\\\\\\\\\\"type\\\\\\\\\\\\\": \\\\\\\\\\\\\"Microsoft.DPrep.ParseDelimitedBlock\\\\\\\\\\\\\", \\\\\\\\\\\\\"arguments\\\\\\\\\\\\\": {\\\\\\\\\\\\\"columnHeadersMode\\\\\\\\\\\\\": 3, \\\\\\\\\\\\\"fileEncoding\\\\\\\\\\\\\": 0, \\\\\\\\\\\\\"handleQuotedLineBreaks\\\\\\\\\\\\\": false, \\\\\\\\\\\\\"preview\\\\\\\\\\\\\": false, \\\\\\\\\\\\\"separator\\\\\\\\\\\\\": \\\\\\\\\\\\\",\\\\\\\\\\\\\", \\\\\\\\\\\\\"skipRows\\\\\\\\\\\\\": 0, \\\\\\\\\\\\\"skipRowsMode\\\\\\\\\\\\\": 0}, \\\\\\\\\\\\\"localData\\\\\\\\\\\\\": {}, \\\\\\\\\\\\\"isEnabled\\\\\\\\\\\\\": true, \\\\\\\\\\\\\"name\\\\\\\\\\\\\": null, \\\\\\\\\\\\\"annotation\\\\\\\\\\\\\": null}, {\\\\\\\\\\\\\"id\\\\\\\\\\\\\": \\\\\\\\\\\\\"e74f3cd2-0e4c-4856-a2b0-727889e7fbfd\\\\\\\\\\\\\", \\\\\\\\\\\\\"type\\\\\\\\\\\\\": \\\\\\\\\\\\\"Microsoft.DPrep.DropColumnsBlock\\\\\\\\\\\\\", \\\\\\\\\\\\\"arguments\\\\\\\\\\\\\": {\\\\\\\\\\\\\"columns\\\\\\\\\\\\\": {\\\\\\\\\\\\\"type\\\\\\\\\\\\\": 0, \\\\\\\\\\\\\"details\\\\\\\\\\\\\": {\\\\\\\\\\\\\"selectedColumns\\\\\\\\\\\\\": [\\\\\\\\\\\\\"Path\\\\\\\\\\\\\"]}}}, \\\\\\\\\\\\\"localData\\\\\\\\\\\\\": {}, \\\\\\\\\\\\\"isEnabled\\\\\\\\\\\\\": true, \\\\\\\\\\\\\"name\\\\\\\\\\\\\": null, \\\\\\\\\\\\\"annotation\\\\\\\\\\\\\": null}, {\\\\\\\\\\\\\"id\\\\\\\\\\\\\": \\\\\\\\\\\\\"d7a72b3a-2d57-408a-a93e-68f20210054f\\\\\\\\\\\\\", \\\\\\\\\\\\\"type\\\\\\\\\\\\\": \\\\\\\\\\\\\"Microsoft.DPrep.SetColumnTypesBlock\\\\\\\\\\\\\", \\\\\\\\\\\\\"arguments\\\\\\\\\\\\\": {\\\\\\\\\\\\\"columnConversion\\\\\\\\\\\\\": [{\\\\\\\\\\\\\"column\\\\\\\\\\\\\": {\\\\\\\\\\\\\"type\\\\\\\\\\\\\": 2, \\\\\\\\\\\\\"details\\\\\\\\\\\\\": {\\\\\\\\\\\\\"selectedColumn\\\\\\\\\\\\\": \\\\\\\\\\\\\"Column1\\\\\\\\\\\\\"}}, \\\\\\\\\\\\\"typeProperty\\\\\\\\\\\\\": 2}, {\\\\\\\\\\\\\"column\\\\\\\\\\\\\": {\\\\\\\\\\\\\"type\\\\\\\\\\\\\": 2, \\\\\\\\\\\\\"details\\\\\\\\\\\\\": {\\\\\\\\\\\\\"selectedColumn\\\\\\\\\\\\\": \\\\\\\\\\\\\"Age_2.0\\\\\\\\\\\\\"}}, \\\\\\\\\\\\\"typeProperty\\\\\\\\\\\\\": 2}, {\\\\\\\\\\\\\"column\\\\\\\\\\\\\": {\\\\\\\\\\\\\"type\\\\\\\\\\\\\": 2, \\\\\\\\\\\\\"details\\\\\\\\\\\\\": {\\\\\\\\\\\\\"selectedColumn\\\\\\\\\\\\\": \\\\\\\\\\\\\"Age_3.0\\\\\\\\\\\\\"}}, \\\\\\\\\\\\\"typeProperty\\\\\\\\\\\\\": 2}, {\\\\\\\\\\\\\"column\\\\\\\\\\\\\": {\\\\\\\\\\\\\"type\\\\\\\\\\\\\": 2, \\\\\\\\\\\\\"details\\\\\\\\\\\\\": {\\\\\\\\\\\\\"selectedColumn\\\\\\\\\\\\\": \\\\\\\\\\\\\"Age_4.0\\\\\\\\\\\\\"}}, \\\\\\\\\\\\\"typeProperty\\\\\\\\\\\\\": 2}, {\\\\\\\\\\\\\"column\\\\\\\\\\\\\": {\\\\\\\\\\\\\"type\\\\\\\\\\\\\": 2, \\\\\\\\\\\\\"details\\\\\\\\\\\\\": {\\\\\\\\\\\\\"selectedColumn\\\\\\\\\\\\\": \\\\\\\\\\\\\"Fare_2.0\\\\\\\\\\\\\"}}, \\\\\\\\\\\\\"typeProperty\\\\\\\\\\\\\": 2}, {\\\\\\\\\\\\\"column\\\\\\\\\\\\\": {\\\\\\\\\\\\\"type\\\\\\\\\\\\\": 2, \\\\\\\\\\\\\"details\\\\\\\\\\\\\": {\\\\\\\\\\\\\"selectedColumn\\\\\\\\\\\\\": \\\\\\\\\\\\\"Fare_3.0\\\\\\\\\\\\\"}}, \\\\\\\\\\\\\"typeProperty\\\\\\\\\\\\\": 2}, {\\\\\\\\\\\\\"column\\\\\\\\\\\\\": {\\\\\\\\\\\\\"type\\\\\\\\\\\\\": 2, \\\\\\\\\\\\\"details\\\\\\\\\\\\\": {\\\\\\\\\\\\\"selectedColumn\\\\\\\\\\\\\": \\\\\\\\\\\\\"Fare_4.0\\\\\\\\\\\\\"}}, \\\\\\\\\\\\\"typeProperty\\\\\\\\\\\\\": 2}, {\\\\\\\\\\\\\"column\\\\\\\\\\\\\": {\\\\\\\\\\\\\"type\\\\\\\\\\\\\": 2, \\\\\\\\\\\\\"details\\\\\\\\\\\\\": {\\\\\\\\\\\\\"selectedColumn\\\\\\\\\\\\\": \\\\\\\\\\\\\"Pclass_2\\\\\\\\\\\\\"}}, \\\\\\\\\\\\\"typeProperty\\\\\\\\\\\\\": 2}, {\\\\\\\\\\\\\"column\\\\\\\\\\\\\": {\\\\\\\\\\\\\"type\\\\\\\\\\\\\": 2, \\\\\\\\\\\\\"details\\\\\\\\\\\\\": {\\\\\\\\\\\\\"selectedColumn\\\\\\\\\\\\\": \\\\\\\\\\\\\"Pclass_3\\\\\\\\\\\\\"}}, \\\\\\\\\\\\\"typeProperty\\\\\\\\\\\\\": 2}, {\\\\\\\\\\\\\"column\\\\\\\\\\\\\": {\\\\\\\\\\\\\"type\\\\\\\\\\\\\": 2, \\\\\\\\\\\\\"details\\\\\\\\\\\\\": {\\\\\\\\\\\\\"selectedColumn\\\\\\\\\\\\\": \\\\\\\\\\\\\"Sex_male\\\\\\\\\\\\\"}}, \\\\\\\\\\\\\"typeProperty\\\\\\\\\\\\\": 2}, {\\\\\\\\\\\\\"column\\\\\\\\\\\\\": {\\\\\\\\\\\\\"type\\\\\\\\\\\\\": 2, \\\\\\\\\\\\\"details\\\\\\\\\\\\\": {\\\\\\\\\\\\\"selectedColumn\\\\\\\\\\\\\": \\\\\\\\\\\\\"Embarked_Q\\\\\\\\\\\\\"}}, \\\\\\\\\\\\\"typeProperty\\\\\\\\\\\\\": 2}, {\\\\\\\\\\\\\"column\\\\\\\\\\\\\": {\\\\\\\\\\\\\"type\\\\\\\\\\\\\": 2, \\\\\\\\\\\\\"details\\\\\\\\\\\\\": {\\\\\\\\\\\\\"selectedColumn\\\\\\\\\\\\\": \\\\\\\\\\\\\"Embarked_S\\\\\\\\\\\\\"}}, \\\\\\\\\\\\\"typeProperty\\\\\\\\\\\\\": 2}, {\\\\\\\\\\\\\"column\\\\\\\\\\\\\": {\\\\\\\\\\\\\"type\\\\\\\\\\\\\": 2, \\\\\\\\\\\\\"details\\\\\\\\\\\\\": {\\\\\\\\\\\\\"selectedColumn\\\\\\\\\\\\\": \\\\\\\\\\\\\"Family_type_Large\\\\\\\\\\\\\"}}, \\\\\\\\\\\\\"typeProperty\\\\\\\\\\\\\": 2}, {\\\\\\\\\\\\\"column\\\\\\\\\\\\\": {\\\\\\\\\\\\\"type\\\\\\\\\\\\\": 2, \\\\\\\\\\\\\"details\\\\\\\\\\\\\": {\\\\\\\\\\\\\"selectedColumn\\\\\\\\\\\\\": \\\\\\\\\\\\\"Family_type_Medium\\\\\\\\\\\\\"}}, \\\\\\\\\\\\\"typeProperty\\\\\\\\\\\\\": 2}, {\\\\\\\\\\\\\"column\\\\\\\\\\\\\": {\\\\\\\\\\\\\"type\\\\\\\\\\\\\": 2, \\\\\\\\\\\\\"details\\\\\\\\\\\\\": {\\\\\\\\\\\\\"selectedColumn\\\\\\\\\\\\\": \\\\\\\\\\\\\"Survived\\\\\\\\\\\\\"}}, \\\\\\\\\\\\\"typeProperty\\\\\\\\\\\\\": 2}]}, \\\\\\\\\\\\\"localData\\\\\\\\\\\\\": {}, \\\\\\\\\\\\\"isEnabled\\\\\\\\\\\\\": true, \\\\\\\\\\\\\"name\\\\\\\\\\\\\": null, \\\\\\\\\\\\\"annotation\\\\\\\\\\\\\": null}], \\\\\\\\\\\\\"inspectors\\\\\\\\\\\\\": [], \\\\\\\\\\\\\"meta\\\\\\\\\\\\\": {\\\\\\\\\\\\\"savedDatasetId\\\\\\\\\\\\\": \\\\\\\\\\\\\"ba5fc202-ec32-4605-91ef-20437822ba6e\\\\\\\\\\\\\", \\\\\\\\\\\\\"datasetType\\\\\\\\\\\\\": \\\\\\\\\\\\\"tabular\\\\\\\\\\\\\", \\\\\\\\\\\\\"subscriptionId\\\\\\\\\\\\\": \\\\\\\\\\\\\"d4ad7261-832d-46b2-b093-22156001df5b\\\\\\\\\\\\\", \\\\\\\\\\\\\"workspaceId\\\\\\\\\\\\\": \\\\\\\\\\\\\"fb6baac6-55f2-4dd5-a566-c35946051c91\\\\\\\\\\\\\", \\\\\\\\\\\\\"workspaceLocation\\\\\\\\\\\\\": \\\\\\\\\\\\\"southcentralus\\\\\\\\\\\\\"}}\\\\\", \\\\\"activities\\\\\": 0}',\n",
       "  'EnableSubsampling': None,\n",
       "  'runTemplate': 'AutoML',\n",
       "  'azureml.runsource': 'automl',\n",
       "  'display_task_type': 'classification',\n",
       "  'dependencies_versions': '{\"azureml-widgets\": \"1.20.0\", \"azureml-train\": \"1.20.0\", \"azureml-train-restclients-hyperdrive\": \"1.20.0\", \"azureml-train-core\": \"1.20.0\", \"azureml-train-automl\": \"1.20.0\", \"azureml-train-automl-runtime\": \"1.20.0\", \"azureml-train-automl-client\": \"1.20.0\", \"azureml-tensorboard\": \"1.20.0\", \"azureml-telemetry\": \"1.20.0\", \"azureml-sdk\": \"1.20.0\", \"azureml-samples\": \"0+unknown\", \"azureml-pipeline\": \"1.20.0\", \"azureml-pipeline-steps\": \"1.20.0\", \"azureml-pipeline-core\": \"1.20.0\", \"azureml-opendatasets\": \"1.20.0\", \"azureml-model-management-sdk\": \"1.0.1b6.post1\", \"azureml-mlflow\": \"1.20.0.post1\", \"azureml-interpret\": \"1.20.0\", \"azureml-explain-model\": \"1.20.0\", \"azureml-defaults\": \"1.20.0\", \"azureml-dataset-runtime\": \"1.20.0\", \"azureml-dataprep\": \"2.7.3\", \"azureml-dataprep-rslex\": \"1.5.0\", \"azureml-dataprep-native\": \"27.0.0\", \"azureml-datadrift\": \"1.20.0\", \"azureml-core\": \"1.20.0\", \"azureml-contrib-services\": \"1.20.0\", \"azureml-contrib-server\": \"1.20.0\", \"azureml-contrib-reinforcementlearning\": \"1.20.0\", \"azureml-contrib-pipeline-steps\": \"1.20.0\", \"azureml-contrib-notebook\": \"1.20.0\", \"azureml-contrib-interpret\": \"1.20.0\", \"azureml-contrib-gbdt\": \"1.20.0\", \"azureml-contrib-fairness\": \"1.20.0\", \"azureml-contrib-dataset\": \"1.20.0\", \"azureml-cli-common\": \"1.20.0\", \"azureml-automl-runtime\": \"1.20.0\", \"azureml-automl-core\": \"1.20.0\", \"azureml-accel-models\": \"1.20.0\"}',\n",
       "  '_aml_system_scenario_identification': 'Remote.Parent',\n",
       "  'ClientType': 'SDK',\n",
       "  'environment_cpu_name': 'AzureML-AutoML',\n",
       "  'environment_cpu_label': 'prod',\n",
       "  'environment_gpu_name': 'AzureML-AutoML-GPU',\n",
       "  'environment_gpu_label': 'prod',\n",
       "  'root_attribution': 'automl',\n",
       "  'attribution': 'AutoML',\n",
       "  'Orchestrator': 'AutoML',\n",
       "  'CancelUri': 'https://southcentralus.experiments.azureml.net/jasmine/v1.0/subscriptions/d4ad7261-832d-46b2-b093-22156001df5b/resourceGroups/aml-quickstarts-136135/providers/Microsoft.MachineLearningServices/workspaces/quick-starts-ws-136135/experimentids/2f839dea-652b-45e4-9a8a-a1f67df82cbb/cancel/AutoML_025b4651-c12a-48f7-88a8-da072e26f839',\n",
       "  'ClientSdkVersion': '1.20.0.post1',\n",
       "  'snapshotId': '00000000-0000-0000-0000-000000000000',\n",
       "  'SetupRunId': 'AutoML_025b4651-c12a-48f7-88a8-da072e26f839_setup',\n",
       "  'SetupRunContainerId': 'dcid.AutoML_025b4651-c12a-48f7-88a8-da072e26f839_setup',\n",
       "  'FeaturizationRunJsonPath': 'featurizer_container.json',\n",
       "  'FeaturizationRunId': 'AutoML_025b4651-c12a-48f7-88a8-da072e26f839_featurize',\n",
       "  'ProblemInfoJsonString': '{\"dataset_num_categorical\": 0, \"is_sparse\": false, \"subsampling\": false, \"dataset_classes\": 2, \"dataset_features\": 14, \"dataset_samples\": 712, \"single_frequency_class_detected\": false}',\n",
       "  'ModelExplainRunId': 'AutoML_025b4651-c12a-48f7-88a8-da072e26f839_ModelExplain'},\n",
       " 'inputDatasets': [{'dataset': {'id': 'ba5fc202-ec32-4605-91ef-20437822ba6e'}, 'consumptionDetails': {'type': 'RunInput', 'inputName': 'training_data', 'mechanism': 'Direct'}}],\n",
       " 'outputDatasets': [],\n",
       " 'logFiles': {},\n",
       " 'submittedBy': 'ODL_User 136135'}"
      ]
     },
     "execution_count": 11,
     "metadata": {},
     "output_type": "execute_result"
    }
   ],
   "source": [
    "automl_run.wait_for_completion()"
   ]
  },
  {
   "cell_type": "markdown",
   "metadata": {},
   "source": [
    "## Best Model"
   ]
  },
  {
   "cell_type": "code",
   "execution_count": 12,
   "metadata": {
    "gather": {
     "logged": 1598431425670
    },
    "jupyter": {
     "outputs_hidden": false,
     "source_hidden": false
    },
    "nteract": {
     "transient": {
      "deleting": false
     }
    }
   },
   "outputs": [
    {
     "name": "stdout",
     "output_type": "stream",
     "text": [
      "Best run Id:  AutoML_025b4651-c12a-48f7-88a8-da072e26f839_21\n",
      "Accuracy:  0.8217374175120653\n",
      "Other details: \n",
      "Fitted model: Pipeline(memory=None,\n",
      "         steps=[('datatransformer',\n",
      "                 DataTransformer(enable_dnn=None, enable_feature_sweeping=None,\n",
      "                                 feature_sweeping_config=None,\n",
      "                                 feature_sweeping_timeout=None,\n",
      "                                 featurization_config=None, force_text_dnn=None,\n",
      "                                 is_cross_validation=None,\n",
      "                                 is_onnx_compatible=None, logger=None,\n",
      "                                 observer=None, task=None, working_dir=None)),\n",
      "                ('prefittedsoftvotingclassifier',...\n",
      "                                                                                                    min_samples_leaf=0.035789473684210524,\n",
      "                                                                                                    min_samples_split=0.01,\n",
      "                                                                                                    min_weight_fraction_leaf=0.0,\n",
      "                                                                                                    n_estimators=10,\n",
      "                                                                                                    n_jobs=1,\n",
      "                                                                                                    oob_score=True,\n",
      "                                                                                                    random_state=None,\n",
      "                                                                                                    verbose=0,\n",
      "                                                                                                    warm_start=False))],\n",
      "                                                                     verbose=False))],\n",
      "                                               flatten_transform=None,\n",
      "                                               weights=[0.08333333333333333,\n",
      "                                                        0.25,\n",
      "                                                        0.08333333333333333,\n",
      "                                                        0.08333333333333333,\n",
      "                                                        0.3333333333333333,\n",
      "                                                        0.08333333333333333,\n",
      "                                                        0.08333333333333333]))],\n",
      "         verbose=False)\n"
     ]
    }
   ],
   "source": [
    "best_run_AutoML, best_model_AutoML = automl_run.get_output()\n",
    "best_run_metrics_AutoML = best_run_AutoML.get_metrics()\n",
    "print(\"Best run Id: \",best_run_AutoML.id)\n",
    "print(\"Accuracy: \", best_run_metrics_AutoML['accuracy'])\n",
    "print(\"Other details: \")\n",
    "print(\"Fitted model:\",best_model_AutoML)"
   ]
  },
  {
   "cell_type": "code",
   "execution_count": 13,
   "metadata": {},
   "outputs": [
    {
     "name": "stdout",
     "output_type": "stream",
     "text": [
      "Model saved successfully\n"
     ]
    }
   ],
   "source": [
    "import joblib\n",
    "from azureml.core.model import Model\n",
    "\n",
    "#Save the best model\n",
    "os.makedirs('results', exist_ok=True)\n",
    "joblib.dump(best_model_AutoML, filename=\"results/automl_model.pkl\")\n",
    "model = automl_run.register_model(model_name=best_run_AutoML.properties['model_name'], description='Best AutoML model')\n",
    "print(\"Model saved successfully\")"
   ]
  },
  {
   "cell_type": "code",
   "execution_count": null,
   "metadata": {},
   "outputs": [],
   "source": []
  }
 ],
 "metadata": {
  "kernel_info": {
   "name": "python3"
  },
  "kernelspec": {
   "display_name": "Python 3",
   "language": "python",
   "name": "python3"
  },
  "language_info": {
   "codemirror_mode": {
    "name": "ipython",
    "version": 3
   },
   "file_extension": ".py",
   "mimetype": "text/x-python",
   "name": "python",
   "nbconvert_exporter": "python",
   "pygments_lexer": "ipython3",
   "version": "3.6.9"
  },
  "nteract": {
   "version": "nteract-front-end@1.0.0"
  }
 },
 "nbformat": 4,
 "nbformat_minor": 2
}
